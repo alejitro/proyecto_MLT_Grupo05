{
 "cells": [
  {
   "cell_type": "markdown",
   "metadata": {
    "colab_type": "text",
    "id": "J8lP6PSVo6G9"
   },
   "source": [
    "\n",
    "<img src=\"https://cursos.virtual.uniandes.edu.co/isis4219/wp-content/uploads/sites/162/2014/11/cropped-misisheader.png\" ><br>\n",
    "# Machine Learning Techniques - ISIS4219\n",
    "\n",
    "Intersemestral 2020\n",
    "\n",
    "\n",
    "* Daury Lecca\n",
    "* Nicolas Lema\n",
    "* Alejandro Martínez\n",
    "* David Ortiz\n"
   ]
  },
  {
   "cell_type": "markdown",
   "metadata": {},
   "source": [
    "**1. Instalación de librerias a utilizar**"
   ]
  },
  {
   "cell_type": "code",
   "execution_count": 1,
   "metadata": {
    "colab": {
     "base_uri": "https://localhost:8080/",
     "height": 1000
    },
    "colab_type": "code",
    "id": "gg3WFaYjpd-9",
    "outputId": "5c0f44ab-b79e-4b10-be22-b6864e98e6ba"
   },
   "outputs": [
    {
     "name": "stdout",
     "output_type": "stream",
     "text": [
      "Collecting https://github.com/pandas-profiling/pandas-profiling/archive/master.zip\n",
      "  Downloading https://github.com/pandas-profiling/pandas-profiling/archive/master.zip\n",
      "\u001b[K     - 26.8 MB 2.7 MB/s\n",
      "\u001b[?25hRequirement already satisfied: joblib in /home/alejitro/ml/ml_env/lib/python3.7/site-packages (from pandas-profiling==2.9.0rc1) (0.15.1)\n",
      "Requirement already satisfied: scipy>=1.4.1 in /home/alejitro/ml/ml_env/lib/python3.7/site-packages (from pandas-profiling==2.9.0rc1) (1.4.1)\n",
      "Requirement already satisfied: pandas!=1.0.0,!=1.0.1,!=1.0.2,>=0.25.3 in /home/alejitro/ml/ml_env/lib/python3.7/site-packages (from pandas-profiling==2.9.0rc1) (1.0.5)\n",
      "Requirement already satisfied: matplotlib>=3.2.0 in /home/alejitro/ml/ml_env/lib/python3.7/site-packages (from pandas-profiling==2.9.0rc1) (3.2.2)\n",
      "Requirement already satisfied: confuse>=1.0.0 in /home/alejitro/ml/ml_env/lib/python3.7/site-packages (from pandas-profiling==2.9.0rc1) (1.3.0)\n",
      "Requirement already satisfied: jinja2>=2.11.1 in /home/alejitro/ml/ml_env/lib/python3.7/site-packages (from pandas-profiling==2.9.0rc1) (2.11.2)\n",
      "Requirement already satisfied: visions[type_image_path]==0.4.4 in /home/alejitro/ml/ml_env/lib/python3.7/site-packages (from pandas-profiling==2.9.0rc1) (0.4.4)\n",
      "Requirement already satisfied: numpy>=1.16.0 in /home/alejitro/ml/ml_env/lib/python3.7/site-packages (from pandas-profiling==2.9.0rc1) (1.18.5)\n",
      "Requirement already satisfied: attrs>=19.3.0 in /home/alejitro/ml/ml_env/lib/python3.7/site-packages (from pandas-profiling==2.9.0rc1) (19.3.0)\n",
      "Requirement already satisfied: htmlmin>=0.1.12 in /home/alejitro/ml/ml_env/lib/python3.7/site-packages (from pandas-profiling==2.9.0rc1) (0.1.12)\n",
      "Requirement already satisfied: missingno>=0.4.2 in /home/alejitro/ml/ml_env/lib/python3.7/site-packages (from pandas-profiling==2.9.0rc1) (0.4.2)\n",
      "Requirement already satisfied: phik>=0.9.10 in /home/alejitro/ml/ml_env/lib/python3.7/site-packages (from pandas-profiling==2.9.0rc1) (0.10.0)\n",
      "Requirement already satisfied: tangled-up-in-unicode>=0.0.6 in /home/alejitro/ml/ml_env/lib/python3.7/site-packages (from pandas-profiling==2.9.0rc1) (0.0.6)\n",
      "Requirement already satisfied: requests>=2.23.0 in /home/alejitro/ml/ml_env/lib/python3.7/site-packages (from pandas-profiling==2.9.0rc1) (2.24.0)\n",
      "Requirement already satisfied: tqdm>=4.43.0 in /home/alejitro/ml/ml_env/lib/python3.7/site-packages (from pandas-profiling==2.9.0rc1) (4.46.1)\n",
      "Requirement already satisfied: ipywidgets>=7.5.1 in /home/alejitro/ml/ml_env/lib/python3.7/site-packages (from pandas-profiling==2.9.0rc1) (7.5.1)\n",
      "Requirement already satisfied: seaborn>=0.10.1 in /home/alejitro/ml/ml_env/lib/python3.7/site-packages (from pandas-profiling==2.9.0rc1) (0.10.1)\n",
      "Requirement already satisfied: python-dateutil>=2.6.1 in /home/alejitro/ml/ml_env/lib/python3.7/site-packages (from pandas!=1.0.0,!=1.0.1,!=1.0.2,>=0.25.3->pandas-profiling==2.9.0rc1) (2.8.1)\n",
      "Requirement already satisfied: pytz>=2017.2 in /home/alejitro/ml/ml_env/lib/python3.7/site-packages (from pandas!=1.0.0,!=1.0.1,!=1.0.2,>=0.25.3->pandas-profiling==2.9.0rc1) (2020.1)\n",
      "Requirement already satisfied: pyparsing!=2.0.4,!=2.1.2,!=2.1.6,>=2.0.1 in /home/alejitro/ml/ml_env/lib/python3.7/site-packages (from matplotlib>=3.2.0->pandas-profiling==2.9.0rc1) (2.4.7)\n",
      "Requirement already satisfied: kiwisolver>=1.0.1 in /home/alejitro/ml/ml_env/lib/python3.7/site-packages (from matplotlib>=3.2.0->pandas-profiling==2.9.0rc1) (1.2.0)\n",
      "Requirement already satisfied: cycler>=0.10 in /home/alejitro/ml/ml_env/lib/python3.7/site-packages (from matplotlib>=3.2.0->pandas-profiling==2.9.0rc1) (0.10.0)\n",
      "Requirement already satisfied: pyyaml in /home/alejitro/ml/ml_env/lib/python3.7/site-packages (from confuse>=1.0.0->pandas-profiling==2.9.0rc1) (5.3.1)\n",
      "Requirement already satisfied: MarkupSafe>=0.23 in /home/alejitro/ml/ml_env/lib/python3.7/site-packages (from jinja2>=2.11.1->pandas-profiling==2.9.0rc1) (1.1.1)\n",
      "Requirement already satisfied: networkx>=2.4 in /home/alejitro/ml/ml_env/lib/python3.7/site-packages (from visions[type_image_path]==0.4.4->pandas-profiling==2.9.0rc1) (2.4)\n",
      "Requirement already satisfied: imagehash; extra == \"type_image_path\" in /home/alejitro/ml/ml_env/lib/python3.7/site-packages (from visions[type_image_path]==0.4.4->pandas-profiling==2.9.0rc1) (4.1.0)\n",
      "Requirement already satisfied: Pillow; extra == \"type_image_path\" in /home/alejitro/ml/ml_env/lib/python3.7/site-packages (from visions[type_image_path]==0.4.4->pandas-profiling==2.9.0rc1) (7.1.2)\n",
      "Requirement already satisfied: numba>=0.38.1 in /home/alejitro/ml/ml_env/lib/python3.7/site-packages (from phik>=0.9.10->pandas-profiling==2.9.0rc1) (0.50.1)\n",
      "Requirement already satisfied: certifi>=2017.4.17 in /home/alejitro/ml/ml_env/lib/python3.7/site-packages (from requests>=2.23.0->pandas-profiling==2.9.0rc1) (2020.6.20)\n",
      "Requirement already satisfied: idna<3,>=2.5 in /home/alejitro/ml/ml_env/lib/python3.7/site-packages (from requests>=2.23.0->pandas-profiling==2.9.0rc1) (2.9)\n",
      "Requirement already satisfied: chardet<4,>=3.0.2 in /home/alejitro/ml/ml_env/lib/python3.7/site-packages (from requests>=2.23.0->pandas-profiling==2.9.0rc1) (3.0.4)\n",
      "Requirement already satisfied: urllib3!=1.25.0,!=1.25.1,<1.26,>=1.21.1 in /home/alejitro/ml/ml_env/lib/python3.7/site-packages (from requests>=2.23.0->pandas-profiling==2.9.0rc1) (1.25.9)\n",
      "Requirement already satisfied: ipython>=4.0.0; python_version >= \"3.3\" in /home/alejitro/ml/ml_env/lib/python3.7/site-packages (from ipywidgets>=7.5.1->pandas-profiling==2.9.0rc1) (7.15.0)\n",
      "Requirement already satisfied: traitlets>=4.3.1 in /home/alejitro/ml/ml_env/lib/python3.7/site-packages (from ipywidgets>=7.5.1->pandas-profiling==2.9.0rc1) (4.3.3)\n",
      "Requirement already satisfied: nbformat>=4.2.0 in /home/alejitro/ml/ml_env/lib/python3.7/site-packages (from ipywidgets>=7.5.1->pandas-profiling==2.9.0rc1) (5.0.7)\n",
      "Requirement already satisfied: ipykernel>=4.5.1 in /home/alejitro/ml/ml_env/lib/python3.7/site-packages (from ipywidgets>=7.5.1->pandas-profiling==2.9.0rc1) (5.3.0)\n",
      "Requirement already satisfied: widgetsnbextension~=3.5.0 in /home/alejitro/ml/ml_env/lib/python3.7/site-packages (from ipywidgets>=7.5.1->pandas-profiling==2.9.0rc1) (3.5.1)\n",
      "Requirement already satisfied: six>=1.5 in /home/alejitro/ml/ml_env/lib/python3.7/site-packages (from python-dateutil>=2.6.1->pandas!=1.0.0,!=1.0.1,!=1.0.2,>=0.25.3->pandas-profiling==2.9.0rc1) (1.15.0)\n",
      "Requirement already satisfied: decorator>=4.3.0 in /home/alejitro/ml/ml_env/lib/python3.7/site-packages (from networkx>=2.4->visions[type_image_path]==0.4.4->pandas-profiling==2.9.0rc1) (4.4.2)\n",
      "Requirement already satisfied: PyWavelets in /home/alejitro/ml/ml_env/lib/python3.7/site-packages (from imagehash; extra == \"type_image_path\"->visions[type_image_path]==0.4.4->pandas-profiling==2.9.0rc1) (1.1.1)\n",
      "Requirement already satisfied: llvmlite<0.34,>=0.33.0.dev0 in /home/alejitro/ml/ml_env/lib/python3.7/site-packages (from numba>=0.38.1->phik>=0.9.10->pandas-profiling==2.9.0rc1) (0.33.0)\n",
      "Requirement already satisfied: setuptools in /home/alejitro/ml/ml_env/lib/python3.7/site-packages (from numba>=0.38.1->phik>=0.9.10->pandas-profiling==2.9.0rc1) (47.3.1)\n",
      "Requirement already satisfied: pexpect; sys_platform != \"win32\" in /home/alejitro/ml/ml_env/lib/python3.7/site-packages (from ipython>=4.0.0; python_version >= \"3.3\"->ipywidgets>=7.5.1->pandas-profiling==2.9.0rc1) (4.8.0)\n",
      "Requirement already satisfied: prompt-toolkit!=3.0.0,!=3.0.1,<3.1.0,>=2.0.0 in /home/alejitro/ml/ml_env/lib/python3.7/site-packages (from ipython>=4.0.0; python_version >= \"3.3\"->ipywidgets>=7.5.1->pandas-profiling==2.9.0rc1) (3.0.5)\n",
      "Requirement already satisfied: jedi>=0.10 in /home/alejitro/ml/ml_env/lib/python3.7/site-packages (from ipython>=4.0.0; python_version >= \"3.3\"->ipywidgets>=7.5.1->pandas-profiling==2.9.0rc1) (0.17.1)\n",
      "Requirement already satisfied: backcall in /home/alejitro/ml/ml_env/lib/python3.7/site-packages (from ipython>=4.0.0; python_version >= \"3.3\"->ipywidgets>=7.5.1->pandas-profiling==2.9.0rc1) (0.2.0)\n",
      "Requirement already satisfied: pickleshare in /home/alejitro/ml/ml_env/lib/python3.7/site-packages (from ipython>=4.0.0; python_version >= \"3.3\"->ipywidgets>=7.5.1->pandas-profiling==2.9.0rc1) (0.7.5)\n",
      "Requirement already satisfied: pygments in /home/alejitro/ml/ml_env/lib/python3.7/site-packages (from ipython>=4.0.0; python_version >= \"3.3\"->ipywidgets>=7.5.1->pandas-profiling==2.9.0rc1) (2.6.1)\n",
      "Requirement already satisfied: ipython-genutils in /home/alejitro/ml/ml_env/lib/python3.7/site-packages (from traitlets>=4.3.1->ipywidgets>=7.5.1->pandas-profiling==2.9.0rc1) (0.2.0)\n",
      "Requirement already satisfied: jupyter-core in /home/alejitro/ml/ml_env/lib/python3.7/site-packages (from nbformat>=4.2.0->ipywidgets>=7.5.1->pandas-profiling==2.9.0rc1) (4.6.3)\n",
      "Requirement already satisfied: jsonschema!=2.5.0,>=2.4 in /home/alejitro/ml/ml_env/lib/python3.7/site-packages (from nbformat>=4.2.0->ipywidgets>=7.5.1->pandas-profiling==2.9.0rc1) (3.2.0)\n",
      "Requirement already satisfied: tornado>=4.2 in /home/alejitro/ml/ml_env/lib/python3.7/site-packages (from ipykernel>=4.5.1->ipywidgets>=7.5.1->pandas-profiling==2.9.0rc1) (6.0.4)\n",
      "Requirement already satisfied: jupyter-client in /home/alejitro/ml/ml_env/lib/python3.7/site-packages (from ipykernel>=4.5.1->ipywidgets>=7.5.1->pandas-profiling==2.9.0rc1) (6.1.3)\n",
      "Requirement already satisfied: notebook>=4.4.1 in /home/alejitro/ml/ml_env/lib/python3.7/site-packages (from widgetsnbextension~=3.5.0->ipywidgets>=7.5.1->pandas-profiling==2.9.0rc1) (6.0.3)\n",
      "Requirement already satisfied: ptyprocess>=0.5 in /home/alejitro/ml/ml_env/lib/python3.7/site-packages (from pexpect; sys_platform != \"win32\"->ipython>=4.0.0; python_version >= \"3.3\"->ipywidgets>=7.5.1->pandas-profiling==2.9.0rc1) (0.6.0)\n",
      "Requirement already satisfied: wcwidth in /home/alejitro/ml/ml_env/lib/python3.7/site-packages (from prompt-toolkit!=3.0.0,!=3.0.1,<3.1.0,>=2.0.0->ipython>=4.0.0; python_version >= \"3.3\"->ipywidgets>=7.5.1->pandas-profiling==2.9.0rc1) (0.2.5)\n",
      "Requirement already satisfied: parso<0.8.0,>=0.7.0 in /home/alejitro/ml/ml_env/lib/python3.7/site-packages (from jedi>=0.10->ipython>=4.0.0; python_version >= \"3.3\"->ipywidgets>=7.5.1->pandas-profiling==2.9.0rc1) (0.7.0)\n",
      "Requirement already satisfied: pyrsistent>=0.14.0 in /home/alejitro/ml/ml_env/lib/python3.7/site-packages (from jsonschema!=2.5.0,>=2.4->nbformat>=4.2.0->ipywidgets>=7.5.1->pandas-profiling==2.9.0rc1) (0.16.0)\n",
      "Requirement already satisfied: importlib-metadata; python_version < \"3.8\" in /home/alejitro/ml/ml_env/lib/python3.7/site-packages (from jsonschema!=2.5.0,>=2.4->nbformat>=4.2.0->ipywidgets>=7.5.1->pandas-profiling==2.9.0rc1) (1.6.1)\n",
      "Requirement already satisfied: pyzmq>=13 in /home/alejitro/ml/ml_env/lib/python3.7/site-packages (from jupyter-client->ipykernel>=4.5.1->ipywidgets>=7.5.1->pandas-profiling==2.9.0rc1) (19.0.1)\n",
      "Requirement already satisfied: Send2Trash in /home/alejitro/ml/ml_env/lib/python3.7/site-packages (from notebook>=4.4.1->widgetsnbextension~=3.5.0->ipywidgets>=7.5.1->pandas-profiling==2.9.0rc1) (1.5.0)\n",
      "Requirement already satisfied: terminado>=0.8.1 in /home/alejitro/ml/ml_env/lib/python3.7/site-packages (from notebook>=4.4.1->widgetsnbextension~=3.5.0->ipywidgets>=7.5.1->pandas-profiling==2.9.0rc1) (0.8.3)\n",
      "Requirement already satisfied: nbconvert in /home/alejitro/ml/ml_env/lib/python3.7/site-packages (from notebook>=4.4.1->widgetsnbextension~=3.5.0->ipywidgets>=7.5.1->pandas-profiling==2.9.0rc1) (5.6.1)\n",
      "Requirement already satisfied: prometheus-client in /home/alejitro/ml/ml_env/lib/python3.7/site-packages (from notebook>=4.4.1->widgetsnbextension~=3.5.0->ipywidgets>=7.5.1->pandas-profiling==2.9.0rc1) (0.8.0)\n",
      "Requirement already satisfied: zipp>=0.5 in /home/alejitro/ml/ml_env/lib/python3.7/site-packages (from importlib-metadata; python_version < \"3.8\"->jsonschema!=2.5.0,>=2.4->nbformat>=4.2.0->ipywidgets>=7.5.1->pandas-profiling==2.9.0rc1) (3.1.0)\n",
      "Requirement already satisfied: mistune<2,>=0.8.1 in /home/alejitro/ml/ml_env/lib/python3.7/site-packages (from nbconvert->notebook>=4.4.1->widgetsnbextension~=3.5.0->ipywidgets>=7.5.1->pandas-profiling==2.9.0rc1) (0.8.4)\n",
      "Requirement already satisfied: bleach in /home/alejitro/ml/ml_env/lib/python3.7/site-packages (from nbconvert->notebook>=4.4.1->widgetsnbextension~=3.5.0->ipywidgets>=7.5.1->pandas-profiling==2.9.0rc1) (3.1.5)\n",
      "Requirement already satisfied: testpath in /home/alejitro/ml/ml_env/lib/python3.7/site-packages (from nbconvert->notebook>=4.4.1->widgetsnbextension~=3.5.0->ipywidgets>=7.5.1->pandas-profiling==2.9.0rc1) (0.4.4)\n",
      "Requirement already satisfied: defusedxml in /home/alejitro/ml/ml_env/lib/python3.7/site-packages (from nbconvert->notebook>=4.4.1->widgetsnbextension~=3.5.0->ipywidgets>=7.5.1->pandas-profiling==2.9.0rc1) (0.6.0)\n",
      "Requirement already satisfied: pandocfilters>=1.4.1 in /home/alejitro/ml/ml_env/lib/python3.7/site-packages (from nbconvert->notebook>=4.4.1->widgetsnbextension~=3.5.0->ipywidgets>=7.5.1->pandas-profiling==2.9.0rc1) (1.4.2)\n",
      "Requirement already satisfied: entrypoints>=0.2.2 in /home/alejitro/ml/ml_env/lib/python3.7/site-packages (from nbconvert->notebook>=4.4.1->widgetsnbextension~=3.5.0->ipywidgets>=7.5.1->pandas-profiling==2.9.0rc1) (0.3)\n",
      "Requirement already satisfied: webencodings in /home/alejitro/ml/ml_env/lib/python3.7/site-packages (from bleach->nbconvert->notebook>=4.4.1->widgetsnbextension~=3.5.0->ipywidgets>=7.5.1->pandas-profiling==2.9.0rc1) (0.5.1)\n",
      "Requirement already satisfied: packaging in /home/alejitro/ml/ml_env/lib/python3.7/site-packages (from bleach->nbconvert->notebook>=4.4.1->widgetsnbextension~=3.5.0->ipywidgets>=7.5.1->pandas-profiling==2.9.0rc1) (20.4)\n",
      "Building wheels for collected packages: pandas-profiling\n",
      "  Building wheel for pandas-profiling (setup.py) ... \u001b[?25ldone\n",
      "\u001b[?25h  Created wheel for pandas-profiling: filename=pandas_profiling-2.9.0rc1-py2.py3-none-any.whl size=258106 sha256=700814bea88de9d0eb32708c2551ee0f9d7ca6ec96c3b58134384d12d790976f\n",
      "  Stored in directory: /tmp/pip-ephem-wheel-cache-82m_n4a4/wheels/cc/d5/09/083fb07c9363a2f45854b0e3a7de7d7c560f07da74b9e9769d\n",
      "Successfully built pandas-profiling\n",
      "Installing collected packages: pandas-profiling\n",
      "  Attempting uninstall: pandas-profiling\n",
      "    Found existing installation: pandas-profiling 2.8.0\n",
      "    Uninstalling pandas-profiling-2.8.0:\n",
      "      Successfully uninstalled pandas-profiling-2.8.0\n",
      "Successfully installed pandas-profiling-2.9.0rc1\n",
      "\u001b[33mWARNING: You are using pip version 20.1.1; however, version 20.2.1 is available.\n",
      "You should consider upgrading via the '/home/alejitro/ml/ml_env/bin/python -m pip install --upgrade pip' command.\u001b[0m\n",
      "Requirement already satisfied: contractions in /home/alejitro/ml/ml_env/lib/python3.7/site-packages (0.0.25)\n",
      "Requirement already satisfied: textsearch in /home/alejitro/ml/ml_env/lib/python3.7/site-packages (from contractions) (0.0.17)\n",
      "Requirement already satisfied: pyahocorasick in /home/alejitro/ml/ml_env/lib/python3.7/site-packages (from textsearch->contractions) (1.4.0)\n",
      "Requirement already satisfied: Unidecode in /home/alejitro/ml/ml_env/lib/python3.7/site-packages (from textsearch->contractions) (1.1.1)\n",
      "\u001b[33mWARNING: You are using pip version 20.1.1; however, version 20.2.1 is available.\n",
      "You should consider upgrading via the '/home/alejitro/ml/ml_env/bin/python -m pip install --upgrade pip' command.\u001b[0m\n",
      "Requirement already satisfied: feedparser in /home/alejitro/ml/ml_env/lib/python3.7/site-packages (5.2.1)\n",
      "\u001b[33mWARNING: You are using pip version 20.1.1; however, version 20.2.1 is available.\n",
      "You should consider upgrading via the '/home/alejitro/ml/ml_env/bin/python -m pip install --upgrade pip' command.\u001b[0m\n",
      "Requirement already satisfied: newspaper3k in /home/alejitro/ml/ml_env/lib/python3.7/site-packages (0.2.8)\n",
      "Requirement already satisfied: tinysegmenter==0.3 in /home/alejitro/ml/ml_env/lib/python3.7/site-packages (from newspaper3k) (0.3)\n",
      "Requirement already satisfied: lxml>=3.6.0 in /home/alejitro/ml/ml_env/lib/python3.7/site-packages (from newspaper3k) (4.5.2)\n",
      "Requirement already satisfied: requests>=2.10.0 in /home/alejitro/ml/ml_env/lib/python3.7/site-packages (from newspaper3k) (2.24.0)\n",
      "Requirement already satisfied: Pillow>=3.3.0 in /home/alejitro/ml/ml_env/lib/python3.7/site-packages (from newspaper3k) (7.1.2)\n",
      "Requirement already satisfied: feedfinder2>=0.0.4 in /home/alejitro/ml/ml_env/lib/python3.7/site-packages (from newspaper3k) (0.0.4)\n",
      "Requirement already satisfied: PyYAML>=3.11 in /home/alejitro/ml/ml_env/lib/python3.7/site-packages (from newspaper3k) (5.3.1)\n",
      "Requirement already satisfied: feedparser>=5.2.1 in /home/alejitro/ml/ml_env/lib/python3.7/site-packages (from newspaper3k) (5.2.1)\n",
      "Requirement already satisfied: python-dateutil>=2.5.3 in /home/alejitro/ml/ml_env/lib/python3.7/site-packages (from newspaper3k) (2.8.1)\n",
      "Requirement already satisfied: jieba3k>=0.35.1 in /home/alejitro/ml/ml_env/lib/python3.7/site-packages (from newspaper3k) (0.35.1)\n",
      "Requirement already satisfied: tldextract>=2.0.1 in /home/alejitro/ml/ml_env/lib/python3.7/site-packages (from newspaper3k) (2.2.2)\n",
      "Requirement already satisfied: cssselect>=0.9.2 in /home/alejitro/ml/ml_env/lib/python3.7/site-packages (from newspaper3k) (1.1.0)\n",
      "Requirement already satisfied: nltk>=3.2.1 in /home/alejitro/ml/ml_env/lib/python3.7/site-packages (from newspaper3k) (3.5)\n",
      "Requirement already satisfied: beautifulsoup4>=4.4.1 in /home/alejitro/ml/ml_env/lib/python3.7/site-packages (from newspaper3k) (4.9.1)\n",
      "Requirement already satisfied: idna<3,>=2.5 in /home/alejitro/ml/ml_env/lib/python3.7/site-packages (from requests>=2.10.0->newspaper3k) (2.9)\n",
      "Requirement already satisfied: urllib3!=1.25.0,!=1.25.1,<1.26,>=1.21.1 in /home/alejitro/ml/ml_env/lib/python3.7/site-packages (from requests>=2.10.0->newspaper3k) (1.25.9)\n",
      "Requirement already satisfied: certifi>=2017.4.17 in /home/alejitro/ml/ml_env/lib/python3.7/site-packages (from requests>=2.10.0->newspaper3k) (2020.6.20)\n",
      "Requirement already satisfied: chardet<4,>=3.0.2 in /home/alejitro/ml/ml_env/lib/python3.7/site-packages (from requests>=2.10.0->newspaper3k) (3.0.4)\n",
      "Requirement already satisfied: six in /home/alejitro/ml/ml_env/lib/python3.7/site-packages (from feedfinder2>=0.0.4->newspaper3k) (1.15.0)\n",
      "Requirement already satisfied: setuptools in /home/alejitro/ml/ml_env/lib/python3.7/site-packages (from tldextract>=2.0.1->newspaper3k) (47.3.1)\n",
      "Requirement already satisfied: requests-file>=1.4 in /home/alejitro/ml/ml_env/lib/python3.7/site-packages (from tldextract>=2.0.1->newspaper3k) (1.5.1)\n",
      "Requirement already satisfied: tqdm in /home/alejitro/ml/ml_env/lib/python3.7/site-packages (from nltk>=3.2.1->newspaper3k) (4.46.1)\n",
      "Requirement already satisfied: joblib in /home/alejitro/ml/ml_env/lib/python3.7/site-packages (from nltk>=3.2.1->newspaper3k) (0.15.1)\n",
      "Requirement already satisfied: regex in /home/alejitro/ml/ml_env/lib/python3.7/site-packages (from nltk>=3.2.1->newspaper3k) (2020.6.8)\n",
      "Requirement already satisfied: click in /home/alejitro/ml/ml_env/lib/python3.7/site-packages (from nltk>=3.2.1->newspaper3k) (7.1.2)\n",
      "Requirement already satisfied: soupsieve>1.2 in /home/alejitro/ml/ml_env/lib/python3.7/site-packages (from beautifulsoup4>=4.4.1->newspaper3k) (2.0.1)\n",
      "\u001b[33mWARNING: You are using pip version 20.1.1; however, version 20.2.1 is available.\n",
      "You should consider upgrading via the '/home/alejitro/ml/ml_env/bin/python -m pip install --upgrade pip' command.\u001b[0m\n",
      "Requirement already satisfied: pandas_profiling in /home/alejitro/ml/ml_env/lib/python3.7/site-packages (2.9.0rc1)\n",
      "Requirement already satisfied: tangled-up-in-unicode>=0.0.6 in /home/alejitro/ml/ml_env/lib/python3.7/site-packages (from pandas_profiling) (0.0.6)\n",
      "Requirement already satisfied: htmlmin>=0.1.12 in /home/alejitro/ml/ml_env/lib/python3.7/site-packages (from pandas_profiling) (0.1.12)\n",
      "Requirement already satisfied: tqdm>=4.43.0 in /home/alejitro/ml/ml_env/lib/python3.7/site-packages (from pandas_profiling) (4.46.1)\n",
      "Requirement already satisfied: pandas!=1.0.0,!=1.0.1,!=1.0.2,>=0.25.3 in /home/alejitro/ml/ml_env/lib/python3.7/site-packages (from pandas_profiling) (1.0.5)\n",
      "Requirement already satisfied: phik>=0.9.10 in /home/alejitro/ml/ml_env/lib/python3.7/site-packages (from pandas_profiling) (0.10.0)\n",
      "Requirement already satisfied: jinja2>=2.11.1 in /home/alejitro/ml/ml_env/lib/python3.7/site-packages (from pandas_profiling) (2.11.2)\n",
      "Requirement already satisfied: attrs>=19.3.0 in /home/alejitro/ml/ml_env/lib/python3.7/site-packages (from pandas_profiling) (19.3.0)\n",
      "Requirement already satisfied: ipywidgets>=7.5.1 in /home/alejitro/ml/ml_env/lib/python3.7/site-packages (from pandas_profiling) (7.5.1)\n",
      "Requirement already satisfied: visions[type_image_path]==0.4.4 in /home/alejitro/ml/ml_env/lib/python3.7/site-packages (from pandas_profiling) (0.4.4)\n",
      "Requirement already satisfied: missingno>=0.4.2 in /home/alejitro/ml/ml_env/lib/python3.7/site-packages (from pandas_profiling) (0.4.2)\n",
      "Requirement already satisfied: seaborn>=0.10.1 in /home/alejitro/ml/ml_env/lib/python3.7/site-packages (from pandas_profiling) (0.10.1)\n",
      "Requirement already satisfied: matplotlib>=3.2.0 in /home/alejitro/ml/ml_env/lib/python3.7/site-packages (from pandas_profiling) (3.2.2)\n",
      "Requirement already satisfied: joblib in /home/alejitro/ml/ml_env/lib/python3.7/site-packages (from pandas_profiling) (0.15.1)\n",
      "Requirement already satisfied: scipy>=1.4.1 in /home/alejitro/ml/ml_env/lib/python3.7/site-packages (from pandas_profiling) (1.4.1)\n",
      "Requirement already satisfied: confuse>=1.0.0 in /home/alejitro/ml/ml_env/lib/python3.7/site-packages (from pandas_profiling) (1.3.0)\n",
      "Requirement already satisfied: numpy>=1.16.0 in /home/alejitro/ml/ml_env/lib/python3.7/site-packages (from pandas_profiling) (1.18.5)\n",
      "Requirement already satisfied: requests>=2.23.0 in /home/alejitro/ml/ml_env/lib/python3.7/site-packages (from pandas_profiling) (2.24.0)\n",
      "Requirement already satisfied: python-dateutil>=2.6.1 in /home/alejitro/ml/ml_env/lib/python3.7/site-packages (from pandas!=1.0.0,!=1.0.1,!=1.0.2,>=0.25.3->pandas_profiling) (2.8.1)\n",
      "Requirement already satisfied: pytz>=2017.2 in /home/alejitro/ml/ml_env/lib/python3.7/site-packages (from pandas!=1.0.0,!=1.0.1,!=1.0.2,>=0.25.3->pandas_profiling) (2020.1)\n",
      "Requirement already satisfied: numba>=0.38.1 in /home/alejitro/ml/ml_env/lib/python3.7/site-packages (from phik>=0.9.10->pandas_profiling) (0.50.1)\n",
      "Requirement already satisfied: MarkupSafe>=0.23 in /home/alejitro/ml/ml_env/lib/python3.7/site-packages (from jinja2>=2.11.1->pandas_profiling) (1.1.1)\n",
      "Requirement already satisfied: ipython>=4.0.0; python_version >= \"3.3\" in /home/alejitro/ml/ml_env/lib/python3.7/site-packages (from ipywidgets>=7.5.1->pandas_profiling) (7.15.0)\n",
      "Requirement already satisfied: nbformat>=4.2.0 in /home/alejitro/ml/ml_env/lib/python3.7/site-packages (from ipywidgets>=7.5.1->pandas_profiling) (5.0.7)\n",
      "Requirement already satisfied: traitlets>=4.3.1 in /home/alejitro/ml/ml_env/lib/python3.7/site-packages (from ipywidgets>=7.5.1->pandas_profiling) (4.3.3)\n",
      "Requirement already satisfied: ipykernel>=4.5.1 in /home/alejitro/ml/ml_env/lib/python3.7/site-packages (from ipywidgets>=7.5.1->pandas_profiling) (5.3.0)\n",
      "Requirement already satisfied: widgetsnbextension~=3.5.0 in /home/alejitro/ml/ml_env/lib/python3.7/site-packages (from ipywidgets>=7.5.1->pandas_profiling) (3.5.1)\n",
      "Requirement already satisfied: networkx>=2.4 in /home/alejitro/ml/ml_env/lib/python3.7/site-packages (from visions[type_image_path]==0.4.4->pandas_profiling) (2.4)\n",
      "Requirement already satisfied: imagehash; extra == \"type_image_path\" in /home/alejitro/ml/ml_env/lib/python3.7/site-packages (from visions[type_image_path]==0.4.4->pandas_profiling) (4.1.0)\n",
      "Requirement already satisfied: Pillow; extra == \"type_image_path\" in /home/alejitro/ml/ml_env/lib/python3.7/site-packages (from visions[type_image_path]==0.4.4->pandas_profiling) (7.1.2)\n",
      "Requirement already satisfied: pyparsing!=2.0.4,!=2.1.2,!=2.1.6,>=2.0.1 in /home/alejitro/ml/ml_env/lib/python3.7/site-packages (from matplotlib>=3.2.0->pandas_profiling) (2.4.7)\n",
      "Requirement already satisfied: cycler>=0.10 in /home/alejitro/ml/ml_env/lib/python3.7/site-packages (from matplotlib>=3.2.0->pandas_profiling) (0.10.0)\n",
      "Requirement already satisfied: kiwisolver>=1.0.1 in /home/alejitro/ml/ml_env/lib/python3.7/site-packages (from matplotlib>=3.2.0->pandas_profiling) (1.2.0)\n",
      "Requirement already satisfied: pyyaml in /home/alejitro/ml/ml_env/lib/python3.7/site-packages (from confuse>=1.0.0->pandas_profiling) (5.3.1)\n",
      "Requirement already satisfied: urllib3!=1.25.0,!=1.25.1,<1.26,>=1.21.1 in /home/alejitro/ml/ml_env/lib/python3.7/site-packages (from requests>=2.23.0->pandas_profiling) (1.25.9)\n",
      "Requirement already satisfied: chardet<4,>=3.0.2 in /home/alejitro/ml/ml_env/lib/python3.7/site-packages (from requests>=2.23.0->pandas_profiling) (3.0.4)\n",
      "Requirement already satisfied: idna<3,>=2.5 in /home/alejitro/ml/ml_env/lib/python3.7/site-packages (from requests>=2.23.0->pandas_profiling) (2.9)\n",
      "Requirement already satisfied: certifi>=2017.4.17 in /home/alejitro/ml/ml_env/lib/python3.7/site-packages (from requests>=2.23.0->pandas_profiling) (2020.6.20)\n",
      "Requirement already satisfied: six>=1.5 in /home/alejitro/ml/ml_env/lib/python3.7/site-packages (from python-dateutil>=2.6.1->pandas!=1.0.0,!=1.0.1,!=1.0.2,>=0.25.3->pandas_profiling) (1.15.0)\n",
      "Requirement already satisfied: setuptools in /home/alejitro/ml/ml_env/lib/python3.7/site-packages (from numba>=0.38.1->phik>=0.9.10->pandas_profiling) (47.3.1)\n",
      "Requirement already satisfied: llvmlite<0.34,>=0.33.0.dev0 in /home/alejitro/ml/ml_env/lib/python3.7/site-packages (from numba>=0.38.1->phik>=0.9.10->pandas_profiling) (0.33.0)\n",
      "Requirement already satisfied: jedi>=0.10 in /home/alejitro/ml/ml_env/lib/python3.7/site-packages (from ipython>=4.0.0; python_version >= \"3.3\"->ipywidgets>=7.5.1->pandas_profiling) (0.17.1)\n",
      "Requirement already satisfied: pickleshare in /home/alejitro/ml/ml_env/lib/python3.7/site-packages (from ipython>=4.0.0; python_version >= \"3.3\"->ipywidgets>=7.5.1->pandas_profiling) (0.7.5)\n",
      "Requirement already satisfied: decorator in /home/alejitro/ml/ml_env/lib/python3.7/site-packages (from ipython>=4.0.0; python_version >= \"3.3\"->ipywidgets>=7.5.1->pandas_profiling) (4.4.2)\n",
      "Requirement already satisfied: pexpect; sys_platform != \"win32\" in /home/alejitro/ml/ml_env/lib/python3.7/site-packages (from ipython>=4.0.0; python_version >= \"3.3\"->ipywidgets>=7.5.1->pandas_profiling) (4.8.0)\n",
      "Requirement already satisfied: pygments in /home/alejitro/ml/ml_env/lib/python3.7/site-packages (from ipython>=4.0.0; python_version >= \"3.3\"->ipywidgets>=7.5.1->pandas_profiling) (2.6.1)\n",
      "Requirement already satisfied: backcall in /home/alejitro/ml/ml_env/lib/python3.7/site-packages (from ipython>=4.0.0; python_version >= \"3.3\"->ipywidgets>=7.5.1->pandas_profiling) (0.2.0)\n",
      "Requirement already satisfied: prompt-toolkit!=3.0.0,!=3.0.1,<3.1.0,>=2.0.0 in /home/alejitro/ml/ml_env/lib/python3.7/site-packages (from ipython>=4.0.0; python_version >= \"3.3\"->ipywidgets>=7.5.1->pandas_profiling) (3.0.5)\n",
      "Requirement already satisfied: jsonschema!=2.5.0,>=2.4 in /home/alejitro/ml/ml_env/lib/python3.7/site-packages (from nbformat>=4.2.0->ipywidgets>=7.5.1->pandas_profiling) (3.2.0)\n",
      "Requirement already satisfied: jupyter-core in /home/alejitro/ml/ml_env/lib/python3.7/site-packages (from nbformat>=4.2.0->ipywidgets>=7.5.1->pandas_profiling) (4.6.3)\n",
      "Requirement already satisfied: ipython-genutils in /home/alejitro/ml/ml_env/lib/python3.7/site-packages (from nbformat>=4.2.0->ipywidgets>=7.5.1->pandas_profiling) (0.2.0)\n",
      "Requirement already satisfied: tornado>=4.2 in /home/alejitro/ml/ml_env/lib/python3.7/site-packages (from ipykernel>=4.5.1->ipywidgets>=7.5.1->pandas_profiling) (6.0.4)\n",
      "Requirement already satisfied: jupyter-client in /home/alejitro/ml/ml_env/lib/python3.7/site-packages (from ipykernel>=4.5.1->ipywidgets>=7.5.1->pandas_profiling) (6.1.3)\n",
      "Requirement already satisfied: notebook>=4.4.1 in /home/alejitro/ml/ml_env/lib/python3.7/site-packages (from widgetsnbextension~=3.5.0->ipywidgets>=7.5.1->pandas_profiling) (6.0.3)\n",
      "Requirement already satisfied: PyWavelets in /home/alejitro/ml/ml_env/lib/python3.7/site-packages (from imagehash; extra == \"type_image_path\"->visions[type_image_path]==0.4.4->pandas_profiling) (1.1.1)\n",
      "Requirement already satisfied: parso<0.8.0,>=0.7.0 in /home/alejitro/ml/ml_env/lib/python3.7/site-packages (from jedi>=0.10->ipython>=4.0.0; python_version >= \"3.3\"->ipywidgets>=7.5.1->pandas_profiling) (0.7.0)\n",
      "Requirement already satisfied: ptyprocess>=0.5 in /home/alejitro/ml/ml_env/lib/python3.7/site-packages (from pexpect; sys_platform != \"win32\"->ipython>=4.0.0; python_version >= \"3.3\"->ipywidgets>=7.5.1->pandas_profiling) (0.6.0)\n",
      "Requirement already satisfied: wcwidth in /home/alejitro/ml/ml_env/lib/python3.7/site-packages (from prompt-toolkit!=3.0.0,!=3.0.1,<3.1.0,>=2.0.0->ipython>=4.0.0; python_version >= \"3.3\"->ipywidgets>=7.5.1->pandas_profiling) (0.2.5)\n",
      "Requirement already satisfied: pyrsistent>=0.14.0 in /home/alejitro/ml/ml_env/lib/python3.7/site-packages (from jsonschema!=2.5.0,>=2.4->nbformat>=4.2.0->ipywidgets>=7.5.1->pandas_profiling) (0.16.0)\n",
      "Requirement already satisfied: importlib-metadata; python_version < \"3.8\" in /home/alejitro/ml/ml_env/lib/python3.7/site-packages (from jsonschema!=2.5.0,>=2.4->nbformat>=4.2.0->ipywidgets>=7.5.1->pandas_profiling) (1.6.1)\n",
      "Requirement already satisfied: pyzmq>=13 in /home/alejitro/ml/ml_env/lib/python3.7/site-packages (from jupyter-client->ipykernel>=4.5.1->ipywidgets>=7.5.1->pandas_profiling) (19.0.1)\n",
      "Requirement already satisfied: Send2Trash in /home/alejitro/ml/ml_env/lib/python3.7/site-packages (from notebook>=4.4.1->widgetsnbextension~=3.5.0->ipywidgets>=7.5.1->pandas_profiling) (1.5.0)\n",
      "Requirement already satisfied: nbconvert in /home/alejitro/ml/ml_env/lib/python3.7/site-packages (from notebook>=4.4.1->widgetsnbextension~=3.5.0->ipywidgets>=7.5.1->pandas_profiling) (5.6.1)\n",
      "Requirement already satisfied: prometheus-client in /home/alejitro/ml/ml_env/lib/python3.7/site-packages (from notebook>=4.4.1->widgetsnbextension~=3.5.0->ipywidgets>=7.5.1->pandas_profiling) (0.8.0)\n",
      "Requirement already satisfied: terminado>=0.8.1 in /home/alejitro/ml/ml_env/lib/python3.7/site-packages (from notebook>=4.4.1->widgetsnbextension~=3.5.0->ipywidgets>=7.5.1->pandas_profiling) (0.8.3)\n",
      "Requirement already satisfied: zipp>=0.5 in /home/alejitro/ml/ml_env/lib/python3.7/site-packages (from importlib-metadata; python_version < \"3.8\"->jsonschema!=2.5.0,>=2.4->nbformat>=4.2.0->ipywidgets>=7.5.1->pandas_profiling) (3.1.0)\n",
      "Requirement already satisfied: defusedxml in /home/alejitro/ml/ml_env/lib/python3.7/site-packages (from nbconvert->notebook>=4.4.1->widgetsnbextension~=3.5.0->ipywidgets>=7.5.1->pandas_profiling) (0.6.0)\n",
      "Requirement already satisfied: mistune<2,>=0.8.1 in /home/alejitro/ml/ml_env/lib/python3.7/site-packages (from nbconvert->notebook>=4.4.1->widgetsnbextension~=3.5.0->ipywidgets>=7.5.1->pandas_profiling) (0.8.4)\n",
      "Requirement already satisfied: pandocfilters>=1.4.1 in /home/alejitro/ml/ml_env/lib/python3.7/site-packages (from nbconvert->notebook>=4.4.1->widgetsnbextension~=3.5.0->ipywidgets>=7.5.1->pandas_profiling) (1.4.2)\n",
      "Requirement already satisfied: entrypoints>=0.2.2 in /home/alejitro/ml/ml_env/lib/python3.7/site-packages (from nbconvert->notebook>=4.4.1->widgetsnbextension~=3.5.0->ipywidgets>=7.5.1->pandas_profiling) (0.3)\n",
      "Requirement already satisfied: bleach in /home/alejitro/ml/ml_env/lib/python3.7/site-packages (from nbconvert->notebook>=4.4.1->widgetsnbextension~=3.5.0->ipywidgets>=7.5.1->pandas_profiling) (3.1.5)\n",
      "Requirement already satisfied: testpath in /home/alejitro/ml/ml_env/lib/python3.7/site-packages (from nbconvert->notebook>=4.4.1->widgetsnbextension~=3.5.0->ipywidgets>=7.5.1->pandas_profiling) (0.4.4)\n",
      "Requirement already satisfied: webencodings in /home/alejitro/ml/ml_env/lib/python3.7/site-packages (from bleach->nbconvert->notebook>=4.4.1->widgetsnbextension~=3.5.0->ipywidgets>=7.5.1->pandas_profiling) (0.5.1)\n",
      "Requirement already satisfied: packaging in /home/alejitro/ml/ml_env/lib/python3.7/site-packages (from bleach->nbconvert->notebook>=4.4.1->widgetsnbextension~=3.5.0->ipywidgets>=7.5.1->pandas_profiling) (20.4)\n",
      "\u001b[33mWARNING: You are using pip version 20.1.1; however, version 20.2.1 is available.\n",
      "You should consider upgrading via the '/home/alejitro/ml/ml_env/bin/python -m pip install --upgrade pip' command.\u001b[0m\n",
      "showing info https://raw.githubusercontent.com/nltk/nltk_data/gh-pages/index.xml\n"
     ]
    },
    {
     "data": {
      "text/plain": [
       "True"
      ]
     },
     "execution_count": 1,
     "metadata": {},
     "output_type": "execute_result"
    }
   ],
   "source": [
    "!pip install https://github.com/pandas-profiling/pandas-profiling/archive/master.zip\n",
    "!pip install contractions\n",
    "!pip install feedparser\n",
    "!pip install newspaper3k\n",
    "!pip install pandas_profiling\n",
    "import nltk\n",
    "nltk.download()"
   ]
  },
  {
   "cell_type": "code",
   "execution_count": 2,
   "metadata": {
    "colab": {},
    "colab_type": "code",
    "executionInfo": {
     "elapsed": 844,
     "status": "ok",
     "timestamp": 1594597559205,
     "user": {
      "displayName": "alejandro martinez",
      "photoUrl": "https://lh3.googleusercontent.com/a-/AOh14Gi9YSzzf_VDnAbvxMnJJqez5U-I_wOQ5OyJRmw_=s64",
      "userId": "05542026783145230534"
     },
     "user_tz": 300
    },
    "id": "dpXXzFHRpGy4"
   },
   "outputs": [],
   "source": [
    "import pandas as pd\n",
    "import numpy as np\n",
    "import sys\n",
    "from pandas_profiling import ProfileReport\n",
    "\n",
    "\n",
    "import nltk\n",
    "import re, string, unicodedata\n",
    "import contractions\n",
    "import inflect\n",
    "from nltk import word_tokenize, sent_tokenize\n",
    "from nltk.corpus import stopwords\n",
    "from nltk.stem import LancasterStemmer, WordNetLemmatizer\n",
    "\n",
    "from sklearn.model_selection import train_test_split,GridSearchCV\n",
    "from sklearn.feature_extraction.text import TfidfVectorizer, CountVectorizer, HashingVectorizer\n",
    "from sklearn.pipeline import Pipeline, FeatureUnion\n",
    "from sklearn.naive_bayes import BernoulliNB, CategoricalNB, MultinomialNB\n",
    "from sklearn.metrics import classification_report, confusion_matrix, plot_precision_recall_curve\n",
    "\n",
    "import matplotlib.pyplot as plt"
   ]
  },
  {
   "cell_type": "code",
   "execution_count": 3,
   "metadata": {
    "colab": {},
    "colab_type": "code",
    "executionInfo": {
     "elapsed": 922,
     "status": "ok",
     "timestamp": 1594597561364,
     "user": {
      "displayName": "alejandro martinez",
      "photoUrl": "https://lh3.googleusercontent.com/a-/AOh14Gi9YSzzf_VDnAbvxMnJJqez5U-I_wOQ5OyJRmw_=s64",
      "userId": "05542026783145230534"
     },
     "user_tz": 300
    },
    "id": "xqD2mTepIHlw"
   },
   "outputs": [],
   "source": [
    "import json"
   ]
  },
  {
   "cell_type": "markdown",
   "metadata": {
    "colab_type": "text",
    "id": "cEHfH5Hl8dAp"
   },
   "source": [
    "**2. Perfilamiento y entendimiento de los datos**\n",
    "\n"
   ]
  },
  {
   "cell_type": "markdown",
   "metadata": {
    "colab_type": "text",
    "id": "WNhNQoeA-nq0"
   },
   "source": [
    "* Lectura de los datos\n",
    "\n",
    "A continuación procedemos a leer los datos del Dataset de Kaggle, los cuales ya estan dividos entre Fake news y Real News.\n",
    "\n",
    "Despues te esto, hacemos un proceso de web scrapping de diferentes medios que tienen noticias reales y falsas para aumentar el tamaño de la muestra y la diversidad de noticias de nuestro dataSet y tener noticias de un contexto mas actual ya que las del dataset de kaggle estan en un periodo comprendido entre 2016 y 2018"
   ]
  },
  {
   "cell_type": "code",
   "execution_count": 4,
   "metadata": {
    "colab": {},
    "colab_type": "code",
    "executionInfo": {
     "elapsed": 1149,
     "status": "ok",
     "timestamp": 1594597586803,
     "user": {
      "displayName": "alejandro martinez",
      "photoUrl": "https://lh3.googleusercontent.com/a-/AOh14Gi9YSzzf_VDnAbvxMnJJqez5U-I_wOQ5OyJRmw_=s64",
      "userId": "05542026783145230534"
     },
     "user_tz": 300
    },
    "id": "k_xxUEnG8Zyr"
   },
   "outputs": [],
   "source": [
    "def get_data(dataset):\n",
    "    if(dataset=='true'):\n",
    "        url = 'https://raw.githubusercontent.com/alejitro/proyecto_MLT_Grupo05/master/DataSet/True.csv'\n",
    "        return pd.read_csv(url,error_bad_lines=True)\n",
    "    elif(dataset=='false'):\n",
    "        url = 'https://raw.githubusercontent.com/alejitro/proyecto_MLT_Grupo05/master/DataSet/Fake.csv'\n",
    "        return pd.read_csv(url,error_bad_lines=True)\n",
    "    else:\n",
    "        return (\"No data\")"
   ]
  },
  {
   "cell_type": "markdown",
   "metadata": {},
   "source": [
    "* Medios de los cuales se van a obtener noticias recientes:"
   ]
  },
  {
   "cell_type": "code",
   "execution_count": 5,
   "metadata": {
    "colab": {},
    "colab_type": "code",
    "executionInfo": {
     "elapsed": 908,
     "status": "ok",
     "timestamp": 1594597589245,
     "user": {
      "displayName": "alejandro martinez",
      "photoUrl": "https://lh3.googleusercontent.com/a-/AOh14Gi9YSzzf_VDnAbvxMnJJqez5U-I_wOQ5OyJRmw_=s64",
      "userId": "05542026783145230534"
     },
     "user_tz": 300
    },
    "id": "V10cM3bMKDY8"
   },
   "outputs": [],
   "source": [
    "dictionary = {\n",
    "  \"bbc\": {\n",
    "    \"rss\": \"http://feeds.bbci.co.uk/news/rss.xml\",\n",
    "    \"link\": \"http://www.bbc.com/\"\n",
    "  },\n",
    "  \"theguardian\": {\n",
    "    \"rss\": \"https://www.theguardian.com/uk/rss\",\n",
    "    \"link\": \"https://www.theguardian.com/international\"\n",
    "  },\n",
    "  \"breitbart\": {\n",
    "    \"link\": \"http://www.breitbart.com/\"\n",
    "  },\n",
    "  \"infowars\": {\n",
    "    \"link\": \"https://www.infowars.com/\"\n",
    "  },\n",
    "  \"washingtonpost\": {\n",
    "    \"rss\": \"http://feeds.washingtonpost.com/rss/world\",\n",
    "    \"link\": \"https://www.washingtonpost.com/\"\n",
    "  },\n",
    "  \"theonion\": {\n",
    "    \"link\": \"http://www.theonion.com/\"\n",
    "  }\n",
    "}"
   ]
  },
  {
   "cell_type": "code",
   "execution_count": 6,
   "metadata": {
    "colab": {},
    "colab_type": "code",
    "executionInfo": {
     "elapsed": 882,
     "status": "ok",
     "timestamp": 1594597591379,
     "user": {
      "displayName": "alejandro martinez",
      "photoUrl": "https://lh3.googleusercontent.com/a-/AOh14Gi9YSzzf_VDnAbvxMnJJqez5U-I_wOQ5OyJRmw_=s64",
      "userId": "05542026783145230534"
     },
     "user_tz": 300
    },
    "id": "nks2f4ktKL7K"
   },
   "outputs": [],
   "source": [
    "json_object = json.dumps(dictionary, indent = 4) \n",
    "with open(\"NewsPapers.json\", \"w\") as outfile: \n",
    "    outfile.write(json_object) "
   ]
  },
  {
   "cell_type": "markdown",
   "metadata": {},
   "source": [
    "* Codigo para importar las noticias en un archivo JSON\n",
    "\n",
    "En el codigo tenemos la opcion de variar el numero de articulos de cada medio que se quieren descargar (variable LIMIT), esto nos permite mantener el balance del dataset entre las noticias verdaderas y falsas.\n",
    "\n",
    "En esta iteracion, con el fin de poder hacer el entendimiento de los datos de una forma rapida, solo tomamos 5 articulos adicionales por cada medio, en la siguiente iteración, tomaremos un numero mayor para aumentar el tamaño del dataset y asi mismo la calidad de instancias para poder determinar las clases."
   ]
  },
  {
   "cell_type": "code",
   "execution_count": 7,
   "metadata": {
    "colab": {
     "base_uri": "https://localhost:8080/",
     "height": 1000
    },
    "colab_type": "code",
    "executionInfo": {
     "elapsed": 53100,
     "status": "ok",
     "timestamp": 1594597668707,
     "user": {
      "displayName": "alejandro martinez",
      "photoUrl": "https://lh3.googleusercontent.com/a-/AOh14Gi9YSzzf_VDnAbvxMnJJqez5U-I_wOQ5OyJRmw_=s64",
      "userId": "05542026783145230534"
     },
     "user_tz": 300
    },
    "id": "M2UAAzWHKVYe",
    "outputId": "1090364d-335a-4cc1-e285-ebde18f166d4"
   },
   "outputs": [
    {
     "name": "stdout",
     "output_type": "stream",
     "text": [
      "Downloading articles from  bbc\n",
      "1 articles downloaded from bbc , url:  https://www.bbc.co.uk/news/world-middle-east-53656220\n",
      "2 articles downloaded from bbc , url:  https://www.bbc.co.uk/news/world-middle-east-53657165\n",
      "3 articles downloaded from bbc , url:  https://www.bbc.co.uk/news/uk-northern-ireland-53645518\n",
      "4 articles downloaded from bbc , url:  https://www.bbc.co.uk/sport/football/53603848\n",
      "5 articles downloaded from bbc , url:  https://www.bbc.co.uk/news/business-53642581\n",
      "Downloading articles from  theguardian\n",
      "1 articles downloaded from theguardian , url:  https://www.theguardian.com/world/live/2020/aug/04/beirut-explosion-huge-blast-port-lebanon-capital\n",
      "2 articles downloaded from theguardian , url:  https://www.theguardian.com/world/2020/aug/04/cursed-shock-despair-beirut-explosion-rocks-city-lebanon\n",
      "3 articles downloaded from theguardian , url:  https://www.theguardian.com/politics/2020/aug/04/starmer-says-boris-johnson-has-one-month-to-fix-coronavirus-test-and-trace-system\n",
      "4 articles downloaded from theguardian , url:  https://www.theguardian.com/us-news/2020/aug/04/donald-trump-civil-rights-leader-john-lewis\n",
      "5 articles downloaded from theguardian , url:  https://www.theguardian.com/uk-news/2020/aug/04/witness-claims-seen-prince-andrew-mayfair-club-virginia-giuffre\n",
      "Building site for  breitbart\n",
      "1 articles downloaded from breitbart  using newspaper, url:  http://www.breitbart.com/2020-election/2020/08/04/live-updates-mi-ks-mo-az-wa-election-results/\n",
      "2 articles downloaded from breitbart  using newspaper, url:  http://www.breitbart.com/politics/2020/08/04/exclusive-mike-braun-democrats-sabotaging-a-strong-economic-recovery-by-holding-coronavirus-aid-hostage/\n",
      "3 articles downloaded from breitbart  using newspaper, url:  http://www.breitbart.com/national-security/2020/08/04/w-h-o-casts-doubt-on-coronavirus-originating-in-wuhan-china/\n",
      "4 articles downloaded from breitbart  using newspaper, url:  http://www.breitbart.com/politics/2020/08/04/joe-biden-team-trump-allies-touting-imaginary-controversy-about-biden-dodging-debates/\n",
      "5 articles downloaded from breitbart  using newspaper, url:  http://www.breitbart.com/politics/2020/08/04/donald-trump-beruit-explosion-looks-like-a-terrible-attack/\n",
      "Building site for  infowars\n",
      "1  Article has date of type None...\n",
      "2 articles downloaded from infowars  using newspaper, url:  https://www.infowars.com/husband-of-democrat-l-a-county-district-attorney-charged-with-assault-after-defending-home-with-firearm/\n",
      "3 articles downloaded from infowars  using newspaper, url:  https://www.infowars.com/husband-of-democrat-l-a-county-district-attorney-charged-with-assault-after-defending-home-with-firearm/#vuukle-comments\n",
      "4 articles downloaded from infowars  using newspaper, url:  https://www.infowars.com/false-positive-detroit-lions-quarterback-never-had-covid-19/\n",
      "5 articles downloaded from infowars  using newspaper, url:  https://www.infowars.com/false-positive-detroit-lions-quarterback-never-had-covid-19/#vuukle-comments\n",
      "Downloading articles from  washingtonpost\n",
      "1 articles downloaded from washingtonpost , url:  https://www.washingtonpost.com/world/asia_pacific/kashmir-india-crackdown-anniversary/2020/08/04/19a35776-d63f-11ea-a788-2ce86ce81129_story.html?utm_source=rss&utm_medium=referral&utm_campaign=wp_world\n",
      "2 articles downloaded from washingtonpost , url:  https://www.washingtonpost.com/world/islamic-state-attack-on-an-afghan-prison-stretches-into-its-second-day-with-21-dead/2020/08/03/69e7146e-d556-11ea-a788-2ce86ce81129_story.html?utm_source=rss&utm_medium=referral&utm_campaign=wp_world\n",
      "3 articles downloaded from washingtonpost , url:  https://www.washingtonpost.com/world/asia_pacific/why-tiktok-was-destined-to-land-in-trumps-crosshairs/2020/08/04/e0526798-d56f-11ea-a788-2ce86ce81129_story.html?utm_source=rss&utm_medium=referral&utm_campaign=wp_world\n",
      "4 articles downloaded from washingtonpost , url:  https://www.washingtonpost.com/world/2020/08/04/beirut-explosion-ammonium-nitrate/?utm_source=rss&utm_medium=referral&utm_campaign=wp_world\n",
      "5 articles downloaded from washingtonpost , url:  https://www.washingtonpost.com/world/middle_east/major-explosion-rocks-beirut/2020/08/04/53ff4dd6-d666-11ea-a788-2ce86ce81129_story.html?utm_source=rss&utm_medium=referral&utm_campaign=wp_world\n",
      "Building site for  theonion\n",
      "1  Article has date of type None...\n",
      "2  Article has date of type None...\n",
      "3  Article has date of type None...\n",
      "4  Article has date of type None...\n",
      "5  Article has date of type None...\n"
     ]
    }
   ],
   "source": [
    "import feedparser as fp\n",
    "import json\n",
    "import newspaper\n",
    "from newspaper import Article\n",
    "from time import mktime\n",
    "from datetime import datetime\n",
    "\n",
    "# Set the limit for number of articles to download\n",
    "#LIMIT = 14500\n",
    "LIMIT = 5\n",
    "\n",
    "data = {}\n",
    "data['newspapers'] = {}\n",
    "\n",
    "# Loads the JSON files with news sites\n",
    "with open('NewsPapers.json') as data_file:\n",
    "    companies = json.load(data_file)\n",
    "\n",
    "count = 1\n",
    "\n",
    "# Iterate through each news company\n",
    "for company, value in companies.items():\n",
    "    # If a RSS link is provided in the JSON file, this will be the first choice.\n",
    "    # Reason for this is that, RSS feeds often give more consistent and correct data.\n",
    "    # If you do not want to scrape from the RSS-feed, just leave the RSS attr empty in the JSON file.\n",
    "    if 'rss' in value:\n",
    "        d = fp.parse(value['rss'])\n",
    "        print(\"Downloading articles from \", company)\n",
    "        newsPaper = {\n",
    "            \"rss\": value['rss'],\n",
    "            \"link\": value['link'],\n",
    "            \"articles\": []\n",
    "        }\n",
    "        for entry in d.entries:\n",
    "            # Check if publish date is provided, if no the article is skipped.\n",
    "            # This is done to keep consistency in the data and to keep the script from crashing.\n",
    "            if hasattr(entry, 'published'):\n",
    "                if count > LIMIT:\n",
    "                    break\n",
    "                article = {}\n",
    "                article['link'] = entry.link\n",
    "                date = entry.published_parsed\n",
    "                article['published'] = datetime.fromtimestamp(mktime(date)).isoformat()\n",
    "                try:\n",
    "                    content = Article(entry.link)\n",
    "                    content.download()\n",
    "                    content.parse()\n",
    "                except Exception as e:\n",
    "                    # If the download for some reason fails (ex. 404) the script will continue downloading\n",
    "                    # the next article.\n",
    "                    print(e)\n",
    "                    print(\"continuing...\")\n",
    "                    continue\n",
    "                article['title'] = content.title\n",
    "                article['text'] = content.text\n",
    "                newsPaper['articles'].append(article)\n",
    "                print(count, \"articles downloaded from\", company, \", url: \", entry.link)\n",
    "                count = count + 1\n",
    "    else:\n",
    "        # This is the fallback method if a RSS-feed link is not provided.\n",
    "        # It uses the python newspaper library to extract articles\n",
    "        print(\"Building site for \", company)\n",
    "        paper = newspaper.build(value['link'], memoize_articles=False)\n",
    "        newsPaper = {\n",
    "            \"link\": value['link'],\n",
    "            \"articles\": []\n",
    "        }\n",
    "        noneTypeCount = 0\n",
    "        for content in paper.articles:\n",
    "            if count > LIMIT:\n",
    "                break\n",
    "            try:\n",
    "                content.download()\n",
    "                content.parse()\n",
    "            except Exception as e:\n",
    "                print(e)\n",
    "                print(\"continuing...\")\n",
    "                continue\n",
    "            # Again, for consistency, if there is no found publish date the article will be skipped.\n",
    "            # After 10 downloaded articles from the same newspaper without publish date, the company will be skipped.\n",
    "            if content.publish_date is None:\n",
    "                print(count, \" Article has date of type None...\")\n",
    "                noneTypeCount = noneTypeCount + 1\n",
    "                if noneTypeCount > 100:\n",
    "                    print(\"Too many noneType dates, aborting...\")\n",
    "                    noneTypeCount = 0\n",
    "                    break\n",
    "                count = count + 1\n",
    "                continue\n",
    "            article = {}\n",
    "            article['title'] = content.title\n",
    "            article['text'] = content.text\n",
    "            article['link'] = content.url\n",
    "            article['published'] = content.publish_date.isoformat()\n",
    "            newsPaper['articles'].append(article)\n",
    "            print(count, \"articles downloaded from\", company, \" using newspaper, url: \", content.url)\n",
    "            count = count + 1\n",
    "            noneTypeCount = 0\n",
    "    count = 1\n",
    "    data['newspapers'][company] = newsPaper\n",
    "\n",
    "# Finally it saves the articles as a JSON-file.\n",
    "try:\n",
    "    with open('scraped_articles.json', 'w') as outfile:\n",
    "        json.dump(data, outfile)\n",
    "except Exception as e: print(e)"
   ]
  },
  {
   "cell_type": "code",
   "execution_count": 8,
   "metadata": {
    "colab": {},
    "colab_type": "code",
    "executionInfo": {
     "elapsed": 869,
     "status": "ok",
     "timestamp": 1594597724109,
     "user": {
      "displayName": "alejandro martinez",
      "photoUrl": "https://lh3.googleusercontent.com/a-/AOh14Gi9YSzzf_VDnAbvxMnJJqez5U-I_wOQ5OyJRmw_=s64",
      "userId": "05542026783145230534"
     },
     "user_tz": 300
    },
    "id": "TT7O56-YOSNc"
   },
   "outputs": [],
   "source": [
    "with open('scraped_articles.json') as json_data:\n",
    "    d = json.load(json_data)"
   ]
  },
  {
   "cell_type": "code",
   "execution_count": 9,
   "metadata": {
    "colab": {
     "base_uri": "https://localhost:8080/",
     "height": 173
    },
    "colab_type": "code",
    "executionInfo": {
     "elapsed": 899,
     "status": "ok",
     "timestamp": 1594597725658,
     "user": {
      "displayName": "alejandro martinez",
      "photoUrl": "https://lh3.googleusercontent.com/a-/AOh14Gi9YSzzf_VDnAbvxMnJJqez5U-I_wOQ5OyJRmw_=s64",
      "userId": "05542026783145230534"
     },
     "user_tz": 300
    },
    "id": "9CaUXP7OOVaq",
    "outputId": "55b28472-fdbe-4c6e-c77c-9e274f94d93c"
   },
   "outputs": [
    {
     "name": "stdout",
     "output_type": "stream",
     "text": [
      "0 bbc\n",
      "1 theguardian\n",
      "2 breitbart\n",
      "3 infowars\n",
      "4 washingtonpost\n",
      "5 theonion\n"
     ]
    }
   ],
   "source": [
    "for i, site in enumerate((list(d['newspapers']))):\n",
    "    print(i, site)"
   ]
  },
  {
   "cell_type": "markdown",
   "metadata": {
    "colab_type": "text",
    "id": "QonMsbjWPXzn"
   },
   "source": [
    "Hacemos un pandas dataFrame con los articulos descargados"
   ]
  },
  {
   "cell_type": "code",
   "execution_count": 10,
   "metadata": {
    "colab": {},
    "colab_type": "code",
    "executionInfo": {
     "elapsed": 1131,
     "status": "ok",
     "timestamp": 1594597728844,
     "user": {
      "displayName": "alejandro martinez",
      "photoUrl": "https://lh3.googleusercontent.com/a-/AOh14Gi9YSzzf_VDnAbvxMnJJqez5U-I_wOQ5OyJRmw_=s64",
      "userId": "05542026783145230534"
     },
     "user_tz": 300
    },
    "id": "w3WS0s1oOZfF"
   },
   "outputs": [],
   "source": [
    "for i, site in enumerate((list(d['newspapers']))):\n",
    "    articles = list(d['newspapers'][site]['articles'])\n",
    "    if i == 0:\n",
    "        df = pd.DataFrame.from_dict(articles)\n",
    "        df[\"site\"] = site\n",
    "    else:\n",
    "        new_df = pd.DataFrame.from_dict(articles)\n",
    "        new_df[\"site\"] = site\n",
    "        df = pd.concat([df, new_df], ignore_index = True)     "
   ]
  },
  {
   "cell_type": "markdown",
   "metadata": {
    "colab_type": "text",
    "id": "jiPRj5VJPSS0"
   },
   "source": [
    "Leemos los datos provenientes del dataset de Kaggle"
   ]
  },
  {
   "cell_type": "code",
   "execution_count": 12,
   "metadata": {
    "colab": {},
    "colab_type": "code",
    "executionInfo": {
     "elapsed": 6476,
     "status": "ok",
     "timestamp": 1594597740851,
     "user": {
      "displayName": "alejandro martinez",
      "photoUrl": "https://lh3.googleusercontent.com/a-/AOh14Gi9YSzzf_VDnAbvxMnJJqez5U-I_wOQ5OyJRmw_=s64",
      "userId": "05542026783145230534"
     },
     "user_tz": 300
    },
    "id": "jmoV3f42_cKw"
   },
   "outputs": [],
   "source": [
    "true_data=get_data('true')\n",
    "fake_data=get_data('false')"
   ]
  },
  {
   "cell_type": "markdown",
   "metadata": {},
   "source": [
    "Le asignamos la categoria correspondiente a cada uno de los dataframes y lo unimos en uno solo."
   ]
  },
  {
   "cell_type": "code",
   "execution_count": 13,
   "metadata": {
    "colab": {
     "base_uri": "https://localhost:8080/",
     "height": 225
    },
    "colab_type": "code",
    "executionInfo": {
     "elapsed": 885,
     "status": "ok",
     "timestamp": 1594597748894,
     "user": {
      "displayName": "alejandro martinez",
      "photoUrl": "https://lh3.googleusercontent.com/a-/AOh14Gi9YSzzf_VDnAbvxMnJJqez5U-I_wOQ5OyJRmw_=s64",
      "userId": "05542026783145230534"
     },
     "user_tz": 300
    },
    "id": "OM1LowcDAWeC",
    "outputId": "fedd0d85-ab44-4763-d734-edb5f9d04717"
   },
   "outputs": [
    {
     "name": "stdout",
     "output_type": "stream",
     "text": [
      "<class 'pandas.core.frame.DataFrame'>\n",
      "Int64Index: 44867 entries, 0 to 23449\n",
      "Data columns (total 5 columns):\n",
      " #   Column    Non-Null Count  Dtype \n",
      "---  ------    --------------  ----- \n",
      " 0   title     44867 non-null  object\n",
      " 1   text      44867 non-null  object\n",
      " 2   subject   44867 non-null  object\n",
      " 3   date      44867 non-null  object\n",
      " 4   category  44867 non-null  object\n",
      "dtypes: object(5)\n",
      "memory usage: 2.1+ MB\n"
     ]
    }
   ],
   "source": [
    "true_data['category']= 'True'\n",
    "fake_data['category']= 'Fake'\n",
    "\n",
    "df_news = pd.concat([true_data, fake_data])\n",
    "df_news.info()\n"
   ]
  },
  {
   "cell_type": "markdown",
   "metadata": {},
   "source": [
    "Hacemos la categorización en el dataset proveniente del scrappping."
   ]
  },
  {
   "cell_type": "code",
   "execution_count": 14,
   "metadata": {
    "colab": {},
    "colab_type": "code",
    "executionInfo": {
     "elapsed": 893,
     "status": "ok",
     "timestamp": 1594597752472,
     "user": {
      "displayName": "alejandro martinez",
      "photoUrl": "https://lh3.googleusercontent.com/a-/AOh14Gi9YSzzf_VDnAbvxMnJJqez5U-I_wOQ5OyJRmw_=s64",
      "userId": "05542026783145230534"
     },
     "user_tz": 300
    },
    "id": "90d6Z3thQA19"
   },
   "outputs": [],
   "source": [
    "data=df.drop(['link'], axis=1)\n",
    "data['site']=data['site'].replace(['bbc','cnn','theguardian', 'foxnews','nbcnews','washingtonpost'\n",
    "                                  ,'breitbart','infowars','theonion'], \n",
    "                                  ['True','True','True','True','True','True',\n",
    "                                   'Fake','Fake','Fake'])"
   ]
  },
  {
   "cell_type": "markdown",
   "metadata": {},
   "source": [
    "Eliminamos la columna subject ya que consideramos que esta no aporta información significativa para la resolución del problema"
   ]
  },
  {
   "cell_type": "code",
   "execution_count": 15,
   "metadata": {
    "colab": {
     "base_uri": "https://localhost:8080/",
     "height": 206
    },
    "colab_type": "code",
    "executionInfo": {
     "elapsed": 495,
     "status": "ok",
     "timestamp": 1594586274845,
     "user": {
      "displayName": "alejandro martinez",
      "photoUrl": "https://lh3.googleusercontent.com/a-/AOh14Gi9YSzzf_VDnAbvxMnJJqez5U-I_wOQ5OyJRmw_=s64",
      "userId": "05542026783145230534"
     },
     "user_tz": 300
    },
    "id": "I3VukGDHv10O",
    "outputId": "58a78252-74f7-479d-f72e-77209f362bb1"
   },
   "outputs": [
    {
     "data": {
      "text/html": [
       "<div>\n",
       "<style scoped>\n",
       "    .dataframe tbody tr th:only-of-type {\n",
       "        vertical-align: middle;\n",
       "    }\n",
       "\n",
       "    .dataframe tbody tr th {\n",
       "        vertical-align: top;\n",
       "    }\n",
       "\n",
       "    .dataframe thead th {\n",
       "        text-align: right;\n",
       "    }\n",
       "</style>\n",
       "<table border=\"1\" class=\"dataframe\">\n",
       "  <thead>\n",
       "    <tr style=\"text-align: right;\">\n",
       "      <th></th>\n",
       "      <th>title</th>\n",
       "      <th>text</th>\n",
       "      <th>date</th>\n",
       "      <th>category</th>\n",
       "    </tr>\n",
       "  </thead>\n",
       "  <tbody>\n",
       "    <tr>\n",
       "      <th>0</th>\n",
       "      <td>As U.S. budget fight looms, Republicans flip t...</td>\n",
       "      <td>WASHINGTON (Reuters) - The head of a conservat...</td>\n",
       "      <td>December 31, 2017</td>\n",
       "      <td>True</td>\n",
       "    </tr>\n",
       "    <tr>\n",
       "      <th>1</th>\n",
       "      <td>U.S. military to accept transgender recruits o...</td>\n",
       "      <td>WASHINGTON (Reuters) - Transgender people will...</td>\n",
       "      <td>December 29, 2017</td>\n",
       "      <td>True</td>\n",
       "    </tr>\n",
       "    <tr>\n",
       "      <th>2</th>\n",
       "      <td>Senior U.S. Republican senator: 'Let Mr. Muell...</td>\n",
       "      <td>WASHINGTON (Reuters) - The special counsel inv...</td>\n",
       "      <td>December 31, 2017</td>\n",
       "      <td>True</td>\n",
       "    </tr>\n",
       "    <tr>\n",
       "      <th>3</th>\n",
       "      <td>FBI Russia probe helped by Australian diplomat...</td>\n",
       "      <td>WASHINGTON (Reuters) - Trump campaign adviser ...</td>\n",
       "      <td>December 30, 2017</td>\n",
       "      <td>True</td>\n",
       "    </tr>\n",
       "    <tr>\n",
       "      <th>4</th>\n",
       "      <td>Trump wants Postal Service to charge 'much mor...</td>\n",
       "      <td>SEATTLE/WASHINGTON (Reuters) - President Donal...</td>\n",
       "      <td>December 29, 2017</td>\n",
       "      <td>True</td>\n",
       "    </tr>\n",
       "  </tbody>\n",
       "</table>\n",
       "</div>"
      ],
      "text/plain": [
       "                                               title  \\\n",
       "0  As U.S. budget fight looms, Republicans flip t...   \n",
       "1  U.S. military to accept transgender recruits o...   \n",
       "2  Senior U.S. Republican senator: 'Let Mr. Muell...   \n",
       "3  FBI Russia probe helped by Australian diplomat...   \n",
       "4  Trump wants Postal Service to charge 'much mor...   \n",
       "\n",
       "                                                text                date  \\\n",
       "0  WASHINGTON (Reuters) - The head of a conservat...  December 31, 2017    \n",
       "1  WASHINGTON (Reuters) - Transgender people will...  December 29, 2017    \n",
       "2  WASHINGTON (Reuters) - The special counsel inv...  December 31, 2017    \n",
       "3  WASHINGTON (Reuters) - Trump campaign adviser ...  December 30, 2017    \n",
       "4  SEATTLE/WASHINGTON (Reuters) - President Donal...  December 29, 2017    \n",
       "\n",
       "  category  \n",
       "0     True  \n",
       "1     True  \n",
       "2     True  \n",
       "3     True  \n",
       "4     True  "
      ]
     },
     "execution_count": 15,
     "metadata": {},
     "output_type": "execute_result"
    }
   ],
   "source": [
    "df_news=df_news.drop(['subject'], axis=1)\n",
    "df_news.head()"
   ]
  },
  {
   "cell_type": "markdown",
   "metadata": {},
   "source": [
    "Reemplazamos los nombres en las columnas del dataframe proveniente del web scrapping con el fin de poder unirlo con el dataset existente de kaggle"
   ]
  },
  {
   "cell_type": "code",
   "execution_count": 16,
   "metadata": {
    "colab": {},
    "colab_type": "code",
    "executionInfo": {
     "elapsed": 10964,
     "status": "ok",
     "timestamp": 1594597797804,
     "user": {
      "displayName": "alejandro martinez",
      "photoUrl": "https://lh3.googleusercontent.com/a-/AOh14Gi9YSzzf_VDnAbvxMnJJqez5U-I_wOQ5OyJRmw_=s64",
      "userId": "05542026783145230534"
     },
     "user_tz": 300
    },
    "id": "eiP6x-_XUXc8"
   },
   "outputs": [],
   "source": [
    "data.rename(columns={'published':'date',                           \n",
    "                    'site':'category'},\n",
    "                    inplace=True)\n",
    "df_news['date']=df_news['date'].apply(pd.to_datetime)\n",
    "data['date']=data['date'].apply(pd.to_datetime)"
   ]
  },
  {
   "cell_type": "code",
   "execution_count": 17,
   "metadata": {
    "colab": {},
    "colab_type": "code",
    "executionInfo": {
     "elapsed": 1002,
     "status": "ok",
     "timestamp": 1594597806851,
     "user": {
      "displayName": "alejandro martinez",
      "photoUrl": "https://lh3.googleusercontent.com/a-/AOh14Gi9YSzzf_VDnAbvxMnJJqez5U-I_wOQ5OyJRmw_=s64",
      "userId": "05542026783145230534"
     },
     "user_tz": 300
    },
    "id": "MyfXu3Y_eokP"
   },
   "outputs": [],
   "source": [
    "total_news_df = pd.concat([df_news, data])"
   ]
  },
  {
   "cell_type": "markdown",
   "metadata": {},
   "source": [
    "Verificamos el numero de columnas del dataset final y que este no tenga datos nulos."
   ]
  },
  {
   "cell_type": "code",
   "execution_count": 18,
   "metadata": {
    "colab": {
     "base_uri": "https://localhost:8080/",
     "height": 208
    },
    "colab_type": "code",
    "executionInfo": {
     "elapsed": 525,
     "status": "ok",
     "timestamp": 1594586493691,
     "user": {
      "displayName": "alejandro martinez",
      "photoUrl": "https://lh3.googleusercontent.com/a-/AOh14Gi9YSzzf_VDnAbvxMnJJqez5U-I_wOQ5OyJRmw_=s64",
      "userId": "05542026783145230534"
     },
     "user_tz": 300
    },
    "id": "6jclGn3Leu6b",
    "outputId": "b42769e3-286f-43c8-b50c-4f22a63f65de"
   },
   "outputs": [
    {
     "name": "stdout",
     "output_type": "stream",
     "text": [
      "<class 'pandas.core.frame.DataFrame'>\n",
      "Int64Index: 44891 entries, 0 to 23\n",
      "Data columns (total 4 columns):\n",
      " #   Column    Non-Null Count  Dtype \n",
      "---  ------    --------------  ----- \n",
      " 0   title     44891 non-null  object\n",
      " 1   text      44891 non-null  object\n",
      " 2   date      44891 non-null  object\n",
      " 3   category  44891 non-null  object\n",
      "dtypes: object(4)\n",
      "memory usage: 1.7+ MB\n"
     ]
    }
   ],
   "source": [
    "total_news_df.info()"
   ]
  },
  {
   "cell_type": "markdown",
   "metadata": {},
   "source": [
    "Una vez descargados los datos, se realiza la separación de los datos. Tendremos dos enfoques para la separación de los datos. El primero será con base a los textos y el segundo con base en los títulos. Esto lo hacemos con el fin de poder determinar a través de los resultados, cuál variable es mejor para determinar si una noticia es falsa o verdadera."
   ]
  },
  {
   "cell_type": "code",
   "execution_count": 19,
   "metadata": {},
   "outputs": [],
   "source": [
    "X_text, X_title, y = total_news_df['text'], total_news_df['title'], total_news_df['category']"
   ]
  },
  {
   "cell_type": "markdown",
   "metadata": {},
   "source": [
    "Se obtienen los datos de TEST y de TRAIN para los Textos"
   ]
  },
  {
   "cell_type": "code",
   "execution_count": 20,
   "metadata": {},
   "outputs": [],
   "source": [
    "X_train_text, X_test_text, y_train_text, y_test_text = train_test_split(X_text, y, test_size=0.2, random_state=33)"
   ]
  },
  {
   "cell_type": "markdown",
   "metadata": {},
   "source": [
    "Se obtienen los datos de TEST y de TRAIN para los Títulos"
   ]
  },
  {
   "cell_type": "code",
   "execution_count": 21,
   "metadata": {},
   "outputs": [],
   "source": [
    "X_train_title, X_test_title, y_train_title, y_test_title = train_test_split(X_title, y, test_size=0.2, random_state=33)"
   ]
  },
  {
   "cell_type": "markdown",
   "metadata": {
    "colab_type": "text",
    "id": "QBb64Uuip5DT"
   },
   "source": [
    "### 3. Preparación de datos\n",
    "\n",
    "Para poder realizar el pre-procesamiento de los datos, es recomendable pasar por tres etapas:\n",
    "* Eliminación del Ruido.\n",
    "* Tokenización.\n",
    "* Normalización."
   ]
  },
  {
   "cell_type": "code",
   "execution_count": 22,
   "metadata": {
    "colab": {},
    "colab_type": "code",
    "executionInfo": {
     "elapsed": 882,
     "status": "ok",
     "timestamp": 1594597818353,
     "user": {
      "displayName": "alejandro martinez",
      "photoUrl": "https://lh3.googleusercontent.com/a-/AOh14Gi9YSzzf_VDnAbvxMnJJqez5U-I_wOQ5OyJRmw_=s64",
      "userId": "05542026783145230534"
     },
     "user_tz": 300
    },
    "id": "z1odvwCYgcXx"
   },
   "outputs": [],
   "source": [
    "def remove_non_ascii(words):\n",
    "    \"\"\"Remove non-ASCII characters from list of tokenized words\"\"\"\n",
    "    new_words = []\n",
    "    for word in words:\n",
    "        new_word = unicodedata.normalize('NFKD', word).encode('ascii', 'ignore').decode('utf-8', 'ignore')\n",
    "        new_words.append(new_word)\n",
    "    return new_words\n",
    "\n",
    "def to_lowercase(words):\n",
    "    \"\"\"Convert all characters to lowercase from list of tokenized words\"\"\"\n",
    "    new_words = []\n",
    "    for word in words:\n",
    "        new_word = word.lower()\n",
    "        new_words.append(new_word)\n",
    "    return new_words\n",
    "\n",
    "def remove_punctuation(words):\n",
    "    \"\"\"Remove punctuation from list of tokenized words\"\"\"\n",
    "    new_words = []\n",
    "    for word in words:\n",
    "        new_word = re.sub(r'[^\\w\\s]', '', word)\n",
    "        if new_word != '':\n",
    "            new_words.append(new_word)\n",
    "    return new_words\n",
    "\n",
    "def replace_numbers(words):\n",
    "    \"\"\"Replace all interger occurrences in list of tokenized words with textual representation\"\"\"\n",
    "    p = inflect.engine()\n",
    "    new_words = []\n",
    "    for word in words:\n",
    "        if word.isdigit():\n",
    "            new_word = p.number_to_words(word)\n",
    "            new_words.append(new_word)\n",
    "        else:\n",
    "            new_words.append(word)\n",
    "    return new_words\n",
    "\n",
    "def remove_stopwords(words):\n",
    "    \"\"\"Remove stop words from list of tokenized words\"\"\"\n",
    "    new_words = []\n",
    "    for word in words:\n",
    "        if word not in stopwords.words('english'):\n",
    "            new_words.append(word)\n",
    "    return new_words\n",
    "\n",
    "def words_preproccesing(words):\n",
    "    words = to_lowercase(words)\n",
    "    words = replace_numbers(words)\n",
    "    words = remove_punctuation(words)\n",
    "    words = remove_non_ascii(words)\n",
    "    words = remove_stopwords(words)\n",
    "    return words\n",
    "\n",
    "def clean_and_process_text(df:pd.DataFrame, origin_data: str) -> pd.DataFrame:\n",
    "    df = df.apply(contractions.fix) #Aplica la corrección de las contracciones\n",
    "    df['words'] = df.apply(word_tokenize)\n",
    "    df['words'] = df['words'].apply(words_preproccesing) #Aplica la eliminación del ruido\n",
    "    \n",
    "    return df\n"
   ]
  },
  {
   "cell_type": "markdown",
   "metadata": {},
   "source": [
    "Procedemos a ejecutar las funciones de eliminación de ruido y tokenización de palabras"
   ]
  },
  {
   "cell_type": "code",
   "execution_count": 23,
   "metadata": {
    "colab": {
     "base_uri": "https://localhost:8080/",
     "height": 695
    },
    "colab_type": "code",
    "executionInfo": {
     "elapsed": 5963,
     "status": "error",
     "timestamp": 1594597836232,
     "user": {
      "displayName": "alejandro martinez",
      "photoUrl": "https://lh3.googleusercontent.com/a-/AOh14Gi9YSzzf_VDnAbvxMnJJqez5U-I_wOQ5OyJRmw_=s64",
      "userId": "05542026783145230534"
     },
     "user_tz": 300
    },
    "id": "PB4QSE_wgp-6",
    "outputId": "5fb95b57-c76e-481c-f120-9b9b8ac964f3"
   },
   "outputs": [
    {
     "data": {
      "text/plain": [
       "12192    HOW BUZZFEED Is Using Social Media “News” Feed...\n",
       "11495    Ukraine's Poroshenko vows to work for quick ex...\n",
       "20246    #BlackLivesMatter Supporters Say No Connection...\n",
       "4243     you.S. business wary of skin-deep results from...\n",
       "18545    RUSH LIMBAUGH: This Group is “Roadblocking” Tr...\n",
       "Name: title, dtype: object"
      ]
     },
     "execution_count": 23,
     "metadata": {},
     "output_type": "execute_result"
    }
   ],
   "source": [
    "total_news_text_df = clean_and_process_text(X_train_text, 'text')\n",
    "total_news_title_df = clean_and_process_text(X_train_title, 'title')\n",
    "total_news_text_df.head()\n",
    "total_news_title_df.head()"
   ]
  },
  {
   "cell_type": "markdown",
   "metadata": {
    "colab_type": "text",
    "id": "LJh1PmFJrgHw"
   },
   "source": [
    "**Separacion de datos según categoría**\n",
    "\n",
    "Separamos los datos según su categoría con el fin de hacer análisis de los datos para el entendimiento del problema"
   ]
  },
  {
   "cell_type": "code",
   "execution_count": 24,
   "metadata": {
    "colab": {},
    "colab_type": "code",
    "id": "OrWOy_0SizHq"
   },
   "outputs": [],
   "source": [
    "fake=total_news_df[total_news_df['category']=='Fake']\n",
    "true=total_news_df[total_news_df['category']=='True']"
   ]
  },
  {
   "cell_type": "code",
   "execution_count": 25,
   "metadata": {
    "colab": {
     "base_uri": "https://localhost:8080/",
     "height": 293,
     "referenced_widgets": [
      "d715a0a44ff34eebbab7a6990fe2623b",
      "1c7fda8bc55d4b8ea747323992b38327",
      "8d349ed0af934d359d9ceef8f7585eeb",
      "67dd0f7a804749408e60fed82a9773d5",
      "5f7b7843ac2b4109b323e64f08cdbce6",
      "dafeb4f140fd4f459fbc52b77654fb45"
     ]
    },
    "colab_type": "code",
    "executionInfo": {
     "elapsed": 548,
     "status": "ok",
     "timestamp": 1594583070238,
     "user": {
      "displayName": "alejandro martinez",
      "photoUrl": "https://lh3.googleusercontent.com/a-/AOh14Gi9YSzzf_VDnAbvxMnJJqez5U-I_wOQ5OyJRmw_=s64",
      "userId": "05542026783145230534"
     },
     "user_tz": 300
    },
    "id": "jjAIKu6VijLK",
    "outputId": "e4febcba-1db7-438b-c984-d4be05c27d0c"
   },
   "outputs": [
    {
     "data": {
      "text/html": [
       "<div>\n",
       "<style scoped>\n",
       "    .dataframe tbody tr th:only-of-type {\n",
       "        vertical-align: middle;\n",
       "    }\n",
       "\n",
       "    .dataframe tbody tr th {\n",
       "        vertical-align: top;\n",
       "    }\n",
       "\n",
       "    .dataframe thead th {\n",
       "        text-align: right;\n",
       "    }\n",
       "</style>\n",
       "<table border=\"1\" class=\"dataframe\">\n",
       "  <thead>\n",
       "    <tr style=\"text-align: right;\">\n",
       "      <th></th>\n",
       "      <th>title</th>\n",
       "      <th>text</th>\n",
       "      <th>date</th>\n",
       "      <th>category</th>\n",
       "    </tr>\n",
       "  </thead>\n",
       "  <tbody>\n",
       "    <tr>\n",
       "      <th>0</th>\n",
       "      <td>Donald Trump Sends Out Embarrassing New Year’...</td>\n",
       "      <td>Donald Trump just couldn t wish all Americans ...</td>\n",
       "      <td>2017-12-31 00:00:00</td>\n",
       "      <td>Fake</td>\n",
       "    </tr>\n",
       "    <tr>\n",
       "      <th>1</th>\n",
       "      <td>Drunk Bragging Trump Staffer Started Russian ...</td>\n",
       "      <td>House Intelligence Committee Chairman Devin Nu...</td>\n",
       "      <td>2017-12-31 00:00:00</td>\n",
       "      <td>Fake</td>\n",
       "    </tr>\n",
       "    <tr>\n",
       "      <th>2</th>\n",
       "      <td>Sheriff David Clarke Becomes An Internet Joke...</td>\n",
       "      <td>On Friday, it was revealed that former Milwauk...</td>\n",
       "      <td>2017-12-30 00:00:00</td>\n",
       "      <td>Fake</td>\n",
       "    </tr>\n",
       "    <tr>\n",
       "      <th>3</th>\n",
       "      <td>Trump Is So Obsessed He Even Has Obama’s Name...</td>\n",
       "      <td>On Christmas day, Donald Trump announced that ...</td>\n",
       "      <td>2017-12-29 00:00:00</td>\n",
       "      <td>Fake</td>\n",
       "    </tr>\n",
       "    <tr>\n",
       "      <th>4</th>\n",
       "      <td>Pope Francis Just Called Out Donald Trump Dur...</td>\n",
       "      <td>Pope Francis used his annual Christmas Day mes...</td>\n",
       "      <td>2017-12-25 00:00:00</td>\n",
       "      <td>Fake</td>\n",
       "    </tr>\n",
       "  </tbody>\n",
       "</table>\n",
       "</div>"
      ],
      "text/plain": [
       "                                               title  \\\n",
       "0   Donald Trump Sends Out Embarrassing New Year’...   \n",
       "1   Drunk Bragging Trump Staffer Started Russian ...   \n",
       "2   Sheriff David Clarke Becomes An Internet Joke...   \n",
       "3   Trump Is So Obsessed He Even Has Obama’s Name...   \n",
       "4   Pope Francis Just Called Out Donald Trump Dur...   \n",
       "\n",
       "                                                text                 date  \\\n",
       "0  Donald Trump just couldn t wish all Americans ...  2017-12-31 00:00:00   \n",
       "1  House Intelligence Committee Chairman Devin Nu...  2017-12-31 00:00:00   \n",
       "2  On Friday, it was revealed that former Milwauk...  2017-12-30 00:00:00   \n",
       "3  On Christmas day, Donald Trump announced that ...  2017-12-29 00:00:00   \n",
       "4  Pope Francis used his annual Christmas Day mes...  2017-12-25 00:00:00   \n",
       "\n",
       "  category  \n",
       "0     Fake  \n",
       "1     Fake  \n",
       "2     Fake  \n",
       "3     Fake  \n",
       "4     Fake  "
      ]
     },
     "metadata": {},
     "output_type": "display_data"
    },
    {
     "data": {
      "text/html": [
       "<div>\n",
       "<style scoped>\n",
       "    .dataframe tbody tr th:only-of-type {\n",
       "        vertical-align: middle;\n",
       "    }\n",
       "\n",
       "    .dataframe tbody tr th {\n",
       "        vertical-align: top;\n",
       "    }\n",
       "\n",
       "    .dataframe thead th {\n",
       "        text-align: right;\n",
       "    }\n",
       "</style>\n",
       "<table border=\"1\" class=\"dataframe\">\n",
       "  <thead>\n",
       "    <tr style=\"text-align: right;\">\n",
       "      <th></th>\n",
       "      <th>title</th>\n",
       "      <th>text</th>\n",
       "      <th>date</th>\n",
       "      <th>category</th>\n",
       "    </tr>\n",
       "  </thead>\n",
       "  <tbody>\n",
       "    <tr>\n",
       "      <th>0</th>\n",
       "      <td>As U.S. budget fight looms, Republicans flip t...</td>\n",
       "      <td>WASHINGTON (Reuters) - The head of a conservat...</td>\n",
       "      <td>2017-12-31 00:00:00</td>\n",
       "      <td>True</td>\n",
       "    </tr>\n",
       "    <tr>\n",
       "      <th>1</th>\n",
       "      <td>U.S. military to accept transgender recruits o...</td>\n",
       "      <td>WASHINGTON (Reuters) - Transgender people will...</td>\n",
       "      <td>2017-12-29 00:00:00</td>\n",
       "      <td>True</td>\n",
       "    </tr>\n",
       "    <tr>\n",
       "      <th>2</th>\n",
       "      <td>Senior U.S. Republican senator: 'Let Mr. Muell...</td>\n",
       "      <td>WASHINGTON (Reuters) - The special counsel inv...</td>\n",
       "      <td>2017-12-31 00:00:00</td>\n",
       "      <td>True</td>\n",
       "    </tr>\n",
       "    <tr>\n",
       "      <th>3</th>\n",
       "      <td>FBI Russia probe helped by Australian diplomat...</td>\n",
       "      <td>WASHINGTON (Reuters) - Trump campaign adviser ...</td>\n",
       "      <td>2017-12-30 00:00:00</td>\n",
       "      <td>True</td>\n",
       "    </tr>\n",
       "    <tr>\n",
       "      <th>4</th>\n",
       "      <td>Trump wants Postal Service to charge 'much mor...</td>\n",
       "      <td>SEATTLE/WASHINGTON (Reuters) - President Donal...</td>\n",
       "      <td>2017-12-29 00:00:00</td>\n",
       "      <td>True</td>\n",
       "    </tr>\n",
       "  </tbody>\n",
       "</table>\n",
       "</div>"
      ],
      "text/plain": [
       "                                               title  \\\n",
       "0  As U.S. budget fight looms, Republicans flip t...   \n",
       "1  U.S. military to accept transgender recruits o...   \n",
       "2  Senior U.S. Republican senator: 'Let Mr. Muell...   \n",
       "3  FBI Russia probe helped by Australian diplomat...   \n",
       "4  Trump wants Postal Service to charge 'much mor...   \n",
       "\n",
       "                                                text                 date  \\\n",
       "0  WASHINGTON (Reuters) - The head of a conservat...  2017-12-31 00:00:00   \n",
       "1  WASHINGTON (Reuters) - Transgender people will...  2017-12-29 00:00:00   \n",
       "2  WASHINGTON (Reuters) - The special counsel inv...  2017-12-31 00:00:00   \n",
       "3  WASHINGTON (Reuters) - Trump campaign adviser ...  2017-12-30 00:00:00   \n",
       "4  SEATTLE/WASHINGTON (Reuters) - President Donal...  2017-12-29 00:00:00   \n",
       "\n",
       "  category  \n",
       "0     True  \n",
       "1     True  \n",
       "2     True  \n",
       "3     True  \n",
       "4     True  "
      ]
     },
     "metadata": {},
     "output_type": "display_data"
    },
    {
     "data": {
      "application/vnd.jupyter.widget-view+json": {
       "model_id": "5b35274a9d7141f0b138565a622279cf",
       "version_major": 2,
       "version_minor": 0
      },
      "text/plain": [
       "HBox(children=(Output(), Output()))"
      ]
     },
     "metadata": {},
     "output_type": "display_data"
    }
   ],
   "source": [
    "import ipywidgets as widgets\n",
    "from IPython import display\n",
    "widget1 = widgets.Output()\n",
    "widget2 = widgets.Output()\n",
    "\n",
    "# render in output widgets\n",
    "with widget1:\n",
    "    display.display(fake.head(5))\n",
    "with widget2:\n",
    "    display.display(true.head(5))\n",
    "\n",
    "# create HBox\n",
    "hbox = widgets.HBox([widget1, widget2])\n",
    "\n",
    "# render hbox\n",
    "hbox"
   ]
  },
  {
   "cell_type": "markdown",
   "metadata": {
    "colab_type": "text",
    "id": "kMWC9lRCrT6F"
   },
   "source": [
    "Una vez hacemos la limpieza de los datos, la eliminación de ruido y la tokenización de los datos procedemos a hacer el analisis de el numero de palabras en los titulos y textos de cada categoría.\n",
    "\n",
    "**Entendimiento de textos de las noticias**"
   ]
  },
  {
   "cell_type": "code",
   "execution_count": 26,
   "metadata": {
    "colab": {
     "base_uri": "https://localhost:8080/",
     "height": 86
    },
    "colab_type": "code",
    "executionInfo": {
     "elapsed": 1831,
     "status": "ok",
     "timestamp": 1594584948290,
     "user": {
      "displayName": "alejandro martinez",
      "photoUrl": "https://lh3.googleusercontent.com/a-/AOh14Gi9YSzzf_VDnAbvxMnJJqez5U-I_wOQ5OyJRmw_=s64",
      "userId": "05542026783145230534"
     },
     "user_tz": 300
    },
    "id": "Y7rdNz_6n4ei",
    "outputId": "ffb48e42-6072-46ea-f8b8-e58c36e3f718"
   },
   "outputs": [
    {
     "name": "stdout",
     "output_type": "stream",
     "text": [
      "The average number of words in a real news article is  385.92968458379994\n",
      "The average number of words in a fake news article is  417.9073276780766\n",
      "The standard deviation in real news article lengths is  274.29493931544073\n",
      "The standard deviation in fake news article lengths is  364.1888355085103\n"
     ]
    }
   ],
   "source": [
    "import statistics\n",
    "words_per_article_plot_t = true[\"text\"].apply(lambda x: len(x.split()))\n",
    "stdev_t = statistics.stdev(words_per_article_plot_t)\n",
    "words_per_article_t = words_per_article_plot_t.sum()/len(true[\"text\"])\n",
    "\n",
    "words_per_article_plot_f = fake[\"text\"].apply(lambda x: len(x.split()))\n",
    "stdev_f = statistics.stdev(words_per_article_plot_f)\n",
    "words_per_article_f = words_per_article_plot_f.sum()/len(fake[\"text\"])\n",
    "\n",
    "print (\"The average number of words in a real news article is \", words_per_article_t)\n",
    "print (\"The average number of words in a fake news article is \", words_per_article_f)\n",
    "\n",
    "print (\"The standard deviation in real news article lengths is \", stdev_t)\n",
    "print (\"The standard deviation in fake news article lengths is \", stdev_f)"
   ]
  },
  {
   "cell_type": "code",
   "execution_count": 27,
   "metadata": {
    "colab": {
     "base_uri": "https://localhost:8080/",
     "height": 421
    },
    "colab_type": "code",
    "executionInfo": {
     "elapsed": 1905,
     "status": "ok",
     "timestamp": 1594584952104,
     "user": {
      "displayName": "alejandro martinez",
      "photoUrl": "https://lh3.googleusercontent.com/a-/AOh14Gi9YSzzf_VDnAbvxMnJJqez5U-I_wOQ5OyJRmw_=s64",
      "userId": "05542026783145230534"
     },
     "user_tz": 300
    },
    "id": "jZPGCQFqoIum",
    "outputId": "e9442d9a-d6c9-4fe9-ec23-7a18b2765e46"
   },
   "outputs": [
    {
     "data": {
      "text/plain": [
       "Text(0.5, 1.0, 'Número de palabras en articulos de noticias falsas')"
      ]
     },
     "execution_count": 27,
     "metadata": {},
     "output_type": "execute_result"
    },
    {
     "data": {
      "image/png": "[encoded data removed]",
      "text/plain": [
       "<Figure size 1080x432 with 2 Axes>"
      ]
     },
     "metadata": {
      "needs_background": "light"
     },
     "output_type": "display_data"
    }
   ],
   "source": [
    "import seaborn as sns\n",
    "%matplotlib inline\n",
    "fig, ax = plt.subplots(1, 2, figsize=(15, 6))\n",
    "sns.distplot(words_per_article_plot_t, ax = ax[0], color = \"darkblue\", rug = True).set_title(\"Número de palabras en articulos de noticias reales\")\n",
    "sns.distplot(words_per_article_plot_f, ax = ax[1], color = \"red\", rug = True).set_title(\"Número de palabras en articulos de noticias falsas\")"
   ]
  },
  {
   "cell_type": "markdown",
   "metadata": {},
   "source": [
    "En este primer analisis quisimos observar si el número de palabras del articulo tiene alguna relación con la categoría de la noticia, efectivamente encontramos que las fake news tienden <br/>  a ser mas largas que las noticias reales"
   ]
  },
  {
   "cell_type": "markdown",
   "metadata": {
    "colab_type": "text",
    "id": "0JoyY9pAqQoI"
   },
   "source": [
    "**Entendimiento de titulos de las noticias**"
   ]
  },
  {
   "cell_type": "code",
   "execution_count": 28,
   "metadata": {
    "colab": {
     "base_uri": "https://localhost:8080/",
     "height": 86
    },
    "colab_type": "code",
    "executionInfo": {
     "elapsed": 536,
     "status": "ok",
     "timestamp": 1594584938348,
     "user": {
      "displayName": "alejandro martinez",
      "photoUrl": "https://lh3.googleusercontent.com/a-/AOh14Gi9YSzzf_VDnAbvxMnJJqez5U-I_wOQ5OyJRmw_=s64",
      "userId": "05542026783145230534"
     },
     "user_tz": 300
    },
    "id": "WMEsACKhqSYW",
    "outputId": "6e69efa0-67ff-4b1d-c04f-2a72c4e449e2"
   },
   "outputs": [
    {
     "name": "stdout",
     "output_type": "stream",
     "text": [
      "The average number of words in a real news article is  9.95506718924972\n",
      "The average number of words in a fake news article is  14.739588217741591\n",
      "The standard deviation in real news article lengths is  1.7023882044303849\n",
      "The standard deviation in fake news article lengths is  4.326850621887219\n"
     ]
    }
   ],
   "source": [
    "words_per_headline_plot_t = true[\"title\"].apply(lambda x: len(x.split()))\n",
    "stdev_t_head = statistics.stdev(words_per_headline_plot_t)\n",
    "words_per_headline_t = words_per_headline_plot_t.sum()/len(true[\"title\"])\n",
    "\n",
    "words_per_headline_plot_f = fake[\"title\"].apply(lambda x: len(x.split()))\n",
    "stdev_f_head = statistics.stdev(words_per_headline_plot_f)\n",
    "words_per_headline_f = words_per_headline_plot_f.sum()/len(fake[\"title\"])\n",
    "\n",
    "print (\"The average number of words in a real news article is \", words_per_headline_t)\n",
    "print (\"The average number of words in a fake news article is \", words_per_headline_f)\n",
    "\n",
    "print (\"The standard deviation in real news article lengths is \", stdev_t_head)\n",
    "print (\"The standard deviation in fake news article lengths is \", stdev_f_head)"
   ]
  },
  {
   "cell_type": "code",
   "execution_count": 31,
   "metadata": {
    "colab": {
     "base_uri": "https://localhost:8080/",
     "height": 421
    },
    "colab_type": "code",
    "executionInfo": {
     "elapsed": 1733,
     "status": "ok",
     "timestamp": 1594584821431,
     "user": {
      "displayName": "alejandro martinez",
      "photoUrl": "https://lh3.googleusercontent.com/a-/AOh14Gi9YSzzf_VDnAbvxMnJJqez5U-I_wOQ5OyJRmw_=s64",
      "userId": "05542026783145230534"
     },
     "user_tz": 300
    },
    "id": "so5MFLm5qV4C",
    "outputId": "1c3616e7-ff2d-4499-edbd-4082342f1c82"
   },
   "outputs": [
    {
     "data": {
      "text/plain": [
       "Text(0.5, 1.0, 'Número de palabras en títulos de noticias falsas')"
      ]
     },
     "execution_count": 31,
     "metadata": {},
     "output_type": "execute_result"
    },
    {
     "data": {
      "image/png": "[encoded data removed]",
      "text/plain": [
       "<Figure size 1080x432 with 2 Axes>"
      ]
     },
     "metadata": {
      "needs_background": "light"
     },
     "output_type": "display_data"
    }
   ],
   "source": [
    "%matplotlib inline\n",
    "fig, ax = plt.subplots(1, 2, figsize=(15, 6))\n",
    "sns.distplot(words_per_headline_plot_t, ax = ax[0], color = \"darkblue\", rug = True).set_title(\"Número de palabras en títulos de noticias reales\")\n",
    "sns.distplot(words_per_headline_plot_f, ax = ax[1], color = \"red\", rug = True).set_title(\"Número de palabras en títulos de noticias falsas\")"
   ]
  },
  {
   "cell_type": "markdown",
   "metadata": {},
   "source": [
    "En este analisis quisimos observar si el número de palabras del título tiene alguna relación con la categoría de la noticia, efectivamente encontramos que los títulos de las  <br/> fake news tienden a ser mas largos que los de las noticias reales"
   ]
  },
  {
   "cell_type": "markdown",
   "metadata": {},
   "source": [
    "#### **Normalización**\n",
    "Para la normalización de los datos se realiza una eliminación de prefijos y sufijos, además de realizar una lemmatización de los verbos."
   ]
  },
  {
   "cell_type": "code",
   "execution_count": 32,
   "metadata": {},
   "outputs": [
    {
     "name": "stdout",
     "output_type": "stream",
     "text": [
      "12192    Does your child spend time on social media? Un...\n",
      "11495    BERLIN (Reuters) - Ukrainian President Petro P...\n",
      "20246    THE COMMON THREAD IN ALL THIS IS HATE   THE HA...\n",
      "4243     BEIJING (Reuters) - The 100-day trade talks an...\n",
      "18545    Rush Limbaugh nails it in the transcript below...\n",
      "Name: text, dtype: object\n"
     ]
    },
    {
     "data": {
      "text/plain": [
       "12192    HOW BUZZFEED Is Using Social Media “News” Feed...\n",
       "11495    Ukraine's Poroshenko vows to work for quick ex...\n",
       "20246    #BlackLivesMatter Supporters Say No Connection...\n",
       "4243     you.S. business wary of skin-deep results from...\n",
       "18545    RUSH LIMBAUGH: This Group is “Roadblocking” Tr...\n",
       "Name: title, dtype: object"
      ]
     },
     "execution_count": 32,
     "metadata": {},
     "output_type": "execute_result"
    }
   ],
   "source": [
    "def stem_words(words):\n",
    "    \"\"\"Stem words in list of tokenized words\"\"\"\n",
    "    stemmer = LancasterStemmer()\n",
    "    stems = []\n",
    "    for word in words:\n",
    "        stem = stemmer.stem(word)\n",
    "        stems.append(stem)\n",
    "    return stems\n",
    "\n",
    "def lemmatize_verbs(words):\n",
    "    \"\"\"Lemmatize verbs in list of tokenized words\"\"\"\n",
    "    lemmatizer = WordNetLemmatizer()\n",
    "    lemmas = []\n",
    "    for word in words:\n",
    "        lemma = lemmatizer.lemmatize(word, pos='v')\n",
    "        lemmas.append(lemma)\n",
    "    return lemmas\n",
    "\n",
    "def stem_and_lemmatize(words):\n",
    "    stems = stem_words(words)\n",
    "    lemmas = lemmatize_verbs(words)\n",
    "    return stems + lemmas\n",
    "\n",
    "total_news_text_df['words'] = total_news_text_df['words'].apply(stem_and_lemmatize) #Aplica lematización y Eliminación de Prefijos y Sufijos.\n",
    "print(total_news_text_df.head())\n",
    "\n",
    "total_news_title_df['words'] = total_news_title_df['words'].apply(stem_and_lemmatize) #Aplica lematización y Eliminación de Prefijos y Sufijos.\n",
    "total_news_title_df.head()"
   ]
  },
  {
   "cell_type": "markdown",
   "metadata": {},
   "source": [
    "Por ultimo convertimos la columna que contiene el arreglo de palabras, de una lista a una cadena de caracteres para la posterior manipulación de los mismos al hacer la preparación de los datos para el modelo."
   ]
  },
  {
   "cell_type": "code",
   "execution_count": 33,
   "metadata": {},
   "outputs": [
    {
     "data": {
      "text/plain": [
       "12192    Does your child spend time on social media? Un...\n",
       "11495    BERLIN (Reuters) - Ukrainian President Petro P...\n",
       "20246    THE COMMON THREAD IN ALL THIS IS HATE   THE HA...\n",
       "4243     BEIJING (Reuters) - The 100-day trade talks an...\n",
       "18545    Rush Limbaugh nails it in the transcript below...\n",
       "                               ...                        \n",
       "578      WASHINGTON (Reuters) - you.S. President Donald...\n",
       "17199    The Confederate Battle Flag will be taken down...\n",
       "2439     (Reuters) - TransCanada Corp, Canada’s No.2 pi...\n",
       "2155     At a town hall in Frost, Texas last week a vot...\n",
       "words    12192    child spend tim soc med unless am pro...\n",
       "Name: text, Length: 35913, dtype: object"
      ]
     },
     "execution_count": 33,
     "metadata": {},
     "output_type": "execute_result"
    }
   ],
   "source": [
    "total_news_text_df['words'] = total_news_text_df['words'].apply(lambda x: ' '.join(map(str, x)))\n",
    "total_news_text_df"
   ]
  },
  {
   "cell_type": "code",
   "execution_count": 34,
   "metadata": {},
   "outputs": [
    {
     "data": {
      "text/plain": [
       "12192    HOW BUZZFEED Is Using Social Media “News” Feed...\n",
       "11495    Ukraine's Poroshenko vows to work for quick ex...\n",
       "20246    #BlackLivesMatter Supporters Say No Connection...\n",
       "4243     you.S. business wary of skin-deep results from...\n",
       "18545    RUSH LIMBAUGH: This Group is “Roadblocking” Tr...\n",
       "                               ...                        \n",
       "578      White House promises welfare overhaul details ...\n",
       "17199    SOUTH CAROLINA TO REMOVE CONFEDERATE FLAG AS B...\n",
       "2439     TransCanada to make final decision on Keystone...\n",
       "2155      Texas GOPer Angrily Demands Voter ‘SHUT UP’ W...\n",
       "words    12192    buzzfee us soc med new fee teach whit...\n",
       "Name: title, Length: 35913, dtype: object"
      ]
     },
     "execution_count": 34,
     "metadata": {},
     "output_type": "execute_result"
    }
   ],
   "source": [
    "total_news_title_df['words'] = total_news_title_df['words'].apply(lambda x: ' '.join(map(str, x)))\n",
    "total_news_title_df"
   ]
  },
  {
   "cell_type": "markdown",
   "metadata": {},
   "source": [
    "## 3. Modelo"
   ]
  },
  {
   "cell_type": "markdown",
   "metadata": {},
   "source": [
    "Vamos a usar Bayes binomial como algoritmo para la predicción"
   ]
  },
  {
   "cell_type": "code",
   "execution_count": 36,
   "metadata": {},
   "outputs": [],
   "source": [
    "estimators = [('transform', CountVectorizer(stop_words='english')), ('clf', BernoulliNB())]\n",
    "pipe = Pipeline(estimators)"
   ]
  },
  {
   "cell_type": "markdown",
   "metadata": {},
   "source": [
    "Para el tratamiento de nuestros datos, tomamos la decisión de trabajar con textos y títulos, de manera que, para el análisis de nuestros resultados estarán enfocados en estos dos aspectos. Por lo tanto, para el modelo entrenaremos dos veces, es decir, un entrenamiento con textos y otro con títulos."
   ]
  },
  {
   "cell_type": "markdown",
   "metadata": {},
   "source": [
    "Con ayuda del GridSearch vamos a buscar la mejor combinación de hiperparámetros para el modelo con Textos"
   ]
  },
  {
   "cell_type": "code",
   "execution_count": 39,
   "metadata": {},
   "outputs": [
    {
     "name": "stdout",
     "output_type": "stream",
     "text": [
      "Fitting 5 folds for each of 24 candidates, totalling 120 fits\n"
     ]
    },
    {
     "name": "stderr",
     "output_type": "stream",
     "text": [
      "[Parallel(n_jobs=-1)]: Using backend LokyBackend with 8 concurrent workers.\n",
      "[Parallel(n_jobs=-1)]: Done   1 tasks      | elapsed:   18.8s\n",
      "[Parallel(n_jobs=-1)]: Done   2 tasks      | elapsed:   18.9s\n",
      "[Parallel(n_jobs=-1)]: Done   3 tasks      | elapsed:   19.6s\n",
      "[Parallel(n_jobs=-1)]: Done   4 tasks      | elapsed:   19.8s\n",
      "[Parallel(n_jobs=-1)]: Done   5 tasks      | elapsed:   20.1s\n",
      "[Parallel(n_jobs=-1)]: Done   6 tasks      | elapsed:   20.1s\n",
      "[Parallel(n_jobs=-1)]: Done   7 tasks      | elapsed:   20.6s\n",
      "[Parallel(n_jobs=-1)]: Done   8 tasks      | elapsed:   21.1s\n",
      "[Parallel(n_jobs=-1)]: Done   9 tasks      | elapsed:   36.6s\n",
      "[Parallel(n_jobs=-1)]: Done  10 tasks      | elapsed:   36.9s\n",
      "[Parallel(n_jobs=-1)]: Done  11 tasks      | elapsed:   37.3s\n",
      "[Parallel(n_jobs=-1)]: Done  12 tasks      | elapsed:   38.3s\n",
      "[Parallel(n_jobs=-1)]: Done  13 tasks      | elapsed:   38.5s\n",
      "[Parallel(n_jobs=-1)]: Done  14 tasks      | elapsed:   39.0s\n",
      "[Parallel(n_jobs=-1)]: Done  15 tasks      | elapsed:   39.5s\n",
      "[Parallel(n_jobs=-1)]: Done  16 tasks      | elapsed:   39.8s\n",
      "[Parallel(n_jobs=-1)]: Done  17 tasks      | elapsed:   54.3s\n",
      "[Parallel(n_jobs=-1)]: Done  18 tasks      | elapsed:   55.2s\n",
      "[Parallel(n_jobs=-1)]: Done  19 tasks      | elapsed:   55.7s\n",
      "[Parallel(n_jobs=-1)]: Done  20 tasks      | elapsed:   56.1s\n",
      "[Parallel(n_jobs=-1)]: Done  21 tasks      | elapsed:   56.1s\n",
      "[Parallel(n_jobs=-1)]: Done  22 tasks      | elapsed:   57.8s\n",
      "[Parallel(n_jobs=-1)]: Done  23 tasks      | elapsed:   57.9s\n",
      "[Parallel(n_jobs=-1)]: Done  24 tasks      | elapsed:   58.2s\n",
      "[Parallel(n_jobs=-1)]: Done  25 tasks      | elapsed:  1.2min\n",
      "[Parallel(n_jobs=-1)]: Done  26 tasks      | elapsed:  1.2min\n",
      "[Parallel(n_jobs=-1)]: Done  27 tasks      | elapsed:  1.2min\n",
      "[Parallel(n_jobs=-1)]: Done  28 tasks      | elapsed:  1.2min\n",
      "[Parallel(n_jobs=-1)]: Done  29 tasks      | elapsed:  1.2min\n",
      "[Parallel(n_jobs=-1)]: Done  30 tasks      | elapsed:  1.3min\n",
      "[Parallel(n_jobs=-1)]: Done  31 tasks      | elapsed:  1.3min\n",
      "[Parallel(n_jobs=-1)]: Done  32 tasks      | elapsed:  1.3min\n",
      "[Parallel(n_jobs=-1)]: Done  33 tasks      | elapsed:  1.6min\n",
      "[Parallel(n_jobs=-1)]: Done  34 tasks      | elapsed:  1.6min\n",
      "[Parallel(n_jobs=-1)]: Done  35 tasks      | elapsed:  1.6min\n",
      "[Parallel(n_jobs=-1)]: Done  36 tasks      | elapsed:  1.6min\n",
      "[Parallel(n_jobs=-1)]: Done  37 tasks      | elapsed:  1.6min\n",
      "[Parallel(n_jobs=-1)]: Done  38 tasks      | elapsed:  1.6min\n",
      "[Parallel(n_jobs=-1)]: Done  39 tasks      | elapsed:  1.6min\n",
      "[Parallel(n_jobs=-1)]: Done  40 tasks      | elapsed:  1.7min\n",
      "[Parallel(n_jobs=-1)]: Done  41 tasks      | elapsed:  1.9min\n",
      "[Parallel(n_jobs=-1)]: Done  42 tasks      | elapsed:  1.9min\n",
      "[Parallel(n_jobs=-1)]: Done  43 tasks      | elapsed:  1.9min\n",
      "[Parallel(n_jobs=-1)]: Done  44 tasks      | elapsed:  1.9min\n",
      "[Parallel(n_jobs=-1)]: Done  45 tasks      | elapsed:  1.9min\n",
      "[Parallel(n_jobs=-1)]: Done  46 tasks      | elapsed:  1.9min\n",
      "[Parallel(n_jobs=-1)]: Done  47 tasks      | elapsed:  2.0min\n",
      "[Parallel(n_jobs=-1)]: Done  48 tasks      | elapsed:  2.0min\n",
      "[Parallel(n_jobs=-1)]: Done  49 tasks      | elapsed:  2.2min\n",
      "[Parallel(n_jobs=-1)]: Done  50 tasks      | elapsed:  2.2min\n",
      "[Parallel(n_jobs=-1)]: Done  51 tasks      | elapsed:  2.2min\n",
      "[Parallel(n_jobs=-1)]: Done  52 tasks      | elapsed:  2.2min\n",
      "[Parallel(n_jobs=-1)]: Done  53 tasks      | elapsed:  2.2min\n",
      "[Parallel(n_jobs=-1)]: Done  54 tasks      | elapsed:  2.2min\n",
      "[Parallel(n_jobs=-1)]: Done  55 tasks      | elapsed:  2.2min\n",
      "[Parallel(n_jobs=-1)]: Done  56 tasks      | elapsed:  2.3min\n",
      "[Parallel(n_jobs=-1)]: Done  57 tasks      | elapsed:  2.5min\n",
      "[Parallel(n_jobs=-1)]: Done  58 tasks      | elapsed:  2.5min\n",
      "[Parallel(n_jobs=-1)]: Done  59 tasks      | elapsed:  2.5min\n",
      "[Parallel(n_jobs=-1)]: Done  60 tasks      | elapsed:  2.5min\n",
      "[Parallel(n_jobs=-1)]: Done  61 tasks      | elapsed:  2.7min\n",
      "[Parallel(n_jobs=-1)]: Done  62 tasks      | elapsed:  2.7min\n",
      "[Parallel(n_jobs=-1)]: Done  63 tasks      | elapsed:  2.7min\n",
      "[Parallel(n_jobs=-1)]: Done  64 tasks      | elapsed:  2.7min\n",
      "[Parallel(n_jobs=-1)]: Done  65 tasks      | elapsed:  3.0min\n",
      "[Parallel(n_jobs=-1)]: Done  66 tasks      | elapsed:  3.0min\n",
      "[Parallel(n_jobs=-1)]: Done  67 tasks      | elapsed:  3.0min\n",
      "[Parallel(n_jobs=-1)]: Done  68 tasks      | elapsed:  3.0min\n",
      "[Parallel(n_jobs=-1)]: Done  69 tasks      | elapsed:  3.2min\n",
      "[Parallel(n_jobs=-1)]: Done  70 tasks      | elapsed:  3.2min\n",
      "[Parallel(n_jobs=-1)]: Done  71 tasks      | elapsed:  3.3min\n",
      "[Parallel(n_jobs=-1)]: Done  72 tasks      | elapsed:  3.4min\n",
      "[Parallel(n_jobs=-1)]: Done  73 tasks      | elapsed:  3.5min\n",
      "[Parallel(n_jobs=-1)]: Done  74 tasks      | elapsed:  3.6min\n",
      "[Parallel(n_jobs=-1)]: Done  75 tasks      | elapsed:  3.6min\n",
      "[Parallel(n_jobs=-1)]: Done  76 tasks      | elapsed:  3.7min\n",
      "[Parallel(n_jobs=-1)]: Done  77 tasks      | elapsed:  3.8min\n",
      "[Parallel(n_jobs=-1)]: Done  78 tasks      | elapsed:  3.9min\n",
      "[Parallel(n_jobs=-1)]: Done  79 tasks      | elapsed:  4.0min\n",
      "[Parallel(n_jobs=-1)]: Done  80 tasks      | elapsed:  4.0min\n",
      "[Parallel(n_jobs=-1)]: Done  81 tasks      | elapsed:  4.7min\n",
      "[Parallel(n_jobs=-1)]: Done  82 tasks      | elapsed:  4.7min\n",
      "[Parallel(n_jobs=-1)]: Done  83 tasks      | elapsed:  4.7min\n",
      "[Parallel(n_jobs=-1)]: Done  84 tasks      | elapsed:  4.8min\n",
      "[Parallel(n_jobs=-1)]: Done  85 tasks      | elapsed:  4.9min\n",
      "[Parallel(n_jobs=-1)]: Done  86 tasks      | elapsed:  5.1min\n",
      "[Parallel(n_jobs=-1)]: Done  87 tasks      | elapsed:  5.2min\n",
      "[Parallel(n_jobs=-1)]: Done  88 tasks      | elapsed:  5.2min\n",
      "[Parallel(n_jobs=-1)]: Done  89 tasks      | elapsed:  5.2min\n",
      "[Parallel(n_jobs=-1)]: Done  90 tasks      | elapsed:  5.3min\n",
      "[Parallel(n_jobs=-1)]: Done  91 tasks      | elapsed:  5.4min\n",
      "[Parallel(n_jobs=-1)]: Done  92 tasks      | elapsed:  5.6min\n",
      "[Parallel(n_jobs=-1)]: Done  93 tasks      | elapsed:  5.6min\n",
      "[Parallel(n_jobs=-1)]: Done  94 tasks      | elapsed:  5.7min\n",
      "[Parallel(n_jobs=-1)]: Done  95 tasks      | elapsed:  5.7min\n",
      "[Parallel(n_jobs=-1)]: Done  96 tasks      | elapsed:  5.7min\n",
      "[Parallel(n_jobs=-1)]: Done  97 tasks      | elapsed:  5.8min\n",
      "[Parallel(n_jobs=-1)]: Done  98 tasks      | elapsed:  5.8min\n",
      "[Parallel(n_jobs=-1)]: Done  99 tasks      | elapsed:  5.9min\n",
      "[Parallel(n_jobs=-1)]: Done 100 tasks      | elapsed:  6.0min\n",
      "[Parallel(n_jobs=-1)]: Done 101 tasks      | elapsed:  6.3min\n",
      "[Parallel(n_jobs=-1)]: Done 102 tasks      | elapsed:  6.4min\n",
      "[Parallel(n_jobs=-1)]: Done 103 tasks      | elapsed:  6.4min\n",
      "[Parallel(n_jobs=-1)]: Done 104 tasks      | elapsed:  6.4min\n",
      "[Parallel(n_jobs=-1)]: Done 105 tasks      | elapsed:  6.4min\n",
      "[Parallel(n_jobs=-1)]: Done 112 out of 120 | elapsed:  7.7min remaining:   33.1s\n",
      "[Parallel(n_jobs=-1)]: Done 120 out of 120 | elapsed:  8.2min finished\n"
     ]
    },
    {
     "data": {
      "text/plain": [
       "GridSearchCV(error_score=0.0,\n",
       "             estimator=Pipeline(steps=[('transform',\n",
       "                                        CountVectorizer(stop_words='english')),\n",
       "                                       ('clf', BernoulliNB())]),\n",
       "             n_jobs=-1,\n",
       "             param_grid=[{'clf': (BernoulliNB(),),\n",
       "                          'clf__alpha': (1, 0.1, 0.01, 0.001, 0.0001, 1e-05),\n",
       "                          'transform': (TfidfVectorizer(stop_words='english'),\n",
       "                                        CountVectorizer(stop_words='english'))},\n",
       "                         {'clf': (RandomForestClassifier(),\n",
       "                                  AdaBoostClassifier()),\n",
       "                          'clf__n_estimators': (10, 20, 50),\n",
       "                          'transform': (TfidfVectorizer(stop_words='english'),\n",
       "                                        CountVectorizer(stop_words='english'))}],\n",
       "             verbose=20)"
      ]
     },
     "execution_count": 39,
     "metadata": {},
     "output_type": "execute_result"
    }
   ],
   "source": [
    "from sklearn.ensemble import BaggingClassifier, RandomForestClassifier, AdaBoostClassifier\n",
    "\n",
    "parameters = [\n",
    "        {'transform': (TfidfVectorizer(stop_words='english'), CountVectorizer(stop_words='english')),\n",
    "         'clf': (BernoulliNB(),),\n",
    "         'clf__alpha': (1, 0.1, 0.01, 0.001, 0.0001, 0.00001)\n",
    "        },\n",
    "        {'transform': (TfidfVectorizer(stop_words='english'), CountVectorizer(stop_words='english')),\n",
    "         'clf': (RandomForestClassifier(),AdaBoostClassifier()),\n",
    "         'clf__n_estimators': (10,20,50)\n",
    "        },\n",
    "]\n",
    "grid_search_text = GridSearchCV(pipe, param_grid=parameters,verbose = 20,n_jobs=-1,error_score=0.0)\n",
    "grid_search_text.fit(X_train_text,y_train_text)"
   ]
  },
  {
   "cell_type": "markdown",
   "metadata": {},
   "source": [
    "Imprimimos cual es la mejor combinación que arrojó el algoritmo"
   ]
  },
  {
   "cell_type": "code",
   "execution_count": 41,
   "metadata": {},
   "outputs": [
    {
     "data": {
      "text/plain": [
       "Pipeline(steps=[('transform', TfidfVectorizer(stop_words='english')),\n",
       "                ('clf', AdaBoostClassifier())])"
      ]
     },
     "execution_count": 41,
     "metadata": {},
     "output_type": "execute_result"
    }
   ],
   "source": [
    "grid_search_text.best_estimator_"
   ]
  },
  {
   "cell_type": "markdown",
   "metadata": {},
   "source": [
    "Con ayuda del GridSearch vamos a buscar la mejor combinación de hiperparámetros para el modelo con Títulos"
   ]
  },
  {
   "cell_type": "code",
   "execution_count": 42,
   "metadata": {},
   "outputs": [
    {
     "name": "stdout",
     "output_type": "stream",
     "text": [
      "Fitting 5 folds for each of 24 candidates, totalling 120 fits\n"
     ]
    },
    {
     "name": "stderr",
     "output_type": "stream",
     "text": [
      "[Parallel(n_jobs=-1)]: Using backend LokyBackend with 8 concurrent workers.\n",
      "[Parallel(n_jobs=-1)]: Done   1 tasks      | elapsed:    1.0s\n",
      "[Parallel(n_jobs=-1)]: Done   2 tasks      | elapsed:    1.2s\n",
      "[Parallel(n_jobs=-1)]: Done   3 tasks      | elapsed:    1.2s\n",
      "[Parallel(n_jobs=-1)]: Done   4 tasks      | elapsed:    1.3s\n",
      "[Parallel(n_jobs=-1)]: Done   5 tasks      | elapsed:    1.3s\n",
      "[Parallel(n_jobs=-1)]: Done   6 tasks      | elapsed:    1.4s\n",
      "[Parallel(n_jobs=-1)]: Done   7 tasks      | elapsed:    1.4s\n",
      "[Parallel(n_jobs=-1)]: Done   8 tasks      | elapsed:    1.5s\n",
      "[Parallel(n_jobs=-1)]: Done   9 tasks      | elapsed:    2.3s\n",
      "[Parallel(n_jobs=-1)]: Done  10 tasks      | elapsed:    2.3s\n",
      "[Parallel(n_jobs=-1)]: Done  11 tasks      | elapsed:    2.3s\n",
      "[Parallel(n_jobs=-1)]: Done  12 tasks      | elapsed:    2.3s\n",
      "[Parallel(n_jobs=-1)]: Done  13 tasks      | elapsed:    2.5s\n",
      "[Parallel(n_jobs=-1)]: Done  14 tasks      | elapsed:    2.6s\n",
      "[Parallel(n_jobs=-1)]: Done  15 tasks      | elapsed:    2.7s\n",
      "[Parallel(n_jobs=-1)]: Done  16 tasks      | elapsed:    2.9s\n",
      "[Parallel(n_jobs=-1)]: Done  17 tasks      | elapsed:    3.4s\n",
      "[Parallel(n_jobs=-1)]: Done  18 tasks      | elapsed:    3.4s\n",
      "[Parallel(n_jobs=-1)]: Done  19 tasks      | elapsed:    3.4s\n",
      "[Parallel(n_jobs=-1)]: Done  20 tasks      | elapsed:    3.5s\n",
      "[Parallel(n_jobs=-1)]: Done  21 tasks      | elapsed:    3.7s\n",
      "[Parallel(n_jobs=-1)]: Done  22 tasks      | elapsed:    3.7s\n",
      "[Parallel(n_jobs=-1)]: Done  23 tasks      | elapsed:    3.8s\n",
      "[Parallel(n_jobs=-1)]: Done  24 tasks      | elapsed:    4.2s\n",
      "[Parallel(n_jobs=-1)]: Done  25 tasks      | elapsed:    4.5s\n",
      "[Parallel(n_jobs=-1)]: Done  26 tasks      | elapsed:    4.5s\n",
      "[Parallel(n_jobs=-1)]: Done  27 tasks      | elapsed:    4.6s\n",
      "[Parallel(n_jobs=-1)]: Done  28 tasks      | elapsed:    4.8s\n",
      "[Parallel(n_jobs=-1)]: Done  29 tasks      | elapsed:    4.9s\n",
      "[Parallel(n_jobs=-1)]: Done  30 tasks      | elapsed:    4.9s\n",
      "[Parallel(n_jobs=-1)]: Done  31 tasks      | elapsed:    5.1s\n",
      "[Parallel(n_jobs=-1)]: Done  32 tasks      | elapsed:    5.5s\n",
      "[Parallel(n_jobs=-1)]: Done  33 tasks      | elapsed:    5.7s\n",
      "[Parallel(n_jobs=-1)]: Done  34 tasks      | elapsed:    5.7s\n",
      "[Parallel(n_jobs=-1)]: Done  35 tasks      | elapsed:    5.9s\n",
      "[Parallel(n_jobs=-1)]: Done  36 tasks      | elapsed:    5.9s\n",
      "[Parallel(n_jobs=-1)]: Done  37 tasks      | elapsed:    6.0s\n",
      "[Parallel(n_jobs=-1)]: Done  38 tasks      | elapsed:    6.1s\n",
      "[Parallel(n_jobs=-1)]: Done  39 tasks      | elapsed:    6.4s\n",
      "[Parallel(n_jobs=-1)]: Done  40 tasks      | elapsed:    6.7s\n",
      "[Parallel(n_jobs=-1)]: Done  41 tasks      | elapsed:    6.8s\n",
      "[Parallel(n_jobs=-1)]: Done  42 tasks      | elapsed:    6.9s\n",
      "[Parallel(n_jobs=-1)]: Done  43 tasks      | elapsed:    7.0s\n",
      "[Parallel(n_jobs=-1)]: Done  44 tasks      | elapsed:    7.2s\n",
      "[Parallel(n_jobs=-1)]: Done  45 tasks      | elapsed:    7.2s\n",
      "[Parallel(n_jobs=-1)]: Done  46 tasks      | elapsed:    7.3s\n",
      "[Parallel(n_jobs=-1)]: Done  47 tasks      | elapsed:    7.5s\n",
      "[Parallel(n_jobs=-1)]: Done  48 tasks      | elapsed:    7.9s\n",
      "[Parallel(n_jobs=-1)]: Done  49 tasks      | elapsed:    7.9s\n",
      "[Parallel(n_jobs=-1)]: Done  50 tasks      | elapsed:    8.0s\n",
      "[Parallel(n_jobs=-1)]: Done  51 tasks      | elapsed:    8.3s\n",
      "[Parallel(n_jobs=-1)]: Done  52 tasks      | elapsed:    8.3s\n",
      "[Parallel(n_jobs=-1)]: Done  53 tasks      | elapsed:    8.4s\n",
      "[Parallel(n_jobs=-1)]: Done  54 tasks      | elapsed:    8.6s\n",
      "[Parallel(n_jobs=-1)]: Done  55 tasks      | elapsed:    8.6s\n",
      "[Parallel(n_jobs=-1)]: Done  56 tasks      | elapsed:    9.0s\n",
      "[Parallel(n_jobs=-1)]: Done  57 tasks      | elapsed:    9.1s\n",
      "[Parallel(n_jobs=-1)]: Done  58 tasks      | elapsed:    9.4s\n",
      "[Parallel(n_jobs=-1)]: Done  59 tasks      | elapsed:    9.5s\n",
      "[Parallel(n_jobs=-1)]: Done  60 tasks      | elapsed:    9.5s\n",
      "[Parallel(n_jobs=-1)]: Done  61 tasks      | elapsed:   13.9s\n",
      "[Parallel(n_jobs=-1)]: Done  62 tasks      | elapsed:   14.5s\n",
      "[Parallel(n_jobs=-1)]: Done  63 tasks      | elapsed:   14.6s\n",
      "[Parallel(n_jobs=-1)]: Done  64 tasks      | elapsed:   14.7s\n",
      "[Parallel(n_jobs=-1)]: Done  65 tasks      | elapsed:   14.9s\n",
      "[Parallel(n_jobs=-1)]: Done  66 tasks      | elapsed:   15.8s\n",
      "[Parallel(n_jobs=-1)]: Done  67 tasks      | elapsed:   16.1s\n",
      "[Parallel(n_jobs=-1)]: Done  68 tasks      | elapsed:   16.6s\n",
      "[Parallel(n_jobs=-1)]: Done  69 tasks      | elapsed:   20.5s\n",
      "[Parallel(n_jobs=-1)]: Done  70 tasks      | elapsed:   20.7s\n",
      "[Parallel(n_jobs=-1)]: Done  71 tasks      | elapsed:   24.9s\n",
      "[Parallel(n_jobs=-1)]: Done  72 tasks      | elapsed:   25.4s\n",
      "[Parallel(n_jobs=-1)]: Done  73 tasks      | elapsed:   26.1s\n",
      "[Parallel(n_jobs=-1)]: Done  74 tasks      | elapsed:   26.5s\n",
      "[Parallel(n_jobs=-1)]: Done  75 tasks      | elapsed:   26.8s\n",
      "[Parallel(n_jobs=-1)]: Done  76 tasks      | elapsed:   28.2s\n",
      "[Parallel(n_jobs=-1)]: Done  77 tasks      | elapsed:   32.4s\n",
      "[Parallel(n_jobs=-1)]: Done  78 tasks      | elapsed:   33.5s\n",
      "[Parallel(n_jobs=-1)]: Done  79 tasks      | elapsed:   37.3s\n",
      "[Parallel(n_jobs=-1)]: Done  80 tasks      | elapsed:   38.0s\n",
      "[Parallel(n_jobs=-1)]: Done  81 tasks      | elapsed:   49.9s\n",
      "[Parallel(n_jobs=-1)]: Done  82 tasks      | elapsed:   50.9s\n",
      "[Parallel(n_jobs=-1)]: Done  83 tasks      | elapsed:   53.1s\n",
      "[Parallel(n_jobs=-1)]: Done  84 tasks      | elapsed:   53.8s\n",
      "[Parallel(n_jobs=-1)]: Done  85 tasks      | elapsed:   55.2s\n",
      "[Parallel(n_jobs=-1)]: Done  86 tasks      | elapsed:   55.9s\n",
      "[Parallel(n_jobs=-1)]: Done  87 tasks      | elapsed:   56.3s\n",
      "[Parallel(n_jobs=-1)]: Done  88 tasks      | elapsed:   57.3s\n",
      "[Parallel(n_jobs=-1)]: Done  89 tasks      | elapsed:   58.2s\n",
      "[Parallel(n_jobs=-1)]: Done  90 tasks      | elapsed:   58.6s\n",
      "[Parallel(n_jobs=-1)]: Done  91 tasks      | elapsed:   59.1s\n",
      "[Parallel(n_jobs=-1)]: Done  92 tasks      | elapsed:   59.9s\n",
      "[Parallel(n_jobs=-1)]: Done  93 tasks      | elapsed:  1.0min\n",
      "[Parallel(n_jobs=-1)]: Done  94 tasks      | elapsed:  1.0min\n",
      "[Parallel(n_jobs=-1)]: Done  95 tasks      | elapsed:  1.0min\n",
      "[Parallel(n_jobs=-1)]: Done  96 tasks      | elapsed:  1.0min\n",
      "[Parallel(n_jobs=-1)]: Done  97 tasks      | elapsed:  1.1min\n",
      "[Parallel(n_jobs=-1)]: Done  98 tasks      | elapsed:  1.1min\n",
      "[Parallel(n_jobs=-1)]: Done  99 tasks      | elapsed:  1.1min\n",
      "[Parallel(n_jobs=-1)]: Done 100 tasks      | elapsed:  1.1min\n",
      "[Parallel(n_jobs=-1)]: Done 101 tasks      | elapsed:  1.1min\n",
      "[Parallel(n_jobs=-1)]: Done 102 tasks      | elapsed:  1.1min\n",
      "[Parallel(n_jobs=-1)]: Done 103 tasks      | elapsed:  1.1min\n",
      "[Parallel(n_jobs=-1)]: Done 104 tasks      | elapsed:  1.1min\n",
      "[Parallel(n_jobs=-1)]: Done 105 tasks      | elapsed:  1.1min\n",
      "[Parallel(n_jobs=-1)]: Done 112 out of 120 | elapsed:  1.2min remaining:    5.3s\n",
      "[Parallel(n_jobs=-1)]: Done 120 out of 120 | elapsed:  1.3min finished\n"
     ]
    },
    {
     "data": {
      "text/plain": [
       "GridSearchCV(error_score=0.0,\n",
       "             estimator=Pipeline(steps=[('transform',\n",
       "                                        CountVectorizer(stop_words='english')),\n",
       "                                       ('clf', BernoulliNB())]),\n",
       "             n_jobs=-1,\n",
       "             param_grid=[{'clf': (BernoulliNB(alpha=1),),\n",
       "                          'clf__alpha': (1, 0.1, 0.01, 0.001, 0.0001, 1e-05),\n",
       "                          'transform': (TfidfVectorizer(stop_words='english'),\n",
       "                                        CountVectorizer(stop_words='english'))},\n",
       "                         {'clf': (RandomForestClassifier(),\n",
       "                                  AdaBoostClassifier()),\n",
       "                          'clf__n_estimators': (10, 20, 50),\n",
       "                          'transform': (TfidfVectorizer(stop_words='english'),\n",
       "                                        CountVectorizer(stop_words='english'))}],\n",
       "             verbose=20)"
      ]
     },
     "execution_count": 42,
     "metadata": {},
     "output_type": "execute_result"
    }
   ],
   "source": [
    "grid_search_title = GridSearchCV(pipe, param_grid=parameters,verbose = 20,n_jobs=-1,error_score=0.0)\n",
    "grid_search_title.fit(X_train_title,y_train_title)"
   ]
  },
  {
   "cell_type": "code",
   "execution_count": 43,
   "metadata": {},
   "outputs": [
    {
     "data": {
      "text/plain": [
       "Pipeline(steps=[('transform', TfidfVectorizer(stop_words='english')),\n",
       "                ('clf', BernoulliNB(alpha=1))])"
      ]
     },
     "execution_count": 43,
     "metadata": {},
     "output_type": "execute_result"
    }
   ],
   "source": [
    "grid_search_title.best_estimator_"
   ]
  },
  {
   "cell_type": "markdown",
   "metadata": {},
   "source": [
    "## 4. Predicción"
   ]
  },
  {
   "cell_type": "markdown",
   "metadata": {},
   "source": [
    "Realizamos la predicción con el mejor modelo encontrado con el GridSearch para textos y títulos"
   ]
  },
  {
   "cell_type": "code",
   "execution_count": 53,
   "metadata": {},
   "outputs": [
    {
     "data": {
      "text/plain": [
       "array(['True', 'Fake', 'Fake', ..., 'Fake', 'True', 'Fake'], dtype=object)"
      ]
     },
     "execution_count": 53,
     "metadata": {},
     "output_type": "execute_result"
    }
   ],
   "source": [
    "gs_text = grid_search_text.best_estimator_\n",
    "y_pred_gs_text = gs_text.predict(X_test_text)\n",
    "y_pred_gs_text"
   ]
  },
  {
   "cell_type": "code",
   "execution_count": 45,
   "metadata": {},
   "outputs": [
    {
     "data": {
      "text/plain": [
       "array(['True', 'True', 'Fake', ..., 'Fake', 'True', 'Fake'], dtype='<U4')"
      ]
     },
     "execution_count": 45,
     "metadata": {},
     "output_type": "execute_result"
    }
   ],
   "source": [
    "gs_title = grid_search_title.best_estimator_\n",
    "y_pred_gs_title = gs_title.predict(X_test_title)\n",
    "y_pred_gs_title"
   ]
  },
  {
   "cell_type": "markdown",
   "metadata": {},
   "source": [
    "## 5. Validación"
   ]
  },
  {
   "cell_type": "markdown",
   "metadata": {},
   "source": [
    "Mostramos la matriz de clasificación con el mejor resultado de GridSearchCV, tanto para textos como para títulos"
   ]
  },
  {
   "cell_type": "code",
   "execution_count": 60,
   "metadata": {},
   "outputs": [
    {
     "name": "stdout",
     "output_type": "stream",
     "text": [
      "Test Report for text using Adaboost: \n",
      "               precision    recall  f1-score   support\n",
      "\n",
      "        Fake       1.00      0.99      0.99      4665\n",
      "        True       0.99      1.00      0.99      4314\n",
      "\n",
      "    accuracy                           0.99      8979\n",
      "   macro avg       0.99      0.99      0.99      8979\n",
      "weighted avg       0.99      0.99      0.99      8979\n",
      "\n"
     ]
    }
   ],
   "source": [
    "from sklearn.metrics import classification_report, confusion_matrix, plot_precision_recall_curve\n",
    "\n",
    "report_NB_GS_text = classification_report(y_test_text, y_pred_gs_text)\n",
    "\n",
    "print(\"Test Report for text using Adaboost: \\n\", report_NB_GS_text)\n",
    "#print(\"Confusion Matrix for Näive Bayes\\n\", confusion_matrix(y_test_text, y_pred_gs_text))"
   ]
  },
  {
   "cell_type": "code",
   "execution_count": 62,
   "metadata": {},
   "outputs": [
    {
     "name": "stdout",
     "output_type": "stream",
     "text": [
      "Confussion Matrix for titles using Adaboost : \n",
      "\n"
     ]
    },
    {
     "data": {
      "image/png": "[encoded data removed]",
      "text/plain": [
       "<Figure size 432x288 with 1 Axes>"
      ]
     },
     "metadata": {},
     "output_type": "display_data"
    }
   ],
   "source": [
    "import seaborn as sns; sns.set()\n",
    "mat_test = confusion_matrix(y_test_text, y_pred_gs_text)\n",
    "print(\"Confussion Matrix for titles using Adaboost : \\n\")\n",
    "sns.heatmap(mat_test.T, square=False, annot=True, cmap='Blues',fmt='d', cbar=False,\n",
    "            xticklabels=total_news_df['category'].unique(),\n",
    "            yticklabels=total_news_df['category'].unique())\n",
    "plt.xlabel('true label')\n",
    "plt.ylabel('predicted label');"
   ]
  },
  {
   "cell_type": "code",
   "execution_count": 56,
   "metadata": {},
   "outputs": [
    {
     "name": "stdout",
     "output_type": "stream",
     "text": [
      "Test Report for Titles using Näive Bayes\n",
      "               precision    recall  f1-score   support\n",
      "\n",
      "        Fake       0.95      0.95      0.95      4665\n",
      "        True       0.94      0.95      0.95      4314\n",
      "\n",
      "    accuracy                           0.95      8979\n",
      "   macro avg       0.95      0.95      0.95      8979\n",
      "weighted avg       0.95      0.95      0.95      8979\n",
      "\n"
     ]
    }
   ],
   "source": [
    "report_NB_GS_title = classification_report(y_test_title, y_pred_gs_title)\n",
    "\n",
    "print(\"Test Report for Titles using Näive Bayes\\n\", report_NB_GS_title)"
   ]
  },
  {
   "cell_type": "code",
   "execution_count": 57,
   "metadata": {},
   "outputs": [
    {
     "name": "stdout",
     "output_type": "stream",
     "text": [
      "Confussion Matrix for titles using Näive Bayes : \n",
      "\n"
     ]
    },
    {
     "data": {
      "image/png": "[encoded data removed]",
      "text/plain": [
       "<Figure size 432x288 with 1 Axes>"
      ]
     },
     "metadata": {},
     "output_type": "display_data"
    }
   ],
   "source": [
    "import seaborn as sns; sns.set()\n",
    "mat_test = confusion_matrix(y_test_title, y_pred_gs_title)\n",
    "print(\"Confussion Matrix for titles using Näive Bayes : \\n\")\n",
    "sns.heatmap(mat_test.T, square=False, annot=True, cmap='Blues',fmt='d', cbar=False,\n",
    "            xticklabels=total_news_df['category'].unique(),\n",
    "            yticklabels=total_news_df['category'].unique())\n",
    "plt.xlabel('true label')\n",
    "plt.ylabel('predicted label');"
   ]
  },
  {
   "cell_type": "markdown",
   "metadata": {},
   "source": [
    "## 6. Conclusiones\n",
    "* Usamos el algoritmo de clasificación de Bernoulli  Naive Bayes como base de nuestro modelo ya que por experiencia sabemos que es rápido y fácil de usar.\n",
    "\n",
    "* Solo usando el algoritmo de Bernoulli Naive Bayes nos dimos cuenta que su desempeño (Accuracy) fue bastante bueno.\n",
    "\n",
    "* Teniendo en cuenta que se requiere una solución de clasificación binaria, utilizamos el algoritmo Bernoulli Naive Bayes que permite hacer la predicción de la variable de salida sin tener que hacer una transformación numérica. \n",
    "\n",
    "* Pudimos observar que el proceso de lemmatización y stemming reduce considerablemente el numero de palabras para hacer el entrenamiento del algoritmo y así mismo  mejora las métricas de rendimiento del mismo.\n",
    "\n",
    "* En este caso el conjunto de datos se encuentra balanceado, por lo tanto las métricas de error son bastante buenas para todas las clases a clasificar, lo que permite concluir que el modelo generaliza bastante bien.\n",
    "\n",
    "* Para poder verificar que el algoritmo de Bernoulli Naive Bayes era el más adecuado para el contexto del problema, hicimos un gridsearch que comprendía la utilización de otros algoritmos de clasificación diferentes tales como Adaboost y RandomForest, donde obtuvimos que para la clasificación de las noticias de acuerdo con los textos, hubo mejor desempeño con el Adaboost y para los titulos hubo mejor desempeño con el Bernoulli Naive Bayes.\n",
    "\n",
    "* En el objetivo inicial se planteo un modelo que entregara un accuracy del 95%. Sin embargo, para este obtuvimos un 99%, lo cual supero las expectativas del negocio.\n",
    "\n",
    "* Adicionalmente, se planteo que el modelo pudiese clasificar noticias de diferentes contextos, lo cual se logro y ademas se agregaron fuentes nuevas.\n",
    "\n",
    "* Podemos notar que los resultados de accuracy para el modelo con textos (99%) es un poco mejor que para el modelo con titulos (95%), por lo tanto, podemos decir que nuestro modelo con textos es el adecuado para la clasificación de noticias."
   ]
  },
  {
   "cell_type": "code",
   "execution_count": null,
   "metadata": {},
   "outputs": [],
   "source": []
  }
 ],
 "metadata": {
  "accelerator": "GPU",
  "colab": {
   "collapsed_sections": [],
   "name": "Proyecto MLT - Grupo 5.ipynb",
   "provenance": [
    {
     "file_id": "https://github.com/alejitro/proyecto_MLT_Grupo05/blob/master/Proyecto_MLT_Grupo_5.ipynb",
     "timestamp": 1594572712112
    }
   ],
   "toc_visible": true
  },
  "kernelspec": {
   "display_name": "Python 3",
   "language": "python",
   "name": "python3"
  },
  "language_info": {
   "codemirror_mode": {
    "name": "ipython",
    "version": 3
   },
   "file_extension": ".py",
   "mimetype": "text/x-python",
   "name": "python",
   "nbconvert_exporter": "python",
   "pygments_lexer": "ipython3",
   "version": "3.7.6"
  },
  "widgets": {
   "application/vnd.jupyter.widget-state+json": {
    "1c7fda8bc55d4b8ea747323992b38327": {
     "model_module": "@jupyter-widgets/base",
     "model_name": "LayoutModel",
     "state": {
      "_model_module": "@jupyter-widgets/base",
      "_model_module_version": "1.2.0",
      "_model_name": "LayoutModel",
      "_view_count": null,
      "_view_module": "@jupyter-widgets/base",
      "_view_module_version": "1.2.0",
      "_view_name": "LayoutView",
      "align_content": null,
      "align_items": null,
      "align_self": null,
      "border": null,
      "bottom": null,
      "display": null,
      "flex": null,
      "flex_flow": null,
      "grid_area": null,
      "grid_auto_columns": null,
      "grid_auto_flow": null,
      "grid_auto_rows": null,
      "grid_column": null,
      "grid_gap": null,
      "grid_row": null,
      "grid_template_areas": null,
      "grid_template_columns": null,
      "grid_template_rows": null,
      "height": null,
      "justify_content": null,
      "justify_items": null,
      "left": null,
      "margin": null,
      "max_height": null,
      "max_width": null,
      "min_height": null,
      "min_width": null,
      "object_fit": null,
      "object_position": null,
      "order": null,
      "overflow": null,
      "overflow_x": null,
      "overflow_y": null,
      "padding": null,
      "right": null,
      "top": null,
      "visibility": null,
      "width": null
     }
    },
    "5f7b7843ac2b4109b323e64f08cdbce6": {
     "model_module": "@jupyter-widgets/base",
     "model_name": "LayoutModel",
     "state": {
      "_model_module": "@jupyter-widgets/base",
      "_model_module_version": "1.2.0",
      "_model_name": "LayoutModel",
      "_view_count": null,
      "_view_module": "@jupyter-widgets/base",
      "_view_module_version": "1.2.0",
      "_view_name": "LayoutView",
      "align_content": null,
      "align_items": null,
      "align_self": null,
      "border": null,
      "bottom": null,
      "display": null,
      "flex": null,
      "flex_flow": null,
      "grid_area": null,
      "grid_auto_columns": null,
      "grid_auto_flow": null,
      "grid_auto_rows": null,
      "grid_column": null,
      "grid_gap": null,
      "grid_row": null,
      "grid_template_areas": null,
      "grid_template_columns": null,
      "grid_template_rows": null,
      "height": null,
      "justify_content": null,
      "justify_items": null,
      "left": null,
      "margin": null,
      "max_height": null,
      "max_width": null,
      "min_height": null,
      "min_width": null,
      "object_fit": null,
      "object_position": null,
      "order": null,
      "overflow": null,
      "overflow_x": null,
      "overflow_y": null,
      "padding": null,
      "right": null,
      "top": null,
      "visibility": null,
      "width": null
     }
    },
    "67dd0f7a804749408e60fed82a9773d5": {
     "model_module": "@jupyter-widgets/output",
     "model_name": "OutputModel",
     "state": {
      "_dom_classes": [],
      "_model_module": "@jupyter-widgets/output",
      "_model_module_version": "1.0.0",
      "_model_name": "OutputModel",
      "_view_count": null,
      "_view_module": "@jupyter-widgets/output",
      "_view_module_version": "1.0.0",
      "_view_name": "OutputView",
      "layout": "IPY_MODEL_dafeb4f140fd4f459fbc52b77654fb45",
      "msg_id": "",
      "outputs": [
       {
        "metadata": {
         "tags": []
        },
        "output_type": "display_data",
        "text/html": "<div>\n<style scoped>\n    .dataframe tbody tr th:only-of-type {\n        vertical-align: middle;\n    }\n\n    .dataframe tbody tr th {\n        vertical-align: top;\n    }\n\n    .dataframe thead th {\n        text-align: right;\n    }\n</style>\n<table border=\"1\" class=\"dataframe\">\n  <thead>\n    <tr style=\"text-align: right;\">\n      <th></th>\n      <th>title</th>\n      <th>text</th>\n      <th>date</th>\n      <th>category</th>\n    </tr>\n  </thead>\n  <tbody>\n    <tr>\n      <th>0</th>\n      <td>As U.S. budget fight looms, Republicans flip t...</td>\n      <td>WASHINGTON (Reuters) - The head of a conservat...</td>\n      <td>2017-12-31 00:00:00</td>\n      <td>True</td>\n    </tr>\n    <tr>\n      <th>1</th>\n      <td>U.S. military to accept transgender recruits o...</td>\n      <td>WASHINGTON (Reuters) - Transgender people will...</td>\n      <td>2017-12-29 00:00:00</td>\n      <td>True</td>\n    </tr>\n    <tr>\n      <th>2</th>\n      <td>Senior U.S. Republican senator: 'Let Mr. Muell...</td>\n      <td>WASHINGTON (Reuters) - The special counsel inv...</td>\n      <td>2017-12-31 00:00:00</td>\n      <td>True</td>\n    </tr>\n    <tr>\n      <th>3</th>\n      <td>FBI Russia probe helped by Australian diplomat...</td>\n      <td>WASHINGTON (Reuters) - Trump campaign adviser ...</td>\n      <td>2017-12-30 00:00:00</td>\n      <td>True</td>\n    </tr>\n    <tr>\n      <th>4</th>\n      <td>Trump wants Postal Service to charge 'much mor...</td>\n      <td>SEATTLE/WASHINGTON (Reuters) - President Donal...</td>\n      <td>2017-12-29 00:00:00</td>\n      <td>True</td>\n    </tr>\n  </tbody>\n</table>\n</div>",
        "text/plain": "                                               title  ... category\n0  As U.S. budget fight looms, Republicans flip t...  ...     True\n1  U.S. military to accept transgender recruits o...  ...     True\n2  Senior U.S. Republican senator: 'Let Mr. Muell...  ...     True\n3  FBI Russia probe helped by Australian diplomat...  ...     True\n4  Trump wants Postal Service to charge 'much mor...  ...     True\n\n[5 rows x 4 columns]"
       }
      ]
     }
    },
    "8d349ed0af934d359d9ceef8f7585eeb": {
     "model_module": "@jupyter-widgets/output",
     "model_name": "OutputModel",
     "state": {
      "_dom_classes": [],
      "_model_module": "@jupyter-widgets/output",
      "_model_module_version": "1.0.0",
      "_model_name": "OutputModel",
      "_view_count": null,
      "_view_module": "@jupyter-widgets/output",
      "_view_module_version": "1.0.0",
      "_view_name": "OutputView",
      "layout": "IPY_MODEL_5f7b7843ac2b4109b323e64f08cdbce6",
      "msg_id": "",
      "outputs": [
       {
        "metadata": {
         "tags": []
        },
        "output_type": "display_data",
        "text/html": "<div>\n<style scoped>\n    .dataframe tbody tr th:only-of-type {\n        vertical-align: middle;\n    }\n\n    .dataframe tbody tr th {\n        vertical-align: top;\n    }\n\n    .dataframe thead th {\n        text-align: right;\n    }\n</style>\n<table border=\"1\" class=\"dataframe\">\n  <thead>\n    <tr style=\"text-align: right;\">\n      <th></th>\n      <th>title</th>\n      <th>text</th>\n      <th>date</th>\n      <th>category</th>\n    </tr>\n  </thead>\n  <tbody>\n    <tr>\n      <th>0</th>\n      <td>Donald Trump Sends Out Embarrassing New Year’...</td>\n      <td>Donald Trump just couldn t wish all Americans ...</td>\n      <td>2017-12-31 00:00:00</td>\n      <td>Fake</td>\n    </tr>\n    <tr>\n      <th>1</th>\n      <td>Drunk Bragging Trump Staffer Started Russian ...</td>\n      <td>House Intelligence Committee Chairman Devin Nu...</td>\n      <td>2017-12-31 00:00:00</td>\n      <td>Fake</td>\n    </tr>\n    <tr>\n      <th>2</th>\n      <td>Sheriff David Clarke Becomes An Internet Joke...</td>\n      <td>On Friday, it was revealed that former Milwauk...</td>\n      <td>2017-12-30 00:00:00</td>\n      <td>Fake</td>\n    </tr>\n    <tr>\n      <th>3</th>\n      <td>Trump Is So Obsessed He Even Has Obama’s Name...</td>\n      <td>On Christmas day, Donald Trump announced that ...</td>\n      <td>2017-12-29 00:00:00</td>\n      <td>Fake</td>\n    </tr>\n    <tr>\n      <th>4</th>\n      <td>Pope Francis Just Called Out Donald Trump Dur...</td>\n      <td>Pope Francis used his annual Christmas Day mes...</td>\n      <td>2017-12-25 00:00:00</td>\n      <td>Fake</td>\n    </tr>\n  </tbody>\n</table>\n</div>",
        "text/plain": "                                               title  ... category\n0   Donald Trump Sends Out Embarrassing New Year’...  ...     Fake\n1   Drunk Bragging Trump Staffer Started Russian ...  ...     Fake\n2   Sheriff David Clarke Becomes An Internet Joke...  ...     Fake\n3   Trump Is So Obsessed He Even Has Obama’s Name...  ...     Fake\n4   Pope Francis Just Called Out Donald Trump Dur...  ...     Fake\n\n[5 rows x 4 columns]"
       }
      ]
     }
    },
    "d715a0a44ff34eebbab7a6990fe2623b": {
     "model_module": "@jupyter-widgets/controls",
     "model_name": "HBoxModel",
     "state": {
      "_dom_classes": [],
      "_model_module": "@jupyter-widgets/controls",
      "_model_module_version": "1.5.0",
      "_model_name": "HBoxModel",
      "_view_count": null,
      "_view_module": "@jupyter-widgets/controls",
      "_view_module_version": "1.5.0",
      "_view_name": "HBoxView",
      "box_style": "",
      "children": [
       "IPY_MODEL_8d349ed0af934d359d9ceef8f7585eeb",
       "IPY_MODEL_67dd0f7a804749408e60fed82a9773d5"
      ],
      "layout": "IPY_MODEL_1c7fda8bc55d4b8ea747323992b38327"
     }
    },
    "dafeb4f140fd4f459fbc52b77654fb45": {
     "model_module": "@jupyter-widgets/base",
     "model_name": "LayoutModel",
     "state": {
      "_model_module": "@jupyter-widgets/base",
      "_model_module_version": "1.2.0",
      "_model_name": "LayoutModel",
      "_view_count": null,
      "_view_module": "@jupyter-widgets/base",
      "_view_module_version": "1.2.0",
      "_view_name": "LayoutView",
      "align_content": null,
      "align_items": null,
      "align_self": null,
      "border": null,
      "bottom": null,
      "display": null,
      "flex": null,
      "flex_flow": null,
      "grid_area": null,
      "grid_auto_columns": null,
      "grid_auto_flow": null,
      "grid_auto_rows": null,
      "grid_column": null,
      "grid_gap": null,
      "grid_row": null,
      "grid_template_areas": null,
      "grid_template_columns": null,
      "grid_template_rows": null,
      "height": null,
      "justify_content": null,
      "justify_items": null,
      "left": null,
      "margin": null,
      "max_height": null,
      "max_width": null,
      "min_height": null,
      "min_width": null,
      "object_fit": null,
      "object_position": null,
      "order": null,
      "overflow": null,
      "overflow_x": null,
      "overflow_y": null,
      "padding": null,
      "right": null,
      "top": null,
      "visibility": null,
      "width": null
     }
    }
   }
  }
 },
 "nbformat": 4,
 "nbformat_minor": 4
}

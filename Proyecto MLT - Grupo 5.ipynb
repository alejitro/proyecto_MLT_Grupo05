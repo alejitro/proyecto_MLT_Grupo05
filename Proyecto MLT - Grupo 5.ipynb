{
 "cells": [
  {
   "cell_type": "markdown",
   "metadata": {
    "colab_type": "text",
    "id": "J8lP6PSVo6G9"
   },
   "source": [
    "\n",
    "<img src=\"https://cursos.virtual.uniandes.edu.co/isis4219/wp-content/uploads/sites/162/2014/11/cropped-misisheader.png\" ><br>\n",
    "# Machine Learning Techniques - ISIS4219\n",
    "\n",
    "Intersemestral 2020\n",
    "\n",
    "\n",
    "* Daury Lecca\n",
    "* Nicolas Lema\n",
    "* Alejandro Martínez\n",
    "* David Ortiz\n"
   ]
  },
  {
   "cell_type": "markdown",
   "metadata": {},
   "source": [
    "## 1. Contexto del problema\n",
    "        \n",
    "Las redes sociales han cambiado por completo la manera como las personas consumen o se informan de noticias que suceden a lo largo del mundo. Las estadísticas son impresionantes si tenemos en cuenta que hasta hace muy pocos años solo teníamos radio, television y periodicos para informarnos. En la actualidad se estima que cerca del 55% de los adultos en Estados Unidos se informa a través de las redes sociales (More Americans Are Getting Their News From Social Media, forbes, oct-2019).\n",
    "Esto ha tenido un gran impacto en la sociedad, ha hecho que nos informemos de manera más oportuna, con muchas más facilidad y practicidad, aspectos muy positivos desde cualquier punto de vista, pero al mismo tiempo, esto ha permitido la generación de información altamente sesgada que se difunde muy rápidamente. A esto debemos sumarle que, cuando estas fuentes de información se usan de manera fraudulenta se generan campañas de información no legítimas que atentan contra la credibilidad de todo el sistema de noticias a nivel global, impactando de forma negativa y gravemente a muchos individuos en el mundo, pues estas noticias van desde cosas tan simples que un principio pueden parecer jocosas, como cuando se difundió una noticia falsa diciéndole a los seguidores de un equipo de fútbol colombiano que su equipo había ganado el campeonato (La insólita celebración del Junior por una estrella falsa, Semana, Mayo 2017) o hasta temas más sensibles como dañar la honra y el buen nombre de un candidato a la presidencia y favorecer a su competencia (¿La victoria de Trump se debió al uso de información falsa?, El observador, abril 2019).\n",
    "\n",
    "### ¿Qué son las noticias falsas?\n",
    "\n",
    "Se trata de historias o anuncios sensacionalistas, compartidos usualmente por redes sociales para involucrar emocionalmente a los lectores, generar atención y llevar a sus creadores a obtener rentabilidad por clics y viralización.\n",
    "\n",
    "También tienen como propósito desprestigiar a personajes públicos u organizaciones; o convencer a las personas para que descarguen archivos adjuntos o den clic en links que descargan o instalan virus informáticos para robar información financiera, datos personales, usuarios y contraseñas. \n",
    "¿Por qué existen noticias falsas?\n",
    "\n",
    "Aunque parezca exagerado, detrás de esta práctica hay un interés económico claro. De acuerdo con el medio de comunicación internacional BBC, plataformas de noticias falsas de Estados Unidos han llegado a recaudar hasta US$10.000 por una noticia. Así, la generación de clics por contenido compartido de información de alto impacto, aunque sea falsa, termina siendo lucrativa para ciberdelincuentes a través de este tipo de acciones negativas para la sociedad.\n",
    "\n",
    "Otra de las motivaciones para generar noticias falsas es minimizar los esfuerzos que se realizan desde el Estado, por ejemplo, generando confusión en el manejo de situaciones críticas como la del coronavirus y a través de contenido sensacionalista motivar a las personas a dar clic en enlace maliciosos.\n",
    "\n",
    "(https://mintic.gov.co/portal/inicio/Sala-de-Prensa/Noticias/126509:Por-que-las-noticias-falsas-tambien-son-un-riesgo-real).\n",
    "\n",
    "Sea cual sea el contexto en el que se difunde una noticia falsa, urge la necesidad de controlar este fenómeno y para lograrlo podemos hacer uso de técnicas de Machine Learning que nos permitan clasificar la naturaleza del contenido digital que consumimos.\n",
    "Una vez se empieza a trabajar en un proyecto de este tipo, surge un abanico amplio de posibilidades a la hora de etiquetar una noticia como falsa, por ejemplo:\n",
    "\n",
    " * Noticias completamente falsas.\n",
    " * Artículos verídicos con interpretaciones falsas.\n",
    " * Artículos pseudocientíficos.\n",
    " * Artículos que en realidad no son noticias sino opiniones.\n",
    " * Artículos verdaderos pero que son publicados por terceros en calidad de plagio.\n",
    "    \n",
    "Esta lista puede extenderse en muchos otros tipos de clasificación, en el contexto de nuestro proyecto, lo que haremos será clasificar como falsa o no, una noticia a partir de un dataset propuesto que tiene esta categorización, sin descartar la posibilidad de permitir clasificar en distintos grupos cada una de las noticias encontradas como falsas, esto dependiendo del alcance que logremos abarcar a lo largo del curso.\n",
    "\n",
    "## 2. Objetivos desde el punto de vista del negocio\n",
    "\n",
    "Tal y como lo describimos en el punto anterior, el principal objetivo es clasificar como falsa o no una noticia que tenga ciertos tipos de parámetros como título, fuente, texto, autor etc. Sin embargo podemos ir más a fondo y pensar en objetivos que quiera conseguir una empresa que se enfrenta a este problema. Podemos pensar en una empresa que ofrece en su página web una especie de blog en el cual los usuarios pueden compartir todo tipo de contenido, como opiniones personales, enlaces a otros sitios, noticias, etc. La idea sería centrarse en publicaciones que contienen contenido no propio y brindarle el proyecto a esta empresa para que catalogue estas publicaciones, buscando satisfacer los siguientes objetivos:\n",
    "\n",
    "**Principales**\n",
    "\n",
    " * Identificar como potencialmente falsa una noticia e indicarlo al usuario.\n",
    " * Disminuir el índice de publicaciones con noticias falsas hasta en un 95%.\n",
    "    \n",
    "**Secundarios**\n",
    "\n",
    " * Catalogar la noticia antes de que sea publicada en el sitio.\n",
    " * Lograr la catalogación de la noticia en un tiempo ideal que no afecte la experiencia de usuario en el sitio.\n",
    " * Catalogar todo tipo de noticias sin importar el contexto al que pertenezcan.\n",
    " * Lograr que el modelo de identificación de noticias pueda entrenarse periódicamente para estar al día en las tendencias de noticias falsas.\n",
    "\n",
    "**Opcionales**\n",
    "\n",
    " * Una vez la noticia es catalogada como potencialmente falsa, esta podrá ser catalogada bajo otros criterios según su grado de falsedad.\n",
    "\n",
    "## 3. Fuente de los datos\n",
    "\n",
    "En la página Kaggle buscamos artículos relacionados con noticias falsas y encontramos un dataset muy interesante para este ámbito disponible en este link.\n",
    "(https://www.kaggle.com/clmentbisaillon/fake-and-real-news-dataset#True.csv), ademas de esto haremos un proceso de webscraping de diferentes paginas web de noticias reales y falsas para poder aumentar el tamaño de nuestro dataset y asi tener mas datos disponibles para la construcción del algoritmo clasificador.\n",
    "\n",
    "## 4. Descripción de los datos\n",
    "\n",
    "Los datos están compuestos por dos archivos en formato .csv, uno de ellos contiene las noticias falsas y otro noticias verdaderas. Cada archivo presenta la misma estructura separada en 4 columnas descritas a continuación:\n",
    "\n",
    "|                                           |\n",
    "|-------------------------------------------|\n",
    "| Nombre                                    |Descripción                               |\n",
    "| Título                                    |Título del artículo o noticia             |\n",
    "| Texto                                     |Texto que contiene el artículo            |\n",
    "| Tema                                      |Tema del artículo descrito en una palabra |\n",
    "| Fecha                                     |Fecha de publicación del artículo         |\n"
   ]
  },
  {
   "cell_type": "markdown",
   "metadata": {},
   "source": [
    "**1. Instalación de librerias a utilizar**"
   ]
  },
  {
   "cell_type": "code",
   "execution_count": 1,
   "metadata": {
    "colab": {
     "base_uri": "https://localhost:8080/",
     "height": 1000
    },
    "colab_type": "code",
    "id": "gg3WFaYjpd-9",
    "outputId": "5c0f44ab-b79e-4b10-be22-b6864e98e6ba"
   },
   "outputs": [
    {
     "name": "stdout",
     "output_type": "stream",
     "text": [
      "Collecting https://github.com/pandas-profiling/pandas-profiling/archive/master.zip\n",
      "  Downloading https://github.com/pandas-profiling/pandas-profiling/archive/master.zip\n",
      "\u001b[K     - 26.8 MB 2.7 MB/s\n",
      "\u001b[?25hRequirement already satisfied: joblib in /home/alejitro/ml/ml_env/lib/python3.7/site-packages (from pandas-profiling==2.9.0rc1) (0.15.1)\n",
      "Requirement already satisfied: scipy>=1.4.1 in /home/alejitro/ml/ml_env/lib/python3.7/site-packages (from pandas-profiling==2.9.0rc1) (1.4.1)\n",
      "Requirement already satisfied: pandas!=1.0.0,!=1.0.1,!=1.0.2,>=0.25.3 in /home/alejitro/ml/ml_env/lib/python3.7/site-packages (from pandas-profiling==2.9.0rc1) (1.0.5)\n",
      "Requirement already satisfied: matplotlib>=3.2.0 in /home/alejitro/ml/ml_env/lib/python3.7/site-packages (from pandas-profiling==2.9.0rc1) (3.2.2)\n",
      "Requirement already satisfied: confuse>=1.0.0 in /home/alejitro/ml/ml_env/lib/python3.7/site-packages (from pandas-profiling==2.9.0rc1) (1.3.0)\n",
      "Requirement already satisfied: jinja2>=2.11.1 in /home/alejitro/ml/ml_env/lib/python3.7/site-packages (from pandas-profiling==2.9.0rc1) (2.11.2)\n",
      "Requirement already satisfied: visions[type_image_path]==0.4.4 in /home/alejitro/ml/ml_env/lib/python3.7/site-packages (from pandas-profiling==2.9.0rc1) (0.4.4)\n",
      "Requirement already satisfied: numpy>=1.16.0 in /home/alejitro/ml/ml_env/lib/python3.7/site-packages (from pandas-profiling==2.9.0rc1) (1.18.5)\n",
      "Requirement already satisfied: attrs>=19.3.0 in /home/alejitro/ml/ml_env/lib/python3.7/site-packages (from pandas-profiling==2.9.0rc1) (19.3.0)\n",
      "Requirement already satisfied: htmlmin>=0.1.12 in /home/alejitro/ml/ml_env/lib/python3.7/site-packages (from pandas-profiling==2.9.0rc1) (0.1.12)\n",
      "Requirement already satisfied: missingno>=0.4.2 in /home/alejitro/ml/ml_env/lib/python3.7/site-packages (from pandas-profiling==2.9.0rc1) (0.4.2)\n",
      "Requirement already satisfied: phik>=0.9.10 in /home/alejitro/ml/ml_env/lib/python3.7/site-packages (from pandas-profiling==2.9.0rc1) (0.10.0)\n",
      "Requirement already satisfied: tangled-up-in-unicode>=0.0.6 in /home/alejitro/ml/ml_env/lib/python3.7/site-packages (from pandas-profiling==2.9.0rc1) (0.0.6)\n",
      "Requirement already satisfied: requests>=2.23.0 in /home/alejitro/ml/ml_env/lib/python3.7/site-packages (from pandas-profiling==2.9.0rc1) (2.24.0)\n",
      "Requirement already satisfied: tqdm>=4.43.0 in /home/alejitro/ml/ml_env/lib/python3.7/site-packages (from pandas-profiling==2.9.0rc1) (4.46.1)\n",
      "Requirement already satisfied: ipywidgets>=7.5.1 in /home/alejitro/ml/ml_env/lib/python3.7/site-packages (from pandas-profiling==2.9.0rc1) (7.5.1)\n",
      "Requirement already satisfied: seaborn>=0.10.1 in /home/alejitro/ml/ml_env/lib/python3.7/site-packages (from pandas-profiling==2.9.0rc1) (0.10.1)\n",
      "Requirement already satisfied: python-dateutil>=2.6.1 in /home/alejitro/ml/ml_env/lib/python3.7/site-packages (from pandas!=1.0.0,!=1.0.1,!=1.0.2,>=0.25.3->pandas-profiling==2.9.0rc1) (2.8.1)\n",
      "Requirement already satisfied: pytz>=2017.2 in /home/alejitro/ml/ml_env/lib/python3.7/site-packages (from pandas!=1.0.0,!=1.0.1,!=1.0.2,>=0.25.3->pandas-profiling==2.9.0rc1) (2020.1)\n",
      "Requirement already satisfied: pyparsing!=2.0.4,!=2.1.2,!=2.1.6,>=2.0.1 in /home/alejitro/ml/ml_env/lib/python3.7/site-packages (from matplotlib>=3.2.0->pandas-profiling==2.9.0rc1) (2.4.7)\n",
      "Requirement already satisfied: kiwisolver>=1.0.1 in /home/alejitro/ml/ml_env/lib/python3.7/site-packages (from matplotlib>=3.2.0->pandas-profiling==2.9.0rc1) (1.2.0)\n",
      "Requirement already satisfied: cycler>=0.10 in /home/alejitro/ml/ml_env/lib/python3.7/site-packages (from matplotlib>=3.2.0->pandas-profiling==2.9.0rc1) (0.10.0)\n",
      "Requirement already satisfied: pyyaml in /home/alejitro/ml/ml_env/lib/python3.7/site-packages (from confuse>=1.0.0->pandas-profiling==2.9.0rc1) (5.3.1)\n",
      "Requirement already satisfied: MarkupSafe>=0.23 in /home/alejitro/ml/ml_env/lib/python3.7/site-packages (from jinja2>=2.11.1->pandas-profiling==2.9.0rc1) (1.1.1)\n",
      "Requirement already satisfied: networkx>=2.4 in /home/alejitro/ml/ml_env/lib/python3.7/site-packages (from visions[type_image_path]==0.4.4->pandas-profiling==2.9.0rc1) (2.4)\n",
      "Requirement already satisfied: imagehash; extra == \"type_image_path\" in /home/alejitro/ml/ml_env/lib/python3.7/site-packages (from visions[type_image_path]==0.4.4->pandas-profiling==2.9.0rc1) (4.1.0)\n",
      "Requirement already satisfied: Pillow; extra == \"type_image_path\" in /home/alejitro/ml/ml_env/lib/python3.7/site-packages (from visions[type_image_path]==0.4.4->pandas-profiling==2.9.0rc1) (7.1.2)\n",
      "Requirement already satisfied: numba>=0.38.1 in /home/alejitro/ml/ml_env/lib/python3.7/site-packages (from phik>=0.9.10->pandas-profiling==2.9.0rc1) (0.50.1)\n",
      "Requirement already satisfied: certifi>=2017.4.17 in /home/alejitro/ml/ml_env/lib/python3.7/site-packages (from requests>=2.23.0->pandas-profiling==2.9.0rc1) (2020.6.20)\n",
      "Requirement already satisfied: idna<3,>=2.5 in /home/alejitro/ml/ml_env/lib/python3.7/site-packages (from requests>=2.23.0->pandas-profiling==2.9.0rc1) (2.9)\n",
      "Requirement already satisfied: chardet<4,>=3.0.2 in /home/alejitro/ml/ml_env/lib/python3.7/site-packages (from requests>=2.23.0->pandas-profiling==2.9.0rc1) (3.0.4)\n",
      "Requirement already satisfied: urllib3!=1.25.0,!=1.25.1,<1.26,>=1.21.1 in /home/alejitro/ml/ml_env/lib/python3.7/site-packages (from requests>=2.23.0->pandas-profiling==2.9.0rc1) (1.25.9)\n",
      "Requirement already satisfied: ipython>=4.0.0; python_version >= \"3.3\" in /home/alejitro/ml/ml_env/lib/python3.7/site-packages (from ipywidgets>=7.5.1->pandas-profiling==2.9.0rc1) (7.15.0)\n",
      "Requirement already satisfied: traitlets>=4.3.1 in /home/alejitro/ml/ml_env/lib/python3.7/site-packages (from ipywidgets>=7.5.1->pandas-profiling==2.9.0rc1) (4.3.3)\n",
      "Requirement already satisfied: nbformat>=4.2.0 in /home/alejitro/ml/ml_env/lib/python3.7/site-packages (from ipywidgets>=7.5.1->pandas-profiling==2.9.0rc1) (5.0.7)\n",
      "Requirement already satisfied: ipykernel>=4.5.1 in /home/alejitro/ml/ml_env/lib/python3.7/site-packages (from ipywidgets>=7.5.1->pandas-profiling==2.9.0rc1) (5.3.0)\n",
      "Requirement already satisfied: widgetsnbextension~=3.5.0 in /home/alejitro/ml/ml_env/lib/python3.7/site-packages (from ipywidgets>=7.5.1->pandas-profiling==2.9.0rc1) (3.5.1)\n",
      "Requirement already satisfied: six>=1.5 in /home/alejitro/ml/ml_env/lib/python3.7/site-packages (from python-dateutil>=2.6.1->pandas!=1.0.0,!=1.0.1,!=1.0.2,>=0.25.3->pandas-profiling==2.9.0rc1) (1.15.0)\n",
      "Requirement already satisfied: decorator>=4.3.0 in /home/alejitro/ml/ml_env/lib/python3.7/site-packages (from networkx>=2.4->visions[type_image_path]==0.4.4->pandas-profiling==2.9.0rc1) (4.4.2)\n",
      "Requirement already satisfied: PyWavelets in /home/alejitro/ml/ml_env/lib/python3.7/site-packages (from imagehash; extra == \"type_image_path\"->visions[type_image_path]==0.4.4->pandas-profiling==2.9.0rc1) (1.1.1)\n",
      "Requirement already satisfied: llvmlite<0.34,>=0.33.0.dev0 in /home/alejitro/ml/ml_env/lib/python3.7/site-packages (from numba>=0.38.1->phik>=0.9.10->pandas-profiling==2.9.0rc1) (0.33.0)\n",
      "Requirement already satisfied: setuptools in /home/alejitro/ml/ml_env/lib/python3.7/site-packages (from numba>=0.38.1->phik>=0.9.10->pandas-profiling==2.9.0rc1) (47.3.1)\n",
      "Requirement already satisfied: pexpect; sys_platform != \"win32\" in /home/alejitro/ml/ml_env/lib/python3.7/site-packages (from ipython>=4.0.0; python_version >= \"3.3\"->ipywidgets>=7.5.1->pandas-profiling==2.9.0rc1) (4.8.0)\n",
      "Requirement already satisfied: prompt-toolkit!=3.0.0,!=3.0.1,<3.1.0,>=2.0.0 in /home/alejitro/ml/ml_env/lib/python3.7/site-packages (from ipython>=4.0.0; python_version >= \"3.3\"->ipywidgets>=7.5.1->pandas-profiling==2.9.0rc1) (3.0.5)\n",
      "Requirement already satisfied: jedi>=0.10 in /home/alejitro/ml/ml_env/lib/python3.7/site-packages (from ipython>=4.0.0; python_version >= \"3.3\"->ipywidgets>=7.5.1->pandas-profiling==2.9.0rc1) (0.17.1)\n",
      "Requirement already satisfied: backcall in /home/alejitro/ml/ml_env/lib/python3.7/site-packages (from ipython>=4.0.0; python_version >= \"3.3\"->ipywidgets>=7.5.1->pandas-profiling==2.9.0rc1) (0.2.0)\n",
      "Requirement already satisfied: pickleshare in /home/alejitro/ml/ml_env/lib/python3.7/site-packages (from ipython>=4.0.0; python_version >= \"3.3\"->ipywidgets>=7.5.1->pandas-profiling==2.9.0rc1) (0.7.5)\n",
      "Requirement already satisfied: pygments in /home/alejitro/ml/ml_env/lib/python3.7/site-packages (from ipython>=4.0.0; python_version >= \"3.3\"->ipywidgets>=7.5.1->pandas-profiling==2.9.0rc1) (2.6.1)\n",
      "Requirement already satisfied: ipython-genutils in /home/alejitro/ml/ml_env/lib/python3.7/site-packages (from traitlets>=4.3.1->ipywidgets>=7.5.1->pandas-profiling==2.9.0rc1) (0.2.0)\n",
      "Requirement already satisfied: jupyter-core in /home/alejitro/ml/ml_env/lib/python3.7/site-packages (from nbformat>=4.2.0->ipywidgets>=7.5.1->pandas-profiling==2.9.0rc1) (4.6.3)\n",
      "Requirement already satisfied: jsonschema!=2.5.0,>=2.4 in /home/alejitro/ml/ml_env/lib/python3.7/site-packages (from nbformat>=4.2.0->ipywidgets>=7.5.1->pandas-profiling==2.9.0rc1) (3.2.0)\n",
      "Requirement already satisfied: tornado>=4.2 in /home/alejitro/ml/ml_env/lib/python3.7/site-packages (from ipykernel>=4.5.1->ipywidgets>=7.5.1->pandas-profiling==2.9.0rc1) (6.0.4)\n",
      "Requirement already satisfied: jupyter-client in /home/alejitro/ml/ml_env/lib/python3.7/site-packages (from ipykernel>=4.5.1->ipywidgets>=7.5.1->pandas-profiling==2.9.0rc1) (6.1.3)\n",
      "Requirement already satisfied: notebook>=4.4.1 in /home/alejitro/ml/ml_env/lib/python3.7/site-packages (from widgetsnbextension~=3.5.0->ipywidgets>=7.5.1->pandas-profiling==2.9.0rc1) (6.0.3)\n",
      "Requirement already satisfied: ptyprocess>=0.5 in /home/alejitro/ml/ml_env/lib/python3.7/site-packages (from pexpect; sys_platform != \"win32\"->ipython>=4.0.0; python_version >= \"3.3\"->ipywidgets>=7.5.1->pandas-profiling==2.9.0rc1) (0.6.0)\n",
      "Requirement already satisfied: wcwidth in /home/alejitro/ml/ml_env/lib/python3.7/site-packages (from prompt-toolkit!=3.0.0,!=3.0.1,<3.1.0,>=2.0.0->ipython>=4.0.0; python_version >= \"3.3\"->ipywidgets>=7.5.1->pandas-profiling==2.9.0rc1) (0.2.5)\n",
      "Requirement already satisfied: parso<0.8.0,>=0.7.0 in /home/alejitro/ml/ml_env/lib/python3.7/site-packages (from jedi>=0.10->ipython>=4.0.0; python_version >= \"3.3\"->ipywidgets>=7.5.1->pandas-profiling==2.9.0rc1) (0.7.0)\n",
      "Requirement already satisfied: pyrsistent>=0.14.0 in /home/alejitro/ml/ml_env/lib/python3.7/site-packages (from jsonschema!=2.5.0,>=2.4->nbformat>=4.2.0->ipywidgets>=7.5.1->pandas-profiling==2.9.0rc1) (0.16.0)\n",
      "Requirement already satisfied: importlib-metadata; python_version < \"3.8\" in /home/alejitro/ml/ml_env/lib/python3.7/site-packages (from jsonschema!=2.5.0,>=2.4->nbformat>=4.2.0->ipywidgets>=7.5.1->pandas-profiling==2.9.0rc1) (1.6.1)\n",
      "Requirement already satisfied: pyzmq>=13 in /home/alejitro/ml/ml_env/lib/python3.7/site-packages (from jupyter-client->ipykernel>=4.5.1->ipywidgets>=7.5.1->pandas-profiling==2.9.0rc1) (19.0.1)\n",
      "Requirement already satisfied: Send2Trash in /home/alejitro/ml/ml_env/lib/python3.7/site-packages (from notebook>=4.4.1->widgetsnbextension~=3.5.0->ipywidgets>=7.5.1->pandas-profiling==2.9.0rc1) (1.5.0)\n",
      "Requirement already satisfied: terminado>=0.8.1 in /home/alejitro/ml/ml_env/lib/python3.7/site-packages (from notebook>=4.4.1->widgetsnbextension~=3.5.0->ipywidgets>=7.5.1->pandas-profiling==2.9.0rc1) (0.8.3)\n",
      "Requirement already satisfied: nbconvert in /home/alejitro/ml/ml_env/lib/python3.7/site-packages (from notebook>=4.4.1->widgetsnbextension~=3.5.0->ipywidgets>=7.5.1->pandas-profiling==2.9.0rc1) (5.6.1)\n",
      "Requirement already satisfied: prometheus-client in /home/alejitro/ml/ml_env/lib/python3.7/site-packages (from notebook>=4.4.1->widgetsnbextension~=3.5.0->ipywidgets>=7.5.1->pandas-profiling==2.9.0rc1) (0.8.0)\n",
      "Requirement already satisfied: zipp>=0.5 in /home/alejitro/ml/ml_env/lib/python3.7/site-packages (from importlib-metadata; python_version < \"3.8\"->jsonschema!=2.5.0,>=2.4->nbformat>=4.2.0->ipywidgets>=7.5.1->pandas-profiling==2.9.0rc1) (3.1.0)\n",
      "Requirement already satisfied: mistune<2,>=0.8.1 in /home/alejitro/ml/ml_env/lib/python3.7/site-packages (from nbconvert->notebook>=4.4.1->widgetsnbextension~=3.5.0->ipywidgets>=7.5.1->pandas-profiling==2.9.0rc1) (0.8.4)\n",
      "Requirement already satisfied: bleach in /home/alejitro/ml/ml_env/lib/python3.7/site-packages (from nbconvert->notebook>=4.4.1->widgetsnbextension~=3.5.0->ipywidgets>=7.5.1->pandas-profiling==2.9.0rc1) (3.1.5)\n",
      "Requirement already satisfied: testpath in /home/alejitro/ml/ml_env/lib/python3.7/site-packages (from nbconvert->notebook>=4.4.1->widgetsnbextension~=3.5.0->ipywidgets>=7.5.1->pandas-profiling==2.9.0rc1) (0.4.4)\n",
      "Requirement already satisfied: defusedxml in /home/alejitro/ml/ml_env/lib/python3.7/site-packages (from nbconvert->notebook>=4.4.1->widgetsnbextension~=3.5.0->ipywidgets>=7.5.1->pandas-profiling==2.9.0rc1) (0.6.0)\n",
      "Requirement already satisfied: pandocfilters>=1.4.1 in /home/alejitro/ml/ml_env/lib/python3.7/site-packages (from nbconvert->notebook>=4.4.1->widgetsnbextension~=3.5.0->ipywidgets>=7.5.1->pandas-profiling==2.9.0rc1) (1.4.2)\n",
      "Requirement already satisfied: entrypoints>=0.2.2 in /home/alejitro/ml/ml_env/lib/python3.7/site-packages (from nbconvert->notebook>=4.4.1->widgetsnbextension~=3.5.0->ipywidgets>=7.5.1->pandas-profiling==2.9.0rc1) (0.3)\n",
      "Requirement already satisfied: webencodings in /home/alejitro/ml/ml_env/lib/python3.7/site-packages (from bleach->nbconvert->notebook>=4.4.1->widgetsnbextension~=3.5.0->ipywidgets>=7.5.1->pandas-profiling==2.9.0rc1) (0.5.1)\n",
      "Requirement already satisfied: packaging in /home/alejitro/ml/ml_env/lib/python3.7/site-packages (from bleach->nbconvert->notebook>=4.4.1->widgetsnbextension~=3.5.0->ipywidgets>=7.5.1->pandas-profiling==2.9.0rc1) (20.4)\n",
      "Building wheels for collected packages: pandas-profiling\n",
      "  Building wheel for pandas-profiling (setup.py) ... \u001b[?25ldone\n",
      "\u001b[?25h  Created wheel for pandas-profiling: filename=pandas_profiling-2.9.0rc1-py2.py3-none-any.whl size=258106 sha256=700814bea88de9d0eb32708c2551ee0f9d7ca6ec96c3b58134384d12d790976f\n",
      "  Stored in directory: /tmp/pip-ephem-wheel-cache-82m_n4a4/wheels/cc/d5/09/083fb07c9363a2f45854b0e3a7de7d7c560f07da74b9e9769d\n",
      "Successfully built pandas-profiling\n",
      "Installing collected packages: pandas-profiling\n",
      "  Attempting uninstall: pandas-profiling\n",
      "    Found existing installation: pandas-profiling 2.8.0\n",
      "    Uninstalling pandas-profiling-2.8.0:\n",
      "      Successfully uninstalled pandas-profiling-2.8.0\n",
      "Successfully installed pandas-profiling-2.9.0rc1\n",
      "\u001b[33mWARNING: You are using pip version 20.1.1; however, version 20.2.1 is available.\n",
      "You should consider upgrading via the '/home/alejitro/ml/ml_env/bin/python -m pip install --upgrade pip' command.\u001b[0m\n",
      "Requirement already satisfied: contractions in /home/alejitro/ml/ml_env/lib/python3.7/site-packages (0.0.25)\n",
      "Requirement already satisfied: textsearch in /home/alejitro/ml/ml_env/lib/python3.7/site-packages (from contractions) (0.0.17)\n",
      "Requirement already satisfied: pyahocorasick in /home/alejitro/ml/ml_env/lib/python3.7/site-packages (from textsearch->contractions) (1.4.0)\n",
      "Requirement already satisfied: Unidecode in /home/alejitro/ml/ml_env/lib/python3.7/site-packages (from textsearch->contractions) (1.1.1)\n",
      "\u001b[33mWARNING: You are using pip version 20.1.1; however, version 20.2.1 is available.\n",
      "You should consider upgrading via the '/home/alejitro/ml/ml_env/bin/python -m pip install --upgrade pip' command.\u001b[0m\n",
      "Requirement already satisfied: feedparser in /home/alejitro/ml/ml_env/lib/python3.7/site-packages (5.2.1)\n",
      "\u001b[33mWARNING: You are using pip version 20.1.1; however, version 20.2.1 is available.\n",
      "You should consider upgrading via the '/home/alejitro/ml/ml_env/bin/python -m pip install --upgrade pip' command.\u001b[0m\n",
      "Requirement already satisfied: newspaper3k in /home/alejitro/ml/ml_env/lib/python3.7/site-packages (0.2.8)\n",
      "Requirement already satisfied: tinysegmenter==0.3 in /home/alejitro/ml/ml_env/lib/python3.7/site-packages (from newspaper3k) (0.3)\n",
      "Requirement already satisfied: lxml>=3.6.0 in /home/alejitro/ml/ml_env/lib/python3.7/site-packages (from newspaper3k) (4.5.2)\n",
      "Requirement already satisfied: requests>=2.10.0 in /home/alejitro/ml/ml_env/lib/python3.7/site-packages (from newspaper3k) (2.24.0)\n",
      "Requirement already satisfied: Pillow>=3.3.0 in /home/alejitro/ml/ml_env/lib/python3.7/site-packages (from newspaper3k) (7.1.2)\n",
      "Requirement already satisfied: feedfinder2>=0.0.4 in /home/alejitro/ml/ml_env/lib/python3.7/site-packages (from newspaper3k) (0.0.4)\n",
      "Requirement already satisfied: PyYAML>=3.11 in /home/alejitro/ml/ml_env/lib/python3.7/site-packages (from newspaper3k) (5.3.1)\n",
      "Requirement already satisfied: feedparser>=5.2.1 in /home/alejitro/ml/ml_env/lib/python3.7/site-packages (from newspaper3k) (5.2.1)\n",
      "Requirement already satisfied: python-dateutil>=2.5.3 in /home/alejitro/ml/ml_env/lib/python3.7/site-packages (from newspaper3k) (2.8.1)\n",
      "Requirement already satisfied: jieba3k>=0.35.1 in /home/alejitro/ml/ml_env/lib/python3.7/site-packages (from newspaper3k) (0.35.1)\n",
      "Requirement already satisfied: tldextract>=2.0.1 in /home/alejitro/ml/ml_env/lib/python3.7/site-packages (from newspaper3k) (2.2.2)\n",
      "Requirement already satisfied: cssselect>=0.9.2 in /home/alejitro/ml/ml_env/lib/python3.7/site-packages (from newspaper3k) (1.1.0)\n",
      "Requirement already satisfied: nltk>=3.2.1 in /home/alejitro/ml/ml_env/lib/python3.7/site-packages (from newspaper3k) (3.5)\n",
      "Requirement already satisfied: beautifulsoup4>=4.4.1 in /home/alejitro/ml/ml_env/lib/python3.7/site-packages (from newspaper3k) (4.9.1)\n",
      "Requirement already satisfied: idna<3,>=2.5 in /home/alejitro/ml/ml_env/lib/python3.7/site-packages (from requests>=2.10.0->newspaper3k) (2.9)\n",
      "Requirement already satisfied: urllib3!=1.25.0,!=1.25.1,<1.26,>=1.21.1 in /home/alejitro/ml/ml_env/lib/python3.7/site-packages (from requests>=2.10.0->newspaper3k) (1.25.9)\n",
      "Requirement already satisfied: certifi>=2017.4.17 in /home/alejitro/ml/ml_env/lib/python3.7/site-packages (from requests>=2.10.0->newspaper3k) (2020.6.20)\n",
      "Requirement already satisfied: chardet<4,>=3.0.2 in /home/alejitro/ml/ml_env/lib/python3.7/site-packages (from requests>=2.10.0->newspaper3k) (3.0.4)\n",
      "Requirement already satisfied: six in /home/alejitro/ml/ml_env/lib/python3.7/site-packages (from feedfinder2>=0.0.4->newspaper3k) (1.15.0)\n",
      "Requirement already satisfied: setuptools in /home/alejitro/ml/ml_env/lib/python3.7/site-packages (from tldextract>=2.0.1->newspaper3k) (47.3.1)\n",
      "Requirement already satisfied: requests-file>=1.4 in /home/alejitro/ml/ml_env/lib/python3.7/site-packages (from tldextract>=2.0.1->newspaper3k) (1.5.1)\n",
      "Requirement already satisfied: tqdm in /home/alejitro/ml/ml_env/lib/python3.7/site-packages (from nltk>=3.2.1->newspaper3k) (4.46.1)\n",
      "Requirement already satisfied: joblib in /home/alejitro/ml/ml_env/lib/python3.7/site-packages (from nltk>=3.2.1->newspaper3k) (0.15.1)\n",
      "Requirement already satisfied: regex in /home/alejitro/ml/ml_env/lib/python3.7/site-packages (from nltk>=3.2.1->newspaper3k) (2020.6.8)\n",
      "Requirement already satisfied: click in /home/alejitro/ml/ml_env/lib/python3.7/site-packages (from nltk>=3.2.1->newspaper3k) (7.1.2)\n",
      "Requirement already satisfied: soupsieve>1.2 in /home/alejitro/ml/ml_env/lib/python3.7/site-packages (from beautifulsoup4>=4.4.1->newspaper3k) (2.0.1)\n",
      "\u001b[33mWARNING: You are using pip version 20.1.1; however, version 20.2.1 is available.\n",
      "You should consider upgrading via the '/home/alejitro/ml/ml_env/bin/python -m pip install --upgrade pip' command.\u001b[0m\n",
      "Requirement already satisfied: pandas_profiling in /home/alejitro/ml/ml_env/lib/python3.7/site-packages (2.9.0rc1)\n",
      "Requirement already satisfied: tangled-up-in-unicode>=0.0.6 in /home/alejitro/ml/ml_env/lib/python3.7/site-packages (from pandas_profiling) (0.0.6)\n",
      "Requirement already satisfied: htmlmin>=0.1.12 in /home/alejitro/ml/ml_env/lib/python3.7/site-packages (from pandas_profiling) (0.1.12)\n",
      "Requirement already satisfied: tqdm>=4.43.0 in /home/alejitro/ml/ml_env/lib/python3.7/site-packages (from pandas_profiling) (4.46.1)\n",
      "Requirement already satisfied: pandas!=1.0.0,!=1.0.1,!=1.0.2,>=0.25.3 in /home/alejitro/ml/ml_env/lib/python3.7/site-packages (from pandas_profiling) (1.0.5)\n",
      "Requirement already satisfied: phik>=0.9.10 in /home/alejitro/ml/ml_env/lib/python3.7/site-packages (from pandas_profiling) (0.10.0)\n",
      "Requirement already satisfied: jinja2>=2.11.1 in /home/alejitro/ml/ml_env/lib/python3.7/site-packages (from pandas_profiling) (2.11.2)\n",
      "Requirement already satisfied: attrs>=19.3.0 in /home/alejitro/ml/ml_env/lib/python3.7/site-packages (from pandas_profiling) (19.3.0)\n",
      "Requirement already satisfied: ipywidgets>=7.5.1 in /home/alejitro/ml/ml_env/lib/python3.7/site-packages (from pandas_profiling) (7.5.1)\n",
      "Requirement already satisfied: visions[type_image_path]==0.4.4 in /home/alejitro/ml/ml_env/lib/python3.7/site-packages (from pandas_profiling) (0.4.4)\n",
      "Requirement already satisfied: missingno>=0.4.2 in /home/alejitro/ml/ml_env/lib/python3.7/site-packages (from pandas_profiling) (0.4.2)\n",
      "Requirement already satisfied: seaborn>=0.10.1 in /home/alejitro/ml/ml_env/lib/python3.7/site-packages (from pandas_profiling) (0.10.1)\n",
      "Requirement already satisfied: matplotlib>=3.2.0 in /home/alejitro/ml/ml_env/lib/python3.7/site-packages (from pandas_profiling) (3.2.2)\n",
      "Requirement already satisfied: joblib in /home/alejitro/ml/ml_env/lib/python3.7/site-packages (from pandas_profiling) (0.15.1)\n",
      "Requirement already satisfied: scipy>=1.4.1 in /home/alejitro/ml/ml_env/lib/python3.7/site-packages (from pandas_profiling) (1.4.1)\n",
      "Requirement already satisfied: confuse>=1.0.0 in /home/alejitro/ml/ml_env/lib/python3.7/site-packages (from pandas_profiling) (1.3.0)\n",
      "Requirement already satisfied: numpy>=1.16.0 in /home/alejitro/ml/ml_env/lib/python3.7/site-packages (from pandas_profiling) (1.18.5)\n",
      "Requirement already satisfied: requests>=2.23.0 in /home/alejitro/ml/ml_env/lib/python3.7/site-packages (from pandas_profiling) (2.24.0)\n",
      "Requirement already satisfied: python-dateutil>=2.6.1 in /home/alejitro/ml/ml_env/lib/python3.7/site-packages (from pandas!=1.0.0,!=1.0.1,!=1.0.2,>=0.25.3->pandas_profiling) (2.8.1)\n",
      "Requirement already satisfied: pytz>=2017.2 in /home/alejitro/ml/ml_env/lib/python3.7/site-packages (from pandas!=1.0.0,!=1.0.1,!=1.0.2,>=0.25.3->pandas_profiling) (2020.1)\n",
      "Requirement already satisfied: numba>=0.38.1 in /home/alejitro/ml/ml_env/lib/python3.7/site-packages (from phik>=0.9.10->pandas_profiling) (0.50.1)\n",
      "Requirement already satisfied: MarkupSafe>=0.23 in /home/alejitro/ml/ml_env/lib/python3.7/site-packages (from jinja2>=2.11.1->pandas_profiling) (1.1.1)\n",
      "Requirement already satisfied: ipython>=4.0.0; python_version >= \"3.3\" in /home/alejitro/ml/ml_env/lib/python3.7/site-packages (from ipywidgets>=7.5.1->pandas_profiling) (7.15.0)\n",
      "Requirement already satisfied: nbformat>=4.2.0 in /home/alejitro/ml/ml_env/lib/python3.7/site-packages (from ipywidgets>=7.5.1->pandas_profiling) (5.0.7)\n",
      "Requirement already satisfied: traitlets>=4.3.1 in /home/alejitro/ml/ml_env/lib/python3.7/site-packages (from ipywidgets>=7.5.1->pandas_profiling) (4.3.3)\n",
      "Requirement already satisfied: ipykernel>=4.5.1 in /home/alejitro/ml/ml_env/lib/python3.7/site-packages (from ipywidgets>=7.5.1->pandas_profiling) (5.3.0)\n",
      "Requirement already satisfied: widgetsnbextension~=3.5.0 in /home/alejitro/ml/ml_env/lib/python3.7/site-packages (from ipywidgets>=7.5.1->pandas_profiling) (3.5.1)\n",
      "Requirement already satisfied: networkx>=2.4 in /home/alejitro/ml/ml_env/lib/python3.7/site-packages (from visions[type_image_path]==0.4.4->pandas_profiling) (2.4)\n",
      "Requirement already satisfied: imagehash; extra == \"type_image_path\" in /home/alejitro/ml/ml_env/lib/python3.7/site-packages (from visions[type_image_path]==0.4.4->pandas_profiling) (4.1.0)\n",
      "Requirement already satisfied: Pillow; extra == \"type_image_path\" in /home/alejitro/ml/ml_env/lib/python3.7/site-packages (from visions[type_image_path]==0.4.4->pandas_profiling) (7.1.2)\n",
      "Requirement already satisfied: pyparsing!=2.0.4,!=2.1.2,!=2.1.6,>=2.0.1 in /home/alejitro/ml/ml_env/lib/python3.7/site-packages (from matplotlib>=3.2.0->pandas_profiling) (2.4.7)\n",
      "Requirement already satisfied: cycler>=0.10 in /home/alejitro/ml/ml_env/lib/python3.7/site-packages (from matplotlib>=3.2.0->pandas_profiling) (0.10.0)\n",
      "Requirement already satisfied: kiwisolver>=1.0.1 in /home/alejitro/ml/ml_env/lib/python3.7/site-packages (from matplotlib>=3.2.0->pandas_profiling) (1.2.0)\n",
      "Requirement already satisfied: pyyaml in /home/alejitro/ml/ml_env/lib/python3.7/site-packages (from confuse>=1.0.0->pandas_profiling) (5.3.1)\n",
      "Requirement already satisfied: urllib3!=1.25.0,!=1.25.1,<1.26,>=1.21.1 in /home/alejitro/ml/ml_env/lib/python3.7/site-packages (from requests>=2.23.0->pandas_profiling) (1.25.9)\n",
      "Requirement already satisfied: chardet<4,>=3.0.2 in /home/alejitro/ml/ml_env/lib/python3.7/site-packages (from requests>=2.23.0->pandas_profiling) (3.0.4)\n",
      "Requirement already satisfied: idna<3,>=2.5 in /home/alejitro/ml/ml_env/lib/python3.7/site-packages (from requests>=2.23.0->pandas_profiling) (2.9)\n",
      "Requirement already satisfied: certifi>=2017.4.17 in /home/alejitro/ml/ml_env/lib/python3.7/site-packages (from requests>=2.23.0->pandas_profiling) (2020.6.20)\n",
      "Requirement already satisfied: six>=1.5 in /home/alejitro/ml/ml_env/lib/python3.7/site-packages (from python-dateutil>=2.6.1->pandas!=1.0.0,!=1.0.1,!=1.0.2,>=0.25.3->pandas_profiling) (1.15.0)\n",
      "Requirement already satisfied: setuptools in /home/alejitro/ml/ml_env/lib/python3.7/site-packages (from numba>=0.38.1->phik>=0.9.10->pandas_profiling) (47.3.1)\n",
      "Requirement already satisfied: llvmlite<0.34,>=0.33.0.dev0 in /home/alejitro/ml/ml_env/lib/python3.7/site-packages (from numba>=0.38.1->phik>=0.9.10->pandas_profiling) (0.33.0)\n",
      "Requirement already satisfied: jedi>=0.10 in /home/alejitro/ml/ml_env/lib/python3.7/site-packages (from ipython>=4.0.0; python_version >= \"3.3\"->ipywidgets>=7.5.1->pandas_profiling) (0.17.1)\n",
      "Requirement already satisfied: pickleshare in /home/alejitro/ml/ml_env/lib/python3.7/site-packages (from ipython>=4.0.0; python_version >= \"3.3\"->ipywidgets>=7.5.1->pandas_profiling) (0.7.5)\n",
      "Requirement already satisfied: decorator in /home/alejitro/ml/ml_env/lib/python3.7/site-packages (from ipython>=4.0.0; python_version >= \"3.3\"->ipywidgets>=7.5.1->pandas_profiling) (4.4.2)\n",
      "Requirement already satisfied: pexpect; sys_platform != \"win32\" in /home/alejitro/ml/ml_env/lib/python3.7/site-packages (from ipython>=4.0.0; python_version >= \"3.3\"->ipywidgets>=7.5.1->pandas_profiling) (4.8.0)\n",
      "Requirement already satisfied: pygments in /home/alejitro/ml/ml_env/lib/python3.7/site-packages (from ipython>=4.0.0; python_version >= \"3.3\"->ipywidgets>=7.5.1->pandas_profiling) (2.6.1)\n",
      "Requirement already satisfied: backcall in /home/alejitro/ml/ml_env/lib/python3.7/site-packages (from ipython>=4.0.0; python_version >= \"3.3\"->ipywidgets>=7.5.1->pandas_profiling) (0.2.0)\n",
      "Requirement already satisfied: prompt-toolkit!=3.0.0,!=3.0.1,<3.1.0,>=2.0.0 in /home/alejitro/ml/ml_env/lib/python3.7/site-packages (from ipython>=4.0.0; python_version >= \"3.3\"->ipywidgets>=7.5.1->pandas_profiling) (3.0.5)\n",
      "Requirement already satisfied: jsonschema!=2.5.0,>=2.4 in /home/alejitro/ml/ml_env/lib/python3.7/site-packages (from nbformat>=4.2.0->ipywidgets>=7.5.1->pandas_profiling) (3.2.0)\n",
      "Requirement already satisfied: jupyter-core in /home/alejitro/ml/ml_env/lib/python3.7/site-packages (from nbformat>=4.2.0->ipywidgets>=7.5.1->pandas_profiling) (4.6.3)\n",
      "Requirement already satisfied: ipython-genutils in /home/alejitro/ml/ml_env/lib/python3.7/site-packages (from nbformat>=4.2.0->ipywidgets>=7.5.1->pandas_profiling) (0.2.0)\n",
      "Requirement already satisfied: tornado>=4.2 in /home/alejitro/ml/ml_env/lib/python3.7/site-packages (from ipykernel>=4.5.1->ipywidgets>=7.5.1->pandas_profiling) (6.0.4)\n",
      "Requirement already satisfied: jupyter-client in /home/alejitro/ml/ml_env/lib/python3.7/site-packages (from ipykernel>=4.5.1->ipywidgets>=7.5.1->pandas_profiling) (6.1.3)\n",
      "Requirement already satisfied: notebook>=4.4.1 in /home/alejitro/ml/ml_env/lib/python3.7/site-packages (from widgetsnbextension~=3.5.0->ipywidgets>=7.5.1->pandas_profiling) (6.0.3)\n",
      "Requirement already satisfied: PyWavelets in /home/alejitro/ml/ml_env/lib/python3.7/site-packages (from imagehash; extra == \"type_image_path\"->visions[type_image_path]==0.4.4->pandas_profiling) (1.1.1)\n",
      "Requirement already satisfied: parso<0.8.0,>=0.7.0 in /home/alejitro/ml/ml_env/lib/python3.7/site-packages (from jedi>=0.10->ipython>=4.0.0; python_version >= \"3.3\"->ipywidgets>=7.5.1->pandas_profiling) (0.7.0)\n",
      "Requirement already satisfied: ptyprocess>=0.5 in /home/alejitro/ml/ml_env/lib/python3.7/site-packages (from pexpect; sys_platform != \"win32\"->ipython>=4.0.0; python_version >= \"3.3\"->ipywidgets>=7.5.1->pandas_profiling) (0.6.0)\n",
      "Requirement already satisfied: wcwidth in /home/alejitro/ml/ml_env/lib/python3.7/site-packages (from prompt-toolkit!=3.0.0,!=3.0.1,<3.1.0,>=2.0.0->ipython>=4.0.0; python_version >= \"3.3\"->ipywidgets>=7.5.1->pandas_profiling) (0.2.5)\n",
      "Requirement already satisfied: pyrsistent>=0.14.0 in /home/alejitro/ml/ml_env/lib/python3.7/site-packages (from jsonschema!=2.5.0,>=2.4->nbformat>=4.2.0->ipywidgets>=7.5.1->pandas_profiling) (0.16.0)\n",
      "Requirement already satisfied: importlib-metadata; python_version < \"3.8\" in /home/alejitro/ml/ml_env/lib/python3.7/site-packages (from jsonschema!=2.5.0,>=2.4->nbformat>=4.2.0->ipywidgets>=7.5.1->pandas_profiling) (1.6.1)\n",
      "Requirement already satisfied: pyzmq>=13 in /home/alejitro/ml/ml_env/lib/python3.7/site-packages (from jupyter-client->ipykernel>=4.5.1->ipywidgets>=7.5.1->pandas_profiling) (19.0.1)\n",
      "Requirement already satisfied: Send2Trash in /home/alejitro/ml/ml_env/lib/python3.7/site-packages (from notebook>=4.4.1->widgetsnbextension~=3.5.0->ipywidgets>=7.5.1->pandas_profiling) (1.5.0)\n",
      "Requirement already satisfied: nbconvert in /home/alejitro/ml/ml_env/lib/python3.7/site-packages (from notebook>=4.4.1->widgetsnbextension~=3.5.0->ipywidgets>=7.5.1->pandas_profiling) (5.6.1)\n",
      "Requirement already satisfied: prometheus-client in /home/alejitro/ml/ml_env/lib/python3.7/site-packages (from notebook>=4.4.1->widgetsnbextension~=3.5.0->ipywidgets>=7.5.1->pandas_profiling) (0.8.0)\n",
      "Requirement already satisfied: terminado>=0.8.1 in /home/alejitro/ml/ml_env/lib/python3.7/site-packages (from notebook>=4.4.1->widgetsnbextension~=3.5.0->ipywidgets>=7.5.1->pandas_profiling) (0.8.3)\n",
      "Requirement already satisfied: zipp>=0.5 in /home/alejitro/ml/ml_env/lib/python3.7/site-packages (from importlib-metadata; python_version < \"3.8\"->jsonschema!=2.5.0,>=2.4->nbformat>=4.2.0->ipywidgets>=7.5.1->pandas_profiling) (3.1.0)\n",
      "Requirement already satisfied: defusedxml in /home/alejitro/ml/ml_env/lib/python3.7/site-packages (from nbconvert->notebook>=4.4.1->widgetsnbextension~=3.5.0->ipywidgets>=7.5.1->pandas_profiling) (0.6.0)\n",
      "Requirement already satisfied: mistune<2,>=0.8.1 in /home/alejitro/ml/ml_env/lib/python3.7/site-packages (from nbconvert->notebook>=4.4.1->widgetsnbextension~=3.5.0->ipywidgets>=7.5.1->pandas_profiling) (0.8.4)\n",
      "Requirement already satisfied: pandocfilters>=1.4.1 in /home/alejitro/ml/ml_env/lib/python3.7/site-packages (from nbconvert->notebook>=4.4.1->widgetsnbextension~=3.5.0->ipywidgets>=7.5.1->pandas_profiling) (1.4.2)\n",
      "Requirement already satisfied: entrypoints>=0.2.2 in /home/alejitro/ml/ml_env/lib/python3.7/site-packages (from nbconvert->notebook>=4.4.1->widgetsnbextension~=3.5.0->ipywidgets>=7.5.1->pandas_profiling) (0.3)\n",
      "Requirement already satisfied: bleach in /home/alejitro/ml/ml_env/lib/python3.7/site-packages (from nbconvert->notebook>=4.4.1->widgetsnbextension~=3.5.0->ipywidgets>=7.5.1->pandas_profiling) (3.1.5)\n",
      "Requirement already satisfied: testpath in /home/alejitro/ml/ml_env/lib/python3.7/site-packages (from nbconvert->notebook>=4.4.1->widgetsnbextension~=3.5.0->ipywidgets>=7.5.1->pandas_profiling) (0.4.4)\n",
      "Requirement already satisfied: webencodings in /home/alejitro/ml/ml_env/lib/python3.7/site-packages (from bleach->nbconvert->notebook>=4.4.1->widgetsnbextension~=3.5.0->ipywidgets>=7.5.1->pandas_profiling) (0.5.1)\n",
      "Requirement already satisfied: packaging in /home/alejitro/ml/ml_env/lib/python3.7/site-packages (from bleach->nbconvert->notebook>=4.4.1->widgetsnbextension~=3.5.0->ipywidgets>=7.5.1->pandas_profiling) (20.4)\n",
      "\u001b[33mWARNING: You are using pip version 20.1.1; however, version 20.2.1 is available.\n",
      "You should consider upgrading via the '/home/alejitro/ml/ml_env/bin/python -m pip install --upgrade pip' command.\u001b[0m\n",
      "showing info https://raw.githubusercontent.com/nltk/nltk_data/gh-pages/index.xml\n"
     ]
    },
    {
     "data": {
      "text/plain": [
       "True"
      ]
     },
     "execution_count": 1,
     "metadata": {},
     "output_type": "execute_result"
    }
   ],
   "source": [
    "!pip install https://github.com/pandas-profiling/pandas-profiling/archive/master.zip\n",
    "!pip install contractions\n",
    "!pip install feedparser\n",
    "!pip install newspaper3k\n",
    "!pip install pandas_profiling\n",
    "import nltk\n",
    "nltk.download()"
   ]
  },
  {
   "cell_type": "code",
   "execution_count": 2,
   "metadata": {
    "colab": {},
    "colab_type": "code",
    "executionInfo": {
     "elapsed": 844,
     "status": "ok",
     "timestamp": 1594597559205,
     "user": {
      "displayName": "alejandro martinez",
      "photoUrl": "https://lh3.googleusercontent.com/a-/AOh14Gi9YSzzf_VDnAbvxMnJJqez5U-I_wOQ5OyJRmw_=s64",
      "userId": "05542026783145230534"
     },
     "user_tz": 300
    },
    "id": "dpXXzFHRpGy4"
   },
   "outputs": [],
   "source": [
    "import pandas as pd\n",
    "import numpy as np\n",
    "import sys\n",
    "from pandas_profiling import ProfileReport\n",
    "\n",
    "\n",
    "import nltk\n",
    "import re, string, unicodedata\n",
    "import contractions\n",
    "import inflect\n",
    "from nltk import word_tokenize, sent_tokenize\n",
    "from nltk.corpus import stopwords\n",
    "from nltk.stem import LancasterStemmer, WordNetLemmatizer\n",
    "\n",
    "from sklearn.model_selection import train_test_split,GridSearchCV\n",
    "from sklearn.feature_extraction.text import TfidfVectorizer, CountVectorizer, HashingVectorizer\n",
    "from sklearn.pipeline import Pipeline, FeatureUnion\n",
    "from sklearn.naive_bayes import BernoulliNB, CategoricalNB, MultinomialNB\n",
    "from sklearn.metrics import classification_report, confusion_matrix, plot_precision_recall_curve\n",
    "\n",
    "import matplotlib.pyplot as plt"
   ]
  },
  {
   "cell_type": "code",
   "execution_count": 3,
   "metadata": {
    "colab": {},
    "colab_type": "code",
    "executionInfo": {
     "elapsed": 922,
     "status": "ok",
     "timestamp": 1594597561364,
     "user": {
      "displayName": "alejandro martinez",
      "photoUrl": "https://lh3.googleusercontent.com/a-/AOh14Gi9YSzzf_VDnAbvxMnJJqez5U-I_wOQ5OyJRmw_=s64",
      "userId": "05542026783145230534"
     },
     "user_tz": 300
    },
    "id": "xqD2mTepIHlw"
   },
   "outputs": [],
   "source": [
    "import json"
   ]
  },
  {
   "cell_type": "markdown",
   "metadata": {
    "colab_type": "text",
    "id": "cEHfH5Hl8dAp"
   },
   "source": [
    "**2. Perfilamiento y entendimiento de los datos**\n",
    "\n"
   ]
  },
  {
   "cell_type": "markdown",
   "metadata": {
    "colab_type": "text",
    "id": "WNhNQoeA-nq0"
   },
   "source": [
    "* Lectura de los datos\n",
    "\n",
    "A continuación procedemos a leer los datos del Dataset de Kaggle, los cuales ya estan dividos entre Fake news y Real News.\n",
    "\n",
    "Despues te esto, hacemos un proceso de web scrapping de diferentes medios que tienen noticias reales y falsas para aumentar el tamaño de la muestra y la diversidad de noticias de nuestro dataSet y tener noticias de un contexto mas actual ya que las del dataset de kaggle estan en un periodo comprendido entre 2016 y 2018"
   ]
  },
  {
   "cell_type": "code",
   "execution_count": 4,
   "metadata": {
    "colab": {},
    "colab_type": "code",
    "executionInfo": {
     "elapsed": 1149,
     "status": "ok",
     "timestamp": 1594597586803,
     "user": {
      "displayName": "alejandro martinez",
      "photoUrl": "https://lh3.googleusercontent.com/a-/AOh14Gi9YSzzf_VDnAbvxMnJJqez5U-I_wOQ5OyJRmw_=s64",
      "userId": "05542026783145230534"
     },
     "user_tz": 300
    },
    "id": "k_xxUEnG8Zyr"
   },
   "outputs": [],
   "source": [
    "def get_data(dataset):\n",
    "    if(dataset=='true'):\n",
    "        url = 'https://raw.githubusercontent.com/alejitro/proyecto_MLT_Grupo05/master/DataSet/True.csv'\n",
    "        return pd.read_csv(url,error_bad_lines=True)\n",
    "    elif(dataset=='false'):\n",
    "        url = 'https://raw.githubusercontent.com/alejitro/proyecto_MLT_Grupo05/master/DataSet/Fake.csv'\n",
    "        return pd.read_csv(url,error_bad_lines=True)\n",
    "    else:\n",
    "        return (\"No data\")"
   ]
  },
  {
   "cell_type": "markdown",
   "metadata": {},
   "source": [
    "* Medios de los cuales se van a obtener noticias recientes:"
   ]
  },
  {
   "cell_type": "code",
   "execution_count": 5,
   "metadata": {
    "colab": {},
    "colab_type": "code",
    "executionInfo": {
     "elapsed": 908,
     "status": "ok",
     "timestamp": 1594597589245,
     "user": {
      "displayName": "alejandro martinez",
      "photoUrl": "https://lh3.googleusercontent.com/a-/AOh14Gi9YSzzf_VDnAbvxMnJJqez5U-I_wOQ5OyJRmw_=s64",
      "userId": "05542026783145230534"
     },
     "user_tz": 300
    },
    "id": "V10cM3bMKDY8"
   },
   "outputs": [],
   "source": [
    "dictionary = {\n",
    "  \"bbc\": {\n",
    "    \"rss\": \"http://feeds.bbci.co.uk/news/rss.xml\",\n",
    "    \"link\": \"http://www.bbc.com/\"\n",
    "  },\n",
    "  \"theguardian\": {\n",
    "    \"rss\": \"https://www.theguardian.com/uk/rss\",\n",
    "    \"link\": \"https://www.theguardian.com/international\"\n",
    "  },\n",
    "  \"breitbart\": {\n",
    "    \"link\": \"http://www.breitbart.com/\"\n",
    "  },\n",
    "  \"infowars\": {\n",
    "    \"link\": \"https://www.infowars.com/\"\n",
    "  },\n",
    "  \"washingtonpost\": {\n",
    "    \"rss\": \"http://feeds.washingtonpost.com/rss/world\",\n",
    "    \"link\": \"https://www.washingtonpost.com/\"\n",
    "  },\n",
    "  \"theonion\": {\n",
    "    \"link\": \"http://www.theonion.com/\"\n",
    "  }\n",
    "}"
   ]
  },
  {
   "cell_type": "code",
   "execution_count": 6,
   "metadata": {
    "colab": {},
    "colab_type": "code",
    "executionInfo": {
     "elapsed": 882,
     "status": "ok",
     "timestamp": 1594597591379,
     "user": {
      "displayName": "alejandro martinez",
      "photoUrl": "https://lh3.googleusercontent.com/a-/AOh14Gi9YSzzf_VDnAbvxMnJJqez5U-I_wOQ5OyJRmw_=s64",
      "userId": "05542026783145230534"
     },
     "user_tz": 300
    },
    "id": "nks2f4ktKL7K"
   },
   "outputs": [],
   "source": [
    "json_object = json.dumps(dictionary, indent = 4) \n",
    "with open(\"NewsPapers.json\", \"w\") as outfile: \n",
    "    outfile.write(json_object) "
   ]
  },
  {
   "cell_type": "markdown",
   "metadata": {},
   "source": [
    "* Codigo para importar las noticias en un archivo JSON\n",
    "\n",
    "En el codigo tenemos la opcion de variar el numero de articulos de cada medio que se quieren descargar (variable LIMIT), esto nos permite mantener el balance del dataset entre las noticias verdaderas y falsas.\n",
    "\n",
    "En esta iteracion, con el fin de poder hacer el entendimiento de los datos de una forma rapida, solo tomamos 5 articulos adicionales por cada medio, en la siguiente iteración, tomaremos un numero mayor para aumentar el tamaño del dataset y asi mismo la calidad de instancias para poder determinar las clases."
   ]
  },
  {
   "cell_type": "code",
   "execution_count": 102,
   "metadata": {
    "colab": {
     "base_uri": "https://localhost:8080/",
     "height": 1000
    },
    "colab_type": "code",
    "executionInfo": {
     "elapsed": 53100,
     "status": "ok",
     "timestamp": 1594597668707,
     "user": {
      "displayName": "alejandro martinez",
      "photoUrl": "https://lh3.googleusercontent.com/a-/AOh14Gi9YSzzf_VDnAbvxMnJJqez5U-I_wOQ5OyJRmw_=s64",
      "userId": "05542026783145230534"
     },
     "user_tz": 300
    },
    "id": "M2UAAzWHKVYe",
    "outputId": "1090364d-335a-4cc1-e285-ebde18f166d4"
   },
   "outputs": [
    {
     "name": "stdout",
     "output_type": "stream",
     "text": [
      "Downloading articles from  bbc\n",
      "1 articles downloaded from bbc , url:  https://www.bbc.co.uk/news/world-middle-east-53659282\n",
      "2 articles downloaded from bbc , url:  https://www.bbc.co.uk/news/uk-scotland-53666665\n",
      "Article `download()` failed with HTTPSConnectionPool(host='www.bbc.co.uk', port=443): Read timed out. (read timeout=7) on URL https://www.bbc.co.uk/news/business-53661767\n",
      "continuing...\n",
      "3 articles downloaded from bbc , url:  https://www.bbc.co.uk/news/uk-england-london-53649072\n",
      "Article `download()` failed with HTTPSConnectionPool(host='www.bbc.co.uk', port=443): Read timed out. (read timeout=7) on URL https://www.bbc.co.uk/news/uk-politics-53662230\n",
      "continuing...\n",
      "Article `download()` failed with ('Connection aborted.', OSError(0, 'Error')) on URL https://www.bbc.co.uk/news/uk-england-stoke-staffordshire-53581973\n",
      "continuing...\n",
      "4 articles downloaded from bbc , url:  https://www.bbc.co.uk/news/uk-england-berkshire-53667021\n",
      "Article `download()` failed with HTTPSConnectionPool(host='www.bbc.co.uk', port=443): Read timed out. (read timeout=7) on URL https://www.bbc.co.uk/news/uk-53665180\n",
      "continuing...\n",
      "5 articles downloaded from bbc , url:  https://www.bbc.co.uk/news/uk-politics-53654644\n",
      "6 articles downloaded from bbc , url:  https://www.bbc.co.uk/news/uk-england-birmingham-53668134\n",
      "7 articles downloaded from bbc , url:  https://www.bbc.co.uk/news/uk-england-hampshire-53617762\n",
      "8 articles downloaded from bbc , url:  https://www.bbc.co.uk/news/world-middle-east-53656313\n",
      "9 articles downloaded from bbc , url:  https://www.bbc.co.uk/news/entertainment-arts-53655260\n",
      "10 articles downloaded from bbc , url:  https://www.bbc.co.uk/news/uk-53658866\n",
      "11 articles downloaded from bbc , url:  https://www.bbc.co.uk/news/science-environment-53549299\n",
      "12 articles downloaded from bbc , url:  https://www.bbc.co.uk/news/uk-wales-53662051\n",
      "13 articles downloaded from bbc , url:  https://www.bbc.co.uk/news/technology-53666222\n",
      "14 articles downloaded from bbc , url:  https://www.bbc.co.uk/news/science-environment-53657747\n",
      "15 articles downloaded from bbc , url:  https://www.bbc.co.uk/news/uk-england-derbyshire-53641164\n",
      "16 articles downloaded from bbc , url:  https://www.bbc.co.uk/news/science-environment-53653506\n",
      "17 articles downloaded from bbc , url:  https://www.bbc.co.uk/news/business-53649505\n",
      "18 articles downloaded from bbc , url:  https://www.bbc.co.uk/news/uk-53648412\n",
      "19 articles downloaded from bbc , url:  https://www.bbc.co.uk/news/technology-53654338\n",
      "20 articles downloaded from bbc , url:  https://www.bbc.co.uk/news/uk-england-south-yorkshire-53648742\n",
      "21 articles downloaded from bbc , url:  https://www.bbc.co.uk/news/explainers-53664064\n",
      "22 articles downloaded from bbc , url:  https://www.bbc.co.uk/news/uk-england-northamptonshire-53450901\n",
      "23 articles downloaded from bbc , url:  https://www.bbc.co.uk/news/world-asia-china-53650246\n",
      "24 articles downloaded from bbc , url:  https://www.bbc.co.uk/news/technology-53656462\n",
      "25 articles downloaded from bbc , url:  https://www.bbc.co.uk/news/uk-scotland-glasgow-west-53653683\n",
      "Article `download()` failed with ('Connection aborted.', OSError(0, 'Error')) on URL https://www.bbc.co.uk/news/world-us-canada-53610814\n",
      "continuing...\n",
      "26 articles downloaded from bbc , url:  https://www.bbc.co.uk/news/world-us-canada-53654318\n",
      "27 articles downloaded from bbc , url:  https://www.bbc.co.uk/news/technology-53640724\n",
      "28 articles downloaded from bbc , url:  https://www.bbc.co.uk/news/business-53531797\n",
      "29 articles downloaded from bbc , url:  https://www.bbc.co.uk/news/world-asia-india-53646862\n",
      "30 articles downloaded from bbc , url:  https://www.bbc.co.uk/news/world-africa-53637513\n",
      "31 articles downloaded from bbc , url:  https://www.bbc.co.uk/news/world-us-canada-53481112\n",
      "32 articles downloaded from bbc , url:  https://www.bbc.co.uk/sport/av/cricket/53665196\n",
      "33 articles downloaded from bbc , url:  https://www.bbc.co.uk/sport/rugby-union/53667495\n",
      "34 articles downloaded from bbc , url:  https://www.bbc.co.uk/sport/formula1/53657231\n",
      "35 articles downloaded from bbc , url:  https://www.bbc.co.uk/sport/av/olympics/53498188\n",
      "36 articles downloaded from bbc , url:  https://www.bbc.co.uk/sport/av/basketball/53666565\n",
      "37 articles downloaded from bbc , url:  https://www.bbc.co.uk/news/education-51643556\n",
      "38 articles downloaded from bbc , url:  https://www.bbc.co.uk/news/uk-england-52934822\n",
      "39 articles downloaded from bbc , url:  https://www.bbc.co.uk/news/explainers-52544307\n",
      "40 articles downloaded from bbc , url:  https://www.bbc.co.uk/news/explainers-53640249\n",
      "41 articles downloaded from bbc , url:  https://www.bbc.co.uk/news/explainers-52442754\n",
      "Article `download()` failed with HTTPSConnectionPool(host='www.bbc.co.uk', port=443): Read timed out. (read timeout=7) on URL https://www.bbc.co.uk/news/health-51048366\n",
      "continuing...\n",
      "42 articles downloaded from bbc , url:  https://www.bbc.co.uk/news/explainers-53517968\n",
      "43 articles downloaded from bbc , url:  https://www.bbc.co.uk/news/explainers-52646738\n",
      "44 articles downloaded from bbc , url:  https://www.bbc.co.uk/news/health-51943612\n",
      "45 articles downloaded from bbc , url:  https://www.bbc.co.uk/news/explainers-52135342\n",
      "46 articles downloaded from bbc , url:  https://www.bbc.co.uk/sport/basketball/53556565\n",
      "Downloading articles from  theguardian\n",
      "1 articles downloaded from theguardian , url:  https://www.theguardian.com/world/live/2020/aug/04/beirut-explosion-huge-blast-port-lebanon-capital\n",
      "2 articles downloaded from theguardian , url:  https://www.theguardian.com/world/2020/aug/05/visual-guide-how-explosion-caused-mass-casualties-and-devastation-across-beirut\n",
      "3 articles downloaded from theguardian , url:  https://www.theguardian.com/world/2020/aug/05/beirut-families-search-for-loved-ones-feared-trapped-under-rubble-blast-lebanon\n",
      "4 articles downloaded from theguardian , url:  https://www.theguardian.com/politics/live/2020/aug/05/uk-coronavirus-live-schools-open-england-childrens-commissioner-covid-19-latest-updates\n",
      "5 articles downloaded from theguardian , url:  https://www.theguardian.com/environment/2020/aug/05/deadly-diseases-from-wildlife-thrive-when-nature-is-destroyed-study-finds\n",
      "6 articles downloaded from theguardian , url:  https://www.theguardian.com/tv-and-radio/2020/aug/05/press-hounded-caroline-flack-her-mother-tells-inquest\n",
      "7 articles downloaded from theguardian , url:  https://www.theguardian.com/artanddesign/2020/aug/05/sculptor-thomas-j-price-black-everywoman-reaching-out-erected-at-public-art-walk-in-london\n",
      "8 articles downloaded from theguardian , url:  https://www.theguardian.com/science/2020/aug/05/public-health-england-issues-rare-alert-over-illicit-prescription-drugs\n",
      "9 articles downloaded from theguardian , url:  https://www.theguardian.com/world/2020/aug/05/secret-footage-uighur-detention-merdan-ghappar-chinese-prison-xinjiang\n",
      "10 articles downloaded from theguardian , url:  https://www.theguardian.com/politics/2020/aug/05/john-hume-funeral-in-derry-unites-mourners-in-sombre-farewell\n",
      "11 articles downloaded from theguardian , url:  https://www.theguardian.com/law/2020/aug/05/pc-andrew-harpers-widow-launches-andrews-law-campaign\n",
      "12 articles downloaded from theguardian , url:  https://www.theguardian.com/uk-news/2020/aug/05/man-convicted-of-rape-and-murder-of-friend-as-he-walked-her-home\n",
      "13 articles downloaded from theguardian , url:  https://www.theguardian.com/environment/2020/aug/05/new-guinea-has-greatest-plant-diversity-of-any-island-in-the-world-study-reveals\n",
      "14 articles downloaded from theguardian , url:  https://www.theguardian.com/world/live/2020/aug/05/coronavirus-live-news-trump-pressed-on-false-death-rate-claim-as-europe-faces-second-wave\n",
      "15 articles downloaded from theguardian , url:  https://www.theguardian.com/business/2020/aug/05/wh-smith-to-cut-1500-jobs-as-covid-19-crisis-hits-sales\n",
      "16 articles downloaded from theguardian , url:  https://www.theguardian.com/travel/2020/aug/05/uk-tourists-cancel-a-trip-than-enter-quarantine-wear-masks-covid-coronavirus\n",
      "17 articles downloaded from theguardian , url:  https://www.theguardian.com/world/2020/aug/05/schools-reopening-in-england-risks-sharp-rise-in-covid-cases-says-expert\n",
      "18 articles downloaded from theguardian , url:  https://www.theguardian.com/world/2020/aug/05/i-had-to-hide-myself-again-young-lgbt-people-on-their-life-in-uk-lockdown\n",
      "19 articles downloaded from theguardian , url:  https://www.theguardian.com/stage/2020/aug/05/christmas-panto-cancellations-theatres-uk-industry\n",
      "20 articles downloaded from theguardian , url:  https://www.theguardian.com/business/2020/aug/05/metro-bank-back-office-staff-can-work-from-home-until-after-flu-season-covid-19\n",
      "21 articles downloaded from theguardian , url:  https://www.theguardian.com/australia-news/2020/aug/05/victoria-records-australias-worst-day-of-covid-19-with-15-deaths-and-725-new-cases\n",
      "22 articles downloaded from theguardian , url:  https://www.theguardian.com/business/2020/aug/04/virgin-atlantic-files-for-bankruptcy-as-covid-continues-to-hurt-airlines\n",
      "23 articles downloaded from theguardian , url:  https://www.theguardian.com/world/2020/aug/05/sri-lanka-election-vote-coronavirus-rajapaksa\n",
      "24 articles downloaded from theguardian , url:  https://www.theguardian.com/world/2020/aug/04/joe-biden-donald-trump-election-coronavirus-do-your-job\n",
      "25 articles downloaded from theguardian , url:  https://www.theguardian.com/stage/2020/aug/05/creepy-uncomfortable-sexism-harassment-assault-faced-by-female-standups\n",
      "26 articles downloaded from theguardian , url:  https://www.theguardian.com/music/2020/aug/05/20-iconic-festival-sets-throbbing-gristle-atp-2004\n",
      "27 articles downloaded from theguardian , url:  https://www.theguardian.com/food/shortcuts/2020/aug/05/tea-in-a-microwave-new-research-says-it-could-be-the-perfect-cuppa\n",
      "28 articles downloaded from theguardian , url:  https://www.theguardian.com/us-news/2020/aug/05/joe-biden-democrats-running-mate-vice-president\n",
      "29 articles downloaded from theguardian , url:  https://www.theguardian.com/world/2020/aug/05/meet-david-born-in-france-raised-in-belgium-facing-removal-to-the-drc\n",
      "30 articles downloaded from theguardian , url:  https://www.theguardian.com/tv-and-radio/2020/aug/05/hey-duggee-how-a-cult-cbeebies-show-became-the-most-surprising-tv-smash-hit-of-lockdown\n",
      "31 articles downloaded from theguardian , url:  https://www.theguardian.com/technology/2020/aug/05/samsung-galaxy-note20-launch-zoom-xbox-z-fold-2-tab-s7-buds-live\n",
      "32 articles downloaded from theguardian , url:  https://www.theguardian.com/food/2020/aug/05/17-ways-salad-dressings-oil-vinegar-tahini-couscous\n",
      "33 articles downloaded from theguardian , url:  https://www.theguardian.com/news/audio/2020/aug/05/how-the-world-is-coping-with-coronavirus-six-months-on\n",
      "34 articles downloaded from theguardian , url:  https://www.theguardian.com/news/audio/2020/aug/04/how-cancer-care-was-sidelined-in-the-fight-against-covid-19-podcast\n",
      "35 articles downloaded from theguardian , url:  https://www.theguardian.com/world/audio/2020/aug/03/inside-lebanons-economic-crisis\n",
      "36 articles downloaded from theguardian , url:  https://www.theguardian.com/commentisfree/2020/aug/05/devastating-siege-kashmir-colony-india-crushing-dissent\n",
      "37 articles downloaded from theguardian , url:  https://www.theguardian.com/commentisfree/2020/aug/05/government-buying-90-minute-covid-tests-without-evidence-they-work\n",
      "38 articles downloaded from theguardian , url:  https://www.theguardian.com/commentisfree/2020/aug/05/first-drive-electric-car-warning-light-flashed-charge-points\n",
      "39 articles downloaded from theguardian , url:  https://www.theguardian.com/commentisfree/2020/aug/05/collective-caring-spirit-emerged-during-lockdown-covid-19-individual-choice\n",
      "40 articles downloaded from theguardian , url:  https://www.theguardian.com/commentisfree/2020/aug/05/for-those-of-us-living-away-from-lebanon-we-are-broken-by-this-latest-tragedy\n",
      "41 articles downloaded from theguardian , url:  https://www.theguardian.com/commentisfree/2020/aug/05/juan-carlos-spain-immunity-king-graft-fraud\n",
      "42 articles downloaded from theguardian , url:  https://www.theguardian.com/sport/live/2020/aug/05/england-v-pakistan-first-test-day-one-live\n",
      "43 articles downloaded from theguardian , url:  https://www.theguardian.com/football/2020/aug/05/arsenal-plan-55-redundancies-to-enable-us-to-continue-to-invest-in-the-team-impact-covid-19-revenue\n",
      "44 articles downloaded from theguardian , url:  https://www.theguardian.com/sport/2020/aug/05/six-nations-confirms-dates-for-delayed-mens-and-womens-tournaments\n",
      "45 articles downloaded from theguardian , url:  https://www.theguardian.com/football/blog/2020/aug/05/restart-football-offers-glimpse-tv-centred-future\n",
      "46 articles downloaded from theguardian , url:  https://www.theguardian.com/football/blog/2020/aug/05/joe-bryan-seizes-the-moment-to-grab-glory-and-crush-brentford-spirit\n",
      "47 articles downloaded from theguardian , url:  https://www.theguardian.com/football/2020/aug/05/ze-maria-brazil-parma-inter-kenya-ancelotti-adriano-ronaldo-romario-mancini-mourinho\n",
      "48 articles downloaded from theguardian , url:  https://www.theguardian.com/football/2020/aug/05/footballers-who-have-had-club-shirts-retired-having-played-very-few-games\n",
      "49 articles downloaded from theguardian , url:  https://www.theguardian.com/football/audio/2020/aug/05/the-france-football-captain-who-murdered-for-hitler-podcast\n",
      "50 articles downloaded from theguardian , url:  https://www.theguardian.com/society/2020/aug/05/bristol-prison-race-failings-led-to-attack-on-inmate-says-report\n",
      "51 articles downloaded from theguardian , url:  https://www.theguardian.com/uk-news/2020/aug/05/meghan-wins-court-bid-to-keep-friends-identities-secret-duchess-of-sussex\n",
      "52 articles downloaded from theguardian , url:  https://www.theguardian.com/politics/2020/aug/05/douglas-ross-appointed-leader-of-scottish-conservatives\n",
      "53 articles downloaded from theguardian , url:  https://www.theguardian.com/business/live/2020/aug/05/gold-record-high-2000-uk-eurozone-services-sector-covid-19-ftse-business-live\n",
      "54 articles downloaded from theguardian , url:  https://www.theguardian.com/politics/2020/aug/05/johnson-cummings-and-prince-andrew-among-new-spitting-image-puppets\n",
      "55 articles downloaded from theguardian , url:  https://www.theguardian.com/politics/2020/aug/04/starmer-says-boris-johnson-has-one-month-to-fix-coronavirus-test-and-trace-system\n",
      "56 articles downloaded from theguardian , url:  https://www.theguardian.com/tv-and-radio/2020/aug/05/britons-tv-covid-lockdown-ofcom-streaming-netflix-amazon\n",
      "57 articles downloaded from theguardian , url:  https://www.theguardian.com/society/2020/aug/04/bame-workers-disproportionately-hit-uk-economic-downturn-data-shows-coronavirus\n",
      "58 articles downloaded from theguardian , url:  https://www.theguardian.com/society/2020/aug/04/english-councils-with-highest-covid-rates-launch-own-test-and-trace-systems\n",
      "59 articles downloaded from theguardian , url:  https://www.theguardian.com/money/2020/aug/05/one-in-eight-childcare-workers-in-england-earn-less-than-5-an-hour\n",
      "60 articles downloaded from theguardian , url:  https://www.theguardian.com/us-news/2020/aug/05/trump-republican-national-convention-speech-white-house-south-lawn\n",
      "61 articles downloaded from theguardian , url:  https://www.theguardian.com/society/2020/aug/05/disgusting-study-rating-attractiveness-of-women-with-endometriosis-retracted-by-medical-journal\n",
      "62 articles downloaded from theguardian , url:  https://www.theguardian.com/world/2020/aug/05/ayodhya-narendra-modi-temple-foundation-stone-ceremony\n",
      "63 articles downloaded from theguardian , url:  https://www.theguardian.com/culture/2020/aug/05/who-is-jonathan-swan-the-reporter-who-grilled-trump-and-what-do-kangaroos-have-to-do-with-it\n",
      "64 articles downloaded from theguardian , url:  https://www.theguardian.com/technology/2020/aug/05/antitrust-bill-new-york-easier-to-sue-big-tech\n",
      "65 articles downloaded from theguardian , url:  https://www.theguardian.com/environment/2020/aug/05/tesco-urged-to-ditch-meat-company-over-alleged-links-to-amazon-deforestation\n",
      "66 articles downloaded from theguardian , url:  https://www.theguardian.com/world/2020/aug/05/realised-dream-italy-oldest-graduate-top-of-the-class-at-96\n",
      "67 articles downloaded from theguardian , url:  https://www.theguardian.com/environment/2020/aug/05/throng-of-new-penguin-colonies-in-antarctica-spotted-from-space\n",
      "68 articles downloaded from theguardian , url:  https://www.theguardian.com/us-news/2020/aug/05/us-announces-highest-level-visit-to-taiwan-in-decades-risking-china-anger\n",
      "69 articles downloaded from theguardian , url:  https://www.theguardian.com/global-development/2020/aug/05/us-could-become-safe-haven-for-corporate-abusers-activists-warn\n",
      "70 articles downloaded from theguardian , url:  https://www.theguardian.com/world/video/2020/aug/04/beirut-explosion-scores-dead-and-thousands-hurt-as-blast-rips-through-city-video-report\n",
      "71 articles downloaded from theguardian , url:  https://www.theguardian.com/environment/video/2020/jul/27/paris-climate-agreement-us-exit-trump-world-video-explainer\n",
      "72 articles downloaded from theguardian , url:  https://www.theguardian.com/commentisfree/video/2020/jul/22/a-new-normal-work-life-and-balancing-it-all-during-coronavirus-video\n",
      "73 articles downloaded from theguardian , url:  https://www.theguardian.com/law/video/2020/jul/07/does-stop-and-search-in-the-uk-need-to-change-video-explainer\n",
      "74 articles downloaded from theguardian , url:  https://www.theguardian.com/world/video/2020/jul/04/what-chinas-new-security-law-means-for-hong-kong-video-explainer\n",
      "75 articles downloaded from theguardian , url:  https://www.theguardian.com/uk-news/video/2020/jul/30/young-british-black-from-shetland-to-monmouth-three-young-voices-behind-the-uks-anti-racism-protests-video\n",
      "76 articles downloaded from theguardian , url:  https://www.theguardian.com/world/video/2020/jun/26/how-white-fragility-obstructs-the-fight-against-racism-video-explainer\n",
      "77 articles downloaded from theguardian , url:  https://www.theguardian.com/music/2020/aug/05/will-the-uk-ever-love-foreign-language-pop\n",
      "78 articles downloaded from theguardian , url:  https://www.theguardian.com/books/2020/aug/05/sean-hannity-removes-gobbledygook-latin-motto-from-book-cover\n",
      "79 articles downloaded from theguardian , url:  https://www.theguardian.com/film/2020/aug/05/china-hollywood-films-damaging-impact-report\n",
      "80 articles downloaded from theguardian , url:  https://www.theguardian.com/music/2020/aug/05/rapper-talib-kweli-banned-from-twitter-after-dispute-with-woman\n",
      "81 articles downloaded from theguardian , url:  https://www.theguardian.com/film/2020/aug/05/mortal-review\n",
      "82 articles downloaded from theguardian , url:  https://www.theguardian.com/music/2020/aug/05/stewart-copeland-father-miles-cia-spy-the-police\n",
      "83 articles downloaded from theguardian , url:  https://www.theguardian.com/thehybridhero/2020/mar/11/hybrid-cars-have-to-be-plugged-in-and-five-other-common-misconceptions\n",
      "84 articles downloaded from theguardian , url:  https://www.theguardian.com/all-in-all-together/2020/jul/30/10-summer-wellness-ideas-for-you-and-your-family\n",
      "85 articles downloaded from theguardian , url:  https://www.theguardian.com/online-learning-revolution/2020/may/14/its-working-fantastically-two-parents-on-adjusting-to-their-lockdown-role-of-proxy-teacher\n",
      "86 articles downloaded from theguardian , url:  https://www.theguardian.com/go-make-it/2020/jul/27/the-teacher-the-baker-and-the-snack-box-maker-meet-the-small-firms-going-online-for-the-first-time\n",
      "87 articles downloaded from theguardian , url:  https://www.theguardian.com/food/2020/aug/05/how-to-make-the-perfect-russian-salad-felicity-cloake\n",
      "88 articles downloaded from theguardian , url:  https://www.theguardian.com/travel/2020/aug/05/sun-sea-seafood-and-few-covid-cases-summer-in-southern-puglia\n",
      "89 articles downloaded from theguardian , url:  https://www.theguardian.com/technology/2020/aug/05/mi-pan-su-su-su-how-a-dancing-llama-and-a-nonsensical-song-captivated-tiktok\n",
      "90 articles downloaded from theguardian , url:  https://www.theguardian.com/money/2020/aug/05/eon-is-putting-my-squeaky-clean-credit-history-in-danger\n",
      "91 articles downloaded from theguardian , url:  https://www.theguardian.com/fashion/2020/aug/04/you-are-more-than-a-body-the-lingerie-brand-that-picks-models-without-seeing-them\n",
      "92 articles downloaded from theguardian , url:  https://www.theguardian.com/lifeandstyle/2020/aug/04/coronavirus-sexual-couples-love-lockdown-relationships\n",
      "93 articles downloaded from theguardian , url:  https://www.theguardian.com/world/2020/aug/05/beirut-explosion-lebanon-tell-us-how-you-are-affected\n",
      "94 articles downloaded from theguardian , url:  https://www.theguardian.com/society/2020/aug/04/tell-us-how-have-uk-childrens-services-been-during-the-pandemic\n",
      "95 articles downloaded from theguardian , url:  https://www.theguardian.com/travel/2020/aug/04/first-time-uk-campers-tell-us-about-your-experiences\n",
      "96 articles downloaded from theguardian , url:  https://www.theguardian.com/sport/2020/aug/04/which-sports-and-exercises-have-you-been-enjoying-for-the-first-time-in-uk\n",
      "97 articles downloaded from theguardian , url:  https://www.theguardian.com/world/2020/aug/04/hiroshima-atomic-bomb-us-japan-history\n",
      "98 articles downloaded from theguardian , url:  https://www.theguardian.com/world/2020/aug/05/our-identity-has-been-robbed-life-in-kashmir-after-a-year-of-crisis\n",
      "99 articles downloaded from theguardian , url:  https://www.theguardian.com/environment/2020/aug/04/one-thing-ive-learned-about-modern-farming-we-shouldnt-do-it-like-this\n",
      "100 articles downloaded from theguardian , url:  https://www.theguardian.com/global-development/2020/aug/05/how-renamed-streets-in-mumbais-slums-are-encouraging-children-to-study\n",
      "101 articles downloaded from theguardian , url:  https://www.theguardian.com/world/2020/aug/04/i-just-dont-exist-the-italian-chef-italy-will-not-recognise\n",
      "102 articles downloaded from theguardian , url:  https://www.theguardian.com/politics/2020/aug/04/labour-dawn-butler-people-threatened-to-kill-me-ive-been-attacked-on-the-tube\n",
      "103 articles downloaded from theguardian , url:  https://www.theguardian.com/news/gallery/2020/aug/05/horses-and-illuminations-in-india-wednesdays-best-photos\n",
      "104 articles downloaded from theguardian , url:  https://www.theguardian.com/world/gallery/2020/aug/05/beirut-explosion-aftermath-lebanon-in-pictures\n",
      "105 articles downloaded from theguardian , url:  https://www.theguardian.com/artanddesign/gallery/2020/aug/05/joni-mitchell-jimi-hendrix-isle-of-wight-festival-in-pictures\n",
      "106 articles downloaded from theguardian , url:  https://www.theguardian.com/stage/gallery/2020/aug/05/hamlet-branagh-rylance-rickman-in-pictures-tristram-kenton\n",
      "107 articles downloaded from theguardian , url:  https://www.theguardian.com/uk-news/gallery/2020/aug/04/150-years-of-the-british-red-cross-in-pictures\n",
      "108 articles downloaded from theguardian , url:  https://www.theguardian.com/artanddesign/gallery/2020/aug/04/occult-following-tarot-cards-in-pictures\n",
      "Building site for  breitbart\n",
      "1 articles downloaded from breitbart  using newspaper, url:  http://www.breitbart.com/politics/2020/08/05/watch-joe-biden-snaps-at-black-reporter-over-cognitive-test-question-are-you-a-junkie/\n",
      "2 articles downloaded from breitbart  using newspaper, url:  http://www.breitbart.com/politics/2020/08/05/joe-bidens-latest-brain-freeze-democrat-struggles-to-pronounce-the-term-mental-fitness/\n",
      "3 articles downloaded from breitbart  using newspaper, url:  http://www.breitbart.com/clips/2020/08/04/jill-biden-vows-husband-will-debate-trump-hell-be-there/\n",
      "4 articles downloaded from breitbart  using newspaper, url:  http://www.breitbart.com/politics/2020/08/05/donald-trump-black-lives-matter-a-marxist-group-that-is-not-good-for-our-country/\n",
      "5 articles downloaded from breitbart  using newspaper, url:  http://www.breitbart.com/economy/2020/08/05/private-payrolls-climb-just-167000-far-lower-than-expected-adp/\n",
      "6 articles downloaded from breitbart  using newspaper, url:  http://www.breitbart.com/entertainment/2020/08/05/oprah-coaches-white-people-on-how-to-navigate-unconscious-racism/\n",
      "7  Article has date of type None...\n",
      "8 articles downloaded from breitbart  using newspaper, url:  http://www.breitbart.com/national-security/2020/08/05/beirut-blast-blamed-on-explosive-cargo-seized-from-russian-ship/\n",
      "9 articles downloaded from breitbart  using newspaper, url:  http://www.breitbart.com/middle-east/2020/08/05/iranian-media-u-s-sabotage-may-have-caused-lebanon-blast/\n",
      "10 articles downloaded from breitbart  using newspaper, url:  http://www.breitbart.com/europe/2020/08/05/boris-johnson-set-approve-london-tiktok-global-hq-trump-mulls-ban-chinese-app/\n",
      "11 articles downloaded from breitbart  using newspaper, url:  http://www.breitbart.com/politics/2020/08/05/cotton-act-of-accepting-the-chinese-money-that-should-be-criminalized/\n",
      "12 articles downloaded from breitbart  using newspaper, url:  http://www.breitbart.com/politics/2020/08/05/gop-sen-hawley-unless-we-ensure-total-separation-from-china-tiktok-ought-to-be-banned/\n",
      "13 articles downloaded from breitbart  using newspaper, url:  http://www.breitbart.com/politics/2020/08/05/muslim-in-france-films-himself-slaughtering-sheep-in-bathtub-for-eid/\n",
      "14 articles downloaded from breitbart  using newspaper, url:  http://www.breitbart.com/europe/2020/08/05/berlin-police-210-rapes-from-march-to-july-half-of-cases-involve-migrants/\n",
      "15 articles downloaded from breitbart  using newspaper, url:  http://www.breitbart.com/politics/2020/08/05/furious-china-warns-u-s-over-hhs-secretary-azar-visit-to-taiwan/\n",
      "16 articles downloaded from breitbart  using newspaper, url:  http://www.breitbart.com/politics/2020/08/05/australian-prime-minister-war-between-america-china-no-longer-inconceivable/\n",
      "17 articles downloaded from breitbart  using newspaper, url:  http://www.breitbart.com/politics/2020/08/04/cnns-keilar-to-trump-adviser-mercedes-schlapp-on-mail-in-voting-youre-saying-a-bunch-of-crap/\n",
      "18 articles downloaded from breitbart  using newspaper, url:  http://www.breitbart.com/politics/2020/08/04/top-american-rabbinical-leader-unequivocally-endorses-trump/\n",
      "19 articles downloaded from breitbart  using newspaper, url:  http://www.breitbart.com/national-security/2020/08/04/photos-devastated-beirut-emerges-from-the-ashes-after-deadly-explosion/\n",
      "20 articles downloaded from breitbart  using newspaper, url:  http://www.breitbart.com/national-security/2020/08/04/photos-devastated-beirut-emerges-from-the-ashes-after-deadly-explosion/#disqus_thread\n",
      "21 articles downloaded from breitbart  using newspaper, url:  http://www.breitbart.com/clips/2020/08/04/de-blasio-what-were-seeing-here-with-isaias-is-the-result-of-global-warming/\n",
      "22 articles downloaded from breitbart  using newspaper, url:  http://www.breitbart.com/clips/2020/08/04/de-blasio-what-were-seeing-here-with-isaias-is-the-result-of-global-warming/#disqus_thread\n",
      "23 articles downloaded from breitbart  using newspaper, url:  http://www.breitbart.com/2020-election/2020/08/04/la-county-vote-defund-police-ballot/\n",
      "24 articles downloaded from breitbart  using newspaper, url:  http://www.breitbart.com/2020-election/2020/08/04/la-county-vote-defund-police-ballot/#disqus_thread\n",
      "25 articles downloaded from breitbart  using newspaper, url:  http://www.breitbart.com/clips/2020/08/04/bernstein-calls-on-gop-mcconnell-to-save-lives-in-pandemic-by-demanding-trump-resign/\n",
      "26 articles downloaded from breitbart  using newspaper, url:  http://www.breitbart.com/clips/2020/08/04/bernstein-calls-on-gop-mcconnell-to-save-lives-in-pandemic-by-demanding-trump-resign/#disqus_thread\n",
      "27 articles downloaded from breitbart  using newspaper, url:  http://www.breitbart.com/economy/2020/08/04/planned-parenthood-keep-ppp-funds-government-order-return/\n",
      "28 articles downloaded from breitbart  using newspaper, url:  http://www.breitbart.com/economy/2020/08/04/planned-parenthood-keep-ppp-funds-government-order-return/#disqus_thread\n",
      "29 articles downloaded from breitbart  using newspaper, url:  http://www.breitbart.com/politics/2020/08/04/democrat-donor-ed-buck-charged-with-four-additional-felonies/\n",
      "30 articles downloaded from breitbart  using newspaper, url:  http://www.breitbart.com/politics/2020/08/04/democrat-donor-ed-buck-charged-with-four-additional-felonies/#disqus_thread\n",
      "31 articles downloaded from breitbart  using newspaper, url:  http://www.breitbart.com/politics/2020/08/04/peter-meijer-wins-primary-in-michigan-district-held-by-rep-justin-amash/\n",
      "32 articles downloaded from breitbart  using newspaper, url:  http://www.breitbart.com/politics/2020/08/04/peter-meijer-wins-primary-in-michigan-district-held-by-rep-justin-amash/#disqus_thread\n",
      "33 articles downloaded from breitbart  using newspaper, url:  http://www.breitbart.com/2020-election/2020/08/04/live-updates-mi-ks-mo-az-wa-election-results/\n",
      "34 articles downloaded from breitbart  using newspaper, url:  http://www.breitbart.com/2020-election/2020/08/04/live-updates-mi-ks-mo-az-wa-election-results/#disqus_thread\n",
      "35 articles downloaded from breitbart  using newspaper, url:  http://www.breitbart.com/politics/2020/08/04/joe-biden-backs-creation-of-national-american-latino-museum/\n",
      "36 articles downloaded from breitbart  using newspaper, url:  http://www.breitbart.com/politics/2020/08/04/joe-biden-backs-creation-of-national-american-latino-museum/#disqus_thread\n",
      "37 articles downloaded from breitbart  using newspaper, url:  http://www.breitbart.com/clips/2020/08/04/kamala-harris-petty-weak-trump-is-going-to-be-defeated-in-november/\n",
      "38 articles downloaded from breitbart  using newspaper, url:  http://www.breitbart.com/clips/2020/08/04/kamala-harris-petty-weak-trump-is-going-to-be-defeated-in-november/#disqus_thread\n",
      "39 articles downloaded from breitbart  using newspaper, url:  http://www.breitbart.com/clips/2020/08/04/rnc-chair-mcdaniel-if-you-cannot-debate-you-should-not-be-president/\n",
      "40 articles downloaded from breitbart  using newspaper, url:  http://www.breitbart.com/clips/2020/08/04/rnc-chair-mcdaniel-if-you-cannot-debate-you-should-not-be-president/#disqus_thread\n",
      "41 articles downloaded from breitbart  using newspaper, url:  http://www.breitbart.com/sports/2020/08/04/navy-seals-cut-ties-with-museum-over-colin-kaepernick-video/\n",
      "42 articles downloaded from breitbart  using newspaper, url:  http://www.breitbart.com/sports/2020/08/04/navy-seals-cut-ties-with-museum-over-colin-kaepernick-video/#disqus_thread\n",
      "43 articles downloaded from breitbart  using newspaper, url:  http://www.breitbart.com/sports/2020/08/04/tcu-coach-gary-patterson-apologizes-for-using-n-word-while-telling-player-not-use-word/\n",
      "44 articles downloaded from breitbart  using newspaper, url:  http://www.breitbart.com/sports/2020/08/04/tcu-coach-gary-patterson-apologizes-for-using-n-word-while-telling-player-not-use-word/#disqus_thread\n",
      "45 articles downloaded from breitbart  using newspaper, url:  http://www.breitbart.com/sports/2020/08/04/spurs-gregg-popovich-hispanics-are-also-victims-of-systemic-racism/\n",
      "46 articles downloaded from breitbart  using newspaper, url:  http://www.breitbart.com/sports/2020/08/04/spurs-gregg-popovich-hispanics-are-also-victims-of-systemic-racism/#disqus_thread\n",
      "47 articles downloaded from breitbart  using newspaper, url:  http://www.breitbart.com/sports/2020/08/04/stars-golden-knights-players-kneel-during-american-and-canadian-national-anthems/\n",
      "48 articles downloaded from breitbart  using newspaper, url:  http://www.breitbart.com/sports/2020/08/04/stars-golden-knights-players-kneel-during-american-and-canadian-national-anthems/#disqus_thread\n",
      "49 articles downloaded from breitbart  using newspaper, url:  http://www.breitbart.com/politics/2020/08/04/nigerian-governor-says-army-not-boko-haram-ambushed-his-convoy/\n",
      "50 articles downloaded from breitbart  using newspaper, url:  http://www.breitbart.com/politics/2020/08/04/nigerian-governor-says-army-not-boko-haram-ambushed-his-convoy/#disqus_thread\n",
      "51 articles downloaded from breitbart  using newspaper, url:  http://www.breitbart.com/national-security/2020/08/04/w-h-o-casts-doubt-on-coronavirus-originating-in-wuhan-china/\n",
      "52 articles downloaded from breitbart  using newspaper, url:  http://www.breitbart.com/national-security/2020/08/04/w-h-o-casts-doubt-on-coronavirus-originating-in-wuhan-china/#disqus_thread\n",
      "53 articles downloaded from breitbart  using newspaper, url:  http://www.breitbart.com/politics/2020/08/04/human-remains-vehicle-found-marine-accident-california-coast/\n",
      "54 articles downloaded from breitbart  using newspaper, url:  http://www.breitbart.com/politics/2020/08/04/human-remains-vehicle-found-marine-accident-california-coast/#disqus_thread\n",
      "55 articles downloaded from breitbart  using newspaper, url:  http://www.breitbart.com/tech/2020/08/04/interpol-reports-alarming-rate-cyberattacks-during-coronavirus-pandemic/\n",
      "56 articles downloaded from breitbart  using newspaper, url:  http://www.breitbart.com/tech/2020/08/04/interpol-reports-alarming-rate-cyberattacks-during-coronavirus-pandemic/#disqus_thread\n",
      "57 articles downloaded from breitbart  using newspaper, url:  http://www.breitbart.com/politics/2020/08/04/lindsey-graham-on-portland-riots-without-feds-to-protect-courthouse-theyd-have-burned-the-god-damned-thing-down/\n",
      "58 articles downloaded from breitbart  using newspaper, url:  http://www.breitbart.com/politics/2020/08/04/lindsey-graham-on-portland-riots-without-feds-to-protect-courthouse-theyd-have-burned-the-god-damned-thing-down/#disqus_thread\n",
      "59 articles downloaded from breitbart  using newspaper, url:  http://www.breitbart.com/clips/2020/08/04/trump-i-want-600-unemployment-benefits-to-continue/\n",
      "60 articles downloaded from breitbart  using newspaper, url:  http://www.breitbart.com/clips/2020/08/04/trump-i-want-600-unemployment-benefits-to-continue/#disqus_thread\n",
      "61 articles downloaded from breitbart  using newspaper, url:  http://www.breitbart.com/politics/2020/08/04/watch-democrats-refuse-to-condemn-antifa-in-senate-hearing/\n",
      "62 articles downloaded from breitbart  using newspaper, url:  http://www.breitbart.com/politics/2020/08/04/watch-democrats-refuse-to-condemn-antifa-in-senate-hearing/#disqus_thread\n",
      "63 articles downloaded from breitbart  using newspaper, url:  http://www.breitbart.com/entertainment/2020/08/04/cher-fk-those-heartless-republican-gutter-rats/\n",
      "64 articles downloaded from breitbart  using newspaper, url:  http://www.breitbart.com/entertainment/2020/08/04/cher-fk-those-heartless-republican-gutter-rats/#disqus_thread\n",
      "65 articles downloaded from breitbart  using newspaper, url:  http://www.breitbart.com/entertainment/2020/08/04/report-ellen-degeneres-show-ratings-plummet-to-all-time-low/\n",
      "66 articles downloaded from breitbart  using newspaper, url:  http://www.breitbart.com/entertainment/2020/08/04/report-ellen-degeneres-show-ratings-plummet-to-all-time-low/#disqus_thread\n",
      "67 articles downloaded from breitbart  using newspaper, url:  http://www.breitbart.com/entertainment/2020/08/04/harry-shearer-swipes-at-the-simpsons-ban-on-white-actors-voicing-non-white-characters/\n",
      "68 articles downloaded from breitbart  using newspaper, url:  http://www.breitbart.com/entertainment/2020/08/04/harry-shearer-swipes-at-the-simpsons-ban-on-white-actors-voicing-non-white-characters/#disqus_thread\n",
      "69 articles downloaded from breitbart  using newspaper, url:  http://www.breitbart.com/politics/2020/08/04/exclusive-mike-braun-democrats-sabotaging-a-strong-economic-recovery-by-holding-coronavirus-aid-hostage/\n",
      "70 articles downloaded from breitbart  using newspaper, url:  http://www.breitbart.com/politics/2020/08/04/exclusive-mike-braun-democrats-sabotaging-a-strong-economic-recovery-by-holding-coronavirus-aid-hostage/#disqus_thread\n",
      "71 articles downloaded from breitbart  using newspaper, url:  http://www.breitbart.com/politics/2020/08/04/california-poll-biden-leads-trump-by-39-points-nine-more-than-hillary-in-2016/\n",
      "72 articles downloaded from breitbart  using newspaper, url:  http://www.breitbart.com/politics/2020/08/04/california-poll-biden-leads-trump-by-39-points-nine-more-than-hillary-in-2016/#disqus_thread\n",
      "73 articles downloaded from breitbart  using newspaper, url:  http://www.breitbart.com/politics/2020/08/04/donald-trump-beruit-explosion-looks-like-a-terrible-attack/\n",
      "74 articles downloaded from breitbart  using newspaper, url:  http://www.breitbart.com/politics/2020/08/04/donald-trump-beruit-explosion-looks-like-a-terrible-attack/#disqus_thread\n",
      "75 articles downloaded from breitbart  using newspaper, url:  http://www.breitbart.com/national-security/2020/08/04/china-bans-cell-phones-granaries-video-shows-moldy-corn/\n",
      "76 articles downloaded from breitbart  using newspaper, url:  http://www.breitbart.com/national-security/2020/08/04/china-bans-cell-phones-granaries-video-shows-moldy-corn/#disqus_thread\n",
      "77 articles downloaded from breitbart  using newspaper, url:  http://www.breitbart.com/national-security/2020/08/04/chinese-company-sues-apple-intellectual-property-theft/\n",
      "78 articles downloaded from breitbart  using newspaper, url:  http://www.breitbart.com/national-security/2020/08/04/chinese-company-sues-apple-intellectual-property-theft/#disqus_thread\n",
      "79 articles downloaded from breitbart  using newspaper, url:  http://www.breitbart.com/national-security/2020/08/04/singapore-forces-tracking-devices-on-those-entering-country/\n",
      "80 articles downloaded from breitbart  using newspaper, url:  http://www.breitbart.com/national-security/2020/08/04/singapore-forces-tracking-devices-on-those-entering-country/#disqus_thread\n",
      "81 articles downloaded from breitbart  using newspaper, url:  http://www.breitbart.com/asia/2020/08/04/china-accuses-us-military-dangerous-experiments-high-risk-pathogens/\n",
      "82 articles downloaded from breitbart  using newspaper, url:  http://www.breitbart.com/asia/2020/08/04/china-accuses-us-military-dangerous-experiments-high-risk-pathogens/#disqus_thread\n",
      "83 articles downloaded from breitbart  using newspaper, url:  http://www.breitbart.com/politics/2020/08/04/trump-campaign-encourages-supporters-to-wear-masks-we-have-nothing-to-lose/\n",
      "84 articles downloaded from breitbart  using newspaper, url:  http://www.breitbart.com/politics/2020/08/04/trump-campaign-encourages-supporters-to-wear-masks-we-have-nothing-to-lose/#disqus_thread\n",
      "85 articles downloaded from breitbart  using newspaper, url:  http://www.breitbart.com/politics/2020/08/04/poll-vast-majority-voters-support-nationwide-mask-mandate/\n",
      "86 articles downloaded from breitbart  using newspaper, url:  http://www.breitbart.com/politics/2020/08/04/poll-vast-majority-voters-support-nationwide-mask-mandate/#disqus_thread\n",
      "87 articles downloaded from breitbart  using newspaper, url:  http://www.breitbart.com/health/2020/08/04/pennsylvania-reports-over-500-coronavirus-deaths-in-july-down-53-5-from-june/\n",
      "88 articles downloaded from breitbart  using newspaper, url:  http://www.breitbart.com/health/2020/08/04/pennsylvania-reports-over-500-coronavirus-deaths-in-july-down-53-5-from-june/#disqus_thread\n",
      "89 articles downloaded from breitbart  using newspaper, url:  http://www.breitbart.com/health/2020/08/04/cautious-optimism-as-california-coronavirus-cases-drop/\n",
      "90 articles downloaded from breitbart  using newspaper, url:  http://www.breitbart.com/health/2020/08/04/cautious-optimism-as-california-coronavirus-cases-drop/#disqus_thread\n",
      "91 articles downloaded from breitbart  using newspaper, url:  http://www.breitbart.com/clips/2020/08/04/mary-trump-calls-for-the-president-to-be-criminally-charged-for-coronavirus-response/\n",
      "92 articles downloaded from breitbart  using newspaper, url:  http://www.breitbart.com/clips/2020/08/04/mary-trump-calls-for-the-president-to-be-criminally-charged-for-coronavirus-response/#disqus_thread\n",
      "93 articles downloaded from breitbart  using newspaper, url:  http://www.breitbart.com/the-media/2020/08/04/white-house-press-shut-down-economy/\n",
      "94 articles downloaded from breitbart  using newspaper, url:  http://www.breitbart.com/the-media/2020/08/04/white-house-press-shut-down-economy/#disqus_thread\n",
      "95 articles downloaded from breitbart  using newspaper, url:  http://www.breitbart.com/entertainment/2020/08/05/disney-to-release-mulan-on-streaming-for-30-in-september/\n",
      "96 articles downloaded from breitbart  using newspaper, url:  http://www.breitbart.com/politics/2020/08/04/nolte-brian-stelter-is-gaslighting-you-about-cnns-push-for-biden-to-skip-debates/\n",
      "97 articles downloaded from breitbart  using newspaper, url:  http://www.breitbart.com/the-media/2020/08/03/manhattan-d-a-investigating-trump-for-possible-fraud-based-on-media-reports/\n",
      "98 articles downloaded from breitbart  using newspaper, url:  http://www.breitbart.com/politics/2020/08/03/charles-hurt-nadler-calls-riots-myth-blames-them-on-trump-barr/\n",
      "99 articles downloaded from breitbart  using newspaper, url:  http://www.breitbart.com/europe/2020/08/05/muslim-in-france-films-himself-slaughtering-sheep-in-bathtub-for-eid/\n",
      "100 articles downloaded from breitbart  using newspaper, url:  http://www.breitbart.com/clips/2020/08/05/tucker-carlson-joe-bidens-poll-numbers-rely-on-voters-not-hearing-him-speak/\n",
      "101 articles downloaded from breitbart  using newspaper, url:  http://www.breitbart.com/clips/2020/08/05/cotton-act-of-accepting-the-chinese-money-that-should-be-criminalized/\n",
      "102 articles downloaded from breitbart  using newspaper, url:  http://www.breitbart.com/national-security/2020/08/05/kremlin-mercenaries-arrested-in-minsk-were-en-route-to-latin-america/\n",
      "103 articles downloaded from breitbart  using newspaper, url:  http://www.breitbart.com/latin-america/2020/08/05/venezuela-faces-giant-oil-spill-amid-extreme-gas-shortages/\n",
      "104 articles downloaded from breitbart  using newspaper, url:  http://www.breitbart.com/middle-east/2020/08/05/major-kurdish-hospital-only-admitting-coronavirus-patients-amid-surge/\n",
      "105 articles downloaded from breitbart  using newspaper, url:  http://www.breitbart.com/middle-east/2020/08/05/israel-offers-enemy-state-lebanon-humanitarian-aid-in-wake-of-explosion/\n",
      "106 articles downloaded from breitbart  using newspaper, url:  http://www.breitbart.com/border/2020/08/05/2-5m-in-cocaine-found-at-texas-immigration-checkpoint-80-miles-from-border/\n",
      "107 articles downloaded from breitbart  using newspaper, url:  http://www.breitbart.com/europe/2020/08/05/local-lockdown-imposed-on-aberdeen-scotland-residents-should-not-travel-over-five-miles/\n",
      "108 articles downloaded from breitbart  using newspaper, url:  http://www.breitbart.com/politics/2020/08/05/cori-bush-is-latest-anti-israel-democrat-to-win-a-primary/\n",
      "109 articles downloaded from breitbart  using newspaper, url:  http://www.breitbart.com/europe/2020/08/05/top-teacher-blm-wants-encourage-institutional-racism-decolonising-education-will-divide-us/\n",
      "110 articles downloaded from breitbart  using newspaper, url:  http://www.breitbart.com/europe/2020/08/05/frances-president-macron-visiting-lebanon-after-beirut-blast/\n",
      "111 articles downloaded from breitbart  using newspaper, url:  http://www.breitbart.com/asia/2020/08/05/furious-china-warns-u-s-over-hhs-secretary-azar-visit-to-taiwan/\n",
      "112 articles downloaded from breitbart  using newspaper, url:  http://www.breitbart.com/europe/2020/08/05/greece-seven-dead-after-car-transporting-migrants-runs-through-roadworks/\n",
      "113 articles downloaded from breitbart  using newspaper, url:  http://www.breitbart.com/europe/2020/08/05/we-need-a-kingslayer-to-deal-with-the-mad-monarch-boris/\n",
      "114 articles downloaded from breitbart  using newspaper, url:  http://www.breitbart.com/europe/2020/08/05/2700-evacuated-22-injured-as-fires-sweep-french-region-cause-unknown/\n",
      "115 articles downloaded from breitbart  using newspaper, url:  http://www.breitbart.com/europe/2020/08/05/australian-prime-minister-war-between-america-china-no-longer-inconceivable/\n",
      "116 articles downloaded from breitbart  using newspaper, url:  http://www.breitbart.com/europe/2020/08/05/italian-minister-reveals-a-quarter-of-new-coronavirus-cases-are-foreigners/\n",
      "117 articles downloaded from breitbart  using newspaper, url:  http://www.breitbart.com/europe/2020/08/05/top-tory-calls-boris-scrap-brexit-withdrawal-agreement-true-eu-loan-cost-revealed/\n",
      "118 articles downloaded from breitbart  using newspaper, url:  http://www.breitbart.com/europe/2020/08/05/greeks-catch-syrian-drug-trafficker-on-turkish-frontier-move-to-strengthen-border/\n",
      "119 articles downloaded from breitbart  using newspaper, url:  http://www.breitbart.com/latin-america/2020/08/04/venezuela-man-arrested-filming-socialist-ambulance-running-out-gas/\n",
      "120 articles downloaded from breitbart  using newspaper, url:  http://www.breitbart.com/national-security/2020/08/04/chinese-sociologists-viral-article-children-communist-elite-love-america/\n",
      "121 articles downloaded from breitbart  using newspaper, url:  http://www.breitbart.com/tech/2020/08/04/report-upenn-accepted-3-million-donation-from-chinese-company-with-government-ties/\n",
      "122 articles downloaded from breitbart  using newspaper, url:  http://www.breitbart.com/europe/2020/08/04/syrians-arrested-for-pushing-german-into-oncoming-train/\n",
      "123 articles downloaded from breitbart  using newspaper, url:  http://www.breitbart.com/clips/2020/08/05/gop-sen-hawley-unless-we-ensure-total-separation-from-china-tiktok-ought-to-be-banned/\n",
      "124 articles downloaded from breitbart  using newspaper, url:  http://www.breitbart.com/asia/2020/08/04/islamic-state-claims-20-hour-afghan-prison-attack-that-killed-29/\n",
      "125 articles downloaded from breitbart  using newspaper, url:  http://www.breitbart.com/asia/2020/08/04/pacific-island-castaways-rescued-after-writing-sos-in-the-sand/\n",
      "126 articles downloaded from breitbart  using newspaper, url:  http://www.breitbart.com/asia/2020/08/04/china-says-over-38-million-affected-by-historic-floods-as-typhoon-hits/\n",
      "127 articles downloaded from breitbart  using newspaper, url:  http://www.breitbart.com/asia/2020/08/03/chinese-state-media-rogue-us-tiktok-ban-is-barbaric-assault/\n",
      "128 articles downloaded from breitbart  using newspaper, url:  http://www.breitbart.com/asia/2020/08/03/india-reviews-university-language-programs-ties-chinese-government/\n",
      "129 articles downloaded from breitbart  using newspaper, url:  http://www.breitbart.com/asia/2020/08/03/cuban-democracy-groups-join-call-end-uyghur-slavery-china/\n",
      "130 articles downloaded from breitbart  using newspaper, url:  http://www.breitbart.com/tech/2020/08/03/donald-trump-demands-portion-of-tiktok-sale-for-u-s-treasury/\n",
      "131 articles downloaded from breitbart  using newspaper, url:  http://www.breitbart.com/national-security/2020/08/03/typhoon-threatens-heavily-flooded-areas-of-china/\n",
      "132 articles downloaded from breitbart  using newspaper, url:  http://www.breitbart.com/national-security/2020/08/03/russia-thousands-anti-putin-protesters-turn-out-fourth-week-demonstrations/\n",
      "133 articles downloaded from breitbart  using newspaper, url:  http://www.breitbart.com/asia/2020/08/03/international-seed-testing-agency-warns-chinese-mystery-seeds-could-be-terrorism/\n",
      "134 articles downloaded from breitbart  using newspaper, url:  http://www.breitbart.com/tech/2020/08/03/elon-musk-china-rocks-america-is-full-of-complacency-and-entitlement/\n",
      "135 articles downloaded from breitbart  using newspaper, url:  http://www.breitbart.com/clips/2020/08/03/navarro-wed-feel-more-comfortable-if-microsoft-divested-chinese-holdings/\n",
      "136 articles downloaded from breitbart  using newspaper, url:  http://www.breitbart.com/national-security/2020/08/03/hong-kong-national-security-law-comes-us-citizen-samuel-chu/\n",
      "137 articles downloaded from breitbart  using newspaper, url:  http://www.breitbart.com/tech/2020/08/03/microsoft-plans-purchase-of-the-u-s-operations-of-chinas-tiktok/\n",
      "138 articles downloaded from breitbart  using newspaper, url:  http://www.breitbart.com/politics/2020/08/03/donald-trump-backs-down-from-tiktok-ban-allows-microsoft-45-days-to-negotiate-purchase/\n",
      "139 articles downloaded from breitbart  using newspaper, url:  http://www.breitbart.com/clips/2020/08/02/pompeo-promises-action-on-chinese-software-firms-in-coming-days/\n",
      "140 articles downloaded from breitbart  using newspaper, url:  http://www.breitbart.com/clips/2020/08/02/pompeo-china-engaging-in-the-greatest-human-rights-violation-of-this-century-to-date/\n",
      "141 articles downloaded from breitbart  using newspaper, url:  http://www.breitbart.com/national-security/2020/08/01/couple-plead-guilty-stealing-childrens-hospital-trade-secrets-china/\n",
      "142 articles downloaded from breitbart  using newspaper, url:  http://www.breitbart.com/asia/2020/07/31/chinas-navy-conducts-attack-exercise-south-china-sea/\n",
      "143 articles downloaded from breitbart  using newspaper, url:  http://www.breitbart.com/national-security/2020/07/31/report-north-koreans-unconvinced-by-claim-that-returning-defector-brought-coronavirus/\n",
      "144 articles downloaded from breitbart  using newspaper, url:  http://www.breitbart.com/crime/2020/08/03/body-cam-footage-of-george-floyd-encounter-leaked/\n",
      "145 articles downloaded from breitbart  using newspaper, url:  http://www.breitbart.com/national-security/2020/08/04/massive-explosion-rocks-port-district-of-beirut-lebanon/\n",
      "146 articles downloaded from breitbart  using newspaper, url:  http://www.breitbart.com/entertainment/2020/08/03/oprah-hosts-white-guilt-session-whiteness-gives-you-an-advantage-no-matter-what/\n",
      "147 articles downloaded from breitbart  using newspaper, url:  https://www.breitbart.com/sports/2020/08/04/navy-seals-cut-ties-with-museum-over-colin-kaepernick-video/#disqus_thread\n",
      "148 articles downloaded from breitbart  using newspaper, url:  http://www.breitbart.com/sports/2020/08/04/colorado-state-football-players-staff-accuse-athletic-administration-of-covid-19-cover-up/\n",
      "149 articles downloaded from breitbart  using newspaper, url:  https://www.breitbart.com/sports/2020/08/04/colorado-state-football-players-staff-accuse-athletic-administration-of-covid-19-cover-up/#disqus_thread\n",
      "150 articles downloaded from breitbart  using newspaper, url:  https://www.breitbart.com/sports/2020/08/04/tcu-coach-gary-patterson-apologizes-for-using-n-word-while-telling-player-not-use-word/#disqus_thread\n",
      "151 articles downloaded from breitbart  using newspaper, url:  http://www.breitbart.com/sports/2020/08/04/multiple-people-shot-nfl-players-beverly-hills-party/\n",
      "152 articles downloaded from breitbart  using newspaper, url:  http://www.breitbart.com/sports/2020/08/04/espns-dan-le-batard-posts-poll-is-it-funny-that-the-guy-who-refused-kneel-immediately-blew-out-his-knee/\n",
      "153 articles downloaded from breitbart  using newspaper, url:  http://www.breitbart.com/sports/2020/08/03/watch-herschel-walker-blasts-pro-sports-leagues-for-supporting-blm-are-these-the-people-youre-supporting-now/\n",
      "154 articles downloaded from breitbart  using newspaper, url:  http://www.breitbart.com/sports/2020/08/03/washington-football-team-dc-jack-del-rio-not-afraid-to-say-i-love-my-country/\n",
      "155 articles downloaded from breitbart  using newspaper, url:  http://www.breitbart.com/sports/2020/08/03/watch-joe-george-blasts-marcos-escudero-with-knockout-of-the-year-punch/\n",
      "156 articles downloaded from breitbart  using newspaper, url:  http://www.breitbart.com/sports/2020/08/03/even-msnbcs-rachel-maddow-beat-nba-mlb-opening-night-ratings/\n",
      "157 articles downloaded from breitbart  using newspaper, url:  http://www.breitbart.com/sports/2020/08/03/jonathan-isaacs-orlando-magic-jersey-sales-skyrocket-after-stands-national-anthem/\n",
      "158 articles downloaded from breitbart  using newspaper, url:  http://www.breitbart.com/sports/2020/08/03/eagles-coach-doug-pederson-tests-positive-for-covid-19/\n",
      "159 articles downloaded from breitbart  using newspaper, url:  http://www.breitbart.com/entertainment/2020/08/03/dwayne-the-rock-johnson-is-one-xfls-new-owners/\n",
      "160 articles downloaded from breitbart  using newspaper, url:  http://www.breitbart.com/sports/2020/08/03/watch-navy-investigating-video-seal-dogs-biting-man-kaepernick-jersey-during-demo/\n",
      "161 articles downloaded from breitbart  using newspaper, url:  http://www.breitbart.com/sports/2020/08/02/ratings-crash-nba-mlb-after-protest-filled-debut/\n",
      "162 articles downloaded from breitbart  using newspaper, url:  http://www.breitbart.com/sports/2020/08/02/warriors-coach-steve-kerr-regrets-not-backing-daryl-morey-still-refuses-criticize-china/\n",
      "163 articles downloaded from breitbart  using newspaper, url:  http://www.breitbart.com/sports/2020/08/02/metta-world-peace-says-aint-no-way-he-would-kneel-during-national-anthem/\n",
      "164 articles downloaded from breitbart  using newspaper, url:  http://www.breitbart.com/sports/2020/08/02/brees-will-stand-for-anthem-but-respects-those-who-kneel/\n",
      "165 articles downloaded from breitbart  using newspaper, url:  http://www.breitbart.com/sports/2020/08/02/report-group-of-pac-12-players-threatens-to-boycott-season-over-virus-social-justice-concerns/\n",
      "166 articles downloaded from breitbart  using newspaper, url:  http://www.breitbart.com/sports/2020/08/02/1st-nhl-player-a-canadian-kneels-for-u-s-anthem-stands-for-o-canada/\n",
      "167 articles downloaded from breitbart  using newspaper, url:  http://www.breitbart.com/clips/2020/08/01/carlson-rips-cnn-for-omitting-china-in-nba-commish-interview-get-a-pass-from-the-media-by-being-woke/\n",
      "168 articles downloaded from breitbart  using newspaper, url:  http://www.breitbart.com/sports/2020/07/31/magics-jonathan-isaac-is-lone-player-to-stand-for-anthem/\n",
      "169 articles downloaded from breitbart  using newspaper, url:  http://www.breitbart.com/sports/2020/07/31/six-major-league-teams-sidelined-by-coronavirus-on-friday/\n",
      "170 articles downloaded from breitbart  using newspaper, url:  http://www.breitbart.com/sports/2020/07/31/steve-kerr-says-objecting-to-kneeling-during-the-national-anthem-is-race-baiting/\n",
      "171 articles downloaded from breitbart  using newspaper, url:  http://www.breitbart.com/sports/2020/07/31/athletes-asks-ncaa-to-stop-bullying-protect-women-from-transgender-competition/\n",
      "172 articles downloaded from breitbart  using newspaper, url:  http://www.breitbart.com/sports/2020/07/31/watch-nhls-rangers-islanders-stand-together-national-anthem/\n",
      "173 articles downloaded from breitbart  using newspaper, url:  http://www.breitbart.com/sports/2020/07/31/florida-sheriffs-blast-tampa-bay-rays-for-reckless-breonna-taylor-tweet/\n",
      "174 articles downloaded from breitbart  using newspaper, url:  http://www.breitbart.com/sports/2020/07/31/lebron-james-on-nba-anthem-protests-i-hope-we-made-kaep-proud/\n",
      "175 articles downloaded from breitbart  using newspaper, url:  http://www.breitbart.com/sports/2020/07/30/watch-every-player-and-coach-takes-a-knee-during-national-anthem-before-nba-restart/\n",
      "176 articles downloaded from breitbart  using newspaper, url:  http://www.breitbart.com/clips/2020/08/04/cnns-keilar-to-trump-adviser-mercedes-schlapp-on-mail-in-voting-youre-saying-a-bunch-of-crap/\n",
      "177 articles downloaded from breitbart  using newspaper, url:  http://www.breitbart.com/politics/2020/08/04/joe-biden-team-trump-allies-touting-imaginary-controversy-about-biden-dodging-debates/\n",
      "178 articles downloaded from breitbart  using newspaper, url:  http://www.breitbart.com/the-media/2020/08/04/watch-ken-cuccinelli-describes-rioters-disguising-themselves-as-press/\n",
      "179 articles downloaded from breitbart  using newspaper, url:  http://www.breitbart.com/the-media/2020/08/04/jorge-ramos-wants-latina-president-black-americans-already-had-one/\n",
      "180 articles downloaded from breitbart  using newspaper, url:  http://www.breitbart.com/politics/2020/08/04/report-media-fact-checkers-lean-left/\n",
      "181 articles downloaded from breitbart  using newspaper, url:  http://www.breitbart.com/border/2020/08/04/5th-mexican-journalist-dies-in-2020/\n",
      "182 articles downloaded from breitbart  using newspaper, url:  http://www.breitbart.com/the-media/2020/08/04/nolte-cnns-april-ryan-cannot-wait-to-see-police-remove-trump-from-white-house/\n",
      "183 articles downloaded from breitbart  using newspaper, url:  http://www.breitbart.com/politics/2020/08/04/nyt-editorial-board-calls-for-all-of-congress-to-be-tested-for-the-novel-coronavirus/\n",
      "184 articles downloaded from breitbart  using newspaper, url:  http://www.breitbart.com/clips/2020/08/04/scarborough-on-trumps-coronavirus-response-this-alternate-reality-has-now-killed-150000-americans/\n",
      "185 articles downloaded from breitbart  using newspaper, url:  http://www.breitbart.com/clips/2020/08/03/cnns-cuomo-trump-determined-to-keep-down-his-golf-handicap-not-coronavirus-cases/\n",
      "186 articles downloaded from breitbart  using newspaper, url:  http://www.breitbart.com/clips/2020/08/03/cnns-acosta-trump-telling-one-whopper-after-another-about-mail-in-voting/\n",
      "187 articles downloaded from breitbart  using newspaper, url:  http://www.breitbart.com/crime/2020/08/03/portland-police-chief-debunks-democrats-peaceful-protest-claim-in-nyt/\n",
      "188 articles downloaded from breitbart  using newspaper, url:  http://www.breitbart.com/politics/2020/08/03/listen-joe-biden-revolutionary-institutional-changes-revolution-podcast/\n",
      "189 articles downloaded from breitbart  using newspaper, url:  http://www.breitbart.com/2020-election/2020/08/03/new-york-times-op-ed-lets-scrap-the-presidential-debates/\n",
      "190 articles downloaded from breitbart  using newspaper, url:  http://www.breitbart.com/clips/2020/08/03/scarborough-to-gop-push-trump-to-be-responsible-on-coronavirus-pandemic/\n",
      "191 articles downloaded from breitbart  using newspaper, url:  http://www.breitbart.com/the-media/2020/08/02/rioters-target-local-police-in-portland-wall-street-journal-says-mostly-peaceful/\n",
      "192 articles downloaded from breitbart  using newspaper, url:  http://www.breitbart.com/politics/2020/08/02/flashback-hillary-campaign-monitored-news-about-jeffrey-epsteins-associations-with-bill-clinton/\n",
      "193 articles downloaded from breitbart  using newspaper, url:  http://www.breitbart.com/clips/2020/08/02/nbcs-todd-trumps-un-american-election-delay-suggestion-exposes-his-desperation/\n",
      "194 articles downloaded from breitbart  using newspaper, url:  http://www.breitbart.com/clips/2020/08/02/pirro-we-are-living-in-an-upside-down-world-truth-and-honesty-essential-but-clouded-by-the-politics-of-lies/\n",
      "195 articles downloaded from breitbart  using newspaper, url:  http://www.breitbart.com/tech/2020/08/02/corporate-media-completely-ignored-story-of-mother-killed-by-black-lives-matter-supporters/\n",
      "196 articles downloaded from breitbart  using newspaper, url:  http://www.breitbart.com/tech/2020/08/02/leftist-media-ignores-court-docs-alleging-bill-clinton-visited-epstein-island/\n",
      "197 articles downloaded from breitbart  using newspaper, url:  http://www.breitbart.com/politics/2020/08/02/clinton-aide-advises-joe-biden-whatever-you-do-dont-debate-trump/\n",
      "198 articles downloaded from breitbart  using newspaper, url:  http://www.breitbart.com/clips/2020/08/01/pbss-heffner-trump-coronavirus-response-genocidal-mass-murder/\n",
      "199 articles downloaded from breitbart  using newspaper, url:  http://www.breitbart.com/health/2020/08/05/mississippi-governor-issues-two-week-statewide-mask-mandate/\n",
      "200 articles downloaded from breitbart  using newspaper, url:  http://www.breitbart.com/politics/2020/08/05/donald-trump-joe-biden-is-whatever-radical-left-tell-him-to-be/\n",
      "201 articles downloaded from breitbart  using newspaper, url:  http://www.breitbart.com/clips/2020/08/05/jeffries-no-empirical-evidence-600-unemployment-insurance-incentivizing-people-to-stay-at-home/\n",
      "202 articles downloaded from breitbart  using newspaper, url:  http://www.breitbart.com/politics/2020/08/05/donald-trump-favors-delivering-convention-speech-at-the-white-house/\n",
      "203 articles downloaded from breitbart  using newspaper, url:  http://www.breitbart.com/politics/2020/08/05/donald-trump-obamas-angry-speech-at-john-lewis-funeral-totally-inappropriate/\n",
      "204 articles downloaded from breitbart  using newspaper, url:  https://www.breitbart.com/clips/2020/08/05/jeffries-no-empirical-evidence-600-unemployment-insurance-incentivizing-people-to-stay-at-home/#disqus_thread\n",
      "205  Article has date of type None...\n",
      "206  Article has date of type None...\n",
      "207 articles downloaded from breitbart  using newspaper, url:  https://www.breitbart.com/economy/2020/08/05/private-payrolls-climb-just-167000-far-lower-than-expected-adp/#disqus_thread\n",
      "208 articles downloaded from breitbart  using newspaper, url:  http://www.breitbart.com/health/2020/08/04/video-teen-carves-american-flags-raise-money-homeless-veterans/\n",
      "209 articles downloaded from breitbart  using newspaper, url:  http://www.breitbart.com/economy/2020/08/04/pollak-withhold-congressional-pay-until-they-pass-unemployment-benefits/\n",
      "210 articles downloaded from breitbart  using newspaper, url:  http://www.breitbart.com/tech/2020/08/04/new-york-and-california-ags-will-investigate-amazons-market-dominance/\n",
      "211 articles downloaded from breitbart  using newspaper, url:  http://www.breitbart.com/tech/2020/08/04/google-will-monitor-and-transcribe-your-phone-and-video-calls/\n",
      "212 articles downloaded from breitbart  using newspaper, url:  http://www.breitbart.com/tech/2020/08/04/twitter-faces-potential-250-million-ftc-fine-for-misuse-of-user-data/\n",
      "213 articles downloaded from breitbart  using newspaper, url:  http://www.breitbart.com/economy/2020/08/04/bloomberg-admits-foreign-workers-flood-us-tech-sectors/\n",
      "214 articles downloaded from breitbart  using newspaper, url:  http://www.breitbart.com/economy/2020/08/04/home-depot-opening-3-facilities-in-atlanta-area-creating-1000-jobs/\n",
      "215 articles downloaded from breitbart  using newspaper, url:  http://www.breitbart.com/economy/2020/08/04/flight-from-the-cities-home-prices-see-fastest-monthly-gain-since-2013/\n",
      "216 articles downloaded from breitbart  using newspaper, url:  http://www.breitbart.com/economy/2020/08/04/u-s-factory-orders-rise-more-than-expected-signaling-manufacturing-recovery/\n",
      "217 articles downloaded from breitbart  using newspaper, url:  http://www.breitbart.com/africa/2020/08/04/nigeria-insists-it-did-not-lose-48-million-barrels-of-oil-in-china/\n",
      "218 articles downloaded from breitbart  using newspaper, url:  http://www.breitbart.com/europe/2020/08/04/orban-stands-up-to-claims-central-europeans-survive-on-eu-generosity-like-hell-we-do/\n",
      "219 articles downloaded from breitbart  using newspaper, url:  http://www.breitbart.com/politics/2020/08/03/american-professionals-increasingly-competing-for-scarce-u-s-tech-jobs/\n",
      "220 articles downloaded from breitbart  using newspaper, url:  http://www.breitbart.com/economy/2020/08/03/donald-trump-to-tennessee-valley-authority-board-chair-youre-fired/\n",
      "221 articles downloaded from breitbart  using newspaper, url:  http://www.breitbart.com/clips/2020/08/03/gop-sen-barrasso-pelosi-living-on-fantasy-island-with-runaway-government-spending-in-covid-19-relief/\n",
      "222 articles downloaded from breitbart  using newspaper, url:  http://www.breitbart.com/politics/2020/08/03/donald-trump-crazy-nancy-pelosi-blocking-coronavirus-aid-radical-left-bailouts/\n",
      "223 articles downloaded from breitbart  using newspaper, url:  http://www.breitbart.com/immigration/2020/08/03/donald-trump-signs-executive-order-curbing-h-1b-outsourcing/\n",
      "224 articles downloaded from breitbart  using newspaper, url:  http://www.breitbart.com/tech/2020/08/03/developer-accuses-google-of-blacklisting-app-for-speaking-to-antitrust-investigators/\n",
      "225  Article has date of type None...\n",
      "226 articles downloaded from breitbart  using newspaper, url:  http://www.breitbart.com/crime/2020/08/03/sheriff-florida-man-uses-check-printed-from-home-computer-to-buy-porsche/\n",
      "227 articles downloaded from breitbart  using newspaper, url:  http://www.breitbart.com/clips/2020/08/03/pelosi-im-not-willing-to-negotiate-on-600-unemployment-benefit/\n",
      "228 articles downloaded from breitbart  using newspaper, url:  http://www.breitbart.com/economy/2020/08/02/nj-democrats-ok-valuable-work-licenses-illegal-aliens/\n",
      "229 articles downloaded from breitbart  using newspaper, url:  http://www.breitbart.com/politics/2020/08/02/report-125-china-linked-companies-get-ppp-loans/\n",
      "230 articles downloaded from breitbart  using newspaper, url:  http://www.breitbart.com/latin-america/2020/08/04/caruzo-how-venezuelas-socialists-stole-a-supermarket-chain-ran-it-to-the-ground-and-gave-it-to-iran/\n",
      "231 articles downloaded from breitbart  using newspaper, url:  http://www.breitbart.com/latin-america/2020/08/04/caruzo-how-venezuelas-socialists-stole-a-supermarket-chain-ran-it-to-the-ground-and-gave-it-to-iran/#disqus_thread\n",
      "232 articles downloaded from breitbart  using newspaper, url:  http://www.breitbart.com/latin-america/2020/08/04/venezuela-man-arrested-filming-socialist-ambulance-running-out-gas/#disqus_thread\n",
      "233 articles downloaded from breitbart  using newspaper, url:  http://www.breitbart.com/tech/2020/08/03/facebook-removes-conservative-brazilian-accounts-after-court-declares-them-fake-news/\n",
      "234 articles downloaded from breitbart  using newspaper, url:  http://www.breitbart.com/tech/2020/08/03/facebook-removes-conservative-brazilian-accounts-after-court-declares-them-fake-news/#disqus_thread\n",
      "235 articles downloaded from breitbart  using newspaper, url:  http://www.breitbart.com/latin-america/2020/08/03/pompeo-tells-chinas-illegal-fishing-fleet-stay-out-galapagos/\n",
      "236 articles downloaded from breitbart  using newspaper, url:  http://www.breitbart.com/latin-america/2020/08/01/grantham-u-s-riots-take-a-page-from-the-latin-american-socialist-playbook/\n",
      "237 articles downloaded from breitbart  using newspaper, url:  http://www.breitbart.com/latin-america/2020/07/31/hispanic-activists-mayors-ask-netflix-stop-promoting-communist-film-true-story/\n",
      "238 articles downloaded from breitbart  using newspaper, url:  http://www.breitbart.com/national-security/2020/07/31/call-to-arms-austrian-gun-exports-to-brazil-up-over-377/\n",
      "239 articles downloaded from breitbart  using newspaper, url:  http://www.breitbart.com/asia/2020/07/30/report-un-investigating-secret-military-deal-between-venezuela-north-korea/\n",
      "240 articles downloaded from breitbart  using newspaper, url:  http://www.breitbart.com/politics/2020/07/30/mexico-supreme-court-rejects-states-effort-to-decriminalize-abortion/\n",
      "241 articles downloaded from breitbart  using newspaper, url:  http://www.breitbart.com/entertainment/2020/07/30/congressional-hispanic-caucus-condemns-erasure-of-latino-emmy-nominees/\n",
      "242 articles downloaded from breitbart  using newspaper, url:  http://www.breitbart.com/national-security/2020/07/29/venezuela-police-charge-four-soldiers-killing-man-demanding-gasoline/\n",
      "243 articles downloaded from breitbart  using newspaper, url:  http://www.breitbart.com/national-security/2020/07/27/ecuador-alarmed-by-hundreds-of-chinese-fishing-vessels-surrounding-galapagos-islands/\n",
      "244 articles downloaded from breitbart  using newspaper, url:  http://www.breitbart.com/health/2020/07/27/brazils-bolsonaro-teases-national-tour-after-beating-coronavirus/\n",
      "245 articles downloaded from breitbart  using newspaper, url:  http://www.breitbart.com/latin-america/2020/07/25/china-gets-closer-to-latin-america-with-chile-trade-deal/\n",
      "246 articles downloaded from breitbart  using newspaper, url:  http://www.breitbart.com/national-security/2020/07/24/brazil-coronavirus-positive-bolsonaro-takes-motorcycle-ride-greets-workers-without-mask/\n",
      "247 articles downloaded from breitbart  using newspaper, url:  http://www.breitbart.com/asia/2020/07/24/china-floats-billion-dollar-loan-latin-america-buy-its-coronavirus-vaccine/\n",
      "248 articles downloaded from breitbart  using newspaper, url:  http://www.breitbart.com/national-security/2020/07/23/video-venezuelas-socialist-gangs-beat-quarantine-violators-with-baseball-bats/\n",
      "249 articles downloaded from breitbart  using newspaper, url:  http://www.breitbart.com/africa/2020/07/23/kenya-imports-cuban-slave-doctors-while-1000-kenyan-doctors-remain-unemployed/\n",
      "250 articles downloaded from breitbart  using newspaper, url:  http://www.breitbart.com/national-security/2020/07/22/poll-80-of-venezuelans-want-trump-to-stop-supporting-guaido/\n",
      "251 articles downloaded from breitbart  using newspaper, url:  http://www.breitbart.com/latin-america/2020/07/22/caruzo-arrested-for-tweeting-and-locked-in-rotting-hotels-how-socialist-venezuela-fights-the-colombian-virus/\n",
      "252 articles downloaded from breitbart  using newspaper, url:  http://www.breitbart.com/latin-america/2020/07/21/coronavirus-cuban-grocery-offers-food-ration-perks-blood-donors/\n",
      "253 articles downloaded from breitbart  using newspaper, url:  http://www.breitbart.com/national-security/2020/07/21/parts-of-oil-rich-venezuela-stop-selling-gasoline-purportedly-to-fight-coronavirus/\n",
      "254 articles downloaded from breitbart  using newspaper, url:  http://www.breitbart.com/national-security/2020/07/16/colombia-marxist-rebel-groups-kill-coronavirus-lockdown-violators/\n",
      "255 articles downloaded from breitbart  using newspaper, url:  http://www.breitbart.com/national-security/2020/07/16/uruguay-latest-nation-face-accusation-engaging-cuban-slave-doctor-program/\n",
      "256 articles downloaded from breitbart  using newspaper, url:  http://www.breitbart.com/latin-america/2020/07/15/cubans-endure-two-weeks-without-running-water-amid-pandemic/\n",
      "257 articles downloaded from breitbart  using newspaper, url:  http://www.breitbart.com/politics/2020/07/15/donald-trump-celebrates-success-against-death-cult-ms-13/\n",
      "258 articles downloaded from breitbart  using newspaper, url:  http://www.breitbart.com/national-security/2020/07/14/venezuela-man-arrested-for-getting-monkey-fatally-drunk-for-tiktok-video/\n",
      "259 articles downloaded from breitbart  using newspaper, url:  http://www.breitbart.com/latin-america/2020/07/14/activists-hold-vigil-for-victims-of-1994-cuban-mass-drowning-including-infant/\n",
      "260 articles downloaded from breitbart  using newspaper, url:  http://www.breitbart.com/entertainment/2020/08/04/report-ellen-degeneres-show-producers-find-way-forward-amid-uproar-over-toxic-work-environment/\n",
      "261 articles downloaded from breitbart  using newspaper, url:  http://www.breitbart.com/entertainment/2020/08/04/neil-young-files-lawsuit-against-trump-campaign-for-alleged-copyright-infringement/\n",
      "262 articles downloaded from breitbart  using newspaper, url:  http://www.breitbart.com/entertainment/2020/08/04/oprah-winfrey-launches-own-your-vote-campaign-with-video-featuring-blm-marches-and-democratic-politicians/\n",
      "263 articles downloaded from breitbart  using newspaper, url:  http://www.breitbart.com/entertainment/2020/08/04/ryan-reynolds-deeply-and-unreservedly-sorry-for-having-a-plantation-wedding/\n",
      "264 articles downloaded from breitbart  using newspaper, url:  http://www.breitbart.com/entertainment/2020/08/04/edward-norton-declares-the-electoral-college-deeply-rooted-in-racism-and-slavery/\n",
      "265 articles downloaded from breitbart  using newspaper, url:  http://www.breitbart.com/entertainment/2020/08/04/sharon-stone-tweets-trump-fears-next-election-will-be-decided-by-americans/\n",
      "266 articles downloaded from breitbart  using newspaper, url:  http://www.breitbart.com/entertainment/2020/08/04/seth-rogen-i-am-actively-trying-to-make-less-things-starring-white-people/\n",
      "267 articles downloaded from breitbart  using newspaper, url:  http://www.breitbart.com/middle-east/2020/08/04/seth-rogen-calls-trump-a-white-supremacist/\n",
      "268 articles downloaded from breitbart  using newspaper, url:  http://www.breitbart.com/europe/2020/08/04/john-cleese-woke-cancel-culture-is-killing-comedy/\n",
      "269 articles downloaded from breitbart  using newspaper, url:  http://www.breitbart.com/middle-east/2020/08/04/seth-rogen-denies-apologizing-over-remarks-questioning-israels-existence/\n",
      "270 articles downloaded from breitbart  using newspaper, url:  http://www.breitbart.com/entertainment/2020/08/03/report-kanye-west-gathering-signatures-to-appear-on-wisconsin-presidential-ballot/\n",
      "271 articles downloaded from breitbart  using newspaper, url:  http://www.breitbart.com/entertainment/2020/08/03/disney-star-ronni-hawk-arrested-for-domestic-abuse/\n",
      "272 articles downloaded from breitbart  using newspaper, url:  http://www.breitbart.com/entertainment/2020/08/03/geraldo-rivera-defends-ellen-degeneres-against-cancel-mob-where-are-her-defenders/\n",
      "273 articles downloaded from breitbart  using newspaper, url:  http://www.breitbart.com/entertainment/2020/08/03/former-ellen-producer-insists-ellen-degeneres-was-responsible-for-the-toxic-work-environment/\n",
      "274 articles downloaded from breitbart  using newspaper, url:  http://www.breitbart.com/entertainment/2020/08/03/debra-messing-suggests-dr-birx-is-abetting-unnecessary-deaths-and-economic-collapse/\n",
      "275 articles downloaded from breitbart  using newspaper, url:  http://www.breitbart.com/entertainment/2020/08/03/kanye-west-makes-move-to-appear-on-presidential-ballot-in-ohio-west-virginia-and-arkansas/\n",
      "276 articles downloaded from breitbart  using newspaper, url:  http://www.breitbart.com/entertainment/2020/08/02/rhode-island-mails-tax-refund-checks-signed-by-mickey-mouse-and-walt-disney/\n",
      "277 articles downloaded from breitbart  using newspaper, url:  http://www.breitbart.com/entertainment/2020/08/02/brad-garrett-lea-thompson-rip-ellen-degeneres-apology-common-knowledge-she-mistreated-staff/\n",
      "278 articles downloaded from breitbart  using newspaper, url:  http://www.breitbart.com/entertainment/2020/08/02/wilford-brimley-cocoon-star-face-of-quaker-oats-commercials-dies-at-85/\n",
      "279 articles downloaded from breitbart  using newspaper, url:  http://www.breitbart.com/entertainment/2020/08/02/nolte-my-trip-to-the-drive-in-during-a-pandemic-we-saw-iron-man/\n",
      "280 articles downloaded from breitbart  using newspaper, url:  http://www.breitbart.com/entertainment/2020/08/01/lena-dunham-reveals-coronavirus-experience-to-send-a-message-to-careless-americans-jogging-without-masks/\n",
      "281 articles downloaded from breitbart  using newspaper, url:  http://www.breitbart.com/entertainment/2020/08/01/bill-maher-calls-for-pushback-on-cancel-culture/\n",
      "282 articles downloaded from breitbart  using newspaper, url:  http://www.breitbart.com/entertainment/2020/08/01/nolte-oliver-stone-admits-cancel-fking-culture-would-kill-my-career-today/\n",
      "283 articles downloaded from breitbart  using newspaper, url:  http://www.breitbart.com/europe/2020/08/04/watch-migrant-boat-shadowed-into-british-waters-by-french-ships/\n",
      "284 articles downloaded from breitbart  using newspaper, url:  http://www.breitbart.com/europe/2020/08/03/farage-black-lives-matter-paramilitary-style-force-political-uniforms/\n",
      "285 articles downloaded from breitbart  using newspaper, url:  http://www.breitbart.com/crime/2020/07/31/scottish-christians-warn-hate-crime-bill-could-criminalize-the-bible/\n",
      "286 articles downloaded from breitbart  using newspaper, url:  http://www.breitbart.com/europe/2020/07/29/germany-people-migrant-backgrounds-one-quarter-population/\n",
      "287 articles downloaded from breitbart  using newspaper, url:  http://www.breitbart.com/europe/2020/07/31/nigel-farage-uncovers-hotel-refusing-brits-while-housing-147-migrants/\n",
      "288 articles downloaded from breitbart  using newspaper, url:  http://www.breitbart.com/europe/2020/07/29/uk-violent-protests-up-1700-per-cent-in-20-years/\n",
      "289 articles downloaded from breitbart  using newspaper, url:  http://www.breitbart.com/europe/2020/08/01/italian-island-lampedusa-runs-out-room-quarantine-arriving-migrants/\n",
      "290 articles downloaded from breitbart  using newspaper, url:  http://www.breitbart.com/europe/2020/08/04/belgium-dozens-of-sheep-seized-as-illegal-muslim-eid-slaughters-continue/\n",
      "291 articles downloaded from breitbart  using newspaper, url:  http://www.breitbart.com/europe/2020/08/04/bias-against-conservatives-creating-chilling-effect-on-uk-campuses/\n",
      "292 articles downloaded from breitbart  using newspaper, url:  http://www.breitbart.com/europe/2020/08/04/12-year-old-swedish-girl-killed-in-suspected-gang-violence/\n",
      "293 articles downloaded from breitbart  using newspaper, url:  http://www.breitbart.com/europe/2020/08/03/uk-government-reportedly-confirms-plan-to-lockdown-london-if-coronavirus-cases-spike/\n",
      "294 articles downloaded from breitbart  using newspaper, url:  http://www.breitbart.com/europe/2020/08/03/over-quarter-infected-victoria-australia-break-stay-at-home-orders/\n",
      "295 articles downloaded from breitbart  using newspaper, url:  http://www.breitbart.com/europe/2020/08/03/blm-activists-magistrates-diversity/\n",
      "296 articles downloaded from breitbart  using newspaper, url:  http://www.breitbart.com/europe/2020/08/03/spain-average-virus-patient-age-drops-45-amid-possible-second-wave/\n",
      "297 articles downloaded from breitbart  using newspaper, url:  http://www.breitbart.com/europe/2020/08/03/former-border-force-chief-boat-migration-will-become-a-crisis-if-govt-fails-to-reach-agreement-with-france/\n",
      "298 articles downloaded from breitbart  using newspaper, url:  http://www.breitbart.com/europe/2020/08/03/infected-cruise-ship-may-have-spread-coronavirus-to-dozens-of-towns-and-villages-on-norwegian-coast/\n",
      "299 articles downloaded from breitbart  using newspaper, url:  http://www.breitbart.com/europe/2020/08/03/british-police-bust-illegal-rave-forest-dean-arrest-two-suspects/\n",
      "300 articles downloaded from breitbart  using newspaper, url:  http://www.breitbart.com/europe/2020/08/03/melbourne-australia-imposes-curfew-wedding-ban-business-shutdown-amid-virus-surge/\n",
      "301  Article has date of type None...\n",
      "302  Article has date of type None...\n",
      "303  Article has date of type None...\n",
      "304  Article has date of type None...\n",
      "305  Article has date of type None...\n",
      "306  Article has date of type None...\n",
      "307  Article has date of type None...\n",
      "308  Article has date of type None...\n",
      "309  Article has date of type None...\n",
      "310  Article has date of type None...\n",
      "311  Article has date of type None...\n",
      "312  Article has date of type None...\n",
      "313  Article has date of type None...\n",
      "314 articles downloaded from breitbart  using newspaper, url:  http://www.breitbart.com/clips/2020/08/05/michelle-obama-trump-administration-hypocrisy-giving-me-low-grade-depression/\n",
      "315  Article has date of type None...\n",
      "316  Article has date of type None...\n",
      "317  Article has date of type None...\n",
      "318  Article has date of type None...\n",
      "319  Article has date of type None...\n",
      "320  Article has date of type None...\n",
      "321  Article has date of type None...\n",
      "322  Article has date of type None...\n",
      "323  Article has date of type None...\n",
      "324  Article has date of type None...\n",
      "325  Article has date of type None...\n",
      "326  Article has date of type None...\n",
      "327  Article has date of type None...\n",
      "328  Article has date of type None...\n",
      "329  Article has date of type None...\n",
      "330  Article has date of type None...\n",
      "331  Article has date of type None...\n",
      "332  Article has date of type None...\n",
      "333  Article has date of type None...\n",
      "334  Article has date of type None...\n",
      "335  Article has date of type None...\n",
      "336  Article has date of type None...\n",
      "337  Article has date of type None...\n",
      "338  Article has date of type None...\n",
      "339  Article has date of type None...\n",
      "340  Article has date of type None...\n",
      "341  Article has date of type None...\n",
      "342  Article has date of type None...\n",
      "343  Article has date of type None...\n",
      "344  Article has date of type None...\n",
      "345  Article has date of type None...\n",
      "346  Article has date of type None...\n",
      "347  Article has date of type None...\n",
      "348  Article has date of type None...\n",
      "349 articles downloaded from breitbart  using newspaper, url:  https://www.breitbart.com/politics/2020/08/05/watch-joe-biden-snaps-at-black-reporter-over-cognitive-test-question-are-you-a-junkie/\n",
      "350 articles downloaded from breitbart  using newspaper, url:  https://www.breitbart.com/politics/2020/08/05/joe-bidens-latest-brain-freeze-democrat-struggles-to-pronounce-the-term-mental-fitness/\n",
      "351 articles downloaded from breitbart  using newspaper, url:  https://www.breitbart.com/clips/2020/08/04/jill-biden-vows-husband-will-debate-trump-hell-be-there/\n",
      "352 articles downloaded from breitbart  using newspaper, url:  https://www.breitbart.com/politics/2020/08/05/donald-trump-black-lives-matter-a-marxist-group-that-is-not-good-for-our-country/\n",
      "353 articles downloaded from breitbart  using newspaper, url:  https://www.breitbart.com/economy/2020/08/05/private-payrolls-climb-just-167000-far-lower-than-expected-adp/\n",
      "354 articles downloaded from breitbart  using newspaper, url:  https://www.breitbart.com/entertainment/2020/08/05/oprah-coaches-white-people-on-how-to-navigate-unconscious-racism/\n",
      "355  Article has date of type None...\n",
      "356 articles downloaded from breitbart  using newspaper, url:  https://www.breitbart.com/national-security/2020/08/05/beirut-blast-blamed-on-explosive-cargo-seized-from-russian-ship/\n",
      "357 articles downloaded from breitbart  using newspaper, url:  https://www.breitbart.com/middle-east/2020/08/05/iranian-media-u-s-sabotage-may-have-caused-lebanon-blast/\n",
      "358 articles downloaded from breitbart  using newspaper, url:  https://www.breitbart.com/europe/2020/08/05/boris-johnson-set-approve-london-tiktok-global-hq-trump-mulls-ban-chinese-app/\n",
      "359 articles downloaded from breitbart  using newspaper, url:  https://www.breitbart.com/politics/2020/08/05/cotton-act-of-accepting-the-chinese-money-that-should-be-criminalized/\n",
      "360 articles downloaded from breitbart  using newspaper, url:  https://www.breitbart.com/politics/2020/08/05/gop-sen-hawley-unless-we-ensure-total-separation-from-china-tiktok-ought-to-be-banned/\n",
      "361 articles downloaded from breitbart  using newspaper, url:  https://www.breitbart.com/politics/2020/08/05/muslim-in-france-films-himself-slaughtering-sheep-in-bathtub-for-eid/\n",
      "362 articles downloaded from breitbart  using newspaper, url:  https://www.breitbart.com/europe/2020/08/05/berlin-police-210-rapes-from-march-to-july-half-of-cases-involve-migrants/\n",
      "363 articles downloaded from breitbart  using newspaper, url:  https://www.breitbart.com/politics/2020/08/05/furious-china-warns-u-s-over-hhs-secretary-azar-visit-to-taiwan/\n",
      "364 articles downloaded from breitbart  using newspaper, url:  https://www.breitbart.com/politics/2020/08/05/australian-prime-minister-war-between-america-china-no-longer-inconceivable/\n",
      "365 articles downloaded from breitbart  using newspaper, url:  https://www.breitbart.com/politics/2020/08/04/cnns-keilar-to-trump-adviser-mercedes-schlapp-on-mail-in-voting-youre-saying-a-bunch-of-crap/\n",
      "366 articles downloaded from breitbart  using newspaper, url:  https://www.breitbart.com/politics/2020/08/04/top-american-rabbinical-leader-unequivocally-endorses-trump/\n",
      "367 articles downloaded from breitbart  using newspaper, url:  https://www.breitbart.com/national-security/2020/08/04/photos-devastated-beirut-emerges-from-the-ashes-after-deadly-explosion/\n",
      "368 articles downloaded from breitbart  using newspaper, url:  https://www.breitbart.com/national-security/2020/08/04/photos-devastated-beirut-emerges-from-the-ashes-after-deadly-explosion/#disqus_thread\n",
      "369 articles downloaded from breitbart  using newspaper, url:  https://www.breitbart.com/clips/2020/08/04/de-blasio-what-were-seeing-here-with-isaias-is-the-result-of-global-warming/\n",
      "370 articles downloaded from breitbart  using newspaper, url:  https://www.breitbart.com/clips/2020/08/04/de-blasio-what-were-seeing-here-with-isaias-is-the-result-of-global-warming/#disqus_thread\n",
      "371 articles downloaded from breitbart  using newspaper, url:  https://www.breitbart.com/2020-election/2020/08/04/la-county-vote-defund-police-ballot/\n",
      "372 articles downloaded from breitbart  using newspaper, url:  https://www.breitbart.com/2020-election/2020/08/04/la-county-vote-defund-police-ballot/#disqus_thread\n",
      "373 articles downloaded from breitbart  using newspaper, url:  https://www.breitbart.com/clips/2020/08/04/bernstein-calls-on-gop-mcconnell-to-save-lives-in-pandemic-by-demanding-trump-resign/\n",
      "374 articles downloaded from breitbart  using newspaper, url:  https://www.breitbart.com/clips/2020/08/04/bernstein-calls-on-gop-mcconnell-to-save-lives-in-pandemic-by-demanding-trump-resign/#disqus_thread\n",
      "375 articles downloaded from breitbart  using newspaper, url:  https://www.breitbart.com/economy/2020/08/04/planned-parenthood-keep-ppp-funds-government-order-return/\n",
      "376 articles downloaded from breitbart  using newspaper, url:  https://www.breitbart.com/economy/2020/08/04/planned-parenthood-keep-ppp-funds-government-order-return/#disqus_thread\n",
      "377 articles downloaded from breitbart  using newspaper, url:  https://www.breitbart.com/politics/2020/08/04/democrat-donor-ed-buck-charged-with-four-additional-felonies/\n",
      "378 articles downloaded from breitbart  using newspaper, url:  https://www.breitbart.com/politics/2020/08/04/democrat-donor-ed-buck-charged-with-four-additional-felonies/#disqus_thread\n",
      "379 articles downloaded from breitbart  using newspaper, url:  https://www.breitbart.com/politics/2020/08/04/peter-meijer-wins-primary-in-michigan-district-held-by-rep-justin-amash/\n",
      "380 articles downloaded from breitbart  using newspaper, url:  https://www.breitbart.com/politics/2020/08/04/peter-meijer-wins-primary-in-michigan-district-held-by-rep-justin-amash/#disqus_thread\n",
      "381 articles downloaded from breitbart  using newspaper, url:  https://www.breitbart.com/2020-election/2020/08/04/live-updates-mi-ks-mo-az-wa-election-results/\n",
      "382 articles downloaded from breitbart  using newspaper, url:  https://www.breitbart.com/2020-election/2020/08/04/live-updates-mi-ks-mo-az-wa-election-results/#disqus_thread\n",
      "383 articles downloaded from breitbart  using newspaper, url:  https://www.breitbart.com/politics/2020/08/04/joe-biden-backs-creation-of-national-american-latino-museum/\n",
      "384 articles downloaded from breitbart  using newspaper, url:  https://www.breitbart.com/politics/2020/08/04/joe-biden-backs-creation-of-national-american-latino-museum/#disqus_thread\n",
      "385 articles downloaded from breitbart  using newspaper, url:  https://www.breitbart.com/clips/2020/08/04/kamala-harris-petty-weak-trump-is-going-to-be-defeated-in-november/\n",
      "386 articles downloaded from breitbart  using newspaper, url:  https://www.breitbart.com/clips/2020/08/04/kamala-harris-petty-weak-trump-is-going-to-be-defeated-in-november/#disqus_thread\n",
      "387 articles downloaded from breitbart  using newspaper, url:  https://www.breitbart.com/clips/2020/08/04/rnc-chair-mcdaniel-if-you-cannot-debate-you-should-not-be-president/\n",
      "388 articles downloaded from breitbart  using newspaper, url:  https://www.breitbart.com/clips/2020/08/04/rnc-chair-mcdaniel-if-you-cannot-debate-you-should-not-be-president/#disqus_thread\n",
      "389 articles downloaded from breitbart  using newspaper, url:  https://www.breitbart.com/sports/2020/08/04/navy-seals-cut-ties-with-museum-over-colin-kaepernick-video/\n",
      "390 articles downloaded from breitbart  using newspaper, url:  https://www.breitbart.com/sports/2020/08/04/tcu-coach-gary-patterson-apologizes-for-using-n-word-while-telling-player-not-use-word/\n",
      "391 articles downloaded from breitbart  using newspaper, url:  https://www.breitbart.com/sports/2020/08/04/spurs-gregg-popovich-hispanics-are-also-victims-of-systemic-racism/\n",
      "392 articles downloaded from breitbart  using newspaper, url:  https://www.breitbart.com/sports/2020/08/04/spurs-gregg-popovich-hispanics-are-also-victims-of-systemic-racism/#disqus_thread\n",
      "393 articles downloaded from breitbart  using newspaper, url:  https://www.breitbart.com/sports/2020/08/04/stars-golden-knights-players-kneel-during-american-and-canadian-national-anthems/\n",
      "394 articles downloaded from breitbart  using newspaper, url:  https://www.breitbart.com/sports/2020/08/04/stars-golden-knights-players-kneel-during-american-and-canadian-national-anthems/#disqus_thread\n",
      "395 articles downloaded from breitbart  using newspaper, url:  https://www.breitbart.com/politics/2020/08/04/nigerian-governor-says-army-not-boko-haram-ambushed-his-convoy/\n",
      "396 articles downloaded from breitbart  using newspaper, url:  https://www.breitbart.com/politics/2020/08/04/nigerian-governor-says-army-not-boko-haram-ambushed-his-convoy/#disqus_thread\n",
      "397 articles downloaded from breitbart  using newspaper, url:  https://www.breitbart.com/national-security/2020/08/04/w-h-o-casts-doubt-on-coronavirus-originating-in-wuhan-china/\n",
      "398 articles downloaded from breitbart  using newspaper, url:  https://www.breitbart.com/national-security/2020/08/04/w-h-o-casts-doubt-on-coronavirus-originating-in-wuhan-china/#disqus_thread\n",
      "399 articles downloaded from breitbart  using newspaper, url:  https://www.breitbart.com/politics/2020/08/04/human-remains-vehicle-found-marine-accident-california-coast/\n",
      "400 articles downloaded from breitbart  using newspaper, url:  https://www.breitbart.com/politics/2020/08/04/human-remains-vehicle-found-marine-accident-california-coast/#disqus_thread\n",
      "401 articles downloaded from breitbart  using newspaper, url:  https://www.breitbart.com/tech/2020/08/04/interpol-reports-alarming-rate-cyberattacks-during-coronavirus-pandemic/\n",
      "402 articles downloaded from breitbart  using newspaper, url:  https://www.breitbart.com/tech/2020/08/04/interpol-reports-alarming-rate-cyberattacks-during-coronavirus-pandemic/#disqus_thread\n",
      "403 articles downloaded from breitbart  using newspaper, url:  https://www.breitbart.com/politics/2020/08/04/lindsey-graham-on-portland-riots-without-feds-to-protect-courthouse-theyd-have-burned-the-god-damned-thing-down/\n",
      "404 articles downloaded from breitbart  using newspaper, url:  https://www.breitbart.com/politics/2020/08/04/lindsey-graham-on-portland-riots-without-feds-to-protect-courthouse-theyd-have-burned-the-god-damned-thing-down/#disqus_thread\n",
      "405 articles downloaded from breitbart  using newspaper, url:  https://www.breitbart.com/clips/2020/08/04/trump-i-want-600-unemployment-benefits-to-continue/\n",
      "406 articles downloaded from breitbart  using newspaper, url:  https://www.breitbart.com/clips/2020/08/04/trump-i-want-600-unemployment-benefits-to-continue/#disqus_thread\n",
      "407 articles downloaded from breitbart  using newspaper, url:  https://www.breitbart.com/politics/2020/08/04/watch-democrats-refuse-to-condemn-antifa-in-senate-hearing/\n",
      "408 articles downloaded from breitbart  using newspaper, url:  https://www.breitbart.com/politics/2020/08/04/watch-democrats-refuse-to-condemn-antifa-in-senate-hearing/#disqus_thread\n",
      "409 articles downloaded from breitbart  using newspaper, url:  https://www.breitbart.com/entertainment/2020/08/04/cher-fk-those-heartless-republican-gutter-rats/\n",
      "410 articles downloaded from breitbart  using newspaper, url:  https://www.breitbart.com/entertainment/2020/08/04/cher-fk-those-heartless-republican-gutter-rats/#disqus_thread\n",
      "411 articles downloaded from breitbart  using newspaper, url:  https://www.breitbart.com/entertainment/2020/08/04/report-ellen-degeneres-show-ratings-plummet-to-all-time-low/\n",
      "412 articles downloaded from breitbart  using newspaper, url:  https://www.breitbart.com/entertainment/2020/08/04/report-ellen-degeneres-show-ratings-plummet-to-all-time-low/#disqus_thread\n",
      "413 articles downloaded from breitbart  using newspaper, url:  https://www.breitbart.com/entertainment/2020/08/04/harry-shearer-swipes-at-the-simpsons-ban-on-white-actors-voicing-non-white-characters/\n",
      "414 articles downloaded from breitbart  using newspaper, url:  https://www.breitbart.com/entertainment/2020/08/04/harry-shearer-swipes-at-the-simpsons-ban-on-white-actors-voicing-non-white-characters/#disqus_thread\n",
      "415 articles downloaded from breitbart  using newspaper, url:  https://www.breitbart.com/politics/2020/08/04/exclusive-mike-braun-democrats-sabotaging-a-strong-economic-recovery-by-holding-coronavirus-aid-hostage/\n",
      "416 articles downloaded from breitbart  using newspaper, url:  https://www.breitbart.com/politics/2020/08/04/exclusive-mike-braun-democrats-sabotaging-a-strong-economic-recovery-by-holding-coronavirus-aid-hostage/#disqus_thread\n",
      "417 articles downloaded from breitbart  using newspaper, url:  https://www.breitbart.com/politics/2020/08/04/california-poll-biden-leads-trump-by-39-points-nine-more-than-hillary-in-2016/\n",
      "418 articles downloaded from breitbart  using newspaper, url:  https://www.breitbart.com/politics/2020/08/04/california-poll-biden-leads-trump-by-39-points-nine-more-than-hillary-in-2016/#disqus_thread\n",
      "419 articles downloaded from breitbart  using newspaper, url:  https://www.breitbart.com/politics/2020/08/04/donald-trump-beruit-explosion-looks-like-a-terrible-attack/\n",
      "420 articles downloaded from breitbart  using newspaper, url:  https://www.breitbart.com/politics/2020/08/04/donald-trump-beruit-explosion-looks-like-a-terrible-attack/#disqus_thread\n",
      "421 articles downloaded from breitbart  using newspaper, url:  https://www.breitbart.com/national-security/2020/08/04/china-bans-cell-phones-granaries-video-shows-moldy-corn/\n",
      "422 articles downloaded from breitbart  using newspaper, url:  https://www.breitbart.com/national-security/2020/08/04/china-bans-cell-phones-granaries-video-shows-moldy-corn/#disqus_thread\n",
      "423 articles downloaded from breitbart  using newspaper, url:  https://www.breitbart.com/national-security/2020/08/04/chinese-company-sues-apple-intellectual-property-theft/\n",
      "424 articles downloaded from breitbart  using newspaper, url:  https://www.breitbart.com/national-security/2020/08/04/chinese-company-sues-apple-intellectual-property-theft/#disqus_thread\n",
      "425 articles downloaded from breitbart  using newspaper, url:  https://www.breitbart.com/national-security/2020/08/04/singapore-forces-tracking-devices-on-those-entering-country/\n",
      "426 articles downloaded from breitbart  using newspaper, url:  https://www.breitbart.com/national-security/2020/08/04/singapore-forces-tracking-devices-on-those-entering-country/#disqus_thread\n",
      "427 articles downloaded from breitbart  using newspaper, url:  https://www.breitbart.com/asia/2020/08/04/china-accuses-us-military-dangerous-experiments-high-risk-pathogens/\n",
      "428 articles downloaded from breitbart  using newspaper, url:  https://www.breitbart.com/asia/2020/08/04/china-accuses-us-military-dangerous-experiments-high-risk-pathogens/#disqus_thread\n",
      "429 articles downloaded from breitbart  using newspaper, url:  https://www.breitbart.com/politics/2020/08/04/trump-campaign-encourages-supporters-to-wear-masks-we-have-nothing-to-lose/\n",
      "430 articles downloaded from breitbart  using newspaper, url:  https://www.breitbart.com/politics/2020/08/04/trump-campaign-encourages-supporters-to-wear-masks-we-have-nothing-to-lose/#disqus_thread\n",
      "431 articles downloaded from breitbart  using newspaper, url:  https://www.breitbart.com/politics/2020/08/04/poll-vast-majority-voters-support-nationwide-mask-mandate/\n",
      "432 articles downloaded from breitbart  using newspaper, url:  https://www.breitbart.com/politics/2020/08/04/poll-vast-majority-voters-support-nationwide-mask-mandate/#disqus_thread\n",
      "433 articles downloaded from breitbart  using newspaper, url:  https://www.breitbart.com/health/2020/08/04/pennsylvania-reports-over-500-coronavirus-deaths-in-july-down-53-5-from-june/\n",
      "434 articles downloaded from breitbart  using newspaper, url:  https://www.breitbart.com/health/2020/08/04/pennsylvania-reports-over-500-coronavirus-deaths-in-july-down-53-5-from-june/#disqus_thread\n",
      "435 articles downloaded from breitbart  using newspaper, url:  https://www.breitbart.com/health/2020/08/04/cautious-optimism-as-california-coronavirus-cases-drop/\n",
      "436 articles downloaded from breitbart  using newspaper, url:  https://www.breitbart.com/health/2020/08/04/cautious-optimism-as-california-coronavirus-cases-drop/#disqus_thread\n",
      "437 articles downloaded from breitbart  using newspaper, url:  https://www.breitbart.com/clips/2020/08/04/mary-trump-calls-for-the-president-to-be-criminally-charged-for-coronavirus-response/\n",
      "438 articles downloaded from breitbart  using newspaper, url:  https://www.breitbart.com/clips/2020/08/04/mary-trump-calls-for-the-president-to-be-criminally-charged-for-coronavirus-response/#disqus_thread\n",
      "439 articles downloaded from breitbart  using newspaper, url:  https://www.breitbart.com/the-media/2020/08/04/white-house-press-shut-down-economy/\n",
      "440 articles downloaded from breitbart  using newspaper, url:  https://www.breitbart.com/the-media/2020/08/04/white-house-press-shut-down-economy/#disqus_thread\n",
      "441 articles downloaded from breitbart  using newspaper, url:  https://www.breitbart.com/entertainment/2020/08/05/disney-to-release-mulan-on-streaming-for-30-in-september/\n",
      "442 articles downloaded from breitbart  using newspaper, url:  https://www.breitbart.com/politics/2020/08/04/nolte-brian-stelter-is-gaslighting-you-about-cnns-push-for-biden-to-skip-debates/\n",
      "443 articles downloaded from breitbart  using newspaper, url:  https://www.breitbart.com/the-media/2020/08/03/manhattan-d-a-investigating-trump-for-possible-fraud-based-on-media-reports/\n",
      "444 articles downloaded from breitbart  using newspaper, url:  https://www.breitbart.com/politics/2020/08/03/charles-hurt-nadler-calls-riots-myth-blames-them-on-trump-barr/\n",
      "445 articles downloaded from breitbart  using newspaper, url:  https://www.breitbart.com/europe/2020/08/05/muslim-in-france-films-himself-slaughtering-sheep-in-bathtub-for-eid/\n",
      "446 articles downloaded from breitbart  using newspaper, url:  https://www.breitbart.com/clips/2020/08/05/tucker-carlson-joe-bidens-poll-numbers-rely-on-voters-not-hearing-him-speak/\n",
      "447 articles downloaded from breitbart  using newspaper, url:  http://www.breitbart.com/africa/2020/08/04/nigeria-insists-it-did-not-lose-48-million-barrels-of-oil-in-china/#disqus_thread\n",
      "448 articles downloaded from breitbart  using newspaper, url:  http://www.breitbart.com/africa/2020/08/03/opposition-accuses-south-african-presidents-family-getting-rich-off-coronavirus/\n",
      "449 articles downloaded from breitbart  using newspaper, url:  http://www.breitbart.com/africa/2020/08/03/opposition-accuses-south-african-presidents-family-getting-rich-off-coronavirus/#disqus_thread\n",
      "450 articles downloaded from breitbart  using newspaper, url:  http://www.breitbart.com/africa/2020/08/01/zimbabwe-police-disappear-anti-government-activists-before-planned-protest/\n",
      "451 articles downloaded from breitbart  using newspaper, url:  http://www.breitbart.com/africa/2020/07/31/zimbabwe-agrees-to-pay-white-farmers-3-5-billion-it-doesnt-have-for-land-grabs/\n",
      "452 articles downloaded from breitbart  using newspaper, url:  http://www.breitbart.com/politics/2020/07/29/democrats-introduce-bill-to-repeal-amendment-barring-u-s-funds-to-provide-abortion-overseas/\n",
      "453 articles downloaded from breitbart  using newspaper, url:  http://www.breitbart.com/national-security/2020/07/29/africa-14000-coronavirus-cases-24-hours/\n",
      "454 articles downloaded from breitbart  using newspaper, url:  http://www.breitbart.com/africa/2020/07/28/zimbabwe-threatens-expel-thug-uncle-tom-us-ambassador/\n",
      "455 articles downloaded from breitbart  using newspaper, url:  http://www.breitbart.com/africa/2020/07/28/report-xi-jinping-refused-to-cancel-chinese-portion-of-zambias-10-billion-debt/\n",
      "456 articles downloaded from breitbart  using newspaper, url:  http://www.breitbart.com/africa/2020/07/25/report-17000-south-africans-have-died-during-coronavirus-lockdowns-of-other-treatable-ailments/\n",
      "457 articles downloaded from breitbart  using newspaper, url:  http://www.breitbart.com/national-security/2020/07/25/uganda-reports-first-coronavirus-death/\n",
      "458 articles downloaded from breitbart  using newspaper, url:  http://www.breitbart.com/africa/2020/07/24/nigeria-boko-haram-warns-christians-executes-five-aid-workers-on-video/\n",
      "459 articles downloaded from breitbart  using newspaper, url:  http://www.breitbart.com/africa/2020/07/23/planned-parenthood-pushes-for-legal-abortion-up-to-birth-in-kenya/\n",
      "460 articles downloaded from breitbart  using newspaper, url:  http://www.breitbart.com/africa/2020/07/22/zimbabwe-sees-child-marriage-boom-during-coronavirus-lockdown/\n",
      "461 articles downloaded from breitbart  using newspaper, url:  http://www.breitbart.com/africa/2020/07/21/african-cardinal-blm-seeks-destruction-of-the-nuclear-family/\n",
      "462 articles downloaded from breitbart  using newspaper, url:  http://www.breitbart.com/europe/2020/07/19/african-migrant-arrested-after-fire-guts-nantes-cathedral/\n",
      "463 articles downloaded from breitbart  using newspaper, url:  http://www.breitbart.com/africa/2020/07/18/two-month-old-congo-ebola-outbreak-already-surpasses-2018s-cases/\n",
      "464 articles downloaded from breitbart  using newspaper, url:  http://www.breitbart.com/europe/2020/07/18/french-doctors-blame-surge-coronavirus-cases-north-african-travellers/\n",
      "465 articles downloaded from breitbart  using newspaper, url:  http://www.breitbart.com/national-security/2020/07/17/report-nigerian-hospitals-reject-critically-ill-patients-over-coronavirus-fears/\n",
      "466 articles downloaded from breitbart  using newspaper, url:  http://www.breitbart.com/africa/2020/07/16/nigeria-lawmakers-debate-chopping-off-genitals-rapists/\n",
      "467 articles downloaded from breitbart  using newspaper, url:  http://www.breitbart.com/africa/2020/07/14/report-hundreds-of-nigerian-troops-fighting-boko-haram-resign/\n",
      "468 articles downloaded from breitbart  using newspaper, url:  http://www.breitbart.com/africa/2020/07/14/sudan-claims-to-ban-fgm-legalize-apostasy-allow-women-to-travel/\n",
      "469 articles downloaded from breitbart  using newspaper, url:  http://www.breitbart.com/africa/2020/07/13/south-africa-reinstates-alcohol-ban-coronavirus-cases-soar/\n",
      "470 articles downloaded from breitbart  using newspaper, url:  http://www.breitbart.com/europe/2020/07/12/exposed-egyptian-spy-working-for-merkel-spokesman-for-years/\n",
      "471 articles downloaded from breitbart  using newspaper, url:  http://www.breitbart.com/national-security/2020/07/10/oxfam-lockdown-famine-could-kill-more-chinese-coronavirus/\n",
      "472 articles downloaded from breitbart  using newspaper, url:  http://www.breitbart.com/politics/2020/07/08/ex-slave-trade-center-in-senegal-renamed-after-george-floyd-protests/\n",
      "473 articles downloaded from breitbart  using newspaper, url:  http://www.breitbart.com/national-security/2020/07/08/zimbabwe-fires-health-minister-arrested-over-60-million-coronavirus-corruption-scheme/\n",
      "474 articles downloaded from breitbart  using newspaper, url:  http://www.breitbart.com/africa/2020/07/07/at-least-156-ethiopians-killed-in-riots-after-death-of-popular-singer/\n",
      "475 articles downloaded from breitbart  using newspaper, url:  http://www.breitbart.com/europe/2020/07/07/british-falklands-war-hero-shot-dead-farm-armed-raiders/\n",
      "476 articles downloaded from breitbart  using newspaper, url:  http://www.breitbart.com/middle-east/2020/08/04/netanyahu-left-wing-protests-against-me-strange-manifestations-of-incitement-calls-for-my-murder/\n",
      "477 articles downloaded from breitbart  using newspaper, url:  http://www.breitbart.com/clips/2020/08/04/trump-u-s-will-probably-have-between-4000-and-5000-troops-in-afghanistan-by-election-day/\n",
      "478 articles downloaded from breitbart  using newspaper, url:  http://www.breitbart.com/middle-east/2020/08/04/israeli-aircraft-strike-syrian-military-targets-after-thwarted-terror-attack/\n",
      "479 articles downloaded from breitbart  using newspaper, url:  http://www.breitbart.com/national-security/2020/08/03/leaked-government-records-show-iran-death-toll-triple-official-claims/\n",
      "480 articles downloaded from breitbart  using newspaper, url:  http://www.breitbart.com/middle-east/2020/08/03/idf-thwarts-attack-by-syrian-cell-that-entered-israeli-territory-to-plant-bomb/\n",
      "481 articles downloaded from breitbart  using newspaper, url:  http://www.breitbart.com/middle-east/2020/08/03/new-israeli-invention-stops-preterm-labor/\n",
      "482 articles downloaded from breitbart  using newspaper, url:  http://www.breitbart.com/middle-east/2020/08/03/facebook-instagram-ban-french-comedian-dieudonne-for-antisemitism/\n",
      "483 articles downloaded from breitbart  using newspaper, url:  http://www.breitbart.com/middle-east/2020/08/02/u-s-navy-mocks-irans-proven-ability-to-provide-undefended-stationary-targets/\n",
      "484 articles downloaded from breitbart  using newspaper, url:  http://www.breitbart.com/middle-east/2020/08/02/iran-claims-arrest-of-california-based-leader-of-exile-group/\n",
      "485 articles downloaded from breitbart  using newspaper, url:  http://www.breitbart.com/politics/2020/07/31/black-lives-matter-founder-dnc-platform-must-call-for-defunding-police-abolishing-ice/\n",
      "486 articles downloaded from breitbart  using newspaper, url:  http://www.breitbart.com/national-security/2020/07/31/libyan-officials-say-turkey-blackmailed-them-accepting-jihadi-troops/\n",
      "487 articles downloaded from breitbart  using newspaper, url:  http://www.breitbart.com/middle-east/2020/07/31/turkey-sends-fighter-jets-azerbaijan-after-threat-bomb-nuclear-power-plant/\n",
      "488 articles downloaded from breitbart  using newspaper, url:  http://www.breitbart.com/middle-east/2020/07/31/muslim-pilgrims-stone-satan-in-last-major-rite-of-scaled-back-hajj/\n",
      "489 articles downloaded from breitbart  using newspaper, url:  http://www.breitbart.com/middle-east/2020/07/30/saudi-arabia-arrests-nearly-1000-hajj-pilgrims-violating-entry-rules/\n",
      "490 articles downloaded from breitbart  using newspaper, url:  http://www.breitbart.com/middle-east/2020/07/30/twitter-under-fire-for-flagging-trump-posts-but-not-iran-ayatollah-calling-for-genocide-of-israel/\n",
      "491 articles downloaded from breitbart  using newspaper, url:  http://www.breitbart.com/middle-east/2020/07/30/israeli-president-rivlin-amid-protests-murder-of-netanyahu-not-imaginary-scenario/\n",
      "492 articles downloaded from breitbart  using newspaper, url:  http://www.breitbart.com/faith/2020/07/29/saudi-arabia-begins-socially-distant-hajj-featuring-tracking-bracelets-participants/\n",
      "493 articles downloaded from breitbart  using newspaper, url:  http://www.breitbart.com/border/2020/08/04/exclusive-border-wall-construction-crew-caught-smuggling-from-mexico-in-texas/\n",
      "494 articles downloaded from breitbart  using newspaper, url:  http://www.breitbart.com/border/2020/08/04/mexican-border-state-teen-kidnapping-shakes-farming-community/\n",
      "495 articles downloaded from breitbart  using newspaper, url:  http://www.breitbart.com/border/2020/08/04/teen-girl-nine-more-migrants-rescued-from-heat-of-california-desert-near-border/\n",
      "496 articles downloaded from breitbart  using newspaper, url:  http://www.breitbart.com/border/2020/08/02/mexico-captures-violent-fuel-theft-cartel-terrorist/\n",
      "497 articles downloaded from breitbart  using newspaper, url:  http://www.breitbart.com/border/2020/08/03/stash-house-search-finds-51-migrants-in-texas-near-border/\n",
      "498 articles downloaded from breitbart  using newspaper, url:  http://www.breitbart.com/border/2020/08/03/salvadoran-wanted-for-murder-in-virginia-found-near-new-mexico-border/\n",
      "499 articles downloaded from breitbart  using newspaper, url:  http://www.breitbart.com/border/2020/07/31/state-cops-seize-cartel-weapons-caches-in-mexican-border-city/\n",
      "500 articles downloaded from breitbart  using newspaper, url:  http://www.breitbart.com/border/2020/07/31/two-former-mexican-federales-face-drug-charges-in-u-s/\n",
      "Building site for  infowars\n",
      "1  Article has date of type None...\n",
      "2 articles downloaded from infowars  using newspaper, url:  https://www.infowars.com/nyc-to-impose-covid-checkpoints-to-enforce-quarantine-order/\n",
      "3 articles downloaded from infowars  using newspaper, url:  https://www.infowars.com/nyc-to-impose-covid-checkpoints-to-enforce-quarantine-order/#vuukle-comments\n",
      "4 articles downloaded from infowars  using newspaper, url:  https://www.infowars.com/steven-crowder-marches-in-austin-to-antifa-stronghold/\n",
      "5 articles downloaded from infowars  using newspaper, url:  https://www.infowars.com/steven-crowder-marches-in-austin-to-antifa-stronghold/#vuukle-comments\n",
      "6 articles downloaded from infowars  using newspaper, url:  https://www.infowars.com/bike-store-cancels-contract-with-austin-bike-police-after-woke-employees-complain/\n",
      "7 articles downloaded from infowars  using newspaper, url:  https://www.infowars.com/bike-store-cancels-contract-with-austin-bike-police-after-woke-employees-complain/#vuukle-comments\n",
      "8 articles downloaded from infowars  using newspaper, url:  https://www.infowars.com/trump-mulls-bypassing-congress-to-suspend-payroll-tax/\n",
      "9 articles downloaded from infowars  using newspaper, url:  https://www.infowars.com/trump-mulls-bypassing-congress-to-suspend-payroll-tax/#vuukle-comments\n",
      "10 articles downloaded from infowars  using newspaper, url:  https://www.infowars.com/hundreds-of-domestic-terrorism-investigations-opened-since-start-of-blm-antifa-riots-official/\n",
      "11 articles downloaded from infowars  using newspaper, url:  https://www.infowars.com/hundreds-of-domestic-terrorism-investigations-opened-since-start-of-blm-antifa-riots-official/#vuukle-comments\n",
      "12 articles downloaded from infowars  using newspaper, url:  https://www.infowars.com/over-200000-left-homeless-in-beirut-as-city-devastated-by-blast/\n",
      "13 articles downloaded from infowars  using newspaper, url:  https://www.infowars.com/over-200000-left-homeless-in-beirut-as-city-devastated-by-blast/#vuukle-comments\n",
      "14 articles downloaded from infowars  using newspaper, url:  https://www.infowars.com/biden-stumbles-over-his-words-while-asserting-he-doesnt-need-to-take-a-cognitive-test/\n",
      "15 articles downloaded from infowars  using newspaper, url:  https://www.infowars.com/biden-stumbles-over-his-words-while-asserting-he-doesnt-need-to-take-a-cognitive-test/#vuukle-comments\n",
      "16 articles downloaded from infowars  using newspaper, url:  https://www.infowars.com/watch-live-what-caused-the-beirut-bombing/\n",
      "17 articles downloaded from infowars  using newspaper, url:  https://www.infowars.com/watch-live-what-caused-the-beirut-bombing/#vuukle-comments\n",
      "18 articles downloaded from infowars  using newspaper, url:  https://www.infowars.com/poll-84-per-cent-of-americans-blame-media-for-political-divisions-in-the-country/\n",
      "19 articles downloaded from infowars  using newspaper, url:  https://www.infowars.com/poll-84-per-cent-of-americans-blame-media-for-political-divisions-in-the-country/#vuukle-comments\n",
      "20 articles downloaded from infowars  using newspaper, url:  https://www.infowars.com/john-cleese-woke-people-have-zero-sense-of-humour-theyre-killing-comedy/\n",
      "21 articles downloaded from infowars  using newspaper, url:  https://www.infowars.com/john-cleese-woke-people-have-zero-sense-of-humour-theyre-killing-comedy/#vuukle-comments\n",
      "22 articles downloaded from infowars  using newspaper, url:  https://www.infowars.com/survey-americans-think-coronavirus-has-killed-30-million-people-in-the-u-s-225-times-higher-than-actual-figure/\n",
      "23 articles downloaded from infowars  using newspaper, url:  https://www.infowars.com/survey-americans-think-coronavirus-has-killed-30-million-people-in-the-u-s-225-times-higher-than-actual-figure/#vuukle-comments\n",
      "24 articles downloaded from infowars  using newspaper, url:  https://www.infowars.com/trump-beirut-explosion-a-terrible-attack-a-bomb-of-some-kind/\n",
      "25 articles downloaded from infowars  using newspaper, url:  https://www.infowars.com/trump-beirut-explosion-a-terrible-attack-a-bomb-of-some-kind/#vuukle-comments\n",
      "26 articles downloaded from infowars  using newspaper, url:  https://www.infowars.com/scientists-have-warned-that-a-400-foot-tsunami-could-hit-the-east-coast-if-an-asteroid-hit-the-atlantic-ocean/\n",
      "27 articles downloaded from infowars  using newspaper, url:  https://www.infowars.com/scientists-have-warned-that-a-400-foot-tsunami-could-hit-the-east-coast-if-an-asteroid-hit-the-atlantic-ocean/#vuukle-comments\n",
      "28 articles downloaded from infowars  using newspaper, url:  https://www.infowars.com/did-the-mushroom-cloud-explosion-in-beirut-just-push-the-middle-east-closer-to-a-major-war/\n",
      "29 articles downloaded from infowars  using newspaper, url:  https://www.infowars.com/did-the-mushroom-cloud-explosion-in-beirut-just-push-the-middle-east-closer-to-a-major-war/#vuukle-comments\n",
      "30 articles downloaded from infowars  using newspaper, url:  https://www.infowars.com/nyt-writes-zero-articles-on-new-george-floyd-video-after-hyping-case-for-over-2-months/\n",
      "31 articles downloaded from infowars  using newspaper, url:  https://www.infowars.com/nyt-writes-zero-articles-on-new-george-floyd-video-after-hyping-case-for-over-2-months/#vuukle-comments\n",
      "32 articles downloaded from infowars  using newspaper, url:  https://www.infowars.com/us-dollar-could-be-a-crash-risk-amid-rising-economic-political-uncertainty/\n",
      "33 articles downloaded from infowars  using newspaper, url:  https://www.infowars.com/us-dollar-could-be-a-crash-risk-amid-rising-economic-political-uncertainty/#vuukle-comments\n",
      "34 articles downloaded from infowars  using newspaper, url:  https://www.infowars.com/prince-andrew-used-puppet-of-himself-to-grope-epstein-accuser-another-woman-court-docs-claim/\n",
      "35 articles downloaded from infowars  using newspaper, url:  https://www.infowars.com/prince-andrew-used-puppet-of-himself-to-grope-epstein-accuser-another-woman-court-docs-claim/#vuukle-comments\n",
      "36 articles downloaded from infowars  using newspaper, url:  https://www.infowars.com/seth-rogen-says-hes-actively-trying-to-make-less-things-starring-white-people/\n",
      "37 articles downloaded from infowars  using newspaper, url:  https://www.infowars.com/seth-rogen-says-hes-actively-trying-to-make-less-things-starring-white-people/#vuukle-comments\n",
      "38 articles downloaded from infowars  using newspaper, url:  https://www.infowars.com/husband-of-democrat-l-a-county-district-attorney-charged-with-assault-after-defending-home-with-firearm/\n",
      "39 articles downloaded from infowars  using newspaper, url:  https://www.infowars.com/husband-of-democrat-l-a-county-district-attorney-charged-with-assault-after-defending-home-with-firearm/#vuukle-comments\n",
      "40 articles downloaded from infowars  using newspaper, url:  https://www.infowars.com/false-positive-detroit-lions-quarterback-never-had-covid-19/\n",
      "41 articles downloaded from infowars  using newspaper, url:  https://www.infowars.com/false-positive-detroit-lions-quarterback-never-had-covid-19/#vuukle-comments\n",
      "42  Article has date of type None...\n",
      "43  Article has date of type None...\n",
      "44 articles downloaded from infowars  using newspaper, url:  https://www.infowars.com/salvini-blasts-criminal-italian-government-as-thousands-of-migrants-flood-islands/\n",
      "45 articles downloaded from infowars  using newspaper, url:  https://www.infowars.com/salvini-blasts-criminal-italian-government-as-thousands-of-migrants-flood-islands/#vuukle-comments\n",
      "46 articles downloaded from infowars  using newspaper, url:  https://www.infowars.com/seattle-to-replace-police-with-gender-affirming-anti-racist-department-of-community-safety/\n",
      "47 articles downloaded from infowars  using newspaper, url:  https://www.infowars.com/seattle-to-replace-police-with-gender-affirming-anti-racist-department-of-community-safety/#vuukle-comments\n",
      "48 articles downloaded from infowars  using newspaper, url:  https://www.infowars.com/epstein-lawyer-alan-dershowitz-called-for-the-lowering-of-the-age-of-consent/\n",
      "49 articles downloaded from infowars  using newspaper, url:  https://www.infowars.com/epstein-lawyer-alan-dershowitz-called-for-the-lowering-of-the-age-of-consent/#vuukle-comments\n",
      "50 articles downloaded from infowars  using newspaper, url:  https://www.infowars.com/robot-uses-face-scanning-ai-to-ask-people-to-wear-a-mask/\n",
      "51 articles downloaded from infowars  using newspaper, url:  https://www.infowars.com/robot-uses-face-scanning-ai-to-ask-people-to-wear-a-mask/#vuukle-comments\n",
      "52 articles downloaded from infowars  using newspaper, url:  https://www.infowars.com/video-portlands-antifa-sheriff-stabbed-in-the-breast/\n",
      "53 articles downloaded from infowars  using newspaper, url:  https://www.infowars.com/video-portlands-antifa-sheriff-stabbed-in-the-breast/#vuukle-comments\n",
      "54 articles downloaded from infowars  using newspaper, url:  https://www.infowars.com/corporate-media-completely-ignored-story-of-mother-killed-by-black-lives-matter-supporters/\n",
      "55 articles downloaded from infowars  using newspaper, url:  https://www.infowars.com/corporate-media-completely-ignored-story-of-mother-killed-by-black-lives-matter-supporters/#vuukle-comments\n",
      "56 articles downloaded from infowars  using newspaper, url:  https://www.infowars.com/live-white-house-updates-nation-on-tiktok-drug-price-transparency/\n",
      "57 articles downloaded from infowars  using newspaper, url:  https://www.infowars.com/live-white-house-updates-nation-on-tiktok-drug-price-transparency/#vuukle-comments\n",
      "58  Article has date of type None...\n",
      "59 articles downloaded from infowars  using newspaper, url:  https://www.infowars.com/comedy-the-wokest-company-in-silicon-valley/\n",
      "60 articles downloaded from infowars  using newspaper, url:  https://www.infowars.com/comedy-the-wokest-company-in-silicon-valley/#vuukle-comments\n",
      "61 articles downloaded from infowars  using newspaper, url:  https://www.infowars.com/media-tv-veteran-admits-we-are-a-cancer-and-there-is-no-cure/\n",
      "62 articles downloaded from infowars  using newspaper, url:  https://www.infowars.com/media-tv-veteran-admits-we-are-a-cancer-and-there-is-no-cure/#vuukle-comments\n",
      "63 articles downloaded from infowars  using newspaper, url:  https://www.infowars.com/heres-why-liberals-are-now-buying-guns/\n",
      "64 articles downloaded from infowars  using newspaper, url:  https://www.infowars.com/heres-why-liberals-are-now-buying-guns/#vuukle-comments\n",
      "65 articles downloaded from infowars  using newspaper, url:  https://www.infowars.com/antifa-group-posts-plans-to-build-deadly-weapons-in-atx/\n",
      "66 articles downloaded from infowars  using newspaper, url:  https://www.infowars.com/antifa-group-posts-plans-to-build-deadly-weapons-in-atx/#vuukle-comments\n",
      "67 articles downloaded from infowars  using newspaper, url:  https://www.infowars.com/globalists-ushering-in-post-human-era-via-engineered-covid-19-crisis/\n",
      "68 articles downloaded from infowars  using newspaper, url:  https://www.infowars.com/globalists-ushering-in-post-human-era-via-engineered-covid-19-crisis/#vuukle-comments\n",
      "69 articles downloaded from infowars  using newspaper, url:  https://www.infowars.com/pelosi-publicly-backs-globalists-engineering-collapse-calls-people-collateral-damage/\n",
      "70 articles downloaded from infowars  using newspaper, url:  https://www.infowars.com/pelosi-publicly-backs-globalists-engineering-collapse-calls-people-collateral-damage/#vuukle-comments\n",
      "71 articles downloaded from infowars  using newspaper, url:  https://www.infowars.com/live-show-trump-may-issue-executive-order-on-mail-in-voting/\n",
      "72 articles downloaded from infowars  using newspaper, url:  https://www.infowars.com/live-show-trump-may-issue-executive-order-on-mail-in-voting/#vuukle-comments\n",
      "73 articles downloaded from infowars  using newspaper, url:  https://www.infowars.com/shock-videos-massive-explosion-rocks-beirut-dozens-reportedly-covered-in-glass-and-blood/\n",
      "74 articles downloaded from infowars  using newspaper, url:  https://www.infowars.com/shock-videos-massive-explosion-rocks-beirut-dozens-reportedly-covered-in-glass-and-blood/#vuukle-comments\n",
      "75 articles downloaded from infowars  using newspaper, url:  https://www.infowars.com/washington-post-pushes-weak-trump-epstein-connection-ignores-bill-clinton-pedo-island-allegation/\n",
      "76 articles downloaded from infowars  using newspaper, url:  https://www.infowars.com/washington-post-pushes-weak-trump-epstein-connection-ignores-bill-clinton-pedo-island-allegation/#vuukle-comments\n",
      "77 articles downloaded from infowars  using newspaper, url:  https://www.infowars.com/how-central-banks-made-the-covid-panic-worse/\n",
      "78 articles downloaded from infowars  using newspaper, url:  https://www.infowars.com/how-central-banks-made-the-covid-panic-worse/#vuukle-comments\n",
      "79 articles downloaded from infowars  using newspaper, url:  https://www.infowars.com/why-keynes-was-wrong-about-consumer-spending/\n",
      "80 articles downloaded from infowars  using newspaper, url:  https://www.infowars.com/why-keynes-was-wrong-about-consumer-spending/#vuukle-comments\n",
      "81 articles downloaded from infowars  using newspaper, url:  https://www.infowars.com/trump-fires-ceo-of-tennessee-valley-authority-for-outsourcing-jobs-to-foreign-workers-after-meeting-with-u-s-tech-workers/\n",
      "82 articles downloaded from infowars  using newspaper, url:  https://www.infowars.com/trump-fires-ceo-of-tennessee-valley-authority-for-outsourcing-jobs-to-foreign-workers-after-meeting-with-u-s-tech-workers/#vuukle-comments\n",
      "83  Article has date of type None...\n",
      "Article `download()` failed with 404 Client Error: Not Found for url: https://www.infowars.com/%20https:/www.infowars.com/nyc-to-impose-covid-checkpoints-to-enforce-quarantine-order/#disqus_thread on URL https://www.infowars.com/ https:/www.infowars.com/nyc-to-impose-covid-checkpoints-to-enforce-quarantine-order/#disqus_thread\n",
      "continuing...\n",
      "Article `download()` failed with 404 Client Error: Not Found for url: https://www.infowars.com/%20https:/www.infowars.com/steven-crowder-marches-in-austin-to-antifa-stronghold/#disqus_thread on URL https://www.infowars.com/ https:/www.infowars.com/steven-crowder-marches-in-austin-to-antifa-stronghold/#disqus_thread\n",
      "continuing...\n",
      "Article `download()` failed with 404 Client Error: Not Found for url: https://www.infowars.com/%20https:/www.infowars.com/bike-store-cancels-contract-with-austin-bike-police-after-woke-employees-complain/#disqus_thread on URL https://www.infowars.com/ https:/www.infowars.com/bike-store-cancels-contract-with-austin-bike-police-after-woke-employees-complain/#disqus_thread\n",
      "continuing...\n",
      "84  Article has date of type None...\n",
      "Article `download()` failed with 404 Client Error: Not Found for url: https://www.infowars.com/%20https:/www.infowars.com/trump-mulls-bypassing-congress-to-suspend-payroll-tax/#disqus_thread on URL https://www.infowars.com/ https:/www.infowars.com/trump-mulls-bypassing-congress-to-suspend-payroll-tax/#disqus_thread\n",
      "continuing...\n",
      "85  Article has date of type None...\n",
      "Article `download()` failed with 404 Client Error: Not Found for url: https://www.infowars.com/%20https:/www.infowars.com/hundreds-of-domestic-terrorism-investigations-opened-since-start-of-blm-antifa-riots-official/#disqus_thread on URL https://www.infowars.com/ https:/www.infowars.com/hundreds-of-domestic-terrorism-investigations-opened-since-start-of-blm-antifa-riots-official/#disqus_thread\n",
      "continuing...\n",
      "86  Article has date of type None...\n",
      "Article `download()` failed with 404 Client Error: Not Found for url: https://www.infowars.com/%20https:/www.infowars.com/over-200000-left-homeless-in-beirut-as-city-devastated-by-blast/#disqus_thread on URL https://www.infowars.com/ https:/www.infowars.com/over-200000-left-homeless-in-beirut-as-city-devastated-by-blast/#disqus_thread\n",
      "continuing...\n",
      "Article `download()` failed with 404 Client Error: Not Found for url: https://www.infowars.com/%20https:/www.infowars.com/biden-stumbles-over-his-words-while-asserting-he-doesnt-need-to-take-a-cognitive-test/#disqus_thread on URL https://www.infowars.com/ https:/www.infowars.com/biden-stumbles-over-his-words-while-asserting-he-doesnt-need-to-take-a-cognitive-test/#disqus_thread\n",
      "continuing...\n",
      "Article `download()` failed with 404 Client Error: Not Found for url: https://www.infowars.com/%20https:/www.infowars.com/watch-live-what-caused-the-beirut-bombing/#disqus_thread on URL https://www.infowars.com/ https:/www.infowars.com/watch-live-what-caused-the-beirut-bombing/#disqus_thread\n",
      "continuing...\n",
      "Article `download()` failed with 404 Client Error: Not Found for url: https://www.infowars.com/%20https:/www.infowars.com/poll-84-per-cent-of-americans-blame-media-for-political-divisions-in-the-country/#disqus_thread on URL https://www.infowars.com/ https:/www.infowars.com/poll-84-per-cent-of-americans-blame-media-for-political-divisions-in-the-country/#disqus_thread\n",
      "continuing...\n",
      "87  Article has date of type None...\n",
      "88 articles downloaded from infowars  using newspaper, url:  https://europe.infowars.com/danish-politician-planning-to-burn-koran-in-swedish-no-go-zone/\n",
      "89 articles downloaded from infowars  using newspaper, url:  https://europe.infowars.com/salvini-blasts-criminal-italian-government-as-thousands-of-migrants-flood-islands/\n",
      "90 articles downloaded from infowars  using newspaper, url:  https://europe.infowars.com/parts-of-france-now-mandating-masks-outdoors/\n",
      "91 articles downloaded from infowars  using newspaper, url:  https://europe.infowars.com/london-man-with-mask-not-fully-covering-his-face-lectures-woman-about-not-wearing-mask/\n",
      "92 articles downloaded from infowars  using newspaper, url:  https://europe.infowars.com/under-30-percent-of-non-european-migrants-obey-orders-to-leave-eu/\n",
      "Downloading articles from  washingtonpost\n",
      "1 articles downloaded from washingtonpost , url:  https://www.washingtonpost.com/world/europe/russia-protests-far-east-putin-khabarovsk/2020/08/04/84567d0a-d261-11ea-826b-cc394d824e35_story.html?utm_source=rss&utm_medium=referral&utm_campaign=wp_world\n",
      "2 articles downloaded from washingtonpost , url:  https://www.washingtonpost.com/world/asia_pacific/taiwan-and-us-to-hold-highest-level-contact-since-1979-as-china-tensions-grow/2020/08/04/63d84cb4-d6be-11ea-a788-2ce86ce81129_story.html?utm_source=rss&utm_medium=referral&utm_campaign=wp_world\n",
      "3 articles downloaded from washingtonpost , url:  https://www.washingtonpost.com/world/asia_pacific/as-a-grand-hindu-temple-starts-to-rise-prime-minister-modi-is-transforming-india/2020/08/05/5d8859fa-d6a8-11ea-a788-2ce86ce81129_story.html?utm_source=rss&utm_medium=referral&utm_campaign=wp_world\n",
      "4 articles downloaded from washingtonpost , url:  https://www.washingtonpost.com/world/2020/08/05/hiroshima-75th-anniversary-nuclear-testing/?utm_source=rss&utm_medium=referral&utm_campaign=wp_world\n",
      "5 articles downloaded from washingtonpost , url:  https://www.washingtonpost.com/world/middle_east/beirut-blast-death-toll-rises-to-100-with-more-fatalities-feared/2020/08/05/a7fa4ed0-d68a-11ea-a788-2ce86ce81129_story.html?utm_source=rss&utm_medium=referral&utm_campaign=wp_world\n",
      "6 articles downloaded from washingtonpost , url:  https://www.washingtonpost.com/world/2020/08/04/beirut-explosion-ammonium-nitrate/?utm_source=rss&utm_medium=referral&utm_campaign=wp_world\n",
      "7 articles downloaded from washingtonpost , url:  https://www.washingtonpost.com/world/the_americas/jamaica-dreadlocks-supreme-court/2020/08/04/d13b7996-d689-11ea-930e-d88518c57dcc_story.html?utm_source=rss&utm_medium=referral&utm_campaign=wp_world\n",
      "8 articles downloaded from washingtonpost , url:  https://www.washingtonpost.com/world/2020/08/04/photos-show-aftermath-beirut-blasts/?utm_source=rss&utm_medium=referral&utm_campaign=wp_world\n",
      "9 articles downloaded from washingtonpost , url:  https://www.washingtonpost.com/world/middle_east/major-explosion-rocks-beirut/2020/08/04/53ff4dd6-d666-11ea-a788-2ce86ce81129_story.html?utm_source=rss&utm_medium=referral&utm_campaign=wp_world\n",
      "10 articles downloaded from washingtonpost , url:  https://www.washingtonpost.com/world/2020/08/04/spains-former-king-fled-country-where-world-did-he-go/?utm_source=rss&utm_medium=referral&utm_campaign=wp_world\n",
      "11 articles downloaded from washingtonpost , url:  https://www.washingtonpost.com/world/asia_pacific/kashmir-india-crackdown-anniversary/2020/08/04/19a35776-d63f-11ea-a788-2ce86ce81129_story.html?utm_source=rss&utm_medium=referral&utm_campaign=wp_world\n",
      "12 articles downloaded from washingtonpost , url:  https://www.washingtonpost.com/world/2020/08/04/closing-schools-around-world-could-cause-generational-catastrophe-un-secretary-general-warns/?utm_source=rss&utm_medium=referral&utm_campaign=wp_world\n",
      "13 articles downloaded from washingtonpost , url:  https://www.washingtonpost.com/history/2020/08/04/howard-kakita-hiroshima-atomic-bomb-survivor/?utm_source=rss&utm_medium=referral&utm_campaign=wp_world\n",
      "14 articles downloaded from washingtonpost , url:  https://www.washingtonpost.com/world/asia_pacific/trump-views-chinas-communist-party-as-a-threat-young-chinese-see-it-as-a-ticket-to-a-better-future/2020/08/03/6a950c0a-c803-11ea-a825-8722004e4150_story.html?utm_source=rss&utm_medium=referral&utm_campaign=wp_world\n",
      "15 articles downloaded from washingtonpost , url:  https://www.washingtonpost.com/world/asia_pacific/why-tiktok-was-destined-to-land-in-trumps-crosshairs/2020/08/04/e0526798-d56f-11ea-a788-2ce86ce81129_story.html?utm_source=rss&utm_medium=referral&utm_campaign=wp_world\n",
      "16 articles downloaded from washingtonpost , url:  https://www.washingtonpost.com/world/middle_east/israel-says-it-thwarted-an-attack-on-its-northern-border-with-syria/2020/08/03/d9670354-d555-11ea-a788-2ce86ce81129_story.html?utm_source=rss&utm_medium=referral&utm_campaign=wp_world\n",
      "17 articles downloaded from washingtonpost , url:  https://www.washingtonpost.com/podcasts/post-reports/how-the-pandemic-left-america-behind/?utm_source=rss&utm_medium=referral&utm_campaign=wp_world\n",
      "18 articles downloaded from washingtonpost , url:  https://www.washingtonpost.com/world/islamic-state-attack-on-an-afghan-prison-stretches-into-its-second-day-with-21-dead/2020/08/03/69e7146e-d556-11ea-a788-2ce86ce81129_story.html?utm_source=rss&utm_medium=referral&utm_campaign=wp_world\n",
      "19 articles downloaded from washingtonpost , url:  https://www.washingtonpost.com/world/2020/08/03/its-not-just-united-states-these-governments-see-tiktok-growing-problem/?utm_source=rss&utm_medium=referral&utm_campaign=wp_world\n",
      "20 articles downloaded from washingtonpost , url:  https://www.washingtonpost.com/world/europe/dagestan-russia-covid-count-mortality/2020/08/01/c8533220-cdc8-11ea-99b0-8426e26d203b_story.html?utm_source=rss&utm_medium=referral&utm_campaign=wp_world\n",
      "21 articles downloaded from washingtonpost , url:  https://www.washingtonpost.com/world/the_americas/colombias-long-virus-lockdown-fuels-anxiety-and-depression/2020/08/05/80355b70-d729-11ea-a788-2ce86ce81129_story.html?utm_source=rss&utm_medium=referral&utm_campaign=wp_world\n",
      "22 articles downloaded from washingtonpost , url:  https://www.washingtonpost.com/world/middle_east/a-shattered-beirut-emerges-from-the-rubble-stunned-wounded/2020/08/05/e6985b12-d71d-11ea-a788-2ce86ce81129_story.html?utm_source=rss&utm_medium=referral&utm_campaign=wp_world\n",
      "23 articles downloaded from washingtonpost , url:  https://www.washingtonpost.com/world/europe/mourners-honor-nobel-laureate-and-peace-advocate-john-hume/2020/08/05/b63822f4-d71d-11ea-a788-2ce86ce81129_story.html?utm_source=rss&utm_medium=referral&utm_campaign=wp_world\n",
      "24 articles downloaded from washingtonpost , url:  https://www.washingtonpost.com/world/africa/tanzanian-miner-strikes-it-rich-again-with-huge-gem-find/2020/08/05/646a5766-d705-11ea-a788-2ce86ce81129_story.html?utm_source=rss&utm_medium=referral&utm_campaign=wp_world\n",
      "25 articles downloaded from washingtonpost , url:  https://www.washingtonpost.com/world/africa/virus-keeps-tourists-from-africas-great-wildlife-migration/2020/08/05/c2fd1112-d703-11ea-a788-2ce86ce81129_story.html?utm_source=rss&utm_medium=referral&utm_campaign=wp_world\n",
      "Building site for  theonion\n",
      "1  Article has date of type None...\n",
      "2  Article has date of type None...\n",
      "3  Article has date of type None...\n",
      "4  Article has date of type None...\n",
      "5  Article has date of type None...\n",
      "6  Article has date of type None...\n",
      "7  Article has date of type None...\n",
      "8  Article has date of type None...\n",
      "9  Article has date of type None...\n",
      "10  Article has date of type None...\n",
      "11  Article has date of type None...\n",
      "12  Article has date of type None...\n",
      "13  Article has date of type None...\n",
      "14  Article has date of type None...\n",
      "15  Article has date of type None...\n",
      "16  Article has date of type None...\n",
      "17  Article has date of type None...\n",
      "18  Article has date of type None...\n",
      "19  Article has date of type None...\n",
      "20  Article has date of type None...\n",
      "21  Article has date of type None...\n",
      "22  Article has date of type None...\n",
      "23  Article has date of type None...\n",
      "24  Article has date of type None...\n",
      "25  Article has date of type None...\n",
      "26  Article has date of type None...\n",
      "27  Article has date of type None...\n",
      "28  Article has date of type None...\n",
      "29  Article has date of type None...\n",
      "30  Article has date of type None...\n",
      "31  Article has date of type None...\n",
      "32  Article has date of type None...\n",
      "33  Article has date of type None...\n",
      "34  Article has date of type None...\n",
      "35  Article has date of type None...\n",
      "36  Article has date of type None...\n",
      "37  Article has date of type None...\n",
      "38  Article has date of type None...\n",
      "39  Article has date of type None...\n",
      "40  Article has date of type None...\n",
      "41  Article has date of type None...\n",
      "42  Article has date of type None...\n",
      "43  Article has date of type None...\n",
      "44  Article has date of type None...\n",
      "45  Article has date of type None...\n",
      "46  Article has date of type None...\n",
      "47  Article has date of type None...\n",
      "48  Article has date of type None...\n",
      "49  Article has date of type None...\n",
      "50  Article has date of type None...\n",
      "51  Article has date of type None...\n",
      "52  Article has date of type None...\n",
      "53  Article has date of type None...\n",
      "54  Article has date of type None...\n",
      "55  Article has date of type None...\n",
      "56  Article has date of type None...\n",
      "57  Article has date of type None...\n",
      "58  Article has date of type None...\n",
      "59  Article has date of type None...\n",
      "60  Article has date of type None...\n",
      "61  Article has date of type None...\n",
      "62  Article has date of type None...\n",
      "63  Article has date of type None...\n",
      "64  Article has date of type None...\n",
      "65  Article has date of type None...\n",
      "66  Article has date of type None...\n",
      "67  Article has date of type None...\n",
      "68  Article has date of type None...\n",
      "69  Article has date of type None...\n",
      "70  Article has date of type None...\n",
      "71  Article has date of type None...\n",
      "72  Article has date of type None...\n",
      "73  Article has date of type None...\n",
      "74  Article has date of type None...\n",
      "75  Article has date of type None...\n",
      "76  Article has date of type None...\n",
      "77  Article has date of type None...\n",
      "78  Article has date of type None...\n",
      "79  Article has date of type None...\n",
      "80  Article has date of type None...\n",
      "81  Article has date of type None...\n",
      "82  Article has date of type None...\n",
      "83  Article has date of type None...\n",
      "84  Article has date of type None...\n",
      "85  Article has date of type None...\n",
      "86  Article has date of type None...\n",
      "87  Article has date of type None...\n",
      "88  Article has date of type None...\n",
      "89  Article has date of type None...\n",
      "90  Article has date of type None...\n",
      "91  Article has date of type None...\n",
      "92  Article has date of type None...\n",
      "93  Article has date of type None...\n",
      "94  Article has date of type None...\n",
      "95  Article has date of type None...\n",
      "96  Article has date of type None...\n",
      "97  Article has date of type None...\n",
      "98  Article has date of type None...\n",
      "99  Article has date of type None...\n",
      "100  Article has date of type None...\n",
      "101  Article has date of type None...\n",
      "Too many noneType dates, aborting...\n"
     ]
    }
   ],
   "source": [
    "import feedparser as fp\n",
    "import json\n",
    "import newspaper\n",
    "from newspaper import Article\n",
    "from time import mktime\n",
    "from datetime import datetime\n",
    "\n",
    "# Set the limit for number of articles to download\n",
    "#LIMIT = 14500\n",
    "LIMIT = 500\n",
    "\n",
    "data = {}\n",
    "data['newspapers'] = {}\n",
    "\n",
    "# Loads the JSON files with news sites\n",
    "with open('NewsPapers.json') as data_file:\n",
    "    companies = json.load(data_file)\n",
    "\n",
    "count = 1\n",
    "\n",
    "# Iterate through each news company\n",
    "for company, value in companies.items():\n",
    "    # If a RSS link is provided in the JSON file, this will be the first choice.\n",
    "    # Reason for this is that, RSS feeds often give more consistent and correct data.\n",
    "    # If you do not want to scrape from the RSS-feed, just leave the RSS attr empty in the JSON file.\n",
    "    if 'rss' in value:\n",
    "        d = fp.parse(value['rss'])\n",
    "        print(\"Downloading articles from \", company)\n",
    "        newsPaper = {\n",
    "            \"rss\": value['rss'],\n",
    "            \"link\": value['link'],\n",
    "            \"articles\": []\n",
    "        }\n",
    "        for entry in d.entries:\n",
    "            # Check if publish date is provided, if no the article is skipped.\n",
    "            # This is done to keep consistency in the data and to keep the script from crashing.\n",
    "            if hasattr(entry, 'published'):\n",
    "                if count > LIMIT:\n",
    "                    break\n",
    "                article = {}\n",
    "                article['link'] = entry.link\n",
    "                date = entry.published_parsed\n",
    "                article['published'] = datetime.fromtimestamp(mktime(date)).isoformat()\n",
    "                try:\n",
    "                    content = Article(entry.link)\n",
    "                    content.download()\n",
    "                    content.parse()\n",
    "                except Exception as e:\n",
    "                    # If the download for some reason fails (ex. 404) the script will continue downloading\n",
    "                    # the next article.\n",
    "                    print(e)\n",
    "                    print(\"continuing...\")\n",
    "                    continue\n",
    "                article['title'] = content.title\n",
    "                article['text'] = content.text\n",
    "                newsPaper['articles'].append(article)\n",
    "                print(count, \"articles downloaded from\", company, \", url: \", entry.link)\n",
    "                count = count + 1\n",
    "    else:\n",
    "        # This is the fallback method if a RSS-feed link is not provided.\n",
    "        # It uses the python newspaper library to extract articles\n",
    "        print(\"Building site for \", company)\n",
    "        paper = newspaper.build(value['link'], memoize_articles=False)\n",
    "        newsPaper = {\n",
    "            \"link\": value['link'],\n",
    "            \"articles\": []\n",
    "        }\n",
    "        noneTypeCount = 0\n",
    "        for content in paper.articles:\n",
    "            if count > LIMIT:\n",
    "                break\n",
    "            try:\n",
    "                content.download()\n",
    "                content.parse()\n",
    "            except Exception as e:\n",
    "                print(e)\n",
    "                print(\"continuing...\")\n",
    "                continue\n",
    "            # Again, for consistency, if there is no found publish date the article will be skipped.\n",
    "            # After 10 downloaded articles from the same newspaper without publish date, the company will be skipped.\n",
    "            if content.publish_date is None:\n",
    "                print(count, \" Article has date of type None...\")\n",
    "                noneTypeCount = noneTypeCount + 1\n",
    "                if noneTypeCount > 100:\n",
    "                    print(\"Too many noneType dates, aborting...\")\n",
    "                    noneTypeCount = 0\n",
    "                    break\n",
    "                count = count + 1\n",
    "                continue\n",
    "            article = {}\n",
    "            article['title'] = content.title\n",
    "            article['text'] = content.text\n",
    "            article['link'] = content.url\n",
    "            article['published'] = content.publish_date.isoformat()\n",
    "            newsPaper['articles'].append(article)\n",
    "            print(count, \"articles downloaded from\", company, \" using newspaper, url: \", content.url)\n",
    "            count = count + 1\n",
    "            noneTypeCount = 0\n",
    "    count = 1\n",
    "    data['newspapers'][company] = newsPaper\n",
    "\n",
    "# Finally it saves the articles as a JSON-file.\n",
    "try:\n",
    "    with open('scraped_articles.json', 'w') as outfile:\n",
    "        json.dump(data, outfile)\n",
    "except Exception as e: print(e)"
   ]
  },
  {
   "cell_type": "code",
   "execution_count": 103,
   "metadata": {
    "colab": {},
    "colab_type": "code",
    "executionInfo": {
     "elapsed": 869,
     "status": "ok",
     "timestamp": 1594597724109,
     "user": {
      "displayName": "alejandro martinez",
      "photoUrl": "https://lh3.googleusercontent.com/a-/AOh14Gi9YSzzf_VDnAbvxMnJJqez5U-I_wOQ5OyJRmw_=s64",
      "userId": "05542026783145230534"
     },
     "user_tz": 300
    },
    "id": "TT7O56-YOSNc"
   },
   "outputs": [],
   "source": [
    "with open('scraped_articles.json') as json_data:\n",
    "    d = json.load(json_data)"
   ]
  },
  {
   "cell_type": "code",
   "execution_count": 104,
   "metadata": {
    "colab": {
     "base_uri": "https://localhost:8080/",
     "height": 173
    },
    "colab_type": "code",
    "executionInfo": {
     "elapsed": 899,
     "status": "ok",
     "timestamp": 1594597725658,
     "user": {
      "displayName": "alejandro martinez",
      "photoUrl": "https://lh3.googleusercontent.com/a-/AOh14Gi9YSzzf_VDnAbvxMnJJqez5U-I_wOQ5OyJRmw_=s64",
      "userId": "05542026783145230534"
     },
     "user_tz": 300
    },
    "id": "9CaUXP7OOVaq",
    "outputId": "55b28472-fdbe-4c6e-c77c-9e274f94d93c"
   },
   "outputs": [
    {
     "name": "stdout",
     "output_type": "stream",
     "text": [
      "0 bbc\n",
      "1 theguardian\n",
      "2 breitbart\n",
      "3 infowars\n",
      "4 washingtonpost\n",
      "5 theonion\n"
     ]
    }
   ],
   "source": [
    "for i, site in enumerate((list(d['newspapers']))):\n",
    "    print(i, site)"
   ]
  },
  {
   "cell_type": "markdown",
   "metadata": {
    "colab_type": "text",
    "id": "QonMsbjWPXzn"
   },
   "source": [
    "Hacemos un pandas dataFrame con los articulos descargados"
   ]
  },
  {
   "cell_type": "code",
   "execution_count": 105,
   "metadata": {
    "colab": {},
    "colab_type": "code",
    "executionInfo": {
     "elapsed": 1131,
     "status": "ok",
     "timestamp": 1594597728844,
     "user": {
      "displayName": "alejandro martinez",
      "photoUrl": "https://lh3.googleusercontent.com/a-/AOh14Gi9YSzzf_VDnAbvxMnJJqez5U-I_wOQ5OyJRmw_=s64",
      "userId": "05542026783145230534"
     },
     "user_tz": 300
    },
    "id": "w3WS0s1oOZfF"
   },
   "outputs": [],
   "source": [
    "for i, site in enumerate((list(d['newspapers']))):\n",
    "    articles = list(d['newspapers'][site]['articles'])\n",
    "    if i == 0:\n",
    "        df = pd.DataFrame.from_dict(articles)\n",
    "        df[\"site\"] = site\n",
    "    else:\n",
    "        new_df = pd.DataFrame.from_dict(articles)\n",
    "        new_df[\"site\"] = site\n",
    "        df = pd.concat([df, new_df], ignore_index = True)     "
   ]
  },
  {
   "cell_type": "markdown",
   "metadata": {
    "colab_type": "text",
    "id": "jiPRj5VJPSS0"
   },
   "source": [
    "Leemos los datos provenientes del dataset de Kaggle"
   ]
  },
  {
   "cell_type": "code",
   "execution_count": 12,
   "metadata": {
    "colab": {},
    "colab_type": "code",
    "executionInfo": {
     "elapsed": 6476,
     "status": "ok",
     "timestamp": 1594597740851,
     "user": {
      "displayName": "alejandro martinez",
      "photoUrl": "https://lh3.googleusercontent.com/a-/AOh14Gi9YSzzf_VDnAbvxMnJJqez5U-I_wOQ5OyJRmw_=s64",
      "userId": "05542026783145230534"
     },
     "user_tz": 300
    },
    "id": "jmoV3f42_cKw"
   },
   "outputs": [],
   "source": [
    "true_data=get_data('true')\n",
    "fake_data=get_data('false')"
   ]
  },
  {
   "cell_type": "markdown",
   "metadata": {},
   "source": [
    "Le asignamos la categoria correspondiente a cada uno de los dataframes y lo unimos en uno solo."
   ]
  },
  {
   "cell_type": "code",
   "execution_count": 108,
   "metadata": {
    "colab": {
     "base_uri": "https://localhost:8080/",
     "height": 225
    },
    "colab_type": "code",
    "executionInfo": {
     "elapsed": 885,
     "status": "ok",
     "timestamp": 1594597748894,
     "user": {
      "displayName": "alejandro martinez",
      "photoUrl": "https://lh3.googleusercontent.com/a-/AOh14Gi9YSzzf_VDnAbvxMnJJqez5U-I_wOQ5OyJRmw_=s64",
      "userId": "05542026783145230534"
     },
     "user_tz": 300
    },
    "id": "OM1LowcDAWeC",
    "outputId": "fedd0d85-ab44-4763-d734-edb5f9d04717"
   },
   "outputs": [
    {
     "name": "stdout",
     "output_type": "stream",
     "text": [
      "<class 'pandas.core.frame.DataFrame'>\n",
      "Int64Index: 44867 entries, 0 to 23449\n",
      "Data columns (total 5 columns):\n",
      " #   Column    Non-Null Count  Dtype \n",
      "---  ------    --------------  ----- \n",
      " 0   title     44867 non-null  object\n",
      " 1   text      44867 non-null  object\n",
      " 2   subject   44867 non-null  object\n",
      " 3   date      44867 non-null  object\n",
      " 4   category  44867 non-null  object\n",
      "dtypes: object(5)\n",
      "memory usage: 2.1+ MB\n"
     ]
    }
   ],
   "source": [
    "true_data['category']= 'True'\n",
    "fake_data['category']= 'Fake'\n",
    "\n",
    "df_news = pd.concat([true_data, fake_data])\n",
    "df_news.info()\n"
   ]
  },
  {
   "cell_type": "markdown",
   "metadata": {},
   "source": [
    "Hacemos la categorización en el dataset proveniente del scrappping."
   ]
  },
  {
   "cell_type": "code",
   "execution_count": 109,
   "metadata": {
    "colab": {},
    "colab_type": "code",
    "executionInfo": {
     "elapsed": 893,
     "status": "ok",
     "timestamp": 1594597752472,
     "user": {
      "displayName": "alejandro martinez",
      "photoUrl": "https://lh3.googleusercontent.com/a-/AOh14Gi9YSzzf_VDnAbvxMnJJqez5U-I_wOQ5OyJRmw_=s64",
      "userId": "05542026783145230534"
     },
     "user_tz": 300
    },
    "id": "90d6Z3thQA19"
   },
   "outputs": [],
   "source": [
    "data=df.drop(['link'], axis=1)\n",
    "data['site']=data['site'].replace(['bbc','cnn','theguardian', 'foxnews','nbcnews','washingtonpost'\n",
    "                                  ,'breitbart','infowars','theonion'], \n",
    "                                  ['True','True','True','True','True','True',\n",
    "                                   'Fake','Fake','Fake'])"
   ]
  },
  {
   "cell_type": "markdown",
   "metadata": {},
   "source": [
    "Eliminamos la columna subject ya que consideramos que esta no aporta información significativa para la resolución del problema"
   ]
  },
  {
   "cell_type": "code",
   "execution_count": 114,
   "metadata": {
    "colab": {
     "base_uri": "https://localhost:8080/",
     "height": 206
    },
    "colab_type": "code",
    "executionInfo": {
     "elapsed": 495,
     "status": "ok",
     "timestamp": 1594586274845,
     "user": {
      "displayName": "alejandro martinez",
      "photoUrl": "https://lh3.googleusercontent.com/a-/AOh14Gi9YSzzf_VDnAbvxMnJJqez5U-I_wOQ5OyJRmw_=s64",
      "userId": "05542026783145230534"
     },
     "user_tz": 300
    },
    "id": "I3VukGDHv10O",
    "outputId": "58a78252-74f7-479d-f72e-77209f362bb1"
   },
   "outputs": [
    {
     "data": {
      "text/html": [
       "<div>\n",
       "<style scoped>\n",
       "    .dataframe tbody tr th:only-of-type {\n",
       "        vertical-align: middle;\n",
       "    }\n",
       "\n",
       "    .dataframe tbody tr th {\n",
       "        vertical-align: top;\n",
       "    }\n",
       "\n",
       "    .dataframe thead th {\n",
       "        text-align: right;\n",
       "    }\n",
       "</style>\n",
       "<table border=\"1\" class=\"dataframe\">\n",
       "  <thead>\n",
       "    <tr style=\"text-align: right;\">\n",
       "      <th></th>\n",
       "      <th>title</th>\n",
       "      <th>text</th>\n",
       "      <th>date</th>\n",
       "      <th>category</th>\n",
       "    </tr>\n",
       "  </thead>\n",
       "  <tbody>\n",
       "    <tr>\n",
       "      <th>0</th>\n",
       "      <td>As U.S. budget fight looms, Republicans flip t...</td>\n",
       "      <td>WASHINGTON (Reuters) - The head of a conservat...</td>\n",
       "      <td>2017-12-31</td>\n",
       "      <td>True</td>\n",
       "    </tr>\n",
       "    <tr>\n",
       "      <th>1</th>\n",
       "      <td>U.S. military to accept transgender recruits o...</td>\n",
       "      <td>WASHINGTON (Reuters) - Transgender people will...</td>\n",
       "      <td>2017-12-29</td>\n",
       "      <td>True</td>\n",
       "    </tr>\n",
       "    <tr>\n",
       "      <th>2</th>\n",
       "      <td>Senior U.S. Republican senator: 'Let Mr. Muell...</td>\n",
       "      <td>WASHINGTON (Reuters) - The special counsel inv...</td>\n",
       "      <td>2017-12-31</td>\n",
       "      <td>True</td>\n",
       "    </tr>\n",
       "    <tr>\n",
       "      <th>3</th>\n",
       "      <td>FBI Russia probe helped by Australian diplomat...</td>\n",
       "      <td>WASHINGTON (Reuters) - Trump campaign adviser ...</td>\n",
       "      <td>2017-12-30</td>\n",
       "      <td>True</td>\n",
       "    </tr>\n",
       "    <tr>\n",
       "      <th>4</th>\n",
       "      <td>Trump wants Postal Service to charge 'much mor...</td>\n",
       "      <td>SEATTLE/WASHINGTON (Reuters) - President Donal...</td>\n",
       "      <td>2017-12-29</td>\n",
       "      <td>True</td>\n",
       "    </tr>\n",
       "  </tbody>\n",
       "</table>\n",
       "</div>"
      ],
      "text/plain": [
       "                                               title  \\\n",
       "0  As U.S. budget fight looms, Republicans flip t...   \n",
       "1  U.S. military to accept transgender recruits o...   \n",
       "2  Senior U.S. Republican senator: 'Let Mr. Muell...   \n",
       "3  FBI Russia probe helped by Australian diplomat...   \n",
       "4  Trump wants Postal Service to charge 'much mor...   \n",
       "\n",
       "                                                text       date category  \n",
       "0  WASHINGTON (Reuters) - The head of a conservat... 2017-12-31     True  \n",
       "1  WASHINGTON (Reuters) - Transgender people will... 2017-12-29     True  \n",
       "2  WASHINGTON (Reuters) - The special counsel inv... 2017-12-31     True  \n",
       "3  WASHINGTON (Reuters) - Trump campaign adviser ... 2017-12-30     True  \n",
       "4  SEATTLE/WASHINGTON (Reuters) - President Donal... 2017-12-29     True  "
      ]
     },
     "execution_count": 114,
     "metadata": {},
     "output_type": "execute_result"
    }
   ],
   "source": [
    "df_news=df_news.drop(['subject'], axis=1)\n",
    "df_news.head()"
   ]
  },
  {
   "cell_type": "markdown",
   "metadata": {},
   "source": [
    "Reemplazamos los nombres en las columnas del dataframe proveniente del web scrapping con el fin de poder unirlo con el dataset existente de kaggle"
   ]
  },
  {
   "cell_type": "code",
   "execution_count": 115,
   "metadata": {
    "colab": {},
    "colab_type": "code",
    "executionInfo": {
     "elapsed": 10964,
     "status": "ok",
     "timestamp": 1594597797804,
     "user": {
      "displayName": "alejandro martinez",
      "photoUrl": "https://lh3.googleusercontent.com/a-/AOh14Gi9YSzzf_VDnAbvxMnJJqez5U-I_wOQ5OyJRmw_=s64",
      "userId": "05542026783145230534"
     },
     "user_tz": 300
    },
    "id": "eiP6x-_XUXc8"
   },
   "outputs": [],
   "source": [
    "data.rename(columns={'published':'date',                           \n",
    "                    'site':'category'},\n",
    "                    inplace=True)\n",
    "df_news['date']=df_news['date'].apply(pd.to_datetime)\n",
    "data['date']=data['date'].apply(pd.to_datetime)"
   ]
  },
  {
   "cell_type": "code",
   "execution_count": 116,
   "metadata": {
    "colab": {},
    "colab_type": "code",
    "executionInfo": {
     "elapsed": 1002,
     "status": "ok",
     "timestamp": 1594597806851,
     "user": {
      "displayName": "alejandro martinez",
      "photoUrl": "https://lh3.googleusercontent.com/a-/AOh14Gi9YSzzf_VDnAbvxMnJJqez5U-I_wOQ5OyJRmw_=s64",
      "userId": "05542026783145230534"
     },
     "user_tz": 300
    },
    "id": "MyfXu3Y_eokP"
   },
   "outputs": [],
   "source": [
    "total_news_df = pd.concat([df_news, data])"
   ]
  },
  {
   "cell_type": "markdown",
   "metadata": {},
   "source": [
    "Verificamos el numero de columnas del dataset final y que este no tenga datos nulos."
   ]
  },
  {
   "cell_type": "code",
   "execution_count": 117,
   "metadata": {
    "colab": {
     "base_uri": "https://localhost:8080/",
     "height": 208
    },
    "colab_type": "code",
    "executionInfo": {
     "elapsed": 525,
     "status": "ok",
     "timestamp": 1594586493691,
     "user": {
      "displayName": "alejandro martinez",
      "photoUrl": "https://lh3.googleusercontent.com/a-/AOh14Gi9YSzzf_VDnAbvxMnJJqez5U-I_wOQ5OyJRmw_=s64",
      "userId": "05542026783145230534"
     },
     "user_tz": 300
    },
    "id": "6jclGn3Leu6b",
    "outputId": "b42769e3-286f-43c8-b50c-4f22a63f65de"
   },
   "outputs": [
    {
     "name": "stdout",
     "output_type": "stream",
     "text": [
      "<class 'pandas.core.frame.DataFrame'>\n",
      "Int64Index: 45577 entries, 0 to 709\n",
      "Data columns (total 4 columns):\n",
      " #   Column    Non-Null Count  Dtype \n",
      "---  ------    --------------  ----- \n",
      " 0   title     45577 non-null  object\n",
      " 1   text      45577 non-null  object\n",
      " 2   date      45577 non-null  object\n",
      " 3   category  45577 non-null  object\n",
      "dtypes: object(4)\n",
      "memory usage: 1.7+ MB\n"
     ]
    }
   ],
   "source": [
    "total_news_df.info()"
   ]
  },
  {
   "cell_type": "markdown",
   "metadata": {},
   "source": [
    "Una vez descargados los datos, se realiza la separación de los datos. Tendremos dos enfoques para la separación de los datos. El primero será con base a los textos y el segundo con base en los títulos. Esto lo hacemos con el fin de poder determinar a través de los resultados, cuál variable es mejor para determinar si una noticia es falsa o verdadera."
   ]
  },
  {
   "cell_type": "code",
   "execution_count": 118,
   "metadata": {},
   "outputs": [],
   "source": [
    "X_text, X_title, y = total_news_df['text'], total_news_df['title'], total_news_df['category']"
   ]
  },
  {
   "cell_type": "markdown",
   "metadata": {},
   "source": [
    "Se obtienen los datos de TEST y de TRAIN para los Textos"
   ]
  },
  {
   "cell_type": "code",
   "execution_count": 119,
   "metadata": {},
   "outputs": [],
   "source": [
    "X_train_text, X_test_text, y_train_text, y_test_text = train_test_split(X_text, y, test_size=0.2, random_state=33)"
   ]
  },
  {
   "cell_type": "markdown",
   "metadata": {},
   "source": [
    "Se obtienen los datos de TEST y de TRAIN para los Títulos"
   ]
  },
  {
   "cell_type": "code",
   "execution_count": 120,
   "metadata": {},
   "outputs": [],
   "source": [
    "X_train_title, X_test_title, y_train_title, y_test_title = train_test_split(X_title, y, test_size=0.2, random_state=33)"
   ]
  },
  {
   "cell_type": "markdown",
   "metadata": {
    "colab_type": "text",
    "id": "QBb64Uuip5DT"
   },
   "source": [
    "### 3. Preparación de datos\n",
    "\n",
    "Para poder realizar el pre-procesamiento de los datos, es recomendable pasar por tres etapas:\n",
    "* Eliminación del Ruido.\n",
    "* Tokenización.\n",
    "* Normalización."
   ]
  },
  {
   "cell_type": "code",
   "execution_count": 121,
   "metadata": {
    "colab": {},
    "colab_type": "code",
    "executionInfo": {
     "elapsed": 882,
     "status": "ok",
     "timestamp": 1594597818353,
     "user": {
      "displayName": "alejandro martinez",
      "photoUrl": "https://lh3.googleusercontent.com/a-/AOh14Gi9YSzzf_VDnAbvxMnJJqez5U-I_wOQ5OyJRmw_=s64",
      "userId": "05542026783145230534"
     },
     "user_tz": 300
    },
    "id": "z1odvwCYgcXx"
   },
   "outputs": [],
   "source": [
    "def remove_non_ascii(words):\n",
    "    \"\"\"Remove non-ASCII characters from list of tokenized words\"\"\"\n",
    "    new_words = []\n",
    "    for word in words:\n",
    "        new_word = unicodedata.normalize('NFKD', word).encode('ascii', 'ignore').decode('utf-8', 'ignore')\n",
    "        new_words.append(new_word)\n",
    "    return new_words\n",
    "\n",
    "def to_lowercase(words):\n",
    "    \"\"\"Convert all characters to lowercase from list of tokenized words\"\"\"\n",
    "    new_words = []\n",
    "    for word in words:\n",
    "        new_word = word.lower()\n",
    "        new_words.append(new_word)\n",
    "    return new_words\n",
    "\n",
    "def remove_punctuation(words):\n",
    "    \"\"\"Remove punctuation from list of tokenized words\"\"\"\n",
    "    new_words = []\n",
    "    for word in words:\n",
    "        new_word = re.sub(r'[^\\w\\s]', '', word)\n",
    "        if new_word != '':\n",
    "            new_words.append(new_word)\n",
    "    return new_words\n",
    "\n",
    "def replace_numbers(words):\n",
    "    \"\"\"Replace all interger occurrences in list of tokenized words with textual representation\"\"\"\n",
    "    p = inflect.engine()\n",
    "    new_words = []\n",
    "    for word in words:\n",
    "        if word.isdigit():\n",
    "            new_word = p.number_to_words(word)\n",
    "            new_words.append(new_word)\n",
    "        else:\n",
    "            new_words.append(word)\n",
    "    return new_words\n",
    "\n",
    "def remove_stopwords(words):\n",
    "    \"\"\"Remove stop words from list of tokenized words\"\"\"\n",
    "    new_words = []\n",
    "    for word in words:\n",
    "        if word not in stopwords.words('english'):\n",
    "            new_words.append(word)\n",
    "    return new_words\n",
    "\n",
    "def words_preproccesing(words):\n",
    "    words = to_lowercase(words)\n",
    "    words = replace_numbers(words)\n",
    "    words = remove_punctuation(words)\n",
    "    words = remove_non_ascii(words)\n",
    "    words = remove_stopwords(words)\n",
    "    return words\n",
    "\n",
    "def clean_and_process_text(df:pd.DataFrame, origin_data: str) -> pd.DataFrame:\n",
    "    df = df.apply(contractions.fix) #Aplica la corrección de las contracciones\n",
    "    df['words'] = df.apply(word_tokenize)\n",
    "    df['words'] = df['words'].apply(words_preproccesing) #Aplica la eliminación del ruido\n",
    "    \n",
    "    return df\n"
   ]
  },
  {
   "cell_type": "markdown",
   "metadata": {},
   "source": [
    "Procedemos a ejecutar las funciones de eliminación de ruido y tokenización de palabras"
   ]
  },
  {
   "cell_type": "code",
   "execution_count": 122,
   "metadata": {
    "colab": {
     "base_uri": "https://localhost:8080/",
     "height": 695
    },
    "colab_type": "code",
    "executionInfo": {
     "elapsed": 5963,
     "status": "error",
     "timestamp": 1594597836232,
     "user": {
      "displayName": "alejandro martinez",
      "photoUrl": "https://lh3.googleusercontent.com/a-/AOh14Gi9YSzzf_VDnAbvxMnJJqez5U-I_wOQ5OyJRmw_=s64",
      "userId": "05542026783145230534"
     },
     "user_tz": 300
    },
    "id": "PB4QSE_wgp-6",
    "outputId": "5fb95b57-c76e-481c-f120-9b9b8ac964f3"
   },
   "outputs": [
    {
     "data": {
      "text/plain": [
       "4889      America’s Stepdad Tim Kaine Just Burned Trump...\n",
       "19667    Russia unveils monument to designer of iconic ...\n",
       "5638      Marvel Just Turned Donald Trump Into A Villai...\n",
       "4451     Ryan says tax reform could take longer than he...\n",
       "7203     Trump 'unbelievably impressed' with Sen. Sessi...\n",
       "Name: title, dtype: object"
      ]
     },
     "execution_count": 122,
     "metadata": {},
     "output_type": "execute_result"
    }
   ],
   "source": [
    "total_news_text_df = clean_and_process_text(X_train_text, 'text')\n",
    "total_news_title_df = clean_and_process_text(X_train_title, 'title')\n",
    "total_news_text_df.head()\n",
    "total_news_title_df.head()"
   ]
  },
  {
   "cell_type": "markdown",
   "metadata": {
    "colab_type": "text",
    "id": "LJh1PmFJrgHw"
   },
   "source": [
    "**Separacion de datos según categoría**\n",
    "\n",
    "Separamos los datos según su categoría con el fin de hacer análisis de los datos para el entendimiento del problema"
   ]
  },
  {
   "cell_type": "code",
   "execution_count": 123,
   "metadata": {
    "colab": {},
    "colab_type": "code",
    "id": "OrWOy_0SizHq"
   },
   "outputs": [],
   "source": [
    "fake=total_news_df[total_news_df['category']=='Fake']\n",
    "true=total_news_df[total_news_df['category']=='True']"
   ]
  },
  {
   "cell_type": "code",
   "execution_count": 124,
   "metadata": {
    "colab": {
     "base_uri": "https://localhost:8080/",
     "height": 293,
     "referenced_widgets": [
      "d715a0a44ff34eebbab7a6990fe2623b",
      "1c7fda8bc55d4b8ea747323992b38327",
      "8d349ed0af934d359d9ceef8f7585eeb",
      "67dd0f7a804749408e60fed82a9773d5",
      "5f7b7843ac2b4109b323e64f08cdbce6",
      "dafeb4f140fd4f459fbc52b77654fb45"
     ]
    },
    "colab_type": "code",
    "executionInfo": {
     "elapsed": 548,
     "status": "ok",
     "timestamp": 1594583070238,
     "user": {
      "displayName": "alejandro martinez",
      "photoUrl": "https://lh3.googleusercontent.com/a-/AOh14Gi9YSzzf_VDnAbvxMnJJqez5U-I_wOQ5OyJRmw_=s64",
      "userId": "05542026783145230534"
     },
     "user_tz": 300
    },
    "id": "jjAIKu6VijLK",
    "outputId": "e4febcba-1db7-438b-c984-d4be05c27d0c"
   },
   "outputs": [
    {
     "data": {
      "text/html": [
       "<div>\n",
       "<style scoped>\n",
       "    .dataframe tbody tr th:only-of-type {\n",
       "        vertical-align: middle;\n",
       "    }\n",
       "\n",
       "    .dataframe tbody tr th {\n",
       "        vertical-align: top;\n",
       "    }\n",
       "\n",
       "    .dataframe thead th {\n",
       "        text-align: right;\n",
       "    }\n",
       "</style>\n",
       "<table border=\"1\" class=\"dataframe\">\n",
       "  <thead>\n",
       "    <tr style=\"text-align: right;\">\n",
       "      <th></th>\n",
       "      <th>title</th>\n",
       "      <th>text</th>\n",
       "      <th>date</th>\n",
       "      <th>category</th>\n",
       "    </tr>\n",
       "  </thead>\n",
       "  <tbody>\n",
       "    <tr>\n",
       "      <th>0</th>\n",
       "      <td>Donald Trump Sends Out Embarrassing New Year’...</td>\n",
       "      <td>Donald Trump just couldn t wish all Americans ...</td>\n",
       "      <td>2017-12-31 00:00:00</td>\n",
       "      <td>Fake</td>\n",
       "    </tr>\n",
       "    <tr>\n",
       "      <th>1</th>\n",
       "      <td>Drunk Bragging Trump Staffer Started Russian ...</td>\n",
       "      <td>House Intelligence Committee Chairman Devin Nu...</td>\n",
       "      <td>2017-12-31 00:00:00</td>\n",
       "      <td>Fake</td>\n",
       "    </tr>\n",
       "    <tr>\n",
       "      <th>2</th>\n",
       "      <td>Sheriff David Clarke Becomes An Internet Joke...</td>\n",
       "      <td>On Friday, it was revealed that former Milwauk...</td>\n",
       "      <td>2017-12-30 00:00:00</td>\n",
       "      <td>Fake</td>\n",
       "    </tr>\n",
       "    <tr>\n",
       "      <th>3</th>\n",
       "      <td>Trump Is So Obsessed He Even Has Obama’s Name...</td>\n",
       "      <td>On Christmas day, Donald Trump announced that ...</td>\n",
       "      <td>2017-12-29 00:00:00</td>\n",
       "      <td>Fake</td>\n",
       "    </tr>\n",
       "    <tr>\n",
       "      <th>4</th>\n",
       "      <td>Pope Francis Just Called Out Donald Trump Dur...</td>\n",
       "      <td>Pope Francis used his annual Christmas Day mes...</td>\n",
       "      <td>2017-12-25 00:00:00</td>\n",
       "      <td>Fake</td>\n",
       "    </tr>\n",
       "  </tbody>\n",
       "</table>\n",
       "</div>"
      ],
      "text/plain": [
       "                                               title  \\\n",
       "0   Donald Trump Sends Out Embarrassing New Year’...   \n",
       "1   Drunk Bragging Trump Staffer Started Russian ...   \n",
       "2   Sheriff David Clarke Becomes An Internet Joke...   \n",
       "3   Trump Is So Obsessed He Even Has Obama’s Name...   \n",
       "4   Pope Francis Just Called Out Donald Trump Dur...   \n",
       "\n",
       "                                                text                 date  \\\n",
       "0  Donald Trump just couldn t wish all Americans ...  2017-12-31 00:00:00   \n",
       "1  House Intelligence Committee Chairman Devin Nu...  2017-12-31 00:00:00   \n",
       "2  On Friday, it was revealed that former Milwauk...  2017-12-30 00:00:00   \n",
       "3  On Christmas day, Donald Trump announced that ...  2017-12-29 00:00:00   \n",
       "4  Pope Francis used his annual Christmas Day mes...  2017-12-25 00:00:00   \n",
       "\n",
       "  category  \n",
       "0     Fake  \n",
       "1     Fake  \n",
       "2     Fake  \n",
       "3     Fake  \n",
       "4     Fake  "
      ]
     },
     "metadata": {},
     "output_type": "display_data"
    },
    {
     "data": {
      "text/html": [
       "<div>\n",
       "<style scoped>\n",
       "    .dataframe tbody tr th:only-of-type {\n",
       "        vertical-align: middle;\n",
       "    }\n",
       "\n",
       "    .dataframe tbody tr th {\n",
       "        vertical-align: top;\n",
       "    }\n",
       "\n",
       "    .dataframe thead th {\n",
       "        text-align: right;\n",
       "    }\n",
       "</style>\n",
       "<table border=\"1\" class=\"dataframe\">\n",
       "  <thead>\n",
       "    <tr style=\"text-align: right;\">\n",
       "      <th></th>\n",
       "      <th>title</th>\n",
       "      <th>text</th>\n",
       "      <th>date</th>\n",
       "      <th>category</th>\n",
       "    </tr>\n",
       "  </thead>\n",
       "  <tbody>\n",
       "    <tr>\n",
       "      <th>0</th>\n",
       "      <td>As U.S. budget fight looms, Republicans flip t...</td>\n",
       "      <td>WASHINGTON (Reuters) - The head of a conservat...</td>\n",
       "      <td>2017-12-31 00:00:00</td>\n",
       "      <td>True</td>\n",
       "    </tr>\n",
       "    <tr>\n",
       "      <th>1</th>\n",
       "      <td>U.S. military to accept transgender recruits o...</td>\n",
       "      <td>WASHINGTON (Reuters) - Transgender people will...</td>\n",
       "      <td>2017-12-29 00:00:00</td>\n",
       "      <td>True</td>\n",
       "    </tr>\n",
       "    <tr>\n",
       "      <th>2</th>\n",
       "      <td>Senior U.S. Republican senator: 'Let Mr. Muell...</td>\n",
       "      <td>WASHINGTON (Reuters) - The special counsel inv...</td>\n",
       "      <td>2017-12-31 00:00:00</td>\n",
       "      <td>True</td>\n",
       "    </tr>\n",
       "    <tr>\n",
       "      <th>3</th>\n",
       "      <td>FBI Russia probe helped by Australian diplomat...</td>\n",
       "      <td>WASHINGTON (Reuters) - Trump campaign adviser ...</td>\n",
       "      <td>2017-12-30 00:00:00</td>\n",
       "      <td>True</td>\n",
       "    </tr>\n",
       "    <tr>\n",
       "      <th>4</th>\n",
       "      <td>Trump wants Postal Service to charge 'much mor...</td>\n",
       "      <td>SEATTLE/WASHINGTON (Reuters) - President Donal...</td>\n",
       "      <td>2017-12-29 00:00:00</td>\n",
       "      <td>True</td>\n",
       "    </tr>\n",
       "  </tbody>\n",
       "</table>\n",
       "</div>"
      ],
      "text/plain": [
       "                                               title  \\\n",
       "0  As U.S. budget fight looms, Republicans flip t...   \n",
       "1  U.S. military to accept transgender recruits o...   \n",
       "2  Senior U.S. Republican senator: 'Let Mr. Muell...   \n",
       "3  FBI Russia probe helped by Australian diplomat...   \n",
       "4  Trump wants Postal Service to charge 'much mor...   \n",
       "\n",
       "                                                text                 date  \\\n",
       "0  WASHINGTON (Reuters) - The head of a conservat...  2017-12-31 00:00:00   \n",
       "1  WASHINGTON (Reuters) - Transgender people will...  2017-12-29 00:00:00   \n",
       "2  WASHINGTON (Reuters) - The special counsel inv...  2017-12-31 00:00:00   \n",
       "3  WASHINGTON (Reuters) - Trump campaign adviser ...  2017-12-30 00:00:00   \n",
       "4  SEATTLE/WASHINGTON (Reuters) - President Donal...  2017-12-29 00:00:00   \n",
       "\n",
       "  category  \n",
       "0     True  \n",
       "1     True  \n",
       "2     True  \n",
       "3     True  \n",
       "4     True  "
      ]
     },
     "metadata": {},
     "output_type": "display_data"
    },
    {
     "data": {
      "application/vnd.jupyter.widget-view+json": {
       "model_id": "bf77c512e45f4a058dd9af81d8c8a3a0",
       "version_major": 2,
       "version_minor": 0
      },
      "text/plain": [
       "HBox(children=(Output(), Output()))"
      ]
     },
     "metadata": {},
     "output_type": "display_data"
    }
   ],
   "source": [
    "import ipywidgets as widgets\n",
    "from IPython import display\n",
    "widget1 = widgets.Output()\n",
    "widget2 = widgets.Output()\n",
    "\n",
    "# render in output widgets\n",
    "with widget1:\n",
    "    display.display(fake.head(5))\n",
    "with widget2:\n",
    "    display.display(true.head(5))\n",
    "\n",
    "# create HBox\n",
    "hbox = widgets.HBox([widget1, widget2])\n",
    "\n",
    "# render hbox\n",
    "hbox"
   ]
  },
  {
   "cell_type": "markdown",
   "metadata": {
    "colab_type": "text",
    "id": "kMWC9lRCrT6F"
   },
   "source": [
    "Una vez hacemos la limpieza de los datos, la eliminación de ruido y la tokenización de los datos procedemos a hacer el analisis de el numero de palabras en los titulos y textos de cada categoría.\n",
    "\n",
    "**Entendimiento de textos de las noticias**"
   ]
  },
  {
   "cell_type": "code",
   "execution_count": 125,
   "metadata": {
    "colab": {
     "base_uri": "https://localhost:8080/",
     "height": 86
    },
    "colab_type": "code",
    "executionInfo": {
     "elapsed": 1831,
     "status": "ok",
     "timestamp": 1594584948290,
     "user": {
      "displayName": "alejandro martinez",
      "photoUrl": "https://lh3.googleusercontent.com/a-/AOh14Gi9YSzzf_VDnAbvxMnJJqez5U-I_wOQ5OyJRmw_=s64",
      "userId": "05542026783145230534"
     },
     "user_tz": 300
    },
    "id": "Y7rdNz_6n4ei",
    "outputId": "ffb48e42-6072-46ea-f8b8-e58c36e3f718"
   },
   "outputs": [
    {
     "name": "stdout",
     "output_type": "stream",
     "text": [
      "The average number of words in a real news article is  388.8348768290424\n",
      "The average number of words in a fake news article is  419.922355197865\n",
      "The standard deviation in real news article lengths is  280.315194304452\n",
      "The standard deviation in fake news article lengths is  363.58591211564413\n"
     ]
    }
   ],
   "source": [
    "import statistics\n",
    "words_per_article_plot_t = true[\"text\"].apply(lambda x: len(x.split()))\n",
    "stdev_t = statistics.stdev(words_per_article_plot_t)\n",
    "words_per_article_t = words_per_article_plot_t.sum()/len(true[\"text\"])\n",
    "\n",
    "words_per_article_plot_f = fake[\"text\"].apply(lambda x: len(x.split()))\n",
    "stdev_f = statistics.stdev(words_per_article_plot_f)\n",
    "words_per_article_f = words_per_article_plot_f.sum()/len(fake[\"text\"])\n",
    "\n",
    "print (\"The average number of words in a real news article is \", words_per_article_t)\n",
    "print (\"The average number of words in a fake news article is \", words_per_article_f)\n",
    "\n",
    "print (\"The standard deviation in real news article lengths is \", stdev_t)\n",
    "print (\"The standard deviation in fake news article lengths is \", stdev_f)"
   ]
  },
  {
   "cell_type": "code",
   "execution_count": 126,
   "metadata": {
    "colab": {
     "base_uri": "https://localhost:8080/",
     "height": 421
    },
    "colab_type": "code",
    "executionInfo": {
     "elapsed": 1905,
     "status": "ok",
     "timestamp": 1594584952104,
     "user": {
      "displayName": "alejandro martinez",
      "photoUrl": "https://lh3.googleusercontent.com/a-/AOh14Gi9YSzzf_VDnAbvxMnJJqez5U-I_wOQ5OyJRmw_=s64",
      "userId": "05542026783145230534"
     },
     "user_tz": 300
    },
    "id": "jZPGCQFqoIum",
    "outputId": "e9442d9a-d6c9-4fe9-ec23-7a18b2765e46"
   },
   "outputs": [
    {
     "data": {
      "text/plain": [
       "Text(0.5, 1.0, 'Número de palabras en articulos de noticias falsas')"
      ]
     },
     "execution_count": 126,
     "metadata": {},
     "output_type": "execute_result"
    },
    {
     "data": {
      "image/png": "[encoded data removed]",
      "text/plain": [
       "<Figure size 1080x432 with 2 Axes>"
      ]
     },
     "metadata": {
      "needs_background": "light"
     },
     "output_type": "display_data"
    }
   ],
   "source": [
    "import seaborn as sns\n",
    "%matplotlib inline\n",
    "fig, ax = plt.subplots(1, 2, figsize=(15, 6))\n",
    "sns.distplot(words_per_article_plot_t, ax = ax[0], color = \"darkblue\", rug = True).set_title(\"Número de palabras en articulos de noticias reales\")\n",
    "sns.distplot(words_per_article_plot_f, ax = ax[1], color = \"red\", rug = True).set_title(\"Número de palabras en articulos de noticias falsas\")"
   ]
  },
  {
   "cell_type": "markdown",
   "metadata": {},
   "source": [
    "En este primer analisis quisimos observar si el número de palabras del articulo tiene alguna relación con la categoría de la noticia, efectivamente encontramos que las fake news tienden <br/>  a ser mas largas que las noticias reales"
   ]
  },
  {
   "cell_type": "markdown",
   "metadata": {
    "colab_type": "text",
    "id": "0JoyY9pAqQoI"
   },
   "source": [
    "**Entendimiento de titulos de las noticias**"
   ]
  },
  {
   "cell_type": "code",
   "execution_count": 127,
   "metadata": {
    "colab": {
     "base_uri": "https://localhost:8080/",
     "height": 86
    },
    "colab_type": "code",
    "executionInfo": {
     "elapsed": 536,
     "status": "ok",
     "timestamp": 1594584938348,
     "user": {
      "displayName": "alejandro martinez",
      "photoUrl": "https://lh3.googleusercontent.com/a-/AOh14Gi9YSzzf_VDnAbvxMnJJqez5U-I_wOQ5OyJRmw_=s64",
      "userId": "05542026783145230534"
     },
     "user_tz": 300
    },
    "id": "WMEsACKhqSYW",
    "outputId": "6e69efa0-67ff-4b1d-c04f-2a72c4e449e2"
   },
   "outputs": [
    {
     "name": "stdout",
     "output_type": "stream",
     "text": [
      "The average number of words in a real news article is  9.96457677347657\n",
      "The average number of words in a fake news article is  14.65610274800884\n",
      "The standard deviation in real news article lengths is  1.7160816952844826\n",
      "The standard deviation in fake news article lengths is  4.334746628165618\n"
     ]
    }
   ],
   "source": [
    "words_per_headline_plot_t = true[\"title\"].apply(lambda x: len(x.split()))\n",
    "stdev_t_head = statistics.stdev(words_per_headline_plot_t)\n",
    "words_per_headline_t = words_per_headline_plot_t.sum()/len(true[\"title\"])\n",
    "\n",
    "words_per_headline_plot_f = fake[\"title\"].apply(lambda x: len(x.split()))\n",
    "stdev_f_head = statistics.stdev(words_per_headline_plot_f)\n",
    "words_per_headline_f = words_per_headline_plot_f.sum()/len(fake[\"title\"])\n",
    "\n",
    "print (\"The average number of words in a real news article is \", words_per_headline_t)\n",
    "print (\"The average number of words in a fake news article is \", words_per_headline_f)\n",
    "\n",
    "print (\"The standard deviation in real news article lengths is \", stdev_t_head)\n",
    "print (\"The standard deviation in fake news article lengths is \", stdev_f_head)"
   ]
  },
  {
   "cell_type": "code",
   "execution_count": 128,
   "metadata": {
    "colab": {
     "base_uri": "https://localhost:8080/",
     "height": 421
    },
    "colab_type": "code",
    "executionInfo": {
     "elapsed": 1733,
     "status": "ok",
     "timestamp": 1594584821431,
     "user": {
      "displayName": "alejandro martinez",
      "photoUrl": "https://lh3.googleusercontent.com/a-/AOh14Gi9YSzzf_VDnAbvxMnJJqez5U-I_wOQ5OyJRmw_=s64",
      "userId": "05542026783145230534"
     },
     "user_tz": 300
    },
    "id": "so5MFLm5qV4C",
    "outputId": "1c3616e7-ff2d-4499-edbd-4082342f1c82"
   },
   "outputs": [
    {
     "data": {
      "text/plain": [
       "Text(0.5, 1.0, 'Número de palabras en títulos de noticias falsas')"
      ]
     },
     "execution_count": 128,
     "metadata": {},
     "output_type": "execute_result"
    },
    {
     "data": {
      "image/png": "[encoded data removed]",
      "text/plain": [
       "<Figure size 1080x432 with 2 Axes>"
      ]
     },
     "metadata": {
      "needs_background": "light"
     },
     "output_type": "display_data"
    }
   ],
   "source": [
    "%matplotlib inline\n",
    "fig, ax = plt.subplots(1, 2, figsize=(15, 6))\n",
    "sns.distplot(words_per_headline_plot_t, ax = ax[0], color = \"darkblue\", rug = True).set_title(\"Número de palabras en títulos de noticias reales\")\n",
    "sns.distplot(words_per_headline_plot_f, ax = ax[1], color = \"red\", rug = True).set_title(\"Número de palabras en títulos de noticias falsas\")"
   ]
  },
  {
   "cell_type": "markdown",
   "metadata": {},
   "source": [
    "En este analisis quisimos observar si el número de palabras del título tiene alguna relación con la categoría de la noticia, efectivamente encontramos que los títulos de las  <br/> fake news tienden a ser mas largos que los de las noticias reales"
   ]
  },
  {
   "cell_type": "markdown",
   "metadata": {},
   "source": [
    "#### **Normalización**\n",
    "Para la normalización de los datos se realiza una eliminación de prefijos y sufijos, además de realizar una lemmatización de los verbos."
   ]
  },
  {
   "cell_type": "code",
   "execution_count": 129,
   "metadata": {},
   "outputs": [
    {
     "name": "stdout",
     "output_type": "stream",
     "text": [
      "4889     Democratic Vice Presidential nominee Tim Kaine...\n",
      "19667    MOSCOW (Reuters) - Russia on Tuesday unveiled ...\n",
      "5638     Ever since Donald Trump s true character was r...\n",
      "4451     WASHINGTON (Reuters) - you.S. House of Represe...\n",
      "7203     (Reuters) - President-elect Donald Trump has b...\n",
      "Name: text, dtype: object\n"
     ]
    },
    {
     "data": {
      "text/plain": [
       "4889      America’s Stepdad Tim Kaine Just Burned Trump...\n",
       "19667    Russia unveils monument to designer of iconic ...\n",
       "5638      Marvel Just Turned Donald Trump Into A Villai...\n",
       "4451     Ryan says tax reform could take longer than he...\n",
       "7203     Trump 'unbelievably impressed' with Sen. Sessi...\n",
       "Name: title, dtype: object"
      ]
     },
     "execution_count": 129,
     "metadata": {},
     "output_type": "execute_result"
    }
   ],
   "source": [
    "def stem_words(words):\n",
    "    \"\"\"Stem words in list of tokenized words\"\"\"\n",
    "    stemmer = LancasterStemmer()\n",
    "    stems = []\n",
    "    for word in words:\n",
    "        stem = stemmer.stem(word)\n",
    "        stems.append(stem)\n",
    "    return stems\n",
    "\n",
    "def lemmatize_verbs(words):\n",
    "    \"\"\"Lemmatize verbs in list of tokenized words\"\"\"\n",
    "    lemmatizer = WordNetLemmatizer()\n",
    "    lemmas = []\n",
    "    for word in words:\n",
    "        lemma = lemmatizer.lemmatize(word, pos='v')\n",
    "        lemmas.append(lemma)\n",
    "    return lemmas\n",
    "\n",
    "def stem_and_lemmatize(words):\n",
    "    stems = stem_words(words)\n",
    "    lemmas = lemmatize_verbs(words)\n",
    "    return stems + lemmas\n",
    "\n",
    "total_news_text_df['words'] = total_news_text_df['words'].apply(stem_and_lemmatize) #Aplica lematización y Eliminación de Prefijos y Sufijos.\n",
    "print(total_news_text_df.head())\n",
    "\n",
    "total_news_title_df['words'] = total_news_title_df['words'].apply(stem_and_lemmatize) #Aplica lematización y Eliminación de Prefijos y Sufijos.\n",
    "total_news_title_df.head()"
   ]
  },
  {
   "cell_type": "markdown",
   "metadata": {},
   "source": [
    "Por ultimo convertimos la columna que contiene el arreglo de palabras, de una lista a una cadena de caracteres para la posterior manipulación de los mismos al hacer la preparación de los datos para el modelo."
   ]
  },
  {
   "cell_type": "code",
   "execution_count": 130,
   "metadata": {},
   "outputs": [
    {
     "data": {
      "text/plain": [
       "4889     Democratic Vice Presidential nominee Tim Kaine...\n",
       "19667    MOSCOW (Reuters) - Russia on Tuesday unveiled ...\n",
       "5638     Ever since Donald Trump s true character was r...\n",
       "4451     WASHINGTON (Reuters) - you.S. House of Represe...\n",
       "7203     (Reuters) - President-elect Donald Trump has b...\n",
       "                               ...                        \n",
       "578      WASHINGTON (Reuters) - you.S. President Donald...\n",
       "17199    The Confederate Battle Flag will be taken down...\n",
       "2439     (Reuters) - TransCanada Corp, Canada’s No.2 pi...\n",
       "2155     At a town hall in Frost, Texas last week a vot...\n",
       "words    4889     democr vic presid nomin tim kain spen...\n",
       "Name: text, Length: 36462, dtype: object"
      ]
     },
     "execution_count": 130,
     "metadata": {},
     "output_type": "execute_result"
    }
   ],
   "source": [
    "total_news_text_df['words'] = total_news_text_df['words'].apply(lambda x: ' '.join(map(str, x)))\n",
    "total_news_text_df"
   ]
  },
  {
   "cell_type": "code",
   "execution_count": 131,
   "metadata": {},
   "outputs": [
    {
     "data": {
      "text/plain": [
       "4889      America’s Stepdad Tim Kaine Just Burned Trump...\n",
       "19667    Russia unveils monument to designer of iconic ...\n",
       "5638      Marvel Just Turned Donald Trump Into A Villai...\n",
       "4451     Ryan says tax reform could take longer than he...\n",
       "7203     Trump 'unbelievably impressed' with Sen. Sessi...\n",
       "                               ...                        \n",
       "578      White House promises welfare overhaul details ...\n",
       "17199    SOUTH CAROLINA TO REMOVE CONFEDERATE FLAG AS B...\n",
       "2439     TransCanada to make final decision on Keystone...\n",
       "2155      Texas GOPer Angrily Demands Voter ‘SHUT UP’ W...\n",
       "words    4889     americ stepdad tim kain burn trump ha...\n",
       "Name: title, Length: 36462, dtype: object"
      ]
     },
     "execution_count": 131,
     "metadata": {},
     "output_type": "execute_result"
    }
   ],
   "source": [
    "total_news_title_df['words'] = total_news_title_df['words'].apply(lambda x: ' '.join(map(str, x)))\n",
    "total_news_title_df"
   ]
  },
  {
   "cell_type": "markdown",
   "metadata": {},
   "source": [
    "## 3. Modelo"
   ]
  },
  {
   "cell_type": "markdown",
   "metadata": {},
   "source": [
    "Vamos a usar Bayes binomial como algoritmo para la predicción"
   ]
  },
  {
   "cell_type": "code",
   "execution_count": 132,
   "metadata": {},
   "outputs": [],
   "source": [
    "estimators = [('transform', CountVectorizer(stop_words='english')), ('clf', BernoulliNB())]\n",
    "pipe = Pipeline(estimators)"
   ]
  },
  {
   "cell_type": "markdown",
   "metadata": {},
   "source": [
    "Para el tratamiento de nuestros datos, tomamos la decisión de trabajar con textos y títulos, de manera que, para el análisis de nuestros resultados estarán enfocados en estos dos aspectos. Por lo tanto, para el modelo entrenaremos dos veces, es decir, un entrenamiento con textos y otro con títulos."
   ]
  },
  {
   "cell_type": "markdown",
   "metadata": {},
   "source": [
    "Con ayuda del GridSearch vamos a buscar la mejor combinación de hiperparámetros para el modelo con Textos"
   ]
  },
  {
   "cell_type": "code",
   "execution_count": 133,
   "metadata": {},
   "outputs": [
    {
     "name": "stdout",
     "output_type": "stream",
     "text": [
      "Fitting 5 folds for each of 24 candidates, totalling 120 fits\n"
     ]
    },
    {
     "name": "stderr",
     "output_type": "stream",
     "text": [
      "[Parallel(n_jobs=-1)]: Using backend LokyBackend with 8 concurrent workers.\n",
      "[Parallel(n_jobs=-1)]: Done   1 tasks      | elapsed:   18.5s\n",
      "[Parallel(n_jobs=-1)]: Done   2 tasks      | elapsed:   18.9s\n",
      "[Parallel(n_jobs=-1)]: Done   3 tasks      | elapsed:   19.2s\n",
      "[Parallel(n_jobs=-1)]: Done   4 tasks      | elapsed:   19.5s\n",
      "[Parallel(n_jobs=-1)]: Done   5 tasks      | elapsed:   19.5s\n",
      "[Parallel(n_jobs=-1)]: Done   6 tasks      | elapsed:   19.6s\n",
      "[Parallel(n_jobs=-1)]: Done   7 tasks      | elapsed:   19.6s\n",
      "[Parallel(n_jobs=-1)]: Done   8 tasks      | elapsed:   19.7s\n",
      "[Parallel(n_jobs=-1)]: Done   9 tasks      | elapsed:   37.6s\n",
      "[Parallel(n_jobs=-1)]: Done  10 tasks      | elapsed:   38.1s\n",
      "[Parallel(n_jobs=-1)]: Done  11 tasks      | elapsed:   38.4s\n",
      "[Parallel(n_jobs=-1)]: Done  12 tasks      | elapsed:   38.7s\n",
      "[Parallel(n_jobs=-1)]: Done  13 tasks      | elapsed:   38.7s\n",
      "[Parallel(n_jobs=-1)]: Done  14 tasks      | elapsed:   38.9s\n",
      "[Parallel(n_jobs=-1)]: Done  15 tasks      | elapsed:   39.3s\n",
      "[Parallel(n_jobs=-1)]: Done  16 tasks      | elapsed:   39.4s\n",
      "[Parallel(n_jobs=-1)]: Done  17 tasks      | elapsed:   54.8s\n",
      "[Parallel(n_jobs=-1)]: Done  18 tasks      | elapsed:   55.3s\n",
      "[Parallel(n_jobs=-1)]: Done  19 tasks      | elapsed:   55.3s\n",
      "[Parallel(n_jobs=-1)]: Done  20 tasks      | elapsed:   56.1s\n",
      "[Parallel(n_jobs=-1)]: Done  21 tasks      | elapsed:   56.8s\n",
      "[Parallel(n_jobs=-1)]: Done  22 tasks      | elapsed:   56.8s\n",
      "[Parallel(n_jobs=-1)]: Done  23 tasks      | elapsed:   57.1s\n",
      "[Parallel(n_jobs=-1)]: Done  24 tasks      | elapsed:   57.3s\n",
      "[Parallel(n_jobs=-1)]: Done  25 tasks      | elapsed:  1.2min\n",
      "[Parallel(n_jobs=-1)]: Done  26 tasks      | elapsed:  1.2min\n",
      "[Parallel(n_jobs=-1)]: Done  27 tasks      | elapsed:  1.2min\n",
      "[Parallel(n_jobs=-1)]: Done  28 tasks      | elapsed:  1.2min\n",
      "[Parallel(n_jobs=-1)]: Done  29 tasks      | elapsed:  1.2min\n",
      "[Parallel(n_jobs=-1)]: Done  30 tasks      | elapsed:  1.3min\n",
      "[Parallel(n_jobs=-1)]: Done  31 tasks      | elapsed:  1.3min\n",
      "[Parallel(n_jobs=-1)]: Done  32 tasks      | elapsed:  1.3min\n",
      "[Parallel(n_jobs=-1)]: Done  33 tasks      | elapsed:  1.5min\n",
      "[Parallel(n_jobs=-1)]: Done  34 tasks      | elapsed:  1.5min\n",
      "[Parallel(n_jobs=-1)]: Done  35 tasks      | elapsed:  1.5min\n",
      "[Parallel(n_jobs=-1)]: Done  36 tasks      | elapsed:  1.5min\n",
      "[Parallel(n_jobs=-1)]: Done  37 tasks      | elapsed:  1.5min\n",
      "[Parallel(n_jobs=-1)]: Done  38 tasks      | elapsed:  1.5min\n",
      "[Parallel(n_jobs=-1)]: Done  39 tasks      | elapsed:  1.5min\n",
      "[Parallel(n_jobs=-1)]: Done  40 tasks      | elapsed:  1.6min\n",
      "[Parallel(n_jobs=-1)]: Done  41 tasks      | elapsed:  1.8min\n",
      "[Parallel(n_jobs=-1)]: Done  42 tasks      | elapsed:  1.8min\n",
      "[Parallel(n_jobs=-1)]: Done  43 tasks      | elapsed:  1.8min\n",
      "[Parallel(n_jobs=-1)]: Done  44 tasks      | elapsed:  1.8min\n",
      "[Parallel(n_jobs=-1)]: Done  45 tasks      | elapsed:  1.8min\n",
      "[Parallel(n_jobs=-1)]: Done  46 tasks      | elapsed:  1.8min\n",
      "[Parallel(n_jobs=-1)]: Done  47 tasks      | elapsed:  1.9min\n",
      "[Parallel(n_jobs=-1)]: Done  48 tasks      | elapsed:  1.9min\n",
      "[Parallel(n_jobs=-1)]: Done  49 tasks      | elapsed:  2.1min\n",
      "[Parallel(n_jobs=-1)]: Done  50 tasks      | elapsed:  2.1min\n",
      "[Parallel(n_jobs=-1)]: Done  51 tasks      | elapsed:  2.1min\n",
      "[Parallel(n_jobs=-1)]: Done  52 tasks      | elapsed:  2.1min\n",
      "[Parallel(n_jobs=-1)]: Done  53 tasks      | elapsed:  2.1min\n",
      "[Parallel(n_jobs=-1)]: Done  54 tasks      | elapsed:  2.2min\n",
      "[Parallel(n_jobs=-1)]: Done  55 tasks      | elapsed:  2.2min\n",
      "[Parallel(n_jobs=-1)]: Done  56 tasks      | elapsed:  2.2min\n",
      "[Parallel(n_jobs=-1)]: Done  57 tasks      | elapsed:  2.4min\n",
      "[Parallel(n_jobs=-1)]: Done  58 tasks      | elapsed:  2.4min\n",
      "[Parallel(n_jobs=-1)]: Done  59 tasks      | elapsed:  2.4min\n",
      "[Parallel(n_jobs=-1)]: Done  60 tasks      | elapsed:  2.5min\n",
      "[Parallel(n_jobs=-1)]: Done  61 tasks      | elapsed:  2.6min\n",
      "[Parallel(n_jobs=-1)]: Done  62 tasks      | elapsed:  2.6min\n",
      "[Parallel(n_jobs=-1)]: Done  63 tasks      | elapsed:  2.6min\n",
      "[Parallel(n_jobs=-1)]: Done  64 tasks      | elapsed:  2.6min\n",
      "[Parallel(n_jobs=-1)]: Done  65 tasks      | elapsed:  2.9min\n",
      "[Parallel(n_jobs=-1)]: Done  66 tasks      | elapsed:  2.9min\n",
      "[Parallel(n_jobs=-1)]: Done  67 tasks      | elapsed:  2.9min\n",
      "[Parallel(n_jobs=-1)]: Done  68 tasks      | elapsed:  2.9min\n",
      "[Parallel(n_jobs=-1)]: Done  69 tasks      | elapsed:  3.1min\n",
      "[Parallel(n_jobs=-1)]: Done  70 tasks      | elapsed:  3.1min\n",
      "[Parallel(n_jobs=-1)]: Done  71 tasks      | elapsed:  3.2min\n",
      "[Parallel(n_jobs=-1)]: Done  72 tasks      | elapsed:  3.2min\n",
      "[Parallel(n_jobs=-1)]: Done  73 tasks      | elapsed:  3.4min\n",
      "[Parallel(n_jobs=-1)]: Done  74 tasks      | elapsed:  3.5min\n",
      "[Parallel(n_jobs=-1)]: Done  75 tasks      | elapsed:  3.5min\n",
      "[Parallel(n_jobs=-1)]: Done  76 tasks      | elapsed:  3.6min\n",
      "[Parallel(n_jobs=-1)]: Done  77 tasks      | elapsed:  3.7min\n",
      "[Parallel(n_jobs=-1)]: Done  78 tasks      | elapsed:  3.7min\n",
      "[Parallel(n_jobs=-1)]: Done  79 tasks      | elapsed:  3.9min\n",
      "[Parallel(n_jobs=-1)]: Done  80 tasks      | elapsed:  3.9min\n",
      "[Parallel(n_jobs=-1)]: Done  81 tasks      | elapsed:  4.5min\n",
      "[Parallel(n_jobs=-1)]: Done  82 tasks      | elapsed:  4.5min\n",
      "[Parallel(n_jobs=-1)]: Done  83 tasks      | elapsed:  4.6min\n",
      "[Parallel(n_jobs=-1)]: Done  84 tasks      | elapsed:  4.6min\n",
      "[Parallel(n_jobs=-1)]: Done  85 tasks      | elapsed:  4.7min\n",
      "[Parallel(n_jobs=-1)]: Done  86 tasks      | elapsed:  4.9min\n",
      "[Parallel(n_jobs=-1)]: Done  87 tasks      | elapsed:  5.0min\n",
      "[Parallel(n_jobs=-1)]: Done  88 tasks      | elapsed:  5.0min\n",
      "[Parallel(n_jobs=-1)]: Done  89 tasks      | elapsed:  5.1min\n",
      "[Parallel(n_jobs=-1)]: Done  90 tasks      | elapsed:  5.2min\n",
      "[Parallel(n_jobs=-1)]: Done  91 tasks      | elapsed:  5.2min\n",
      "[Parallel(n_jobs=-1)]: Done  92 tasks      | elapsed:  5.4min\n",
      "[Parallel(n_jobs=-1)]: Done  93 tasks      | elapsed:  5.4min\n",
      "[Parallel(n_jobs=-1)]: Done  94 tasks      | elapsed:  5.5min\n",
      "[Parallel(n_jobs=-1)]: Done  95 tasks      | elapsed:  5.5min\n",
      "[Parallel(n_jobs=-1)]: Done  96 tasks      | elapsed:  5.6min\n",
      "[Parallel(n_jobs=-1)]: Done  97 tasks      | elapsed:  5.6min\n",
      "[Parallel(n_jobs=-1)]: Done  98 tasks      | elapsed:  5.7min\n",
      "[Parallel(n_jobs=-1)]: Done  99 tasks      | elapsed:  5.7min\n",
      "[Parallel(n_jobs=-1)]: Done 100 tasks      | elapsed:  5.8min\n",
      "[Parallel(n_jobs=-1)]: Done 101 tasks      | elapsed:  6.1min\n",
      "[Parallel(n_jobs=-1)]: Done 102 tasks      | elapsed:  6.2min\n",
      "[Parallel(n_jobs=-1)]: Done 103 tasks      | elapsed:  6.2min\n",
      "[Parallel(n_jobs=-1)]: Done 104 tasks      | elapsed:  6.2min\n",
      "[Parallel(n_jobs=-1)]: Done 105 tasks      | elapsed:  6.2min\n",
      "[Parallel(n_jobs=-1)]: Done 112 out of 120 | elapsed:  7.4min remaining:   31.7s\n",
      "[Parallel(n_jobs=-1)]: Done 120 out of 120 | elapsed:  7.9min finished\n"
     ]
    },
    {
     "data": {
      "text/plain": [
       "GridSearchCV(error_score=0.0,\n",
       "             estimator=Pipeline(steps=[('transform',\n",
       "                                        CountVectorizer(stop_words='english')),\n",
       "                                       ('clf', BernoulliNB())]),\n",
       "             n_jobs=-1,\n",
       "             param_grid=[{'clf': (BernoulliNB(),),\n",
       "                          'clf__alpha': (1, 0.1, 0.01, 0.001, 0.0001, 1e-05),\n",
       "                          'transform': (TfidfVectorizer(stop_words='english'),\n",
       "                                        CountVectorizer(stop_words='english'))},\n",
       "                         {'clf': (RandomForestClassifier(),\n",
       "                                  AdaBoostClassifier()),\n",
       "                          'clf__n_estimators': (10, 20, 50),\n",
       "                          'transform': (TfidfVectorizer(stop_words='english'),\n",
       "                                        CountVectorizer(stop_words='english'))}],\n",
       "             verbose=20)"
      ]
     },
     "execution_count": 133,
     "metadata": {},
     "output_type": "execute_result"
    }
   ],
   "source": [
    "from sklearn.ensemble import BaggingClassifier, RandomForestClassifier, AdaBoostClassifier\n",
    "\n",
    "parameters = [\n",
    "        {'transform': (TfidfVectorizer(stop_words='english'), CountVectorizer(stop_words='english')),\n",
    "         'clf': (BernoulliNB(),),\n",
    "         'clf__alpha': (1, 0.1, 0.01, 0.001, 0.0001, 0.00001)\n",
    "        },\n",
    "        {'transform': (TfidfVectorizer(stop_words='english'), CountVectorizer(stop_words='english')),\n",
    "         'clf': (RandomForestClassifier(),AdaBoostClassifier()),\n",
    "         'clf__n_estimators': (10,20,50)\n",
    "        },\n",
    "]\n",
    "grid_search_text = GridSearchCV(pipe, param_grid=parameters,verbose = 20,n_jobs=-1,error_score=0.0)\n",
    "grid_search_text.fit(X_train_text,y_train_text)"
   ]
  },
  {
   "cell_type": "markdown",
   "metadata": {},
   "source": [
    "Imprimimos cual es la mejor combinación que arrojó el algoritmo"
   ]
  },
  {
   "cell_type": "code",
   "execution_count": 134,
   "metadata": {},
   "outputs": [
    {
     "data": {
      "text/plain": [
       "Pipeline(steps=[('transform', CountVectorizer(stop_words='english')),\n",
       "                ('clf', AdaBoostClassifier())])"
      ]
     },
     "execution_count": 134,
     "metadata": {},
     "output_type": "execute_result"
    }
   ],
   "source": [
    "grid_search_text.best_estimator_"
   ]
  },
  {
   "cell_type": "markdown",
   "metadata": {},
   "source": [
    "Con ayuda del GridSearch vamos a buscar la mejor combinación de hiperparámetros para el modelo con Títulos"
   ]
  },
  {
   "cell_type": "code",
   "execution_count": 138,
   "metadata": {},
   "outputs": [
    {
     "name": "stdout",
     "output_type": "stream",
     "text": [
      "Fitting 5 folds for each of 24 candidates, totalling 120 fits\n"
     ]
    },
    {
     "name": "stderr",
     "output_type": "stream",
     "text": [
      "[Parallel(n_jobs=-1)]: Using backend LokyBackend with 8 concurrent workers.\n",
      "[Parallel(n_jobs=-1)]: Done   1 tasks      | elapsed:    1.9s\n",
      "[Parallel(n_jobs=-1)]: Done   2 tasks      | elapsed:    1.9s\n",
      "[Parallel(n_jobs=-1)]: Done   3 tasks      | elapsed:    1.9s\n",
      "[Parallel(n_jobs=-1)]: Done   4 tasks      | elapsed:    2.0s\n",
      "[Parallel(n_jobs=-1)]: Done   5 tasks      | elapsed:    2.0s\n",
      "[Parallel(n_jobs=-1)]: Done   6 tasks      | elapsed:    2.1s\n",
      "[Parallel(n_jobs=-1)]: Done   7 tasks      | elapsed:    2.1s\n",
      "[Parallel(n_jobs=-1)]: Done   8 tasks      | elapsed:    2.1s\n",
      "[Parallel(n_jobs=-1)]: Done   9 tasks      | elapsed:    2.9s\n",
      "[Parallel(n_jobs=-1)]: Done  10 tasks      | elapsed:    2.9s\n",
      "[Parallel(n_jobs=-1)]: Done  11 tasks      | elapsed:    3.0s\n",
      "[Parallel(n_jobs=-1)]: Done  12 tasks      | elapsed:    3.0s\n",
      "[Parallel(n_jobs=-1)]: Done  13 tasks      | elapsed:    3.0s\n",
      "[Parallel(n_jobs=-1)]: Done  14 tasks      | elapsed:    3.1s\n",
      "[Parallel(n_jobs=-1)]: Done  15 tasks      | elapsed:    3.2s\n",
      "[Parallel(n_jobs=-1)]: Done  16 tasks      | elapsed:    3.2s\n",
      "[Parallel(n_jobs=-1)]: Done  17 tasks      | elapsed:    3.8s\n",
      "[Parallel(n_jobs=-1)]: Done  18 tasks      | elapsed:    3.9s\n",
      "[Parallel(n_jobs=-1)]: Done  19 tasks      | elapsed:    4.0s\n",
      "[Parallel(n_jobs=-1)]: Done  20 tasks      | elapsed:    4.0s\n",
      "[Parallel(n_jobs=-1)]: Done  21 tasks      | elapsed:    4.0s\n",
      "[Parallel(n_jobs=-1)]: Done  22 tasks      | elapsed:    4.1s\n",
      "[Parallel(n_jobs=-1)]: Done  23 tasks      | elapsed:    4.2s\n",
      "[Parallel(n_jobs=-1)]: Done  24 tasks      | elapsed:    4.3s\n",
      "[Parallel(n_jobs=-1)]: Done  25 tasks      | elapsed:    4.9s\n",
      "[Parallel(n_jobs=-1)]: Done  26 tasks      | elapsed:    4.9s\n",
      "[Parallel(n_jobs=-1)]: Done  27 tasks      | elapsed:    5.0s\n",
      "[Parallel(n_jobs=-1)]: Done  28 tasks      | elapsed:    5.0s\n",
      "[Parallel(n_jobs=-1)]: Done  29 tasks      | elapsed:    5.0s\n",
      "[Parallel(n_jobs=-1)]: Done  30 tasks      | elapsed:    5.2s\n",
      "[Parallel(n_jobs=-1)]: Done  31 tasks      | elapsed:    5.3s\n",
      "[Parallel(n_jobs=-1)]: Done  32 tasks      | elapsed:    5.4s\n",
      "[Parallel(n_jobs=-1)]: Done  33 tasks      | elapsed:    6.0s\n",
      "[Parallel(n_jobs=-1)]: Done  34 tasks      | elapsed:    6.0s\n",
      "[Parallel(n_jobs=-1)]: Done  35 tasks      | elapsed:    6.0s\n",
      "[Parallel(n_jobs=-1)]: Done  36 tasks      | elapsed:    6.1s\n",
      "[Parallel(n_jobs=-1)]: Done  37 tasks      | elapsed:    6.2s\n",
      "[Parallel(n_jobs=-1)]: Done  38 tasks      | elapsed:    6.2s\n",
      "[Parallel(n_jobs=-1)]: Done  39 tasks      | elapsed:    6.4s\n",
      "[Parallel(n_jobs=-1)]: Done  40 tasks      | elapsed:    6.5s\n",
      "[Parallel(n_jobs=-1)]: Done  41 tasks      | elapsed:    7.1s\n",
      "[Parallel(n_jobs=-1)]: Done  42 tasks      | elapsed:    7.1s\n",
      "[Parallel(n_jobs=-1)]: Done  43 tasks      | elapsed:    7.3s\n",
      "[Parallel(n_jobs=-1)]: Done  44 tasks      | elapsed:    7.3s\n",
      "[Parallel(n_jobs=-1)]: Done  45 tasks      | elapsed:    7.3s\n",
      "[Parallel(n_jobs=-1)]: Done  46 tasks      | elapsed:    7.4s\n",
      "[Parallel(n_jobs=-1)]: Done  47 tasks      | elapsed:    7.4s\n",
      "[Parallel(n_jobs=-1)]: Done  48 tasks      | elapsed:    7.7s\n",
      "[Parallel(n_jobs=-1)]: Done  49 tasks      | elapsed:    8.1s\n",
      "[Parallel(n_jobs=-1)]: Done  50 tasks      | elapsed:    8.1s\n",
      "[Parallel(n_jobs=-1)]: Done  51 tasks      | elapsed:    8.4s\n",
      "[Parallel(n_jobs=-1)]: Done  52 tasks      | elapsed:    8.4s\n",
      "[Parallel(n_jobs=-1)]: Done  53 tasks      | elapsed:    8.5s\n",
      "[Parallel(n_jobs=-1)]: Done  54 tasks      | elapsed:    8.6s\n",
      "[Parallel(n_jobs=-1)]: Done  55 tasks      | elapsed:    8.7s\n",
      "[Parallel(n_jobs=-1)]: Done  56 tasks      | elapsed:    8.7s\n",
      "[Parallel(n_jobs=-1)]: Done  57 tasks      | elapsed:    9.1s\n",
      "[Parallel(n_jobs=-1)]: Done  58 tasks      | elapsed:    9.2s\n",
      "[Parallel(n_jobs=-1)]: Done  59 tasks      | elapsed:    9.4s\n",
      "[Parallel(n_jobs=-1)]: Done  60 tasks      | elapsed:    9.4s\n",
      "[Parallel(n_jobs=-1)]: Done  61 tasks      | elapsed:   14.0s\n",
      "[Parallel(n_jobs=-1)]: Done  62 tasks      | elapsed:   14.1s\n",
      "[Parallel(n_jobs=-1)]: Done  63 tasks      | elapsed:   14.2s\n",
      "[Parallel(n_jobs=-1)]: Done  64 tasks      | elapsed:   14.4s\n",
      "[Parallel(n_jobs=-1)]: Done  65 tasks      | elapsed:   14.8s\n",
      "[Parallel(n_jobs=-1)]: Done  66 tasks      | elapsed:   15.2s\n",
      "[Parallel(n_jobs=-1)]: Done  67 tasks      | elapsed:   15.6s\n",
      "[Parallel(n_jobs=-1)]: Done  68 tasks      | elapsed:   15.6s\n",
      "[Parallel(n_jobs=-1)]: Done  69 tasks      | elapsed:   20.5s\n",
      "[Parallel(n_jobs=-1)]: Done  70 tasks      | elapsed:   20.9s\n",
      "[Parallel(n_jobs=-1)]: Done  71 tasks      | elapsed:   25.0s\n",
      "[Parallel(n_jobs=-1)]: Done  72 tasks      | elapsed:   25.0s\n",
      "[Parallel(n_jobs=-1)]: Done  73 tasks      | elapsed:   25.2s\n",
      "[Parallel(n_jobs=-1)]: Done  74 tasks      | elapsed:   25.5s\n",
      "[Parallel(n_jobs=-1)]: Done  75 tasks      | elapsed:   26.0s\n",
      "[Parallel(n_jobs=-1)]: Done  76 tasks      | elapsed:   27.1s\n",
      "[Parallel(n_jobs=-1)]: Done  77 tasks      | elapsed:   32.4s\n",
      "[Parallel(n_jobs=-1)]: Done  78 tasks      | elapsed:   32.8s\n",
      "[Parallel(n_jobs=-1)]: Done  79 tasks      | elapsed:   36.4s\n",
      "[Parallel(n_jobs=-1)]: Done  80 tasks      | elapsed:   36.5s\n",
      "[Parallel(n_jobs=-1)]: Done  81 tasks      | elapsed:   50.2s\n",
      "[Parallel(n_jobs=-1)]: Done  82 tasks      | elapsed:   50.4s\n",
      "[Parallel(n_jobs=-1)]: Done  83 tasks      | elapsed:   50.4s\n",
      "[Parallel(n_jobs=-1)]: Done  84 tasks      | elapsed:   51.8s\n",
      "[Parallel(n_jobs=-1)]: Done  85 tasks      | elapsed:   52.8s\n",
      "[Parallel(n_jobs=-1)]: Done  86 tasks      | elapsed:   54.0s\n",
      "[Parallel(n_jobs=-1)]: Done  87 tasks      | elapsed:   54.9s\n",
      "[Parallel(n_jobs=-1)]: Done  88 tasks      | elapsed:   56.3s\n",
      "[Parallel(n_jobs=-1)]: Done  89 tasks      | elapsed:   57.2s\n",
      "[Parallel(n_jobs=-1)]: Done  90 tasks      | elapsed:   57.6s\n",
      "[Parallel(n_jobs=-1)]: Done  91 tasks      | elapsed:   58.1s\n",
      "[Parallel(n_jobs=-1)]: Done  92 tasks      | elapsed:   58.9s\n",
      "[Parallel(n_jobs=-1)]: Done  93 tasks      | elapsed:   59.3s\n",
      "[Parallel(n_jobs=-1)]: Done  94 tasks      | elapsed:   59.9s\n",
      "[Parallel(n_jobs=-1)]: Done  95 tasks      | elapsed:  1.0min\n",
      "[Parallel(n_jobs=-1)]: Done  96 tasks      | elapsed:  1.0min\n",
      "[Parallel(n_jobs=-1)]: Done  97 tasks      | elapsed:  1.0min\n",
      "[Parallel(n_jobs=-1)]: Done  98 tasks      | elapsed:  1.1min\n",
      "[Parallel(n_jobs=-1)]: Done  99 tasks      | elapsed:  1.1min\n",
      "[Parallel(n_jobs=-1)]: Done 100 tasks      | elapsed:  1.1min\n",
      "[Parallel(n_jobs=-1)]: Done 101 tasks      | elapsed:  1.1min\n",
      "[Parallel(n_jobs=-1)]: Done 102 tasks      | elapsed:  1.1min\n",
      "[Parallel(n_jobs=-1)]: Done 103 tasks      | elapsed:  1.1min\n",
      "[Parallel(n_jobs=-1)]: Done 104 tasks      | elapsed:  1.1min\n",
      "[Parallel(n_jobs=-1)]: Done 105 tasks      | elapsed:  1.1min\n",
      "[Parallel(n_jobs=-1)]: Done 112 out of 120 | elapsed:  1.2min remaining:    5.2s\n",
      "[Parallel(n_jobs=-1)]: Done 120 out of 120 | elapsed:  1.3min finished\n"
     ]
    },
    {
     "data": {
      "text/plain": [
       "GridSearchCV(error_score=0.0,\n",
       "             estimator=Pipeline(steps=[('transform',\n",
       "                                        CountVectorizer(stop_words='english')),\n",
       "                                       ('clf', BernoulliNB())]),\n",
       "             n_jobs=-1,\n",
       "             param_grid=[{'clf': (BernoulliNB(alpha=1),),\n",
       "                          'clf__alpha': (1, 0.1, 0.01, 0.001, 0.0001, 1e-05),\n",
       "                          'transform': (TfidfVectorizer(stop_words='english'),\n",
       "                                        CountVectorizer(stop_words='english'))},\n",
       "                         {'clf': (RandomForestClassifier(),\n",
       "                                  AdaBoostClassifier()),\n",
       "                          'clf__n_estimators': (10, 20, 50),\n",
       "                          'transform': (TfidfVectorizer(stop_words='english'),\n",
       "                                        CountVectorizer(stop_words='english'))}],\n",
       "             verbose=20)"
      ]
     },
     "execution_count": 138,
     "metadata": {},
     "output_type": "execute_result"
    }
   ],
   "source": [
    "grid_search_title = GridSearchCV(pipe, param_grid=parameters,verbose = 20,n_jobs=-1,error_score=0.0)\n",
    "grid_search_title.fit(X_train_title,y_train_title)"
   ]
  },
  {
   "cell_type": "code",
   "execution_count": 139,
   "metadata": {},
   "outputs": [
    {
     "data": {
      "text/plain": [
       "Pipeline(steps=[('transform', TfidfVectorizer(stop_words='english')),\n",
       "                ('clf', BernoulliNB(alpha=1))])"
      ]
     },
     "execution_count": 139,
     "metadata": {},
     "output_type": "execute_result"
    }
   ],
   "source": [
    "grid_search_title.best_estimator_"
   ]
  },
  {
   "cell_type": "markdown",
   "metadata": {},
   "source": [
    "## 4. Predicción"
   ]
  },
  {
   "cell_type": "markdown",
   "metadata": {},
   "source": [
    "Realizamos la predicción con el mejor modelo encontrado con el GridSearch para textos y títulos"
   ]
  },
  {
   "cell_type": "code",
   "execution_count": 140,
   "metadata": {},
   "outputs": [
    {
     "data": {
      "text/plain": [
       "array(['Fake', 'True', 'True', ..., 'True', 'Fake', 'True'], dtype=object)"
      ]
     },
     "execution_count": 140,
     "metadata": {},
     "output_type": "execute_result"
    }
   ],
   "source": [
    "gs_text = grid_search_text.best_estimator_\n",
    "y_pred_gs_text = gs_text.predict(X_test_text)\n",
    "y_pred_gs_text"
   ]
  },
  {
   "cell_type": "code",
   "execution_count": 141,
   "metadata": {},
   "outputs": [
    {
     "data": {
      "text/plain": [
       "array(['Fake', 'True', 'True', ..., 'True', 'Fake', 'True'], dtype='<U4')"
      ]
     },
     "execution_count": 141,
     "metadata": {},
     "output_type": "execute_result"
    }
   ],
   "source": [
    "gs_title = grid_search_title.best_estimator_\n",
    "y_pred_gs_title = gs_title.predict(X_test_title)\n",
    "y_pred_gs_title"
   ]
  },
  {
   "cell_type": "markdown",
   "metadata": {},
   "source": [
    "## 5. Validación"
   ]
  },
  {
   "cell_type": "markdown",
   "metadata": {},
   "source": [
    "Mostramos la matriz de clasificación con el mejor resultado de GridSearchCV, tanto para textos como para títulos"
   ]
  },
  {
   "cell_type": "code",
   "execution_count": 136,
   "metadata": {},
   "outputs": [
    {
     "name": "stdout",
     "output_type": "stream",
     "text": [
      "Test Report for text using Adaboost: \n",
      "               precision    recall  f1-score   support\n",
      "\n",
      "        Fake       0.99      0.99      0.99      4757\n",
      "        True       0.99      0.99      0.99      4359\n",
      "\n",
      "    accuracy                           0.99      9116\n",
      "   macro avg       0.99      0.99      0.99      9116\n",
      "weighted avg       0.99      0.99      0.99      9116\n",
      "\n"
     ]
    }
   ],
   "source": [
    "from sklearn.metrics import classification_report, confusion_matrix, plot_precision_recall_curve\n",
    "\n",
    "report_NB_GS_text = classification_report(y_test_text, y_pred_gs_text)\n",
    "\n",
    "print(\"Test Report for text using Adaboost: \\n\", report_NB_GS_text)\n",
    "#print(\"Confusion Matrix for Näive Bayes\\n\", confusion_matrix(y_test_text, y_pred_gs_text))"
   ]
  },
  {
   "cell_type": "code",
   "execution_count": 137,
   "metadata": {},
   "outputs": [
    {
     "name": "stdout",
     "output_type": "stream",
     "text": [
      "Confussion Matrix for titles using Adaboost : \n",
      "\n"
     ]
    },
    {
     "data": {
      "image/png": "[encoded data removed]",
      "text/plain": [
       "<Figure size 432x288 with 1 Axes>"
      ]
     },
     "metadata": {},
     "output_type": "display_data"
    }
   ],
   "source": [
    "import seaborn as sns; sns.set()\n",
    "mat_test = confusion_matrix(y_test_text, y_pred_gs_text)\n",
    "print(\"Confussion Matrix for titles using Adaboost : \\n\")\n",
    "sns.heatmap(mat_test.T, square=False, annot=True, cmap='Blues',fmt='d', cbar=False,\n",
    "            xticklabels=total_news_df['category'].unique(),\n",
    "            yticklabels=total_news_df['category'].unique())\n",
    "plt.xlabel('true label')\n",
    "plt.ylabel('predicted label');"
   ]
  },
  {
   "cell_type": "code",
   "execution_count": 142,
   "metadata": {},
   "outputs": [
    {
     "name": "stdout",
     "output_type": "stream",
     "text": [
      "Test Report for Titles using Näive Bayes\n",
      "               precision    recall  f1-score   support\n",
      "\n",
      "        Fake       0.95      0.94      0.95      4757\n",
      "        True       0.94      0.95      0.94      4359\n",
      "\n",
      "    accuracy                           0.94      9116\n",
      "   macro avg       0.94      0.94      0.94      9116\n",
      "weighted avg       0.94      0.94      0.94      9116\n",
      "\n"
     ]
    }
   ],
   "source": [
    "report_NB_GS_title = classification_report(y_test_title, y_pred_gs_title)\n",
    "\n",
    "print(\"Test Report for Titles using Näive Bayes\\n\", report_NB_GS_title)"
   ]
  },
  {
   "cell_type": "code",
   "execution_count": 143,
   "metadata": {},
   "outputs": [
    {
     "name": "stdout",
     "output_type": "stream",
     "text": [
      "Confussion Matrix for titles using Näive Bayes : \n",
      "\n"
     ]
    },
    {
     "data": {
      "image/png": "[encoded data removed]",
      "text/plain": [
       "<Figure size 432x288 with 1 Axes>"
      ]
     },
     "metadata": {},
     "output_type": "display_data"
    }
   ],
   "source": [
    "import seaborn as sns; sns.set()\n",
    "mat_test = confusion_matrix(y_test_title, y_pred_gs_title)\n",
    "print(\"Confussion Matrix for titles using Näive Bayes : \\n\")\n",
    "sns.heatmap(mat_test.T, square=False, annot=True, cmap='Blues',fmt='d', cbar=False,\n",
    "            xticklabels=total_news_df['category'].unique(),\n",
    "            yticklabels=total_news_df['category'].unique())\n",
    "plt.xlabel('true label')\n",
    "plt.ylabel('predicted label');"
   ]
  },
  {
   "cell_type": "markdown",
   "metadata": {},
   "source": [
    "## 6. Conclusiones\n",
    "* Usamos el algoritmo de clasificación de Bernoulli  Naive Bayes como base de nuestro modelo ya que por experiencia sabemos que es rápido y fácil de usar.\n",
    "\n",
    "* Solo usando el algoritmo de Bernoulli Naive Bayes nos dimos cuenta que su desempeño (Accuracy) fue bastante bueno.\n",
    "\n",
    "* Teniendo en cuenta que se requiere una solución de clasificación binaria, utilizamos el algoritmo Bernoulli Naive Bayes que permite hacer la predicción de la variable de salida sin tener que hacer una transformación numérica. \n",
    "\n",
    "* Pudimos observar que el proceso de lemmatización y stemming reduce considerablemente el numero de palabras para hacer el entrenamiento del algoritmo y así mismo  mejora las métricas de rendimiento del mismo.\n",
    "\n",
    "* En este caso el conjunto de datos se encuentra balanceado, por lo tanto las métricas de error son bastante buenas para todas las clases a clasificar, lo que permite concluir que el modelo generaliza bastante bien.\n",
    "\n",
    "* Para poder verificar que el algoritmo de Bernoulli Naive Bayes era el más adecuado para el contexto del problema, hicimos un gridsearch que comprendía la utilización de otros algoritmos de clasificación diferentes tales como Adaboost y RandomForest, donde obtuvimos que para la clasificación de las noticias de acuerdo con los textos, hubo mejor desempeño con el Adaboost y para los titulos hubo mejor desempeño con el Bernoulli Naive Bayes.\n",
    "\n",
    "* En el objetivo inicial se planteo un modelo que entregara un accuracy del 95%. Sin embargo, para este obtuvimos un 99%, lo cual supero las expectativas del negocio.\n",
    "\n",
    "* Adicionalmente, se planteo que el modelo pudiese clasificar noticias de diferentes contextos, lo cual se logro y ademas se agregaron fuentes nuevas.\n",
    "\n",
    "* Podemos notar que los resultados de accuracy para el modelo con textos (99%) es un poco mejor que para el modelo con titulos (95%), por lo tanto, podemos decir que nuestro modelo con textos es el adecuado para la clasificación de noticias."
   ]
  }
 ],
 "metadata": {
  "accelerator": "GPU",
  "colab": {
   "collapsed_sections": [],
   "name": "Proyecto MLT - Grupo 5.ipynb",
   "provenance": [
    {
     "file_id": "https://github.com/alejitro/proyecto_MLT_Grupo05/blob/master/Proyecto_MLT_Grupo_5.ipynb",
     "timestamp": 1594572712112
    }
   ],
   "toc_visible": true
  },
  "kernelspec": {
   "display_name": "Python 3",
   "language": "python",
   "name": "python3"
  },
  "language_info": {
   "codemirror_mode": {
    "name": "ipython",
    "version": 3
   },
   "file_extension": ".py",
   "mimetype": "text/x-python",
   "name": "python",
   "nbconvert_exporter": "python",
   "pygments_lexer": "ipython3",
   "version": "3.7.6"
  },
  "widgets": {
   "application/vnd.jupyter.widget-state+json": {
    "1c7fda8bc55d4b8ea747323992b38327": {
     "model_module": "@jupyter-widgets/base",
     "model_name": "LayoutModel",
     "state": {
      "_model_module": "@jupyter-widgets/base",
      "_model_module_version": "1.2.0",
      "_model_name": "LayoutModel",
      "_view_count": null,
      "_view_module": "@jupyter-widgets/base",
      "_view_module_version": "1.2.0",
      "_view_name": "LayoutView",
      "align_content": null,
      "align_items": null,
      "align_self": null,
      "border": null,
      "bottom": null,
      "display": null,
      "flex": null,
      "flex_flow": null,
      "grid_area": null,
      "grid_auto_columns": null,
      "grid_auto_flow": null,
      "grid_auto_rows": null,
      "grid_column": null,
      "grid_gap": null,
      "grid_row": null,
      "grid_template_areas": null,
      "grid_template_columns": null,
      "grid_template_rows": null,
      "height": null,
      "justify_content": null,
      "justify_items": null,
      "left": null,
      "margin": null,
      "max_height": null,
      "max_width": null,
      "min_height": null,
      "min_width": null,
      "object_fit": null,
      "object_position": null,
      "order": null,
      "overflow": null,
      "overflow_x": null,
      "overflow_y": null,
      "padding": null,
      "right": null,
      "top": null,
      "visibility": null,
      "width": null
     }
    },
    "5f7b7843ac2b4109b323e64f08cdbce6": {
     "model_module": "@jupyter-widgets/base",
     "model_name": "LayoutModel",
     "state": {
      "_model_module": "@jupyter-widgets/base",
      "_model_module_version": "1.2.0",
      "_model_name": "LayoutModel",
      "_view_count": null,
      "_view_module": "@jupyter-widgets/base",
      "_view_module_version": "1.2.0",
      "_view_name": "LayoutView",
      "align_content": null,
      "align_items": null,
      "align_self": null,
      "border": null,
      "bottom": null,
      "display": null,
      "flex": null,
      "flex_flow": null,
      "grid_area": null,
      "grid_auto_columns": null,
      "grid_auto_flow": null,
      "grid_auto_rows": null,
      "grid_column": null,
      "grid_gap": null,
      "grid_row": null,
      "grid_template_areas": null,
      "grid_template_columns": null,
      "grid_template_rows": null,
      "height": null,
      "justify_content": null,
      "justify_items": null,
      "left": null,
      "margin": null,
      "max_height": null,
      "max_width": null,
      "min_height": null,
      "min_width": null,
      "object_fit": null,
      "object_position": null,
      "order": null,
      "overflow": null,
      "overflow_x": null,
      "overflow_y": null,
      "padding": null,
      "right": null,
      "top": null,
      "visibility": null,
      "width": null
     }
    },
    "67dd0f7a804749408e60fed82a9773d5": {
     "model_module": "@jupyter-widgets/output",
     "model_name": "OutputModel",
     "state": {
      "_dom_classes": [],
      "_model_module": "@jupyter-widgets/output",
      "_model_module_version": "1.0.0",
      "_model_name": "OutputModel",
      "_view_count": null,
      "_view_module": "@jupyter-widgets/output",
      "_view_module_version": "1.0.0",
      "_view_name": "OutputView",
      "layout": "IPY_MODEL_dafeb4f140fd4f459fbc52b77654fb45",
      "msg_id": "",
      "outputs": [
       {
        "metadata": {
         "tags": []
        },
        "output_type": "display_data",
        "text/html": "<div>\n<style scoped>\n    .dataframe tbody tr th:only-of-type {\n        vertical-align: middle;\n    }\n\n    .dataframe tbody tr th {\n        vertical-align: top;\n    }\n\n    .dataframe thead th {\n        text-align: right;\n    }\n</style>\n<table border=\"1\" class=\"dataframe\">\n  <thead>\n    <tr style=\"text-align: right;\">\n      <th></th>\n      <th>title</th>\n      <th>text</th>\n      <th>date</th>\n      <th>category</th>\n    </tr>\n  </thead>\n  <tbody>\n    <tr>\n      <th>0</th>\n      <td>As U.S. budget fight looms, Republicans flip t...</td>\n      <td>WASHINGTON (Reuters) - The head of a conservat...</td>\n      <td>2017-12-31 00:00:00</td>\n      <td>True</td>\n    </tr>\n    <tr>\n      <th>1</th>\n      <td>U.S. military to accept transgender recruits o...</td>\n      <td>WASHINGTON (Reuters) - Transgender people will...</td>\n      <td>2017-12-29 00:00:00</td>\n      <td>True</td>\n    </tr>\n    <tr>\n      <th>2</th>\n      <td>Senior U.S. Republican senator: 'Let Mr. Muell...</td>\n      <td>WASHINGTON (Reuters) - The special counsel inv...</td>\n      <td>2017-12-31 00:00:00</td>\n      <td>True</td>\n    </tr>\n    <tr>\n      <th>3</th>\n      <td>FBI Russia probe helped by Australian diplomat...</td>\n      <td>WASHINGTON (Reuters) - Trump campaign adviser ...</td>\n      <td>2017-12-30 00:00:00</td>\n      <td>True</td>\n    </tr>\n    <tr>\n      <th>4</th>\n      <td>Trump wants Postal Service to charge 'much mor...</td>\n      <td>SEATTLE/WASHINGTON (Reuters) - President Donal...</td>\n      <td>2017-12-29 00:00:00</td>\n      <td>True</td>\n    </tr>\n  </tbody>\n</table>\n</div>",
        "text/plain": "                                               title  ... category\n0  As U.S. budget fight looms, Republicans flip t...  ...     True\n1  U.S. military to accept transgender recruits o...  ...     True\n2  Senior U.S. Republican senator: 'Let Mr. Muell...  ...     True\n3  FBI Russia probe helped by Australian diplomat...  ...     True\n4  Trump wants Postal Service to charge 'much mor...  ...     True\n\n[5 rows x 4 columns]"
       }
      ]
     }
    },
    "8d349ed0af934d359d9ceef8f7585eeb": {
     "model_module": "@jupyter-widgets/output",
     "model_name": "OutputModel",
     "state": {
      "_dom_classes": [],
      "_model_module": "@jupyter-widgets/output",
      "_model_module_version": "1.0.0",
      "_model_name": "OutputModel",
      "_view_count": null,
      "_view_module": "@jupyter-widgets/output",
      "_view_module_version": "1.0.0",
      "_view_name": "OutputView",
      "layout": "IPY_MODEL_5f7b7843ac2b4109b323e64f08cdbce6",
      "msg_id": "",
      "outputs": [
       {
        "metadata": {
         "tags": []
        },
        "output_type": "display_data",
        "text/html": "<div>\n<style scoped>\n    .dataframe tbody tr th:only-of-type {\n        vertical-align: middle;\n    }\n\n    .dataframe tbody tr th {\n        vertical-align: top;\n    }\n\n    .dataframe thead th {\n        text-align: right;\n    }\n</style>\n<table border=\"1\" class=\"dataframe\">\n  <thead>\n    <tr style=\"text-align: right;\">\n      <th></th>\n      <th>title</th>\n      <th>text</th>\n      <th>date</th>\n      <th>category</th>\n    </tr>\n  </thead>\n  <tbody>\n    <tr>\n      <th>0</th>\n      <td>Donald Trump Sends Out Embarrassing New Year’...</td>\n      <td>Donald Trump just couldn t wish all Americans ...</td>\n      <td>2017-12-31 00:00:00</td>\n      <td>Fake</td>\n    </tr>\n    <tr>\n      <th>1</th>\n      <td>Drunk Bragging Trump Staffer Started Russian ...</td>\n      <td>House Intelligence Committee Chairman Devin Nu...</td>\n      <td>2017-12-31 00:00:00</td>\n      <td>Fake</td>\n    </tr>\n    <tr>\n      <th>2</th>\n      <td>Sheriff David Clarke Becomes An Internet Joke...</td>\n      <td>On Friday, it was revealed that former Milwauk...</td>\n      <td>2017-12-30 00:00:00</td>\n      <td>Fake</td>\n    </tr>\n    <tr>\n      <th>3</th>\n      <td>Trump Is So Obsessed He Even Has Obama’s Name...</td>\n      <td>On Christmas day, Donald Trump announced that ...</td>\n      <td>2017-12-29 00:00:00</td>\n      <td>Fake</td>\n    </tr>\n    <tr>\n      <th>4</th>\n      <td>Pope Francis Just Called Out Donald Trump Dur...</td>\n      <td>Pope Francis used his annual Christmas Day mes...</td>\n      <td>2017-12-25 00:00:00</td>\n      <td>Fake</td>\n    </tr>\n  </tbody>\n</table>\n</div>",
        "text/plain": "                                               title  ... category\n0   Donald Trump Sends Out Embarrassing New Year’...  ...     Fake\n1   Drunk Bragging Trump Staffer Started Russian ...  ...     Fake\n2   Sheriff David Clarke Becomes An Internet Joke...  ...     Fake\n3   Trump Is So Obsessed He Even Has Obama’s Name...  ...     Fake\n4   Pope Francis Just Called Out Donald Trump Dur...  ...     Fake\n\n[5 rows x 4 columns]"
       }
      ]
     }
    },
    "d715a0a44ff34eebbab7a6990fe2623b": {
     "model_module": "@jupyter-widgets/controls",
     "model_name": "HBoxModel",
     "state": {
      "_dom_classes": [],
      "_model_module": "@jupyter-widgets/controls",
      "_model_module_version": "1.5.0",
      "_model_name": "HBoxModel",
      "_view_count": null,
      "_view_module": "@jupyter-widgets/controls",
      "_view_module_version": "1.5.0",
      "_view_name": "HBoxView",
      "box_style": "",
      "children": [
       "IPY_MODEL_8d349ed0af934d359d9ceef8f7585eeb",
       "IPY_MODEL_67dd0f7a804749408e60fed82a9773d5"
      ],
      "layout": "IPY_MODEL_1c7fda8bc55d4b8ea747323992b38327"
     }
    },
    "dafeb4f140fd4f459fbc52b77654fb45": {
     "model_module": "@jupyter-widgets/base",
     "model_name": "LayoutModel",
     "state": {
      "_model_module": "@jupyter-widgets/base",
      "_model_module_version": "1.2.0",
      "_model_name": "LayoutModel",
      "_view_count": null,
      "_view_module": "@jupyter-widgets/base",
      "_view_module_version": "1.2.0",
      "_view_name": "LayoutView",
      "align_content": null,
      "align_items": null,
      "align_self": null,
      "border": null,
      "bottom": null,
      "display": null,
      "flex": null,
      "flex_flow": null,
      "grid_area": null,
      "grid_auto_columns": null,
      "grid_auto_flow": null,
      "grid_auto_rows": null,
      "grid_column": null,
      "grid_gap": null,
      "grid_row": null,
      "grid_template_areas": null,
      "grid_template_columns": null,
      "grid_template_rows": null,
      "height": null,
      "justify_content": null,
      "justify_items": null,
      "left": null,
      "margin": null,
      "max_height": null,
      "max_width": null,
      "min_height": null,
      "min_width": null,
      "object_fit": null,
      "object_position": null,
      "order": null,
      "overflow": null,
      "overflow_x": null,
      "overflow_y": null,
      "padding": null,
      "right": null,
      "top": null,
      "visibility": null,
      "width": null
     }
    }
   }
  }
 },
 "nbformat": 4,
 "nbformat_minor": 4
}

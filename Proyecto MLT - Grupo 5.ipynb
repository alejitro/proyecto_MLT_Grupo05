{
 "cells": [
  {
   "cell_type": "markdown",
   "metadata": {
    "colab_type": "text",
    "id": "J8lP6PSVo6G9"
   },
   "source": [
    "\n",
    "<img src=\"https://cursos.virtual.uniandes.edu.co/isis4219/wp-content/uploads/sites/162/2014/11/cropped-misisheader.png\" ><br>\n",
    "# Machine Learning Techniques - ISIS4219\n",
    "\n",
    "Intersemestral 2020\n",
    "\n",
    "\n",
    "* Daury Lecca\n",
    "* Nicolas Lema\n",
    "* Alejandro Martínez\n",
    "* David Ortiz\n"
   ]
  },
  {
   "cell_type": "markdown",
   "metadata": {},
   "source": [
    "**1. Instalación de librerias a utilizar**"
   ]
  },
  {
   "cell_type": "code",
   "execution_count": 1,
   "metadata": {
    "colab": {
     "base_uri": "https://localhost:8080/",
     "height": 1000
    },
    "colab_type": "code",
    "id": "gg3WFaYjpd-9",
    "outputId": "5c0f44ab-b79e-4b10-be22-b6864e98e6ba"
   },
   "outputs": [
    {
     "name": "stdout",
     "output_type": "stream",
     "text": [
      "Requirement already satisfied: contractions in ./ml_env/lib/python3.7/site-packages (0.0.25)\n",
      "Requirement already satisfied: textsearch in ./ml_env/lib/python3.7/site-packages (from contractions) (0.0.17)\n",
      "Requirement already satisfied: pyahocorasick in ./ml_env/lib/python3.7/site-packages (from textsearch->contractions) (1.4.0)\n",
      "Requirement already satisfied: Unidecode in ./ml_env/lib/python3.7/site-packages (from textsearch->contractions) (1.1.1)\n",
      "Requirement already satisfied: feedparser in ./ml_env/lib/python3.7/site-packages (5.2.1)\n",
      "Requirement already satisfied: newspaper3k in ./ml_env/lib/python3.7/site-packages (0.2.8)\n",
      "Requirement already satisfied: cssselect>=0.9.2 in ./ml_env/lib/python3.7/site-packages (from newspaper3k) (1.1.0)\n",
      "Requirement already satisfied: lxml>=3.6.0 in ./ml_env/lib/python3.7/site-packages (from newspaper3k) (4.5.2)\n",
      "Requirement already satisfied: Pillow>=3.3.0 in ./ml_env/lib/python3.7/site-packages (from newspaper3k) (7.1.2)\n",
      "Requirement already satisfied: nltk>=3.2.1 in ./ml_env/lib/python3.7/site-packages (from newspaper3k) (3.5)\n",
      "Requirement already satisfied: feedparser>=5.2.1 in ./ml_env/lib/python3.7/site-packages (from newspaper3k) (5.2.1)\n",
      "Requirement already satisfied: beautifulsoup4>=4.4.1 in ./ml_env/lib/python3.7/site-packages (from newspaper3k) (4.9.1)\n",
      "Requirement already satisfied: python-dateutil>=2.5.3 in ./ml_env/lib/python3.7/site-packages (from newspaper3k) (2.8.1)\n",
      "Requirement already satisfied: jieba3k>=0.35.1 in ./ml_env/lib/python3.7/site-packages (from newspaper3k) (0.35.1)\n",
      "Requirement already satisfied: PyYAML>=3.11 in ./ml_env/lib/python3.7/site-packages (from newspaper3k) (5.3.1)\n",
      "Requirement already satisfied: tinysegmenter==0.3 in ./ml_env/lib/python3.7/site-packages (from newspaper3k) (0.3)\n",
      "Requirement already satisfied: feedfinder2>=0.0.4 in ./ml_env/lib/python3.7/site-packages (from newspaper3k) (0.0.4)\n",
      "Requirement already satisfied: tldextract>=2.0.1 in ./ml_env/lib/python3.7/site-packages (from newspaper3k) (2.2.2)\n",
      "Requirement already satisfied: requests>=2.10.0 in ./ml_env/lib/python3.7/site-packages (from newspaper3k) (2.24.0)\n",
      "Requirement already satisfied: click in ./ml_env/lib/python3.7/site-packages (from nltk>=3.2.1->newspaper3k) (7.1.2)\n",
      "Requirement already satisfied: regex in ./ml_env/lib/python3.7/site-packages (from nltk>=3.2.1->newspaper3k) (2020.6.8)\n",
      "Requirement already satisfied: tqdm in ./ml_env/lib/python3.7/site-packages (from nltk>=3.2.1->newspaper3k) (4.46.1)\n",
      "Requirement already satisfied: joblib in ./ml_env/lib/python3.7/site-packages (from nltk>=3.2.1->newspaper3k) (0.15.1)\n",
      "Requirement already satisfied: soupsieve>1.2 in ./ml_env/lib/python3.7/site-packages (from beautifulsoup4>=4.4.1->newspaper3k) (2.0.1)\n",
      "Requirement already satisfied: six>=1.5 in ./ml_env/lib/python3.7/site-packages (from python-dateutil>=2.5.3->newspaper3k) (1.15.0)\n",
      "Requirement already satisfied: idna in ./ml_env/lib/python3.7/site-packages (from tldextract>=2.0.1->newspaper3k) (2.9)\n",
      "Requirement already satisfied: requests-file>=1.4 in ./ml_env/lib/python3.7/site-packages (from tldextract>=2.0.1->newspaper3k) (1.5.1)\n",
      "Requirement already satisfied: setuptools in ./ml_env/lib/python3.7/site-packages (from tldextract>=2.0.1->newspaper3k) (47.3.1)\n",
      "Requirement already satisfied: urllib3!=1.25.0,!=1.25.1,<1.26,>=1.21.1 in ./ml_env/lib/python3.7/site-packages (from requests>=2.10.0->newspaper3k) (1.25.9)\n",
      "Requirement already satisfied: certifi>=2017.4.17 in ./ml_env/lib/python3.7/site-packages (from requests>=2.10.0->newspaper3k) (2020.6.20)\n",
      "Requirement already satisfied: chardet<4,>=3.0.2 in ./ml_env/lib/python3.7/site-packages (from requests>=2.10.0->newspaper3k) (3.0.4)\n",
      "Requirement already satisfied: pandas_profiling in ./ml_env/lib/python3.7/site-packages (2.8.0)\n",
      "Requirement already satisfied: jinja2>=2.11.1 in ./ml_env/lib/python3.7/site-packages (from pandas_profiling) (2.11.2)\n",
      "Requirement already satisfied: matplotlib>=3.2.0 in ./ml_env/lib/python3.7/site-packages (from pandas_profiling) (3.2.2)\n",
      "Requirement already satisfied: tangled-up-in-unicode>=0.0.6 in ./ml_env/lib/python3.7/site-packages (from pandas_profiling) (0.0.6)\n",
      "Requirement already satisfied: ipywidgets>=7.5.1 in ./ml_env/lib/python3.7/site-packages (from pandas_profiling) (7.5.1)\n",
      "Requirement already satisfied: astropy>=4.0 in ./ml_env/lib/python3.7/site-packages (from pandas_profiling) (4.0.1.post1)\n",
      "Requirement already satisfied: scipy>=1.4.1 in ./ml_env/lib/python3.7/site-packages (from pandas_profiling) (1.5.0)\n",
      "Requirement already satisfied: joblib in ./ml_env/lib/python3.7/site-packages (from pandas_profiling) (0.15.1)\n",
      "Requirement already satisfied: visions[type_image_path]==0.4.4 in ./ml_env/lib/python3.7/site-packages (from pandas_profiling) (0.4.4)\n",
      "Requirement already satisfied: htmlmin>=0.1.12 in ./ml_env/lib/python3.7/site-packages (from pandas_profiling) (0.1.12)\n",
      "Requirement already satisfied: missingno>=0.4.2 in ./ml_env/lib/python3.7/site-packages (from pandas_profiling) (0.4.2)\n",
      "Requirement already satisfied: confuse>=1.0.0 in ./ml_env/lib/python3.7/site-packages (from pandas_profiling) (1.3.0)\n",
      "Requirement already satisfied: numpy>=1.16.0 in ./ml_env/lib/python3.7/site-packages (from pandas_profiling) (1.19.0)\n",
      "Requirement already satisfied: tqdm>=4.43.0 in ./ml_env/lib/python3.7/site-packages (from pandas_profiling) (4.46.1)\n",
      "Requirement already satisfied: pandas!=1.0.0,!=1.0.1,!=1.0.2,>=0.25.3 in ./ml_env/lib/python3.7/site-packages (from pandas_profiling) (1.0.5)\n",
      "Requirement already satisfied: requests>=2.23.0 in ./ml_env/lib/python3.7/site-packages (from pandas_profiling) (2.24.0)\n",
      "Requirement already satisfied: phik>=0.9.10 in ./ml_env/lib/python3.7/site-packages (from pandas_profiling) (0.10.0)\n",
      "Requirement already satisfied: MarkupSafe>=0.23 in ./ml_env/lib/python3.7/site-packages (from jinja2>=2.11.1->pandas_profiling) (1.1.1)\n",
      "Requirement already satisfied: python-dateutil>=2.1 in ./ml_env/lib/python3.7/site-packages (from matplotlib>=3.2.0->pandas_profiling) (2.8.1)\n",
      "Requirement already satisfied: kiwisolver>=1.0.1 in ./ml_env/lib/python3.7/site-packages (from matplotlib>=3.2.0->pandas_profiling) (1.2.0)\n",
      "Requirement already satisfied: cycler>=0.10 in ./ml_env/lib/python3.7/site-packages (from matplotlib>=3.2.0->pandas_profiling) (0.10.0)\n",
      "Requirement already satisfied: pyparsing!=2.0.4,!=2.1.2,!=2.1.6,>=2.0.1 in ./ml_env/lib/python3.7/site-packages (from matplotlib>=3.2.0->pandas_profiling) (2.4.7)\n",
      "Requirement already satisfied: widgetsnbextension~=3.5.0 in ./ml_env/lib/python3.7/site-packages (from ipywidgets>=7.5.1->pandas_profiling) (3.5.1)\n",
      "Requirement already satisfied: traitlets>=4.3.1 in ./ml_env/lib/python3.7/site-packages (from ipywidgets>=7.5.1->pandas_profiling) (4.3.3)\n",
      "Requirement already satisfied: nbformat>=4.2.0 in ./ml_env/lib/python3.7/site-packages (from ipywidgets>=7.5.1->pandas_profiling) (5.0.7)\n",
      "Requirement already satisfied: ipykernel>=4.5.1 in ./ml_env/lib/python3.7/site-packages (from ipywidgets>=7.5.1->pandas_profiling) (5.3.0)\n",
      "Requirement already satisfied: ipython>=4.0.0; python_version >= \"3.3\" in ./ml_env/lib/python3.7/site-packages (from ipywidgets>=7.5.1->pandas_profiling) (7.15.0)\n",
      "Requirement already satisfied: networkx>=2.4 in ./ml_env/lib/python3.7/site-packages (from visions[type_image_path]==0.4.4->pandas_profiling) (2.4)\n",
      "Requirement already satisfied: attrs>=19.3.0 in ./ml_env/lib/python3.7/site-packages (from visions[type_image_path]==0.4.4->pandas_profiling) (19.3.0)\n",
      "Requirement already satisfied: Pillow; extra == \"type_image_path\" in ./ml_env/lib/python3.7/site-packages (from visions[type_image_path]==0.4.4->pandas_profiling) (7.1.2)\n",
      "Requirement already satisfied: imagehash; extra == \"type_image_path\" in ./ml_env/lib/python3.7/site-packages (from visions[type_image_path]==0.4.4->pandas_profiling) (4.1.0)\n",
      "Requirement already satisfied: seaborn in ./ml_env/lib/python3.7/site-packages (from missingno>=0.4.2->pandas_profiling) (0.10.1)\n",
      "Requirement already satisfied: pyyaml in ./ml_env/lib/python3.7/site-packages (from confuse>=1.0.0->pandas_profiling) (5.3.1)\n",
      "Requirement already satisfied: pytz>=2017.2 in ./ml_env/lib/python3.7/site-packages (from pandas!=1.0.0,!=1.0.1,!=1.0.2,>=0.25.3->pandas_profiling) (2020.1)\n",
      "Requirement already satisfied: urllib3!=1.25.0,!=1.25.1,<1.26,>=1.21.1 in ./ml_env/lib/python3.7/site-packages (from requests>=2.23.0->pandas_profiling) (1.25.9)\n",
      "Requirement already satisfied: idna<3,>=2.5 in ./ml_env/lib/python3.7/site-packages (from requests>=2.23.0->pandas_profiling) (2.9)\n",
      "Requirement already satisfied: certifi>=2017.4.17 in ./ml_env/lib/python3.7/site-packages (from requests>=2.23.0->pandas_profiling) (2020.6.20)\n",
      "Requirement already satisfied: chardet<4,>=3.0.2 in ./ml_env/lib/python3.7/site-packages (from requests>=2.23.0->pandas_profiling) (3.0.4)\n",
      "Requirement already satisfied: numba>=0.38.1 in ./ml_env/lib/python3.7/site-packages (from phik>=0.9.10->pandas_profiling) (0.50.1)\n",
      "Requirement already satisfied: six>=1.5 in ./ml_env/lib/python3.7/site-packages (from python-dateutil>=2.1->matplotlib>=3.2.0->pandas_profiling) (1.15.0)\n",
      "Requirement already satisfied: notebook>=4.4.1 in ./ml_env/lib/python3.7/site-packages (from widgetsnbextension~=3.5.0->ipywidgets>=7.5.1->pandas_profiling) (6.0.3)\n",
      "Requirement already satisfied: ipython-genutils in ./ml_env/lib/python3.7/site-packages (from traitlets>=4.3.1->ipywidgets>=7.5.1->pandas_profiling) (0.2.0)\n",
      "Requirement already satisfied: decorator in ./ml_env/lib/python3.7/site-packages (from traitlets>=4.3.1->ipywidgets>=7.5.1->pandas_profiling) (4.4.2)\n",
      "Requirement already satisfied: jsonschema!=2.5.0,>=2.4 in ./ml_env/lib/python3.7/site-packages (from nbformat>=4.2.0->ipywidgets>=7.5.1->pandas_profiling) (3.2.0)\n",
      "Requirement already satisfied: jupyter-core in ./ml_env/lib/python3.7/site-packages (from nbformat>=4.2.0->ipywidgets>=7.5.1->pandas_profiling) (4.6.3)\n",
      "Requirement already satisfied: jupyter-client in ./ml_env/lib/python3.7/site-packages (from ipykernel>=4.5.1->ipywidgets>=7.5.1->pandas_profiling) (6.1.3)\n",
      "Requirement already satisfied: tornado>=4.2 in ./ml_env/lib/python3.7/site-packages (from ipykernel>=4.5.1->ipywidgets>=7.5.1->pandas_profiling) (6.0.4)\n",
      "Requirement already satisfied: jedi>=0.10 in ./ml_env/lib/python3.7/site-packages (from ipython>=4.0.0; python_version >= \"3.3\"->ipywidgets>=7.5.1->pandas_profiling) (0.17.1)\n",
      "Requirement already satisfied: setuptools>=18.5 in ./ml_env/lib/python3.7/site-packages (from ipython>=4.0.0; python_version >= \"3.3\"->ipywidgets>=7.5.1->pandas_profiling) (47.3.1)\n",
      "Requirement already satisfied: pickleshare in ./ml_env/lib/python3.7/site-packages (from ipython>=4.0.0; python_version >= \"3.3\"->ipywidgets>=7.5.1->pandas_profiling) (0.7.5)\n",
      "Requirement already satisfied: pygments in ./ml_env/lib/python3.7/site-packages (from ipython>=4.0.0; python_version >= \"3.3\"->ipywidgets>=7.5.1->pandas_profiling) (2.6.1)\n",
      "Requirement already satisfied: pexpect; sys_platform != \"win32\" in ./ml_env/lib/python3.7/site-packages (from ipython>=4.0.0; python_version >= \"3.3\"->ipywidgets>=7.5.1->pandas_profiling) (4.8.0)\n",
      "Requirement already satisfied: backcall in ./ml_env/lib/python3.7/site-packages (from ipython>=4.0.0; python_version >= \"3.3\"->ipywidgets>=7.5.1->pandas_profiling) (0.2.0)\n",
      "Requirement already satisfied: prompt-toolkit!=3.0.0,!=3.0.1,<3.1.0,>=2.0.0 in ./ml_env/lib/python3.7/site-packages (from ipython>=4.0.0; python_version >= \"3.3\"->ipywidgets>=7.5.1->pandas_profiling) (3.0.5)\n",
      "Requirement already satisfied: PyWavelets in ./ml_env/lib/python3.7/site-packages (from imagehash; extra == \"type_image_path\"->visions[type_image_path]==0.4.4->pandas_profiling) (1.1.1)\n",
      "Requirement already satisfied: llvmlite<0.34,>=0.33.0.dev0 in ./ml_env/lib/python3.7/site-packages (from numba>=0.38.1->phik>=0.9.10->pandas_profiling) (0.33.0)\n",
      "Requirement already satisfied: nbconvert in ./ml_env/lib/python3.7/site-packages (from notebook>=4.4.1->widgetsnbextension~=3.5.0->ipywidgets>=7.5.1->pandas_profiling) (5.6.1)\n",
      "Requirement already satisfied: pyzmq>=17 in ./ml_env/lib/python3.7/site-packages (from notebook>=4.4.1->widgetsnbextension~=3.5.0->ipywidgets>=7.5.1->pandas_profiling) (19.0.1)\n",
      "Requirement already satisfied: terminado>=0.8.1 in ./ml_env/lib/python3.7/site-packages (from notebook>=4.4.1->widgetsnbextension~=3.5.0->ipywidgets>=7.5.1->pandas_profiling) (0.8.3)\n",
      "Requirement already satisfied: Send2Trash in ./ml_env/lib/python3.7/site-packages (from notebook>=4.4.1->widgetsnbextension~=3.5.0->ipywidgets>=7.5.1->pandas_profiling) (1.5.0)\n",
      "Requirement already satisfied: prometheus-client in ./ml_env/lib/python3.7/site-packages (from notebook>=4.4.1->widgetsnbextension~=3.5.0->ipywidgets>=7.5.1->pandas_profiling) (0.8.0)\n",
      "Requirement already satisfied: importlib-metadata; python_version < \"3.8\" in ./ml_env/lib/python3.7/site-packages (from jsonschema!=2.5.0,>=2.4->nbformat>=4.2.0->ipywidgets>=7.5.1->pandas_profiling) (1.6.1)\n",
      "Requirement already satisfied: pyrsistent>=0.14.0 in ./ml_env/lib/python3.7/site-packages (from jsonschema!=2.5.0,>=2.4->nbformat>=4.2.0->ipywidgets>=7.5.1->pandas_profiling) (0.16.0)\n",
      "Requirement already satisfied: parso<0.8.0,>=0.7.0 in ./ml_env/lib/python3.7/site-packages (from jedi>=0.10->ipython>=4.0.0; python_version >= \"3.3\"->ipywidgets>=7.5.1->pandas_profiling) (0.7.0)\n",
      "Requirement already satisfied: ptyprocess>=0.5 in ./ml_env/lib/python3.7/site-packages (from pexpect; sys_platform != \"win32\"->ipython>=4.0.0; python_version >= \"3.3\"->ipywidgets>=7.5.1->pandas_profiling) (0.6.0)\n",
      "Requirement already satisfied: wcwidth in ./ml_env/lib/python3.7/site-packages (from prompt-toolkit!=3.0.0,!=3.0.1,<3.1.0,>=2.0.0->ipython>=4.0.0; python_version >= \"3.3\"->ipywidgets>=7.5.1->pandas_profiling) (0.2.5)\n",
      "Requirement already satisfied: mistune<2,>=0.8.1 in ./ml_env/lib/python3.7/site-packages (from nbconvert->notebook>=4.4.1->widgetsnbextension~=3.5.0->ipywidgets>=7.5.1->pandas_profiling) (0.8.4)\n",
      "Requirement already satisfied: defusedxml in ./ml_env/lib/python3.7/site-packages (from nbconvert->notebook>=4.4.1->widgetsnbextension~=3.5.0->ipywidgets>=7.5.1->pandas_profiling) (0.6.0)\n",
      "Requirement already satisfied: entrypoints>=0.2.2 in ./ml_env/lib/python3.7/site-packages (from nbconvert->notebook>=4.4.1->widgetsnbextension~=3.5.0->ipywidgets>=7.5.1->pandas_profiling) (0.3)\n",
      "Requirement already satisfied: pandocfilters>=1.4.1 in ./ml_env/lib/python3.7/site-packages (from nbconvert->notebook>=4.4.1->widgetsnbextension~=3.5.0->ipywidgets>=7.5.1->pandas_profiling) (1.4.2)\n",
      "Requirement already satisfied: testpath in ./ml_env/lib/python3.7/site-packages (from nbconvert->notebook>=4.4.1->widgetsnbextension~=3.5.0->ipywidgets>=7.5.1->pandas_profiling) (0.4.4)\n",
      "Requirement already satisfied: bleach in ./ml_env/lib/python3.7/site-packages (from nbconvert->notebook>=4.4.1->widgetsnbextension~=3.5.0->ipywidgets>=7.5.1->pandas_profiling) (3.1.5)\n",
      "Requirement already satisfied: zipp>=0.5 in ./ml_env/lib/python3.7/site-packages (from importlib-metadata; python_version < \"3.8\"->jsonschema!=2.5.0,>=2.4->nbformat>=4.2.0->ipywidgets>=7.5.1->pandas_profiling) (3.1.0)\n",
      "Requirement already satisfied: packaging in ./ml_env/lib/python3.7/site-packages (from bleach->nbconvert->notebook>=4.4.1->widgetsnbextension~=3.5.0->ipywidgets>=7.5.1->pandas_profiling) (20.4)\n",
      "Requirement already satisfied: webencodings in ./ml_env/lib/python3.7/site-packages (from bleach->nbconvert->notebook>=4.4.1->widgetsnbextension~=3.5.0->ipywidgets>=7.5.1->pandas_profiling) (0.5.1)\n",
      "showing info https://raw.githubusercontent.com/nltk/nltk_data/gh-pages/index.xml\n"
     ]
    },
    {
     "data": {
      "text/plain": [
       "True"
      ]
     },
     "execution_count": 1,
     "metadata": {},
     "output_type": "execute_result"
    }
   ],
   "source": [
    "!pip install https://github.com/pandas-profiling/pandas-profiling/archive/master.zip\n",
    "!pip install contractions\n",
    "!pip install feedparser\n",
    "!pip install newspaper3k\n",
    "!pip install pandas_profiling\n",
    "import nltk\n",
    "nltk.download()"
   ]
  },
  {
   "cell_type": "code",
   "execution_count": 2,
   "metadata": {
    "colab": {},
    "colab_type": "code",
    "executionInfo": {
     "elapsed": 844,
     "status": "ok",
     "timestamp": 1594597559205,
     "user": {
      "displayName": "alejandro martinez",
      "photoUrl": "https://lh3.googleusercontent.com/a-/AOh14Gi9YSzzf_VDnAbvxMnJJqez5U-I_wOQ5OyJRmw_=s64",
      "userId": "05542026783145230534"
     },
     "user_tz": 300
    },
    "id": "dpXXzFHRpGy4"
   },
   "outputs": [],
   "source": [
    "import pandas as pd\n",
    "import numpy as np\n",
    "import sys\n",
    "from pandas_profiling import ProfileReport\n",
    "\n",
    "\n",
    "import nltk\n",
    "import re, string, unicodedata\n",
    "import contractions\n",
    "import inflect\n",
    "from nltk import word_tokenize, sent_tokenize\n",
    "from nltk.corpus import stopwords\n",
    "from nltk.stem import LancasterStemmer, WordNetLemmatizer\n",
    "\n",
    "from sklearn.model_selection import train_test_split,GridSearchCV\n",
    "from sklearn.feature_extraction.text import TfidfVectorizer, CountVectorizer, HashingVectorizer\n",
    "from sklearn.pipeline import Pipeline, FeatureUnion\n",
    "from sklearn.naive_bayes import BernoulliNB, CategoricalNB, MultinomialNB\n",
    "from sklearn.metrics import classification_report, confusion_matrix, plot_precision_recall_curve\n",
    "\n",
    "import matplotlib.pyplot as plt"
   ]
  },
  {
   "cell_type": "code",
   "execution_count": 3,
   "metadata": {
    "colab": {},
    "colab_type": "code",
    "executionInfo": {
     "elapsed": 922,
     "status": "ok",
     "timestamp": 1594597561364,
     "user": {
      "displayName": "alejandro martinez",
      "photoUrl": "https://lh3.googleusercontent.com/a-/AOh14Gi9YSzzf_VDnAbvxMnJJqez5U-I_wOQ5OyJRmw_=s64",
      "userId": "05542026783145230534"
     },
     "user_tz": 300
    },
    "id": "xqD2mTepIHlw"
   },
   "outputs": [],
   "source": [
    "import json"
   ]
  },
  {
   "cell_type": "markdown",
   "metadata": {
    "colab_type": "text",
    "id": "cEHfH5Hl8dAp"
   },
   "source": [
    "**2. Perfilamiento y entendimiento de los datos**\n",
    "\n"
   ]
  },
  {
   "cell_type": "markdown",
   "metadata": {
    "colab_type": "text",
    "id": "WNhNQoeA-nq0"
   },
   "source": [
    "* Lectura de los datos\n",
    "\n",
    "A continuación procedemos a leer los datos del Dataset de Kaggle, los cuales ya estan dividos entre Fake news y Real News.\n",
    "\n",
    "Despues te esto, hacemos un proceso de web scrapping de diferentes medios que tienen noticias reales y falsas para aumentar el tamaño de la muestra y la diversidad de noticias de nuestro dataSet y tener noticias de un contexto mas actual ya que las del dataset de kaggle estan en un periodo comprendido entre 2016 y 2018"
   ]
  },
  {
   "cell_type": "code",
   "execution_count": 4,
   "metadata": {
    "colab": {},
    "colab_type": "code",
    "executionInfo": {
     "elapsed": 1149,
     "status": "ok",
     "timestamp": 1594597586803,
     "user": {
      "displayName": "alejandro martinez",
      "photoUrl": "https://lh3.googleusercontent.com/a-/AOh14Gi9YSzzf_VDnAbvxMnJJqez5U-I_wOQ5OyJRmw_=s64",
      "userId": "05542026783145230534"
     },
     "user_tz": 300
    },
    "id": "k_xxUEnG8Zyr"
   },
   "outputs": [],
   "source": [
    "def get_data(dataset):\n",
    "    if(dataset=='true'):\n",
    "        url = 'https://raw.githubusercontent.com/alejitro/proyecto_MLT_Grupo05/master/DataSet/True.csv'\n",
    "        return pd.read_csv(url,error_bad_lines=True)\n",
    "    elif(dataset=='false'):\n",
    "        url = 'https://raw.githubusercontent.com/alejitro/proyecto_MLT_Grupo05/master/DataSet/Fake.csv'\n",
    "        return pd.read_csv(url,error_bad_lines=True)\n",
    "    else:\n",
    "        return (\"No data\")"
   ]
  },
  {
   "cell_type": "markdown",
   "metadata": {},
   "source": [
    "* Medios de los cuales se van a obtener noticias recientes:"
   ]
  },
  {
   "cell_type": "code",
   "execution_count": 8,
   "metadata": {
    "colab": {},
    "colab_type": "code",
    "executionInfo": {
     "elapsed": 908,
     "status": "ok",
     "timestamp": 1594597589245,
     "user": {
      "displayName": "alejandro martinez",
      "photoUrl": "https://lh3.googleusercontent.com/a-/AOh14Gi9YSzzf_VDnAbvxMnJJqez5U-I_wOQ5OyJRmw_=s64",
      "userId": "05542026783145230534"
     },
     "user_tz": 300
    },
    "id": "V10cM3bMKDY8"
   },
   "outputs": [],
   "source": [
    "dictionary = {\n",
    "  \"bbc\": {\n",
    "    \"rss\": \"http://feeds.bbci.co.uk/news/rss.xml\",\n",
    "    \"link\": \"http://www.bbc.com/\"\n",
    "  },\n",
    "  \"theguardian\": {\n",
    "    \"rss\": \"https://www.theguardian.com/uk/rss\",\n",
    "    \"link\": \"https://www.theguardian.com/international\"\n",
    "  },\n",
    "  \"breitbart\": {\n",
    "    \"link\": \"http://www.breitbart.com/\"\n",
    "  },\n",
    "  \"infowars\": {\n",
    "    \"link\": \"https://www.infowars.com/\"\n",
    "  },\n",
    "  \"washingtonpost\": {\n",
    "    \"rss\": \"http://feeds.washingtonpost.com/rss/world\",\n",
    "    \"link\": \"https://www.washingtonpost.com/\"\n",
    "  },\n",
    "  \"theonion\": {\n",
    "    \"link\": \"http://www.theonion.com/\"\n",
    "  }\n",
    "}"
   ]
  },
  {
   "cell_type": "code",
   "execution_count": 13,
   "metadata": {
    "colab": {},
    "colab_type": "code",
    "executionInfo": {
     "elapsed": 882,
     "status": "ok",
     "timestamp": 1594597591379,
     "user": {
      "displayName": "alejandro martinez",
      "photoUrl": "https://lh3.googleusercontent.com/a-/AOh14Gi9YSzzf_VDnAbvxMnJJqez5U-I_wOQ5OyJRmw_=s64",
      "userId": "05542026783145230534"
     },
     "user_tz": 300
    },
    "id": "nks2f4ktKL7K"
   },
   "outputs": [],
   "source": [
    "json_object = json.dumps(dictionary, indent = 4) \n",
    "with open(\"NewsPapers.json\", \"w\") as outfile: \n",
    "    outfile.write(json_object) "
   ]
  },
  {
   "cell_type": "markdown",
   "metadata": {},
   "source": [
    "* Codigo para importar las noticias en un archivo JSON\n",
    "\n",
    "En el codigo tenemos la opcion de variar el numero de articulos de cada medio que se quieren descargar (variable LIMIT), esto nos permite mantener el balance del dataset entre las noticias verdaderas y falsas.\n",
    "\n",
    "En esta iteracion, con el fin de poder hacer el entendimiento de los datos de una forma rapida, solo tomamos 5 articulos adicionales por cada medio, en la siguiente iteración, tomaremos un numero mayor para aumentar el tamaño del dataset y asi mismo la calidad de instancias para poder determinar las clases."
   ]
  },
  {
   "cell_type": "code",
   "execution_count": 10,
   "metadata": {
    "colab": {
     "base_uri": "https://localhost:8080/",
     "height": 1000
    },
    "colab_type": "code",
    "executionInfo": {
     "elapsed": 53100,
     "status": "ok",
     "timestamp": 1594597668707,
     "user": {
      "displayName": "alejandro martinez",
      "photoUrl": "https://lh3.googleusercontent.com/a-/AOh14Gi9YSzzf_VDnAbvxMnJJqez5U-I_wOQ5OyJRmw_=s64",
      "userId": "05542026783145230534"
     },
     "user_tz": 300
    },
    "id": "M2UAAzWHKVYe",
    "outputId": "1090364d-335a-4cc1-e285-ebde18f166d4"
   },
   "outputs": [
    {
     "name": "stdout",
     "output_type": "stream",
     "text": [
      "Downloading articles from  bbc\n",
      "1 articles downloaded from bbc , url:  https://www.bbc.co.uk/news/uk-england-hereford-worcester-53381802\n",
      "2 articles downloaded from bbc , url:  https://www.bbc.co.uk/news/world-us-canada-53382540\n",
      "Article `download()` failed with HTTPSConnectionPool(host='www.bbc.co.uk', port=443): Read timed out. (read timeout=7) on URL https://www.bbc.co.uk/news/world-africa-53382797\n",
      "continuing...\n",
      "Article `download()` failed with HTTPSConnectionPool(host='www.bbc.co.uk', port=443): Read timed out. (read timeout=7) on URL https://www.bbc.co.uk/news/uk-53381000\n",
      "continuing...\n",
      "3 articles downloaded from bbc , url:  https://www.bbc.co.uk/sport/football/53381586\n",
      "Article `download()` failed with ('Connection aborted.', OSError(0, 'Error')) on URL https://www.bbc.co.uk/news/world-europe-53385021\n",
      "continuing...\n",
      "4 articles downloaded from bbc , url:  https://www.bbc.co.uk/news/uk-53382563\n",
      "5 articles downloaded from bbc , url:  https://www.bbc.co.uk/news/business-53380719\n",
      "Downloading articles from  theguardian\n",
      "1 articles downloaded from theguardian , url:  https://www.theguardian.com/society/2020/jul/13/english-councils-poised-cuts-services-job-losses-loss-commercial-income\n",
      "2 articles downloaded from theguardian , url:  https://www.theguardian.com/uk-news/2020/jul/12/priti-patel-criticised-for-blaming-cultural-sensitivities-for-leicester-covid-19-spike\n",
      "3 articles downloaded from theguardian , url:  https://www.theguardian.com/world/2020/jul/12/polish-election-goes-to-wire-as-exit-poll-gives-andrzej-duda-tiny-lead\n",
      "4 articles downloaded from theguardian , url:  https://www.theguardian.com/uk-news/2020/jul/13/priti-patel-to-unveil-details-of-post-brexit-immigration-plans\n",
      "5 articles downloaded from theguardian , url:  https://www.theguardian.com/world/2020/jul/13/christchurch-mosque-attacker-to-represent-himself-at-sentencing\n",
      "Building site for  breitbart\n",
      "1 articles downloaded from breitbart  using newspaper, url:  http://www.breitbart.com/crime/2020/07/12/virgil-welcome-to-year-one-all-prior-history-is-cancelled/\n",
      "2 articles downloaded from breitbart  using newspaper, url:  http://www.breitbart.com/crime/2020/07/12/vandals-allegedly-target-statues-of-the-virgin-mary-in-boston-queens/\n",
      "3 articles downloaded from breitbart  using newspaper, url:  http://www.breitbart.com/politics/2020/07/12/trump-turns-down-minnesotas-request-for-16-million-in-aid-for-riot-torn-minneapolis-emmer/\n",
      "4 articles downloaded from breitbart  using newspaper, url:  http://www.breitbart.com/politics/2020/07/12/judge-approves-petition-recall-democrat-seattle-mayor-jenny-durkan/\n",
      "5 articles downloaded from breitbart  using newspaper, url:  http://www.breitbart.com/crime/2020/07/12/police-north-carolina-officers-swarmed-hostile-crowd-50-people-after-drug-bust/\n",
      "Building site for  infowars\n",
      "1  Article has date of type None...\n",
      "2 articles downloaded from infowars  using newspaper, url:  https://www.infowars.com/sunday-live-media-covers-up-brutal-death-of-white-mother-by-blm-mob/\n",
      "3 articles downloaded from infowars  using newspaper, url:  https://www.infowars.com/sunday-live-media-covers-up-brutal-death-of-white-mother-by-blm-mob/#vuukle-comments\n",
      "4 articles downloaded from infowars  using newspaper, url:  https://www.infowars.com/portland-blm-activist-uses-baby-as-human-shield-during-violent-protest/\n",
      "5 articles downloaded from infowars  using newspaper, url:  https://www.infowars.com/portland-blm-activist-uses-baby-as-human-shield-during-violent-protest/#vuukle-comments\n",
      "Building site for  foxnews\n",
      "1  Article has date of type None...\n",
      "2  Article has date of type None...\n",
      "3  Article has date of type None...\n",
      "4  Article has date of type None...\n",
      "5  Article has date of type None...\n",
      "Building site for  nbcnews\n",
      "1  Article has date of type None...\n",
      "2  Article has date of type None...\n",
      "3  Article has date of type None...\n",
      "4  Article has date of type None...\n",
      "5  Article has date of type None...\n",
      "Downloading articles from  washingtonpost\n",
      "1 articles downloaded from washingtonpost , url:  https://www.washingtonpost.com/world/2020/07/12/afghanistan-taliban-territory-peace-deal/?utm_source=rss&utm_medium=referral&utm_campaign=wp_world\n",
      "2 articles downloaded from washingtonpost , url:  https://www.washingtonpost.com/world/middle_east/misaligned-radar-responsible-for-downing-of-ukrainian-passenger-jet-iran-says/2020/07/12/13d6bb76-c438-11ea-a825-8722004e4150_story.html?utm_source=rss&utm_medium=referral&utm_campaign=wp_world\n",
      "3 articles downloaded from washingtonpost , url:  https://www.washingtonpost.com/world/2020/07/11/bolsonaro-coronavirus-video-timeline/?utm_source=rss&utm_medium=referral&utm_campaign=wp_world\n",
      "4 articles downloaded from washingtonpost , url:  https://www.washingtonpost.com/world/europe/polish-president-duda-and-challenger-trzaskowski-in-tight-race-amid-high-turnout/2020/07/12/9d15e862-c1ea-11ea-8908-68a2b9eae9e0_story.html?utm_source=rss&utm_medium=referral&utm_campaign=wp_world\n",
      "5 articles downloaded from washingtonpost , url:  https://www.washingtonpost.com/world/africa/kenya-police-protests-brutality-pandemic/2020/07/11/a324f802-c0a4-11ea-8908-68a2b9eae9e0_story.html?utm_source=rss&utm_medium=referral&utm_campaign=wp_world\n",
      "Building site for  theonion\n",
      "1  Article has date of type None...\n",
      "2  Article has date of type None...\n",
      "3  Article has date of type None...\n",
      "4  Article has date of type None...\n",
      "5  Article has date of type None...\n"
     ]
    }
   ],
   "source": [
    "import feedparser as fp\n",
    "import json\n",
    "import newspaper\n",
    "from newspaper import Article\n",
    "from time import mktime\n",
    "from datetime import datetime\n",
    "\n",
    "# Set the limit for number of articles to download\n",
    "#LIMIT = 14500\n",
    "LIMIT = 5\n",
    "\n",
    "data = {}\n",
    "data['newspapers'] = {}\n",
    "\n",
    "# Loads the JSON files with news sites\n",
    "with open('NewsPapers.json') as data_file:\n",
    "    companies = json.load(data_file)\n",
    "\n",
    "count = 1\n",
    "\n",
    "# Iterate through each news company\n",
    "for company, value in companies.items():\n",
    "    # If a RSS link is provided in the JSON file, this will be the first choice.\n",
    "    # Reason for this is that, RSS feeds often give more consistent and correct data.\n",
    "    # If you do not want to scrape from the RSS-feed, just leave the RSS attr empty in the JSON file.\n",
    "    if 'rss' in value:\n",
    "        d = fp.parse(value['rss'])\n",
    "        print(\"Downloading articles from \", company)\n",
    "        newsPaper = {\n",
    "            \"rss\": value['rss'],\n",
    "            \"link\": value['link'],\n",
    "            \"articles\": []\n",
    "        }\n",
    "        for entry in d.entries:\n",
    "            # Check if publish date is provided, if no the article is skipped.\n",
    "            # This is done to keep consistency in the data and to keep the script from crashing.\n",
    "            if hasattr(entry, 'published'):\n",
    "                if count > LIMIT:\n",
    "                    break\n",
    "                article = {}\n",
    "                article['link'] = entry.link\n",
    "                date = entry.published_parsed\n",
    "                article['published'] = datetime.fromtimestamp(mktime(date)).isoformat()\n",
    "                try:\n",
    "                    content = Article(entry.link)\n",
    "                    content.download()\n",
    "                    content.parse()\n",
    "                except Exception as e:\n",
    "                    # If the download for some reason fails (ex. 404) the script will continue downloading\n",
    "                    # the next article.\n",
    "                    print(e)\n",
    "                    print(\"continuing...\")\n",
    "                    continue\n",
    "                article['title'] = content.title\n",
    "                article['text'] = content.text\n",
    "                newsPaper['articles'].append(article)\n",
    "                print(count, \"articles downloaded from\", company, \", url: \", entry.link)\n",
    "                count = count + 1\n",
    "    else:\n",
    "        # This is the fallback method if a RSS-feed link is not provided.\n",
    "        # It uses the python newspaper library to extract articles\n",
    "        print(\"Building site for \", company)\n",
    "        paper = newspaper.build(value['link'], memoize_articles=False)\n",
    "        newsPaper = {\n",
    "            \"link\": value['link'],\n",
    "            \"articles\": []\n",
    "        }\n",
    "        noneTypeCount = 0\n",
    "        for content in paper.articles:\n",
    "            if count > LIMIT:\n",
    "                break\n",
    "            try:\n",
    "                content.download()\n",
    "                content.parse()\n",
    "            except Exception as e:\n",
    "                print(e)\n",
    "                print(\"continuing...\")\n",
    "                continue\n",
    "            # Again, for consistency, if there is no found publish date the article will be skipped.\n",
    "            # After 10 downloaded articles from the same newspaper without publish date, the company will be skipped.\n",
    "            if content.publish_date is None:\n",
    "                print(count, \" Article has date of type None...\")\n",
    "                noneTypeCount = noneTypeCount + 1\n",
    "                if noneTypeCount > 100:\n",
    "                    print(\"Too many noneType dates, aborting...\")\n",
    "                    noneTypeCount = 0\n",
    "                    break\n",
    "                count = count + 1\n",
    "                continue\n",
    "            article = {}\n",
    "            article['title'] = content.title\n",
    "            article['text'] = content.text\n",
    "            article['link'] = content.url\n",
    "            article['published'] = content.publish_date.isoformat()\n",
    "            newsPaper['articles'].append(article)\n",
    "            print(count, \"articles downloaded from\", company, \" using newspaper, url: \", content.url)\n",
    "            count = count + 1\n",
    "            noneTypeCount = 0\n",
    "    count = 1\n",
    "    data['newspapers'][company] = newsPaper\n",
    "\n",
    "# Finally it saves the articles as a JSON-file.\n",
    "try:\n",
    "    with open('scraped_articles.json', 'w') as outfile:\n",
    "        json.dump(data, outfile)\n",
    "except Exception as e: print(e)"
   ]
  },
  {
   "cell_type": "code",
   "execution_count": 14,
   "metadata": {
    "colab": {},
    "colab_type": "code",
    "executionInfo": {
     "elapsed": 869,
     "status": "ok",
     "timestamp": 1594597724109,
     "user": {
      "displayName": "alejandro martinez",
      "photoUrl": "https://lh3.googleusercontent.com/a-/AOh14Gi9YSzzf_VDnAbvxMnJJqez5U-I_wOQ5OyJRmw_=s64",
      "userId": "05542026783145230534"
     },
     "user_tz": 300
    },
    "id": "TT7O56-YOSNc"
   },
   "outputs": [],
   "source": [
    "with open('scraped_articles.json') as json_data:\n",
    "    d = json.load(json_data)"
   ]
  },
  {
   "cell_type": "code",
   "execution_count": 15,
   "metadata": {
    "colab": {
     "base_uri": "https://localhost:8080/",
     "height": 173
    },
    "colab_type": "code",
    "executionInfo": {
     "elapsed": 899,
     "status": "ok",
     "timestamp": 1594597725658,
     "user": {
      "displayName": "alejandro martinez",
      "photoUrl": "https://lh3.googleusercontent.com/a-/AOh14Gi9YSzzf_VDnAbvxMnJJqez5U-I_wOQ5OyJRmw_=s64",
      "userId": "05542026783145230534"
     },
     "user_tz": 300
    },
    "id": "9CaUXP7OOVaq",
    "outputId": "55b28472-fdbe-4c6e-c77c-9e274f94d93c"
   },
   "outputs": [
    {
     "name": "stdout",
     "output_type": "stream",
     "text": [
      "0 bbc\n",
      "1 theguardian\n",
      "2 breitbart\n",
      "3 infowars\n",
      "4 foxnews\n",
      "5 nbcnews\n",
      "6 washingtonpost\n",
      "7 theonion\n"
     ]
    }
   ],
   "source": [
    "for i, site in enumerate((list(d['newspapers']))):\n",
    "    print(i, site)"
   ]
  },
  {
   "cell_type": "markdown",
   "metadata": {
    "colab_type": "text",
    "id": "QonMsbjWPXzn"
   },
   "source": [
    "Hacemos un pandas dataFrame con los articulos descargados"
   ]
  },
  {
   "cell_type": "code",
   "execution_count": 16,
   "metadata": {
    "colab": {},
    "colab_type": "code",
    "executionInfo": {
     "elapsed": 1131,
     "status": "ok",
     "timestamp": 1594597728844,
     "user": {
      "displayName": "alejandro martinez",
      "photoUrl": "https://lh3.googleusercontent.com/a-/AOh14Gi9YSzzf_VDnAbvxMnJJqez5U-I_wOQ5OyJRmw_=s64",
      "userId": "05542026783145230534"
     },
     "user_tz": 300
    },
    "id": "w3WS0s1oOZfF"
   },
   "outputs": [],
   "source": [
    "for i, site in enumerate((list(d['newspapers']))):\n",
    "    articles = list(d['newspapers'][site]['articles'])\n",
    "    if i == 0:\n",
    "        df = pd.DataFrame.from_dict(articles)\n",
    "        df[\"site\"] = site\n",
    "    else:\n",
    "        new_df = pd.DataFrame.from_dict(articles)\n",
    "        new_df[\"site\"] = site\n",
    "        df = pd.concat([df, new_df], ignore_index = True)     "
   ]
  },
  {
   "cell_type": "markdown",
   "metadata": {
    "colab_type": "text",
    "id": "jiPRj5VJPSS0"
   },
   "source": [
    "Leemos los datos provenientes del dataset de Kaggle"
   ]
  },
  {
   "cell_type": "code",
   "execution_count": 18,
   "metadata": {
    "colab": {},
    "colab_type": "code",
    "executionInfo": {
     "elapsed": 6476,
     "status": "ok",
     "timestamp": 1594597740851,
     "user": {
      "displayName": "alejandro martinez",
      "photoUrl": "https://lh3.googleusercontent.com/a-/AOh14Gi9YSzzf_VDnAbvxMnJJqez5U-I_wOQ5OyJRmw_=s64",
      "userId": "05542026783145230534"
     },
     "user_tz": 300
    },
    "id": "jmoV3f42_cKw"
   },
   "outputs": [],
   "source": [
    "true_data=get_data('true')\n",
    "fake_data=get_data('false')"
   ]
  },
  {
   "cell_type": "markdown",
   "metadata": {},
   "source": [
    "Le asignamos la categoria correspondiente a cada uno de los dataframes y lo unimos en uno solo."
   ]
  },
  {
   "cell_type": "code",
   "execution_count": 22,
   "metadata": {
    "colab": {
     "base_uri": "https://localhost:8080/",
     "height": 225
    },
    "colab_type": "code",
    "executionInfo": {
     "elapsed": 885,
     "status": "ok",
     "timestamp": 1594597748894,
     "user": {
      "displayName": "alejandro martinez",
      "photoUrl": "https://lh3.googleusercontent.com/a-/AOh14Gi9YSzzf_VDnAbvxMnJJqez5U-I_wOQ5OyJRmw_=s64",
      "userId": "05542026783145230534"
     },
     "user_tz": 300
    },
    "id": "OM1LowcDAWeC",
    "outputId": "fedd0d85-ab44-4763-d734-edb5f9d04717"
   },
   "outputs": [
    {
     "name": "stdout",
     "output_type": "stream",
     "text": [
      "<class 'pandas.core.frame.DataFrame'>\n",
      "Int64Index: 44867 entries, 0 to 23449\n",
      "Data columns (total 5 columns):\n",
      " #   Column    Non-Null Count  Dtype \n",
      "---  ------    --------------  ----- \n",
      " 0   title     44867 non-null  object\n",
      " 1   text      44867 non-null  object\n",
      " 2   subject   44867 non-null  object\n",
      " 3   date      44867 non-null  object\n",
      " 4   category  44867 non-null  object\n",
      "dtypes: object(5)\n",
      "memory usage: 2.1+ MB\n"
     ]
    }
   ],
   "source": [
    "true_data['category']= 'True'\n",
    "fake_data['category']= 'Fake'\n",
    "\n",
    "df_news = pd.concat([true_data, fake_data])\n",
    "df_news.info()\n"
   ]
  },
  {
   "cell_type": "markdown",
   "metadata": {},
   "source": [
    "Hacemos la categorización en el dataset proveniente del scrappping."
   ]
  },
  {
   "cell_type": "code",
   "execution_count": 23,
   "metadata": {
    "colab": {},
    "colab_type": "code",
    "executionInfo": {
     "elapsed": 893,
     "status": "ok",
     "timestamp": 1594597752472,
     "user": {
      "displayName": "alejandro martinez",
      "photoUrl": "https://lh3.googleusercontent.com/a-/AOh14Gi9YSzzf_VDnAbvxMnJJqez5U-I_wOQ5OyJRmw_=s64",
      "userId": "05542026783145230534"
     },
     "user_tz": 300
    },
    "id": "90d6Z3thQA19"
   },
   "outputs": [],
   "source": [
    "data=df.drop(['link'], axis=1)\n",
    "data['site']=data['site'].replace(['bbc','cnn','theguardian', 'foxnews','nbcnews','washingtonpost'\n",
    "                                  ,'breitbart','infowars','theonion'], \n",
    "                                  ['True','True','True','True','True','True',\n",
    "                                   'Fake','Fake','Fake'])"
   ]
  },
  {
   "cell_type": "markdown",
   "metadata": {},
   "source": [
    "Eliminamos la columna subject ya que consideramos que esta no aporta información significativa para la resolución del problema"
   ]
  },
  {
   "cell_type": "code",
   "execution_count": 48,
   "metadata": {
    "colab": {
     "base_uri": "https://localhost:8080/",
     "height": 206
    },
    "colab_type": "code",
    "executionInfo": {
     "elapsed": 495,
     "status": "ok",
     "timestamp": 1594586274845,
     "user": {
      "displayName": "alejandro martinez",
      "photoUrl": "https://lh3.googleusercontent.com/a-/AOh14Gi9YSzzf_VDnAbvxMnJJqez5U-I_wOQ5OyJRmw_=s64",
      "userId": "05542026783145230534"
     },
     "user_tz": 300
    },
    "id": "I3VukGDHv10O",
    "outputId": "58a78252-74f7-479d-f72e-77209f362bb1"
   },
   "outputs": [
    {
     "data": {
      "text/html": [
       "<div>\n",
       "<style scoped>\n",
       "    .dataframe tbody tr th:only-of-type {\n",
       "        vertical-align: middle;\n",
       "    }\n",
       "\n",
       "    .dataframe tbody tr th {\n",
       "        vertical-align: top;\n",
       "    }\n",
       "\n",
       "    .dataframe thead th {\n",
       "        text-align: right;\n",
       "    }\n",
       "</style>\n",
       "<table border=\"1\" class=\"dataframe\">\n",
       "  <thead>\n",
       "    <tr style=\"text-align: right;\">\n",
       "      <th></th>\n",
       "      <th>title</th>\n",
       "      <th>text</th>\n",
       "      <th>date</th>\n",
       "      <th>category</th>\n",
       "    </tr>\n",
       "  </thead>\n",
       "  <tbody>\n",
       "    <tr>\n",
       "      <th>0</th>\n",
       "      <td>As U.S. budget fight looms, Republicans flip t...</td>\n",
       "      <td>WASHINGTON (Reuters) - The head of a conservat...</td>\n",
       "      <td>2017-12-31</td>\n",
       "      <td>True</td>\n",
       "    </tr>\n",
       "    <tr>\n",
       "      <th>1</th>\n",
       "      <td>U.S. military to accept transgender recruits o...</td>\n",
       "      <td>WASHINGTON (Reuters) - Transgender people will...</td>\n",
       "      <td>2017-12-29</td>\n",
       "      <td>True</td>\n",
       "    </tr>\n",
       "    <tr>\n",
       "      <th>2</th>\n",
       "      <td>Senior U.S. Republican senator: 'Let Mr. Muell...</td>\n",
       "      <td>WASHINGTON (Reuters) - The special counsel inv...</td>\n",
       "      <td>2017-12-31</td>\n",
       "      <td>True</td>\n",
       "    </tr>\n",
       "    <tr>\n",
       "      <th>3</th>\n",
       "      <td>FBI Russia probe helped by Australian diplomat...</td>\n",
       "      <td>WASHINGTON (Reuters) - Trump campaign adviser ...</td>\n",
       "      <td>2017-12-30</td>\n",
       "      <td>True</td>\n",
       "    </tr>\n",
       "    <tr>\n",
       "      <th>4</th>\n",
       "      <td>Trump wants Postal Service to charge 'much mor...</td>\n",
       "      <td>SEATTLE/WASHINGTON (Reuters) - President Donal...</td>\n",
       "      <td>2017-12-29</td>\n",
       "      <td>True</td>\n",
       "    </tr>\n",
       "  </tbody>\n",
       "</table>\n",
       "</div>"
      ],
      "text/plain": [
       "                                               title  ... category\n",
       "0  As U.S. budget fight looms, Republicans flip t...  ...     True\n",
       "1  U.S. military to accept transgender recruits o...  ...     True\n",
       "2  Senior U.S. Republican senator: 'Let Mr. Muell...  ...     True\n",
       "3  FBI Russia probe helped by Australian diplomat...  ...     True\n",
       "4  Trump wants Postal Service to charge 'much mor...  ...     True\n",
       "\n",
       "[5 rows x 4 columns]"
      ]
     },
     "execution_count": 48,
     "metadata": {
      "tags": []
     },
     "output_type": "execute_result"
    }
   ],
   "source": [
    "df_news=df_news.drop(['subject'], axis=1)\n",
    "df_news.head()"
   ]
  },
  {
   "cell_type": "markdown",
   "metadata": {},
   "source": [
    "Reemplazamos los nombres en las columnas del dataframe proveniente del web scrapping con el fin de poder unirlo con el dataset existente de kaggle"
   ]
  },
  {
   "cell_type": "code",
   "execution_count": 25,
   "metadata": {
    "colab": {},
    "colab_type": "code",
    "executionInfo": {
     "elapsed": 10964,
     "status": "ok",
     "timestamp": 1594597797804,
     "user": {
      "displayName": "alejandro martinez",
      "photoUrl": "https://lh3.googleusercontent.com/a-/AOh14Gi9YSzzf_VDnAbvxMnJJqez5U-I_wOQ5OyJRmw_=s64",
      "userId": "05542026783145230534"
     },
     "user_tz": 300
    },
    "id": "eiP6x-_XUXc8"
   },
   "outputs": [],
   "source": [
    "data.rename(columns={'published':'date',                           \n",
    "                    'site':'category'},\n",
    "                    inplace=True)\n",
    "df_news['date']=df_news['date'].apply(pd.to_datetime)\n",
    "data['date']=data['date'].apply(pd.to_datetime)"
   ]
  },
  {
   "cell_type": "code",
   "execution_count": 26,
   "metadata": {
    "colab": {},
    "colab_type": "code",
    "executionInfo": {
     "elapsed": 1002,
     "status": "ok",
     "timestamp": 1594597806851,
     "user": {
      "displayName": "alejandro martinez",
      "photoUrl": "https://lh3.googleusercontent.com/a-/AOh14Gi9YSzzf_VDnAbvxMnJJqez5U-I_wOQ5OyJRmw_=s64",
      "userId": "05542026783145230534"
     },
     "user_tz": 300
    },
    "id": "MyfXu3Y_eokP"
   },
   "outputs": [],
   "source": [
    "total_news_df = pd.concat([df_news, data])"
   ]
  },
  {
   "cell_type": "code",
   "execution_count": 32,
   "metadata": {},
   "outputs": [
    {
     "data": {
      "text/html": [
       "<div>\n",
       "<style scoped>\n",
       "    .dataframe tbody tr th:only-of-type {\n",
       "        vertical-align: middle;\n",
       "    }\n",
       "\n",
       "    .dataframe tbody tr th {\n",
       "        vertical-align: top;\n",
       "    }\n",
       "\n",
       "    .dataframe thead th {\n",
       "        text-align: right;\n",
       "    }\n",
       "</style>\n",
       "<table border=\"1\" class=\"dataframe\">\n",
       "  <thead>\n",
       "    <tr style=\"text-align: right;\">\n",
       "      <th></th>\n",
       "      <th>title</th>\n",
       "      <th>text</th>\n",
       "      <th>date</th>\n",
       "      <th>category</th>\n",
       "    </tr>\n",
       "  </thead>\n",
       "  <tbody>\n",
       "    <tr>\n",
       "      <th>0</th>\n",
       "      <td>As U.S. budget fight looms, Republicans flip t...</td>\n",
       "      <td>WASHINGTON (Reuters) - The head of a conservat...</td>\n",
       "      <td>2017-12-31 00:00:00</td>\n",
       "      <td>True</td>\n",
       "    </tr>\n",
       "    <tr>\n",
       "      <th>1</th>\n",
       "      <td>U.S. military to accept transgender recruits o...</td>\n",
       "      <td>WASHINGTON (Reuters) - Transgender people will...</td>\n",
       "      <td>2017-12-29 00:00:00</td>\n",
       "      <td>True</td>\n",
       "    </tr>\n",
       "    <tr>\n",
       "      <th>2</th>\n",
       "      <td>Senior U.S. Republican senator: 'Let Mr. Muell...</td>\n",
       "      <td>WASHINGTON (Reuters) - The special counsel inv...</td>\n",
       "      <td>2017-12-31 00:00:00</td>\n",
       "      <td>True</td>\n",
       "    </tr>\n",
       "    <tr>\n",
       "      <th>3</th>\n",
       "      <td>FBI Russia probe helped by Australian diplomat...</td>\n",
       "      <td>WASHINGTON (Reuters) - Trump campaign adviser ...</td>\n",
       "      <td>2017-12-30 00:00:00</td>\n",
       "      <td>True</td>\n",
       "    </tr>\n",
       "    <tr>\n",
       "      <th>4</th>\n",
       "      <td>Trump wants Postal Service to charge 'much mor...</td>\n",
       "      <td>SEATTLE/WASHINGTON (Reuters) - President Donal...</td>\n",
       "      <td>2017-12-29 00:00:00</td>\n",
       "      <td>True</td>\n",
       "    </tr>\n",
       "  </tbody>\n",
       "</table>\n",
       "</div>"
      ],
      "text/plain": [
       "                                               title  \\\n",
       "0  As U.S. budget fight looms, Republicans flip t...   \n",
       "1  U.S. military to accept transgender recruits o...   \n",
       "2  Senior U.S. Republican senator: 'Let Mr. Muell...   \n",
       "3  FBI Russia probe helped by Australian diplomat...   \n",
       "4  Trump wants Postal Service to charge 'much mor...   \n",
       "\n",
       "                                                text                 date  \\\n",
       "0  WASHINGTON (Reuters) - The head of a conservat...  2017-12-31 00:00:00   \n",
       "1  WASHINGTON (Reuters) - Transgender people will...  2017-12-29 00:00:00   \n",
       "2  WASHINGTON (Reuters) - The special counsel inv...  2017-12-31 00:00:00   \n",
       "3  WASHINGTON (Reuters) - Trump campaign adviser ...  2017-12-30 00:00:00   \n",
       "4  SEATTLE/WASHINGTON (Reuters) - President Donal...  2017-12-29 00:00:00   \n",
       "\n",
       "  category  \n",
       "0     True  \n",
       "1     True  \n",
       "2     True  \n",
       "3     True  \n",
       "4     True  "
      ]
     },
     "execution_count": 32,
     "metadata": {},
     "output_type": "execute_result"
    }
   ],
   "source": [
    "total_news_df=total_news_df.drop(['subject'], axis=1)\n",
    "total_news_df.head()"
   ]
  },
  {
   "cell_type": "markdown",
   "metadata": {},
   "source": [
    "Verificamos el numero de columnas del dataset final y que este no tenga datos nulos."
   ]
  },
  {
   "cell_type": "code",
   "execution_count": 34,
   "metadata": {
    "colab": {
     "base_uri": "https://localhost:8080/",
     "height": 208
    },
    "colab_type": "code",
    "executionInfo": {
     "elapsed": 525,
     "status": "ok",
     "timestamp": 1594586493691,
     "user": {
      "displayName": "alejandro martinez",
      "photoUrl": "https://lh3.googleusercontent.com/a-/AOh14Gi9YSzzf_VDnAbvxMnJJqez5U-I_wOQ5OyJRmw_=s64",
      "userId": "05542026783145230534"
     },
     "user_tz": 300
    },
    "id": "6jclGn3Leu6b",
    "outputId": "b42769e3-286f-43c8-b50c-4f22a63f65de"
   },
   "outputs": [
    {
     "name": "stdout",
     "output_type": "stream",
     "text": [
      "<class 'pandas.core.frame.DataFrame'>\n",
      "Int64Index: 44891 entries, 0 to 23\n",
      "Data columns (total 4 columns):\n",
      " #   Column    Non-Null Count  Dtype \n",
      "---  ------    --------------  ----- \n",
      " 0   title     44891 non-null  object\n",
      " 1   text      44891 non-null  object\n",
      " 2   date      44891 non-null  object\n",
      " 3   category  44891 non-null  object\n",
      "dtypes: object(4)\n",
      "memory usage: 3.0+ MB\n"
     ]
    }
   ],
   "source": [
    "total_news_df.info()"
   ]
  },
  {
   "cell_type": "markdown",
   "metadata": {
    "colab_type": "text",
    "id": "QBb64Uuip5DT"
   },
   "source": [
    "### 3. Preparación de datos\n",
    "\n",
    "Para poder realizar el pre-procesamiento de los datos, es recomendable pasar por tres etapas:\n",
    "* Eliminación del Ruido.\n",
    "* Tokenización.\n",
    "* Normalización."
   ]
  },
  {
   "cell_type": "code",
   "execution_count": 36,
   "metadata": {
    "colab": {},
    "colab_type": "code",
    "executionInfo": {
     "elapsed": 882,
     "status": "ok",
     "timestamp": 1594597818353,
     "user": {
      "displayName": "alejandro martinez",
      "photoUrl": "https://lh3.googleusercontent.com/a-/AOh14Gi9YSzzf_VDnAbvxMnJJqez5U-I_wOQ5OyJRmw_=s64",
      "userId": "05542026783145230534"
     },
     "user_tz": 300
    },
    "id": "z1odvwCYgcXx"
   },
   "outputs": [],
   "source": [
    "def remove_non_ascii(words):\n",
    "    \"\"\"Remove non-ASCII characters from list of tokenized words\"\"\"\n",
    "    new_words = []\n",
    "    for word in words:\n",
    "        new_word = unicodedata.normalize('NFKD', word).encode('ascii', 'ignore').decode('utf-8', 'ignore')\n",
    "        new_words.append(new_word)\n",
    "    return new_words\n",
    "\n",
    "def to_lowercase(words):\n",
    "    \"\"\"Convert all characters to lowercase from list of tokenized words\"\"\"\n",
    "    new_words = []\n",
    "    for word in words:\n",
    "        new_word = word.lower()\n",
    "        new_words.append(new_word)\n",
    "    return new_words\n",
    "\n",
    "def remove_punctuation(words):\n",
    "    \"\"\"Remove punctuation from list of tokenized words\"\"\"\n",
    "    new_words = []\n",
    "    for word in words:\n",
    "        new_word = re.sub(r'[^\\w\\s]', '', word)\n",
    "        if new_word != '':\n",
    "            new_words.append(new_word)\n",
    "    return new_words\n",
    "\n",
    "def replace_numbers(words):\n",
    "    \"\"\"Replace all interger occurrences in list of tokenized words with textual representation\"\"\"\n",
    "    p = inflect.engine()\n",
    "    new_words = []\n",
    "    for word in words:\n",
    "        if word.isdigit():\n",
    "            new_word = p.number_to_words(word)\n",
    "            new_words.append(new_word)\n",
    "        else:\n",
    "            new_words.append(word)\n",
    "    return new_words\n",
    "\n",
    "def remove_stopwords(words):\n",
    "    \"\"\"Remove stop words from list of tokenized words\"\"\"\n",
    "    new_words = []\n",
    "    for word in words:\n",
    "        if word not in stopwords.words('english'):\n",
    "            new_words.append(word)\n",
    "    return new_words\n",
    "\n",
    "def preproccesing(words):\n",
    "    words = to_lowercase(words)\n",
    "    words = replace_numbers(words)\n",
    "    words = remove_punctuation(words)\n",
    "    words = remove_non_ascii(words)\n",
    "    words = remove_stopwords(words)\n",
    "    return words"
   ]
  },
  {
   "cell_type": "markdown",
   "metadata": {},
   "source": [
    "Procedemos a ejecutar las funciones de eliminación de ruido y tokenización de palabras"
   ]
  },
  {
   "cell_type": "code",
   "execution_count": 37,
   "metadata": {
    "colab": {
     "base_uri": "https://localhost:8080/",
     "height": 695
    },
    "colab_type": "code",
    "executionInfo": {
     "elapsed": 5963,
     "status": "error",
     "timestamp": 1594597836232,
     "user": {
      "displayName": "alejandro martinez",
      "photoUrl": "https://lh3.googleusercontent.com/a-/AOh14Gi9YSzzf_VDnAbvxMnJJqez5U-I_wOQ5OyJRmw_=s64",
      "userId": "05542026783145230534"
     },
     "user_tz": 300
    },
    "id": "PB4QSE_wgp-6",
    "outputId": "5fb95b57-c76e-481c-f120-9b9b8ac964f3"
   },
   "outputs": [
    {
     "data": {
      "text/html": [
       "<div>\n",
       "<style scoped>\n",
       "    .dataframe tbody tr th:only-of-type {\n",
       "        vertical-align: middle;\n",
       "    }\n",
       "\n",
       "    .dataframe tbody tr th {\n",
       "        vertical-align: top;\n",
       "    }\n",
       "\n",
       "    .dataframe thead th {\n",
       "        text-align: right;\n",
       "    }\n",
       "</style>\n",
       "<table border=\"1\" class=\"dataframe\">\n",
       "  <thead>\n",
       "    <tr style=\"text-align: right;\">\n",
       "      <th></th>\n",
       "      <th>title</th>\n",
       "      <th>text</th>\n",
       "      <th>date</th>\n",
       "      <th>category</th>\n",
       "      <th>words</th>\n",
       "    </tr>\n",
       "  </thead>\n",
       "  <tbody>\n",
       "    <tr>\n",
       "      <th>0</th>\n",
       "      <td>As U.S. budget fight looms, Republicans flip t...</td>\n",
       "      <td>WASHINGTON (Reuters) - The head of a conservat...</td>\n",
       "      <td>2017-12-31 00:00:00</td>\n",
       "      <td>True</td>\n",
       "      <td>[washington, reuters, head, conservative, repu...</td>\n",
       "    </tr>\n",
       "    <tr>\n",
       "      <th>1</th>\n",
       "      <td>U.S. military to accept transgender recruits o...</td>\n",
       "      <td>WASHINGTON (Reuters) - Transgender people will...</td>\n",
       "      <td>2017-12-29 00:00:00</td>\n",
       "      <td>True</td>\n",
       "      <td>[washington, reuters, transgender, people, all...</td>\n",
       "    </tr>\n",
       "    <tr>\n",
       "      <th>2</th>\n",
       "      <td>Senior U.S. Republican senator: 'Let Mr. Muell...</td>\n",
       "      <td>WASHINGTON (Reuters) - The special counsel inv...</td>\n",
       "      <td>2017-12-31 00:00:00</td>\n",
       "      <td>True</td>\n",
       "      <td>[washington, reuters, special, counsel, invest...</td>\n",
       "    </tr>\n",
       "    <tr>\n",
       "      <th>3</th>\n",
       "      <td>FBI Russia probe helped by Australian diplomat...</td>\n",
       "      <td>WASHINGTON (Reuters) - Trump campaign adviser ...</td>\n",
       "      <td>2017-12-30 00:00:00</td>\n",
       "      <td>True</td>\n",
       "      <td>[washington, reuters, trump, campaign, adviser...</td>\n",
       "    </tr>\n",
       "    <tr>\n",
       "      <th>4</th>\n",
       "      <td>Trump wants Postal Service to charge 'much mor...</td>\n",
       "      <td>SEATTLE/WASHINGTON (Reuters) - President Donal...</td>\n",
       "      <td>2017-12-29 00:00:00</td>\n",
       "      <td>True</td>\n",
       "      <td>[seattlewashington, reuters, president, donald...</td>\n",
       "    </tr>\n",
       "  </tbody>\n",
       "</table>\n",
       "</div>"
      ],
      "text/plain": [
       "                                               title  \\\n",
       "0  As U.S. budget fight looms, Republicans flip t...   \n",
       "1  U.S. military to accept transgender recruits o...   \n",
       "2  Senior U.S. Republican senator: 'Let Mr. Muell...   \n",
       "3  FBI Russia probe helped by Australian diplomat...   \n",
       "4  Trump wants Postal Service to charge 'much mor...   \n",
       "\n",
       "                                                text                 date  \\\n",
       "0  WASHINGTON (Reuters) - The head of a conservat...  2017-12-31 00:00:00   \n",
       "1  WASHINGTON (Reuters) - Transgender people will...  2017-12-29 00:00:00   \n",
       "2  WASHINGTON (Reuters) - The special counsel inv...  2017-12-31 00:00:00   \n",
       "3  WASHINGTON (Reuters) - Trump campaign adviser ...  2017-12-30 00:00:00   \n",
       "4  SEATTLE/WASHINGTON (Reuters) - President Donal...  2017-12-29 00:00:00   \n",
       "\n",
       "  category                                              words  \n",
       "0     True  [washington, reuters, head, conservative, repu...  \n",
       "1     True  [washington, reuters, transgender, people, all...  \n",
       "2     True  [washington, reuters, special, counsel, invest...  \n",
       "3     True  [washington, reuters, trump, campaign, adviser...  \n",
       "4     True  [seattlewashington, reuters, president, donald...  "
      ]
     },
     "execution_count": 37,
     "metadata": {},
     "output_type": "execute_result"
    }
   ],
   "source": [
    "total_news_df['text'] = total_news_df['text'].apply(contractions.fix) #Aplica la corrección de las contracciones\n",
    "total_news_df['words'] = total_news_df['text'].apply(word_tokenize)\n",
    "total_news_df['words'] = total_news_df['words'].apply(preproccesing) #Aplica la eliminación del ruido\n",
    "total_news_df.head()"
   ]
  },
  {
   "cell_type": "markdown",
   "metadata": {
    "colab_type": "text",
    "id": "LJh1PmFJrgHw"
   },
   "source": [
    "**Separacion de datos según categoría**\n",
    "\n",
    "Separamos los datos según su categoría con el fin de hacer análisis de los datos para el entendimiento del problema"
   ]
  },
  {
   "cell_type": "code",
   "execution_count": null,
   "metadata": {
    "colab": {},
    "colab_type": "code",
    "id": "OrWOy_0SizHq"
   },
   "outputs": [],
   "source": [
    "fake=total_news_df[total_news_df['category']=='Fake']\n",
    "true=total_news_df[total_news_df['category']=='True']"
   ]
  },
  {
   "cell_type": "code",
   "execution_count": null,
   "metadata": {
    "colab": {
     "base_uri": "https://localhost:8080/",
     "height": 293,
     "referenced_widgets": [
      "d715a0a44ff34eebbab7a6990fe2623b",
      "1c7fda8bc55d4b8ea747323992b38327",
      "8d349ed0af934d359d9ceef8f7585eeb",
      "67dd0f7a804749408e60fed82a9773d5",
      "5f7b7843ac2b4109b323e64f08cdbce6",
      "dafeb4f140fd4f459fbc52b77654fb45"
     ]
    },
    "colab_type": "code",
    "executionInfo": {
     "elapsed": 548,
     "status": "ok",
     "timestamp": 1594583070238,
     "user": {
      "displayName": "alejandro martinez",
      "photoUrl": "https://lh3.googleusercontent.com/a-/AOh14Gi9YSzzf_VDnAbvxMnJJqez5U-I_wOQ5OyJRmw_=s64",
      "userId": "05542026783145230534"
     },
     "user_tz": 300
    },
    "id": "jjAIKu6VijLK",
    "outputId": "e4febcba-1db7-438b-c984-d4be05c27d0c"
   },
   "outputs": [
    {
     "data": {
      "application/vnd.jupyter.widget-view+json": {
       "model_id": "d715a0a44ff34eebbab7a6990fe2623b",
       "version_major": 2,
       "version_minor": 0
      },
      "text/plain": [
       "HBox(children=(Output(), Output()))"
      ]
     },
     "metadata": {
      "tags": []
     },
     "output_type": "display_data"
    }
   ],
   "source": [
    "import ipywidgets as widgets\n",
    "from IPython import display\n",
    "widget1 = widgets.Output()\n",
    "widget2 = widgets.Output()\n",
    "\n",
    "# render in output widgets\n",
    "with widget1:\n",
    "    display.display(fake.head(5))\n",
    "with widget2:\n",
    "    display.display(true.head(5))\n",
    "\n",
    "# create HBox\n",
    "hbox = widgets.HBox([widget1, widget2])\n",
    "\n",
    "# render hbox\n",
    "hbox"
   ]
  },
  {
   "cell_type": "markdown",
   "metadata": {
    "colab_type": "text",
    "id": "kMWC9lRCrT6F"
   },
   "source": [
    "Una vez hacemos la limpieza de los datos, la eliminación de ruido y la tokenización de los datos procedemos a hacer el analisis de el numero de palabras en los titulos y textos de cada categoría.\n",
    "\n",
    "**Entendimiento de textos de las noticias**"
   ]
  },
  {
   "cell_type": "code",
   "execution_count": 189,
   "metadata": {
    "colab": {
     "base_uri": "https://localhost:8080/",
     "height": 86
    },
    "colab_type": "code",
    "executionInfo": {
     "elapsed": 1831,
     "status": "ok",
     "timestamp": 1594584948290,
     "user": {
      "displayName": "alejandro martinez",
      "photoUrl": "https://lh3.googleusercontent.com/a-/AOh14Gi9YSzzf_VDnAbvxMnJJqez5U-I_wOQ5OyJRmw_=s64",
      "userId": "05542026783145230534"
     },
     "user_tz": 300
    },
    "id": "Y7rdNz_6n4ei",
    "outputId": "ffb48e42-6072-46ea-f8b8-e58c36e3f718"
   },
   "outputs": [
    {
     "name": "stdout",
     "output_type": "stream",
     "text": [
      "The average number of words in a real news article is  385.9079413960433\n",
      "The average number of words in a fake news article is  417.8937675846193\n",
      "The standard deviation in real news article lengths is  274.26116659601513\n",
      "The standard deviation in fake news article lengths is  364.19202053868975\n"
     ]
    }
   ],
   "source": [
    "import statistics\n",
    "words_per_article_plot_t = true[\"text\"].apply(lambda x: len(x.split()))\n",
    "stdev_t = statistics.stdev(words_per_article_plot_t)\n",
    "words_per_article_t = words_per_article_plot_t.sum()/len(true[\"text\"])\n",
    "\n",
    "words_per_article_plot_f = fake[\"text\"].apply(lambda x: len(x.split()))\n",
    "stdev_f = statistics.stdev(words_per_article_plot_f)\n",
    "words_per_article_f = words_per_article_plot_f.sum()/len(fake[\"text\"])\n",
    "\n",
    "print (\"The average number of words in a real news article is \", words_per_article_t)\n",
    "print (\"The average number of words in a fake news article is \", words_per_article_f)\n",
    "\n",
    "print (\"The standard deviation in real news article lengths is \", stdev_t)\n",
    "print (\"The standard deviation in fake news article lengths is \", stdev_f)"
   ]
  },
  {
   "cell_type": "code",
   "execution_count": 190,
   "metadata": {
    "colab": {
     "base_uri": "https://localhost:8080/",
     "height": 421
    },
    "colab_type": "code",
    "executionInfo": {
     "elapsed": 1905,
     "status": "ok",
     "timestamp": 1594584952104,
     "user": {
      "displayName": "alejandro martinez",
      "photoUrl": "https://lh3.googleusercontent.com/a-/AOh14Gi9YSzzf_VDnAbvxMnJJqez5U-I_wOQ5OyJRmw_=s64",
      "userId": "05542026783145230534"
     },
     "user_tz": 300
    },
    "id": "jZPGCQFqoIum",
    "outputId": "e9442d9a-d6c9-4fe9-ec23-7a18b2765e46"
   },
   "outputs": [
    {
     "data": {
      "text/plain": [
       "Text(0.5, 1.0, 'Numero de palabras en articulos de noticias falsas')"
      ]
     },
     "execution_count": 190,
     "metadata": {
      "tags": []
     },
     "output_type": "execute_result"
    },
    {
     "data": {
      "image/png": "[encoded data removed]",
      "text/plain": [
       "<Figure size 1080x432 with 2 Axes>"
      ]
     },
     "metadata": {
      "needs_background": "light",
      "tags": []
     },
     "output_type": "display_data"
    }
   ],
   "source": [
    "import seaborn as sns\n",
    "%matplotlib inline\n",
    "fig, ax = plt.subplots(1, 2, figsize=(15, 6))\n",
    "sns.distplot(words_per_article_plot_t, ax = ax[0], color = \"darkblue\", rug = True).set_title(\"Numero de palabras en articulos de noticias reales\")\n",
    "sns.distplot(words_per_article_plot_f, ax = ax[1], color = \"red\", rug = True).set_title(\"Numero de palabras en articulos de noticias falsas\")"
   ]
  },
  {
   "cell_type": "markdown",
   "metadata": {},
   "source": [
    "En este primer analisis quisimos observar si el número de palabras del articulo tiene alguna relación con la categoría de la noticia, efectivamente encontramos que las fake news tienden <br/>  a ser mas largas que las noticias reales"
   ]
  },
  {
   "cell_type": "markdown",
   "metadata": {
    "colab_type": "text",
    "id": "0JoyY9pAqQoI"
   },
   "source": [
    "**Entendimiento de titulos de las noticias**"
   ]
  },
  {
   "cell_type": "code",
   "execution_count": 188,
   "metadata": {
    "colab": {
     "base_uri": "https://localhost:8080/",
     "height": 86
    },
    "colab_type": "code",
    "executionInfo": {
     "elapsed": 536,
     "status": "ok",
     "timestamp": 1594584938348,
     "user": {
      "displayName": "alejandro martinez",
      "photoUrl": "https://lh3.googleusercontent.com/a-/AOh14Gi9YSzzf_VDnAbvxMnJJqez5U-I_wOQ5OyJRmw_=s64",
      "userId": "05542026783145230534"
     },
     "user_tz": 300
    },
    "id": "WMEsACKhqSYW",
    "outputId": "6e69efa0-67ff-4b1d-c04f-2a72c4e449e2"
   },
   "outputs": [
    {
     "name": "stdout",
     "output_type": "stream",
     "text": [
      "The average number of words in a real news article is  9.954973870847331\n",
      "The average number of words in a fake news article is  14.739150822747037\n",
      "The standard deviation in real news article lengths is  1.7020293791617223\n",
      "The standard deviation in fake news article lengths is  4.3270646228334115\n"
     ]
    }
   ],
   "source": [
    "words_per_headline_plot_t = true[\"title\"].apply(lambda x: len(x.split()))\n",
    "stdev_t_head = statistics.stdev(words_per_headline_plot_t)\n",
    "words_per_headline_t = words_per_headline_plot_t.sum()/len(true[\"title\"])\n",
    "\n",
    "words_per_headline_plot_f = fake[\"title\"].apply(lambda x: len(x.split()))\n",
    "stdev_f_head = statistics.stdev(words_per_headline_plot_f)\n",
    "words_per_headline_f = words_per_headline_plot_f.sum()/len(fake[\"title\"])\n",
    "\n",
    "print (\"The average number of words in a real news article is \", words_per_headline_t)\n",
    "print (\"The average number of words in a fake news article is \", words_per_headline_f)\n",
    "\n",
    "print (\"The standard deviation in real news article lengths is \", stdev_t_head)\n",
    "print (\"The standard deviation in fake news article lengths is \", stdev_f_head)"
   ]
  },
  {
   "cell_type": "code",
   "execution_count": 186,
   "metadata": {
    "colab": {
     "base_uri": "https://localhost:8080/",
     "height": 421
    },
    "colab_type": "code",
    "executionInfo": {
     "elapsed": 1733,
     "status": "ok",
     "timestamp": 1594584821431,
     "user": {
      "displayName": "alejandro martinez",
      "photoUrl": "https://lh3.googleusercontent.com/a-/AOh14Gi9YSzzf_VDnAbvxMnJJqez5U-I_wOQ5OyJRmw_=s64",
      "userId": "05542026783145230534"
     },
     "user_tz": 300
    },
    "id": "so5MFLm5qV4C",
    "outputId": "1c3616e7-ff2d-4499-edbd-4082342f1c82"
   },
   "outputs": [
    {
     "data": {
      "text/plain": [
       "Text(0.5, 1.0, 'Number of Words in Fake News Headline')"
      ]
     },
     "execution_count": 186,
     "metadata": {
      "tags": []
     },
     "output_type": "execute_result"
    },
    {
     "data": {
      "image/png": "[encoded data removed]",
      "text/plain": [
       "<Figure size 720x432 with 2 Axes>"
      ]
     },
     "metadata": {
      "needs_background": "light",
      "tags": []
     },
     "output_type": "display_data"
    }
   ],
   "source": [
    "%matplotlib inline\n",
    "fig, ax = plt.subplots(1, 2, figsize=(10, 6))\n",
    "sns.distplot(words_per_headline_plot_t, ax = ax[0], color = \"darkblue\", rug = True).set_title(\"Number of Words in Real News Headline\")\n",
    "sns.distplot(words_per_headline_plot_f, ax = ax[1], color = \"red\", rug = True).set_title(\"Number of Words in Fake News Headline\")"
   ]
  },
  {
   "cell_type": "markdown",
   "metadata": {},
   "source": [
    "En este analisis quisimos observar si el número de palabras del título tiene alguna relación con la categoría de la noticia, efectivamente encontramos que los títulos de las  <br/> fake news tienden a ser mas largos que los de las noticias reales"
   ]
  },
  {
   "cell_type": "markdown",
   "metadata": {},
   "source": [
    "#### **Normalización**\n",
    "Para la normalización de los datos se realiza una eliminación de prefijos y sufijos, además de realizar una lemmatización de los verbos."
   ]
  },
  {
   "cell_type": "code",
   "execution_count": 41,
   "metadata": {},
   "outputs": [
    {
     "data": {
      "text/html": [
       "<div>\n",
       "<style scoped>\n",
       "    .dataframe tbody tr th:only-of-type {\n",
       "        vertical-align: middle;\n",
       "    }\n",
       "\n",
       "    .dataframe tbody tr th {\n",
       "        vertical-align: top;\n",
       "    }\n",
       "\n",
       "    .dataframe thead th {\n",
       "        text-align: right;\n",
       "    }\n",
       "</style>\n",
       "<table border=\"1\" class=\"dataframe\">\n",
       "  <thead>\n",
       "    <tr style=\"text-align: right;\">\n",
       "      <th></th>\n",
       "      <th>title</th>\n",
       "      <th>text</th>\n",
       "      <th>date</th>\n",
       "      <th>category</th>\n",
       "      <th>words</th>\n",
       "    </tr>\n",
       "  </thead>\n",
       "  <tbody>\n",
       "    <tr>\n",
       "      <th>0</th>\n",
       "      <td>As U.S. budget fight looms, Republicans flip t...</td>\n",
       "      <td>WASHINGTON (Reuters) - The head of a conservat...</td>\n",
       "      <td>2017-12-31 00:00:00</td>\n",
       "      <td>True</td>\n",
       "      <td>[washington, reut, head, conserv, republ, fact...</td>\n",
       "    </tr>\n",
       "    <tr>\n",
       "      <th>1</th>\n",
       "      <td>U.S. military to accept transgender recruits o...</td>\n",
       "      <td>WASHINGTON (Reuters) - Transgender people will...</td>\n",
       "      <td>2017-12-29 00:00:00</td>\n",
       "      <td>True</td>\n",
       "      <td>[washington, reut, transgend, peopl, allow, fi...</td>\n",
       "    </tr>\n",
       "    <tr>\n",
       "      <th>2</th>\n",
       "      <td>Senior U.S. Republican senator: 'Let Mr. Muell...</td>\n",
       "      <td>WASHINGTON (Reuters) - The special counsel inv...</td>\n",
       "      <td>2017-12-31 00:00:00</td>\n",
       "      <td>True</td>\n",
       "      <td>[washington, reut, spec, counsel, investig, li...</td>\n",
       "    </tr>\n",
       "    <tr>\n",
       "      <th>3</th>\n",
       "      <td>FBI Russia probe helped by Australian diplomat...</td>\n",
       "      <td>WASHINGTON (Reuters) - Trump campaign adviser ...</td>\n",
       "      <td>2017-12-30 00:00:00</td>\n",
       "      <td>True</td>\n",
       "      <td>[washington, reut, trump, campaign, adv, georg...</td>\n",
       "    </tr>\n",
       "    <tr>\n",
       "      <th>4</th>\n",
       "      <td>Trump wants Postal Service to charge 'much mor...</td>\n",
       "      <td>SEATTLE/WASHINGTON (Reuters) - President Donal...</td>\n",
       "      <td>2017-12-29 00:00:00</td>\n",
       "      <td>True</td>\n",
       "      <td>[seattlewashington, reut, presid, donald, trum...</td>\n",
       "    </tr>\n",
       "  </tbody>\n",
       "</table>\n",
       "</div>"
      ],
      "text/plain": [
       "                                               title  \\\n",
       "0  As U.S. budget fight looms, Republicans flip t...   \n",
       "1  U.S. military to accept transgender recruits o...   \n",
       "2  Senior U.S. Republican senator: 'Let Mr. Muell...   \n",
       "3  FBI Russia probe helped by Australian diplomat...   \n",
       "4  Trump wants Postal Service to charge 'much mor...   \n",
       "\n",
       "                                                text                 date  \\\n",
       "0  WASHINGTON (Reuters) - The head of a conservat...  2017-12-31 00:00:00   \n",
       "1  WASHINGTON (Reuters) - Transgender people will...  2017-12-29 00:00:00   \n",
       "2  WASHINGTON (Reuters) - The special counsel inv...  2017-12-31 00:00:00   \n",
       "3  WASHINGTON (Reuters) - Trump campaign adviser ...  2017-12-30 00:00:00   \n",
       "4  SEATTLE/WASHINGTON (Reuters) - President Donal...  2017-12-29 00:00:00   \n",
       "\n",
       "  category                                              words  \n",
       "0     True  [washington, reut, head, conserv, republ, fact...  \n",
       "1     True  [washington, reut, transgend, peopl, allow, fi...  \n",
       "2     True  [washington, reut, spec, counsel, investig, li...  \n",
       "3     True  [washington, reut, trump, campaign, adv, georg...  \n",
       "4     True  [seattlewashington, reut, presid, donald, trum...  "
      ]
     },
     "execution_count": 41,
     "metadata": {},
     "output_type": "execute_result"
    }
   ],
   "source": [
    "def stem_words(words):\n",
    "    \"\"\"Stem words in list of tokenized words\"\"\"\n",
    "    stemmer = LancasterStemmer()\n",
    "    stems = []\n",
    "    for word in words:\n",
    "        stem = stemmer.stem(word)\n",
    "        stems.append(stem)\n",
    "    return stems\n",
    "\n",
    "def lemmatize_verbs(words):\n",
    "    \"\"\"Lemmatize verbs in list of tokenized words\"\"\"\n",
    "    lemmatizer = WordNetLemmatizer()\n",
    "    lemmas = []\n",
    "    for word in words:\n",
    "        lemma = lemmatizer.lemmatize(word, pos='v')\n",
    "        lemmas.append(lemma)\n",
    "    return lemmas\n",
    "\n",
    "def stem_and_lemmatize(words):\n",
    "    stems = stem_words(words)\n",
    "    lemmas = lemmatize_verbs(words)\n",
    "    return stems + lemmas\n",
    "\n",
    "total_news_df['words'] = total_news_df['words'].apply(stem_and_lemmatize) #Aplica lematización y Eliminación de Prefijos y Sufijos.\n",
    "total_news_df.head()"
   ]
  },
  {
   "cell_type": "markdown",
   "metadata": {},
   "source": [
    "Por ultimo convertimos la columna que contiene el arreglo de palabras, de una lista a una cadena de caracteres para la posterior manipulación de los mismos al hacer la preparación de los datos para el modelo."
   ]
  },
  {
   "cell_type": "code",
   "execution_count": 42,
   "metadata": {},
   "outputs": [
    {
     "data": {
      "text/html": [
       "<div>\n",
       "<style scoped>\n",
       "    .dataframe tbody tr th:only-of-type {\n",
       "        vertical-align: middle;\n",
       "    }\n",
       "\n",
       "    .dataframe tbody tr th {\n",
       "        vertical-align: top;\n",
       "    }\n",
       "\n",
       "    .dataframe thead th {\n",
       "        text-align: right;\n",
       "    }\n",
       "</style>\n",
       "<table border=\"1\" class=\"dataframe\">\n",
       "  <thead>\n",
       "    <tr style=\"text-align: right;\">\n",
       "      <th></th>\n",
       "      <th>title</th>\n",
       "      <th>text</th>\n",
       "      <th>date</th>\n",
       "      <th>category</th>\n",
       "      <th>words</th>\n",
       "    </tr>\n",
       "  </thead>\n",
       "  <tbody>\n",
       "    <tr>\n",
       "      <th>0</th>\n",
       "      <td>As U.S. budget fight looms, Republicans flip t...</td>\n",
       "      <td>WASHINGTON (Reuters) - The head of a conservat...</td>\n",
       "      <td>2017-12-31 00:00:00</td>\n",
       "      <td>True</td>\n",
       "      <td>washington reut head conserv republ fact yo co...</td>\n",
       "    </tr>\n",
       "    <tr>\n",
       "      <th>1</th>\n",
       "      <td>U.S. military to accept transgender recruits o...</td>\n",
       "      <td>WASHINGTON (Reuters) - Transgender people will...</td>\n",
       "      <td>2017-12-29 00:00:00</td>\n",
       "      <td>True</td>\n",
       "      <td>washington reut transgend peopl allow first ti...</td>\n",
       "    </tr>\n",
       "    <tr>\n",
       "      <th>2</th>\n",
       "      <td>Senior U.S. Republican senator: 'Let Mr. Muell...</td>\n",
       "      <td>WASHINGTON (Reuters) - The special counsel inv...</td>\n",
       "      <td>2017-12-31 00:00:00</td>\n",
       "      <td>True</td>\n",
       "      <td>washington reut spec counsel investig link rus...</td>\n",
       "    </tr>\n",
       "    <tr>\n",
       "      <th>3</th>\n",
       "      <td>FBI Russia probe helped by Australian diplomat...</td>\n",
       "      <td>WASHINGTON (Reuters) - Trump campaign adviser ...</td>\n",
       "      <td>2017-12-30 00:00:00</td>\n",
       "      <td>True</td>\n",
       "      <td>washington reut trump campaign adv georg papad...</td>\n",
       "    </tr>\n",
       "    <tr>\n",
       "      <th>4</th>\n",
       "      <td>Trump wants Postal Service to charge 'much mor...</td>\n",
       "      <td>SEATTLE/WASHINGTON (Reuters) - President Donal...</td>\n",
       "      <td>2017-12-29 00:00:00</td>\n",
       "      <td>True</td>\n",
       "      <td>seattlewashington reut presid donald trump cal...</td>\n",
       "    </tr>\n",
       "    <tr>\n",
       "      <th>...</th>\n",
       "      <td>...</td>\n",
       "      <td>...</td>\n",
       "      <td>...</td>\n",
       "      <td>...</td>\n",
       "      <td>...</td>\n",
       "    </tr>\n",
       "    <tr>\n",
       "      <th>19</th>\n",
       "      <td>Within the Taliban, clashing views of Afghanis...</td>\n",
       "      <td>MARAWARA, Afghanistan — In talks in Doha and i...</td>\n",
       "      <td>2020-07-12 07:30:20</td>\n",
       "      <td>True</td>\n",
       "      <td>marawar afgh talk doh kab talib lead struck co...</td>\n",
       "    </tr>\n",
       "    <tr>\n",
       "      <th>20</th>\n",
       "      <td>Misaligned radar responsible for downing of Uk...</td>\n",
       "      <td>Most of the dead were Iranian; 85 had citizens...</td>\n",
       "      <td>2020-07-12 06:49:00</td>\n",
       "      <td>True</td>\n",
       "      <td>dead ir eightyf cit perm resid canad many stud...</td>\n",
       "    </tr>\n",
       "    <tr>\n",
       "      <th>21</th>\n",
       "      <td>Bolsonaro coronavirus: Brazil’s president defi...</td>\n",
       "      <td>RIO DE JANEIRO — For months, even as the coron...</td>\n",
       "      <td>2020-07-11 16:12:59</td>\n",
       "      <td>True</td>\n",
       "      <td>rio de janeiro month ev coronavir pandem grew ...</td>\n",
       "    </tr>\n",
       "    <tr>\n",
       "      <th>22</th>\n",
       "      <td>Polish President Duda and challenger Trzaskows...</td>\n",
       "      <td>But a victory by the centrist opposition would...</td>\n",
       "      <td>2020-07-12 09:25:00</td>\n",
       "      <td>True</td>\n",
       "      <td>vict cent opposit would mark stun chang pol po...</td>\n",
       "    </tr>\n",
       "    <tr>\n",
       "      <th>23</th>\n",
       "      <td>‘On our own’: Kenyan activists feel alone in t...</td>\n",
       "      <td>However, turnout was a far cry from the crowds...</td>\n",
       "      <td>2020-07-12 11:00:00</td>\n",
       "      <td>True</td>\n",
       "      <td>howev turnout far cry crowd july sev one thous...</td>\n",
       "    </tr>\n",
       "  </tbody>\n",
       "</table>\n",
       "<p>44891 rows × 5 columns</p>\n",
       "</div>"
      ],
      "text/plain": [
       "                                                title  \\\n",
       "0   As U.S. budget fight looms, Republicans flip t...   \n",
       "1   U.S. military to accept transgender recruits o...   \n",
       "2   Senior U.S. Republican senator: 'Let Mr. Muell...   \n",
       "3   FBI Russia probe helped by Australian diplomat...   \n",
       "4   Trump wants Postal Service to charge 'much mor...   \n",
       "..                                                ...   \n",
       "19  Within the Taliban, clashing views of Afghanis...   \n",
       "20  Misaligned radar responsible for downing of Uk...   \n",
       "21  Bolsonaro coronavirus: Brazil’s president defi...   \n",
       "22  Polish President Duda and challenger Trzaskows...   \n",
       "23  ‘On our own’: Kenyan activists feel alone in t...   \n",
       "\n",
       "                                                 text                 date  \\\n",
       "0   WASHINGTON (Reuters) - The head of a conservat...  2017-12-31 00:00:00   \n",
       "1   WASHINGTON (Reuters) - Transgender people will...  2017-12-29 00:00:00   \n",
       "2   WASHINGTON (Reuters) - The special counsel inv...  2017-12-31 00:00:00   \n",
       "3   WASHINGTON (Reuters) - Trump campaign adviser ...  2017-12-30 00:00:00   \n",
       "4   SEATTLE/WASHINGTON (Reuters) - President Donal...  2017-12-29 00:00:00   \n",
       "..                                                ...                  ...   \n",
       "19  MARAWARA, Afghanistan — In talks in Doha and i...  2020-07-12 07:30:20   \n",
       "20  Most of the dead were Iranian; 85 had citizens...  2020-07-12 06:49:00   \n",
       "21  RIO DE JANEIRO — For months, even as the coron...  2020-07-11 16:12:59   \n",
       "22  But a victory by the centrist opposition would...  2020-07-12 09:25:00   \n",
       "23  However, turnout was a far cry from the crowds...  2020-07-12 11:00:00   \n",
       "\n",
       "   category                                              words  \n",
       "0      True  washington reut head conserv republ fact yo co...  \n",
       "1      True  washington reut transgend peopl allow first ti...  \n",
       "2      True  washington reut spec counsel investig link rus...  \n",
       "3      True  washington reut trump campaign adv georg papad...  \n",
       "4      True  seattlewashington reut presid donald trump cal...  \n",
       "..      ...                                                ...  \n",
       "19     True  marawar afgh talk doh kab talib lead struck co...  \n",
       "20     True  dead ir eightyf cit perm resid canad many stud...  \n",
       "21     True  rio de janeiro month ev coronavir pandem grew ...  \n",
       "22     True  vict cent opposit would mark stun chang pol po...  \n",
       "23     True  howev turnout far cry crowd july sev one thous...  \n",
       "\n",
       "[44891 rows x 5 columns]"
      ]
     },
     "execution_count": 42,
     "metadata": {},
     "output_type": "execute_result"
    }
   ],
   "source": [
    "total_news_df['words'] = total_news_df['words'].apply(lambda x: ' '.join(map(str, x)))\n",
    "total_news_df"
   ]
  }
 ],
 "metadata": {
  "accelerator": "GPU",
  "colab": {
   "collapsed_sections": [],
   "name": "Proyecto MLT - Grupo 5.ipynb",
   "provenance": [
    {
     "file_id": "https://github.com/alejitro/proyecto_MLT_Grupo05/blob/master/Proyecto_MLT_Grupo_5.ipynb",
     "timestamp": 1594572712112
    }
   ],
   "toc_visible": true
  },
  "kernelspec": {
   "display_name": "Python 3",
   "language": "python",
   "name": "python3"
  },
  "language_info": {
   "codemirror_mode": {
    "name": "ipython",
    "version": 3
   },
   "file_extension": ".py",
   "mimetype": "text/x-python",
   "name": "python",
   "nbconvert_exporter": "python",
   "pygments_lexer": "ipython3",
   "version": "3.7.6"
  },
  "widgets": {
   "application/vnd.jupyter.widget-state+json": {
    "1c7fda8bc55d4b8ea747323992b38327": {
     "model_module": "@jupyter-widgets/base",
     "model_name": "LayoutModel",
     "state": {
      "_model_module": "@jupyter-widgets/base",
      "_model_module_version": "1.2.0",
      "_model_name": "LayoutModel",
      "_view_count": null,
      "_view_module": "@jupyter-widgets/base",
      "_view_module_version": "1.2.0",
      "_view_name": "LayoutView",
      "align_content": null,
      "align_items": null,
      "align_self": null,
      "border": null,
      "bottom": null,
      "display": null,
      "flex": null,
      "flex_flow": null,
      "grid_area": null,
      "grid_auto_columns": null,
      "grid_auto_flow": null,
      "grid_auto_rows": null,
      "grid_column": null,
      "grid_gap": null,
      "grid_row": null,
      "grid_template_areas": null,
      "grid_template_columns": null,
      "grid_template_rows": null,
      "height": null,
      "justify_content": null,
      "justify_items": null,
      "left": null,
      "margin": null,
      "max_height": null,
      "max_width": null,
      "min_height": null,
      "min_width": null,
      "object_fit": null,
      "object_position": null,
      "order": null,
      "overflow": null,
      "overflow_x": null,
      "overflow_y": null,
      "padding": null,
      "right": null,
      "top": null,
      "visibility": null,
      "width": null
     }
    },
    "5f7b7843ac2b4109b323e64f08cdbce6": {
     "model_module": "@jupyter-widgets/base",
     "model_name": "LayoutModel",
     "state": {
      "_model_module": "@jupyter-widgets/base",
      "_model_module_version": "1.2.0",
      "_model_name": "LayoutModel",
      "_view_count": null,
      "_view_module": "@jupyter-widgets/base",
      "_view_module_version": "1.2.0",
      "_view_name": "LayoutView",
      "align_content": null,
      "align_items": null,
      "align_self": null,
      "border": null,
      "bottom": null,
      "display": null,
      "flex": null,
      "flex_flow": null,
      "grid_area": null,
      "grid_auto_columns": null,
      "grid_auto_flow": null,
      "grid_auto_rows": null,
      "grid_column": null,
      "grid_gap": null,
      "grid_row": null,
      "grid_template_areas": null,
      "grid_template_columns": null,
      "grid_template_rows": null,
      "height": null,
      "justify_content": null,
      "justify_items": null,
      "left": null,
      "margin": null,
      "max_height": null,
      "max_width": null,
      "min_height": null,
      "min_width": null,
      "object_fit": null,
      "object_position": null,
      "order": null,
      "overflow": null,
      "overflow_x": null,
      "overflow_y": null,
      "padding": null,
      "right": null,
      "top": null,
      "visibility": null,
      "width": null
     }
    },
    "67dd0f7a804749408e60fed82a9773d5": {
     "model_module": "@jupyter-widgets/output",
     "model_name": "OutputModel",
     "state": {
      "_dom_classes": [],
      "_model_module": "@jupyter-widgets/output",
      "_model_module_version": "1.0.0",
      "_model_name": "OutputModel",
      "_view_count": null,
      "_view_module": "@jupyter-widgets/output",
      "_view_module_version": "1.0.0",
      "_view_name": "OutputView",
      "layout": "IPY_MODEL_dafeb4f140fd4f459fbc52b77654fb45",
      "msg_id": "",
      "outputs": [
       {
        "metadata": {
         "tags": []
        },
        "output_type": "display_data",
        "text/html": "<div>\n<style scoped>\n    .dataframe tbody tr th:only-of-type {\n        vertical-align: middle;\n    }\n\n    .dataframe tbody tr th {\n        vertical-align: top;\n    }\n\n    .dataframe thead th {\n        text-align: right;\n    }\n</style>\n<table border=\"1\" class=\"dataframe\">\n  <thead>\n    <tr style=\"text-align: right;\">\n      <th></th>\n      <th>title</th>\n      <th>text</th>\n      <th>date</th>\n      <th>category</th>\n    </tr>\n  </thead>\n  <tbody>\n    <tr>\n      <th>0</th>\n      <td>As U.S. budget fight looms, Republicans flip t...</td>\n      <td>WASHINGTON (Reuters) - The head of a conservat...</td>\n      <td>2017-12-31 00:00:00</td>\n      <td>True</td>\n    </tr>\n    <tr>\n      <th>1</th>\n      <td>U.S. military to accept transgender recruits o...</td>\n      <td>WASHINGTON (Reuters) - Transgender people will...</td>\n      <td>2017-12-29 00:00:00</td>\n      <td>True</td>\n    </tr>\n    <tr>\n      <th>2</th>\n      <td>Senior U.S. Republican senator: 'Let Mr. Muell...</td>\n      <td>WASHINGTON (Reuters) - The special counsel inv...</td>\n      <td>2017-12-31 00:00:00</td>\n      <td>True</td>\n    </tr>\n    <tr>\n      <th>3</th>\n      <td>FBI Russia probe helped by Australian diplomat...</td>\n      <td>WASHINGTON (Reuters) - Trump campaign adviser ...</td>\n      <td>2017-12-30 00:00:00</td>\n      <td>True</td>\n    </tr>\n    <tr>\n      <th>4</th>\n      <td>Trump wants Postal Service to charge 'much mor...</td>\n      <td>SEATTLE/WASHINGTON (Reuters) - President Donal...</td>\n      <td>2017-12-29 00:00:00</td>\n      <td>True</td>\n    </tr>\n  </tbody>\n</table>\n</div>",
        "text/plain": "                                               title  ... category\n0  As U.S. budget fight looms, Republicans flip t...  ...     True\n1  U.S. military to accept transgender recruits o...  ...     True\n2  Senior U.S. Republican senator: 'Let Mr. Muell...  ...     True\n3  FBI Russia probe helped by Australian diplomat...  ...     True\n4  Trump wants Postal Service to charge 'much mor...  ...     True\n\n[5 rows x 4 columns]"
       }
      ]
     }
    },
    "8d349ed0af934d359d9ceef8f7585eeb": {
     "model_module": "@jupyter-widgets/output",
     "model_name": "OutputModel",
     "state": {
      "_dom_classes": [],
      "_model_module": "@jupyter-widgets/output",
      "_model_module_version": "1.0.0",
      "_model_name": "OutputModel",
      "_view_count": null,
      "_view_module": "@jupyter-widgets/output",
      "_view_module_version": "1.0.0",
      "_view_name": "OutputView",
      "layout": "IPY_MODEL_5f7b7843ac2b4109b323e64f08cdbce6",
      "msg_id": "",
      "outputs": [
       {
        "metadata": {
         "tags": []
        },
        "output_type": "display_data",
        "text/html": "<div>\n<style scoped>\n    .dataframe tbody tr th:only-of-type {\n        vertical-align: middle;\n    }\n\n    .dataframe tbody tr th {\n        vertical-align: top;\n    }\n\n    .dataframe thead th {\n        text-align: right;\n    }\n</style>\n<table border=\"1\" class=\"dataframe\">\n  <thead>\n    <tr style=\"text-align: right;\">\n      <th></th>\n      <th>title</th>\n      <th>text</th>\n      <th>date</th>\n      <th>category</th>\n    </tr>\n  </thead>\n  <tbody>\n    <tr>\n      <th>0</th>\n      <td>Donald Trump Sends Out Embarrassing New Year’...</td>\n      <td>Donald Trump just couldn t wish all Americans ...</td>\n      <td>2017-12-31 00:00:00</td>\n      <td>Fake</td>\n    </tr>\n    <tr>\n      <th>1</th>\n      <td>Drunk Bragging Trump Staffer Started Russian ...</td>\n      <td>House Intelligence Committee Chairman Devin Nu...</td>\n      <td>2017-12-31 00:00:00</td>\n      <td>Fake</td>\n    </tr>\n    <tr>\n      <th>2</th>\n      <td>Sheriff David Clarke Becomes An Internet Joke...</td>\n      <td>On Friday, it was revealed that former Milwauk...</td>\n      <td>2017-12-30 00:00:00</td>\n      <td>Fake</td>\n    </tr>\n    <tr>\n      <th>3</th>\n      <td>Trump Is So Obsessed He Even Has Obama’s Name...</td>\n      <td>On Christmas day, Donald Trump announced that ...</td>\n      <td>2017-12-29 00:00:00</td>\n      <td>Fake</td>\n    </tr>\n    <tr>\n      <th>4</th>\n      <td>Pope Francis Just Called Out Donald Trump Dur...</td>\n      <td>Pope Francis used his annual Christmas Day mes...</td>\n      <td>2017-12-25 00:00:00</td>\n      <td>Fake</td>\n    </tr>\n  </tbody>\n</table>\n</div>",
        "text/plain": "                                               title  ... category\n0   Donald Trump Sends Out Embarrassing New Year’...  ...     Fake\n1   Drunk Bragging Trump Staffer Started Russian ...  ...     Fake\n2   Sheriff David Clarke Becomes An Internet Joke...  ...     Fake\n3   Trump Is So Obsessed He Even Has Obama’s Name...  ...     Fake\n4   Pope Francis Just Called Out Donald Trump Dur...  ...     Fake\n\n[5 rows x 4 columns]"
       }
      ]
     }
    },
    "d715a0a44ff34eebbab7a6990fe2623b": {
     "model_module": "@jupyter-widgets/controls",
     "model_name": "HBoxModel",
     "state": {
      "_dom_classes": [],
      "_model_module": "@jupyter-widgets/controls",
      "_model_module_version": "1.5.0",
      "_model_name": "HBoxModel",
      "_view_count": null,
      "_view_module": "@jupyter-widgets/controls",
      "_view_module_version": "1.5.0",
      "_view_name": "HBoxView",
      "box_style": "",
      "children": [
       "IPY_MODEL_8d349ed0af934d359d9ceef8f7585eeb",
       "IPY_MODEL_67dd0f7a804749408e60fed82a9773d5"
      ],
      "layout": "IPY_MODEL_1c7fda8bc55d4b8ea747323992b38327"
     }
    },
    "dafeb4f140fd4f459fbc52b77654fb45": {
     "model_module": "@jupyter-widgets/base",
     "model_name": "LayoutModel",
     "state": {
      "_model_module": "@jupyter-widgets/base",
      "_model_module_version": "1.2.0",
      "_model_name": "LayoutModel",
      "_view_count": null,
      "_view_module": "@jupyter-widgets/base",
      "_view_module_version": "1.2.0",
      "_view_name": "LayoutView",
      "align_content": null,
      "align_items": null,
      "align_self": null,
      "border": null,
      "bottom": null,
      "display": null,
      "flex": null,
      "flex_flow": null,
      "grid_area": null,
      "grid_auto_columns": null,
      "grid_auto_flow": null,
      "grid_auto_rows": null,
      "grid_column": null,
      "grid_gap": null,
      "grid_row": null,
      "grid_template_areas": null,
      "grid_template_columns": null,
      "grid_template_rows": null,
      "height": null,
      "justify_content": null,
      "justify_items": null,
      "left": null,
      "margin": null,
      "max_height": null,
      "max_width": null,
      "min_height": null,
      "min_width": null,
      "object_fit": null,
      "object_position": null,
      "order": null,
      "overflow": null,
      "overflow_x": null,
      "overflow_y": null,
      "padding": null,
      "right": null,
      "top": null,
      "visibility": null,
      "width": null
     }
    }
   }
  }
 },
 "nbformat": 4,
 "nbformat_minor": 4
}
